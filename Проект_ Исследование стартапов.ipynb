{
 "cells": [
  {
   "cell_type": "markdown",
   "metadata": {
    "id": "4mJbK1knrJgz"
   },
   "source": [
    "# Проект: Исследование стартапов"
   ]
  },
  {
   "cell_type": "markdown",
   "metadata": {
    "id": "P6j0r3worJg0"
   },
   "source": [
    "## Введение"
   ]
  },
  {
   "cell_type": "markdown",
   "metadata": {
    "id": "8lQtbsIUyFG6"
   },
   "source": [
    "### Цель и задачи\n",
    "\n",
    "Данный проект проводится по запросу финансовой компании, предоставляющей льготные займы стартапам. Компания хочет войти на ивестиционный рынок с прицелом на покупку, развитие и последующую перепродажу перспективных стартапов. Для разработки бизнеса нужна информация.\n",
    "\n",
    "**Цель:** Подготовить датасет и проверить, что данные в нём соответствуют здравому смыслу, а также ответить на вопросы заказчика как о предобработке, так и о значении данных для бизнеса.\n",
    "\n",
    "**Задачи:**\n",
    "1. Загрузить данные и познакломиться с их содержимым.\n",
    "2. Провести предобработку данных.\n",
    "3. Провести исследовательский анализ данных:\n",
    "    - объединить данные;\n",
    "    - проанализировать выбросы;\n",
    "    - проанализировать сделки за 0-1 доллар;\n",
    "    - провести анализ цен стартапов по категориям;\n",
    "    - провести анализ количества раундов стартапа перед покупкой.\n",
    "4. Сформулировать выводы по проведённому анализу.\n",
    "\n",
    "### Данные\n",
    "\n",
    "Для анализа поступили данные о сделках купли-продажи стартапов. Основные данные содержатся в 5 датасетах:\n",
    "\n",
    "- `acquisition.csv` — информация о покупках одними компаниями других компаний;\n",
    "- `company_and_rounds.csv` — информация о компаниях и раундах финансирования;\n",
    "- `people.csv` — информация о сотрудниках;\n",
    "- `education.csv` — информация об образовании сотрудника;\n",
    "- `degrees.csv` — информация о типе образования сотрудника.\n",
    "\n",
    "Также у нас имеются 2 дополнительных датасета:\n",
    "\n",
    "- `fund.csv` - информация о фондах;\n",
    "- `investment` - информация о раундах инвестирования.\n",
    "\n",
    "### Описание датасета `acquisition.csv`\n",
    "\n",
    "- `id` — идентификатор покупки;\n",
    "- `acquiring_company_id` — идентификатор покупающей компании;\n",
    "- `acquired_company_id `— идентификатор покупаемой компании;\n",
    "- `term_code` — варианты расчёта;\n",
    "- `price_amount` — сумма сделки;\n",
    "- `acquired_at` — дата сделки.\n",
    "\n",
    "### Описание датасета `company_and_rounds`\n",
    "\n",
    "- `company ID` — идентификатор компании;\n",
    "- `name` — название компании;\n",
    "- `category code` — категория области деятельности компании;\n",
    "- `status` — статус компании;\n",
    "- `founded  at` — дата инвестирования;\n",
    "- `closed  at` — дата закрытия компании;\n",
    "- `domain` — официальный сайт компании;\n",
    "- `network username` — ник компании в сети;\n",
    "- `country code` — код страны компании;\n",
    "- `investment rounds` — число инвестиционных раундов;\n",
    "- `funding rounds` — число раундов финансирования;\n",
    "- `funding total` — сумма финансирования;\n",
    "- `milestones` — вехи финансирования;\n",
    "- `funding round id` — идентификатор этапа финансирования;\n",
    "- `company id` — идентификатор компании;\n",
    "- `funded  at` — дата финансирования;\n",
    "- `funding round type` — тип финансирования;\n",
    "- `raised amount` — сумма финансирования;\n",
    "- `pre money valuation` — предварительная денежная оценка;\n",
    "- `participants` — число участников;\n",
    "- `is first round` — является ли раунд первым;\n",
    "- `is last round` — является раунд последним.\n",
    "\n",
    "### Описание датасета `people`\n",
    "\n",
    "- `id` — идентификатор сотрудника;\n",
    "- `first_name` — имя сотрудника;\n",
    "- `last_name` — фамилия сотрудника;\n",
    "- `company_id` — идентификатор компании;\n",
    "- `network_username` — ник в социальных сетях.\n",
    "\n",
    "### Описание датасета `education`\n",
    "\n",
    "- `id` — идентификатор записи об образовании;\n",
    "- `person_id` — идентификатор работника;\n",
    "- `instituition` — название учебного заведения;\n",
    "- `graduated_at` — дата получения образования.\n",
    "\n",
    "### Описание датасета `degrees`\n",
    "\n",
    "- `id` — идентификатор записи;\n",
    "- `object_id` — идентификатор сотрудника;\n",
    "- `degree_type` — тип образования;\n",
    "- `subject` — специальность.\n",
    "\n",
    "### Описание датасета `fund`\n",
    "\n",
    "- `id` — идентификатор фонда;\n",
    "- `name` — название фонда;\n",
    "- `category_code` — категория области деятельности компании;\n",
    "- `founded_at` — дата создания фонда;\n",
    "- `domain` — сайт фонда;\n",
    "- `network_username` — ник фонда в сети;\n",
    "- `country_code` — код страны фонда;\n",
    "- `investment_rounds` — число инвестиционных раундов;\n",
    "- `invested_companies` — число профинансированных компаний;\n",
    "- `milestones` — вехи финансирования.\n",
    "\n",
    "### Описание датасета `investment` \n",
    "\n",
    "- `id` — идентификатор этапа инвестирования;\n",
    "- `funding_round_id` — идентификатор раунда инвестирования;\n",
    "- `company_id` — индентификатор компании;\n",
    "- `funding_round_type` — тип финансирования;\n",
    "- `fund_id` — идентификатор фонда.\n",
    "\n",
    "### Структура проекта\n",
    "\n",
    "1. Загрузка данных и знакомство с ними.\n",
    "2. Предобработка данных.\n",
    "3. Исследовательский анализ данных.\n",
    "4. Итоговые выводы.\n",
    "\n",
    "---"
   ]
  },
  {
   "cell_type": "markdown",
   "metadata": {
    "id": "xqr6uttCrJg0"
   },
   "source": [
    "## Шаг 1. Знакомство с данными: загрузка и первичная предобработка\n",
    "\n",
    "Начнём с загрузки библиотек и датасетов. Будем использовать pandas и библиотеки визуализации данных matplotlib и seaborn. Данные датасетов сохраним в следующих переменных:\n",
    "- `acquisition` - `acq_df`\n",
    "- `company_and_rounds` - `car_df`\n",
    "- `people` - `peop_df`\n",
    "- `education` - `edu_df`\n",
    "- `degrees` - `deg_df`\n",
    "- `fund` - `fund_df`\n",
    "- `investment` - `inv_df`"
   ]
  },
  {
   "cell_type": "code",
   "execution_count": 1,
   "metadata": {
    "colab": {
     "base_uri": "https://localhost:8080/"
    },
    "id": "W_W4jRazrJg0",
    "outputId": "d2409aad-233f-4bb4-ec71-7da96594f9df",
    "vscode": {
     "languageId": "plaintext"
    }
   },
   "outputs": [],
   "source": [
    "import pandas as pd\n",
    "import matplotlib.pyplot as plt\n",
    "import seaborn as sns"
   ]
  },
  {
   "cell_type": "code",
   "execution_count": 2,
   "metadata": {
    "id": "2Tm4Pk__Felf"
   },
   "outputs": [],
   "source": [
    "# Создаём переменную, в которую запишем общий путь к датасетам\n",
    "path = ''\n",
    "\n",
    "# Выгружаем данные таблицы acquisition в переменную acq_df\n",
    "acq_df = pd.read_csv(path + 'acquisition.csv')\n",
    "\n",
    "# Выгружаем данные таблицы company_and_rounds в переменную cr_df\n",
    "cr_df = pd.read_csv(path + 'company_and_rounds.csv')\n",
    "\n",
    "# Выгружаем данные таблицы people в переменную peop_df\n",
    "peop_df = pd.read_csv(path + 'people.csv')\n",
    "\n",
    "# Выгружаем данные таблицы education в переменную edu_df\n",
    "edu_df = pd.read_csv(path + 'education.csv')\n",
    "\n",
    "# Выгружаем данные таблицы degrees в переменную deg_df\n",
    "deg_df = pd.read_csv(path + 'degrees.csv')\n",
    "\n",
    "# Выгружаем данные таблицы education в переменную fund_df\n",
    "fund_df = pd.read_csv(path + 'fund.csv')\n",
    "\n",
    "# Выгружаем данные таблицы degrees в переменную inv_df\n",
    "inv_df = pd.read_csv(path + 'investment.csv')"
   ]
  },
  {
   "cell_type": "markdown",
   "metadata": {},
   "source": [
    "Познакомимся с данными датасета `acquisition.csv` — выведем первые строки методом `head()`, а информацию о датафрейме методом `info()`:"
   ]
  },
  {
   "cell_type": "code",
   "execution_count": 3,
   "metadata": {},
   "outputs": [
    {
     "data": {
      "text/html": [
       "<div>\n",
       "<style scoped>\n",
       "    .dataframe tbody tr th:only-of-type {\n",
       "        vertical-align: middle;\n",
       "    }\n",
       "\n",
       "    .dataframe tbody tr th {\n",
       "        vertical-align: top;\n",
       "    }\n",
       "\n",
       "    .dataframe thead th {\n",
       "        text-align: right;\n",
       "    }\n",
       "</style>\n",
       "<table border=\"1\" class=\"dataframe\">\n",
       "  <thead>\n",
       "    <tr style=\"text-align: right;\">\n",
       "      <th></th>\n",
       "      <th>id</th>\n",
       "      <th>acquiring_company_id</th>\n",
       "      <th>acquired_company_id</th>\n",
       "      <th>term_code</th>\n",
       "      <th>price_amount</th>\n",
       "      <th>acquired_at</th>\n",
       "    </tr>\n",
       "  </thead>\n",
       "  <tbody>\n",
       "    <tr>\n",
       "      <th>0</th>\n",
       "      <td>1</td>\n",
       "      <td>11</td>\n",
       "      <td>10</td>\n",
       "      <td>NaN</td>\n",
       "      <td>20000000</td>\n",
       "      <td>2007-05-30</td>\n",
       "    </tr>\n",
       "    <tr>\n",
       "      <th>1</th>\n",
       "      <td>7</td>\n",
       "      <td>59</td>\n",
       "      <td>72</td>\n",
       "      <td>cash</td>\n",
       "      <td>60000000</td>\n",
       "      <td>2007-07-01</td>\n",
       "    </tr>\n",
       "    <tr>\n",
       "      <th>2</th>\n",
       "      <td>8</td>\n",
       "      <td>24</td>\n",
       "      <td>132</td>\n",
       "      <td>cash</td>\n",
       "      <td>280000000</td>\n",
       "      <td>2007-05-01</td>\n",
       "    </tr>\n",
       "    <tr>\n",
       "      <th>3</th>\n",
       "      <td>9</td>\n",
       "      <td>59</td>\n",
       "      <td>155</td>\n",
       "      <td>cash</td>\n",
       "      <td>100000000</td>\n",
       "      <td>2007-06-01</td>\n",
       "    </tr>\n",
       "    <tr>\n",
       "      <th>4</th>\n",
       "      <td>10</td>\n",
       "      <td>212</td>\n",
       "      <td>215</td>\n",
       "      <td>cash</td>\n",
       "      <td>25000000</td>\n",
       "      <td>2007-07-01</td>\n",
       "    </tr>\n",
       "  </tbody>\n",
       "</table>\n",
       "</div>"
      ],
      "text/plain": [
       "   id  acquiring_company_id  acquired_company_id term_code  price_amount  \\\n",
       "0   1                    11                   10       NaN      20000000   \n",
       "1   7                    59                   72      cash      60000000   \n",
       "2   8                    24                  132      cash     280000000   \n",
       "3   9                    59                  155      cash     100000000   \n",
       "4  10                   212                  215      cash      25000000   \n",
       "\n",
       "  acquired_at  \n",
       "0  2007-05-30  \n",
       "1  2007-07-01  \n",
       "2  2007-05-01  \n",
       "3  2007-06-01  \n",
       "4  2007-07-01  "
      ]
     },
     "execution_count": 3,
     "metadata": {},
     "output_type": "execute_result"
    }
   ],
   "source": [
    "# Выводим первые строки датафрейма на экран\n",
    "acq_df.head()"
   ]
  },
  {
   "cell_type": "code",
   "execution_count": 4,
   "metadata": {},
   "outputs": [
    {
     "name": "stdout",
     "output_type": "stream",
     "text": [
      "<class 'pandas.core.frame.DataFrame'>\n",
      "RangeIndex: 9407 entries, 0 to 9406\n",
      "Data columns (total 6 columns):\n",
      " #   Column                Non-Null Count  Dtype \n",
      "---  ------                --------------  ----- \n",
      " 0   id                    9407 non-null   int64 \n",
      " 1   acquiring_company_id  9407 non-null   int64 \n",
      " 2   acquired_company_id   9407 non-null   int64 \n",
      " 3   term_code             1831 non-null   object\n",
      " 4   price_amount          9407 non-null   int64 \n",
      " 5   acquired_at           9378 non-null   object\n",
      "dtypes: int64(4), object(2)\n",
      "memory usage: 441.1+ KB\n"
     ]
    }
   ],
   "source": [
    "# Выводим информацию о датафрейме\n",
    "acq_df.info()"
   ]
  },
  {
   "cell_type": "markdown",
   "metadata": {},
   "source": [
    "Датасет `acquisition.csv` содержит 6 столбцов и 9 407 строк, в которых представлена информация о покупках одними компаниями других компаний.\n",
    "\n",
    "После первичного анализа данных можно сделать следующие выводы:\n",
    "- Названия столбцов приведены к одному виду - snake case.\n",
    "- Представленные данные содержат числовые и текстовые значения и хранятся в типах данных `int64` или `object`. Значения в столбцах `id`, `acquiring_company_id`, `acquired_company_id` и `price_amount` представлены целыми числами. Столбцы `term_code` и `acquired_at` содержат текстовые значения, в столбце `acquired_at` содержатся данные даты сделки. Поэтому необходимо будет изменить тип данных на datetime для столбца `acquired_at`.\n",
    "- Пропуски содержатся только в столбцах `term_code` и `acquired_at`. Однако следует проверить и другие столбцы: в них могут встречаться значения-индикаторы, которые будут говорить об отсутствии данных.\n",
    "- Судя по первому знакомству с данными, значения в столбцах соответствуют своему описанию.\n",
    "\n",
    "Теперь познакомимся с данными датасета `company_and_rounds.csv`. "
   ]
  },
  {
   "cell_type": "code",
   "execution_count": 5,
   "metadata": {},
   "outputs": [
    {
     "data": {
      "text/html": [
       "<div>\n",
       "<style scoped>\n",
       "    .dataframe tbody tr th:only-of-type {\n",
       "        vertical-align: middle;\n",
       "    }\n",
       "\n",
       "    .dataframe tbody tr th {\n",
       "        vertical-align: top;\n",
       "    }\n",
       "\n",
       "    .dataframe thead th {\n",
       "        text-align: right;\n",
       "    }\n",
       "</style>\n",
       "<table border=\"1\" class=\"dataframe\">\n",
       "  <thead>\n",
       "    <tr style=\"text-align: right;\">\n",
       "      <th></th>\n",
       "      <th>company  ID</th>\n",
       "      <th>name</th>\n",
       "      <th>category  code</th>\n",
       "      <th>status</th>\n",
       "      <th>founded  at</th>\n",
       "      <th>closed  at</th>\n",
       "      <th>domain</th>\n",
       "      <th>network  username</th>\n",
       "      <th>country  code</th>\n",
       "      <th>investment  rounds</th>\n",
       "      <th>...</th>\n",
       "      <th>milestones</th>\n",
       "      <th>funding  round  id</th>\n",
       "      <th>company  id</th>\n",
       "      <th>funded  at</th>\n",
       "      <th>funding  round  type</th>\n",
       "      <th>raised  amount</th>\n",
       "      <th>pre  money  valuation</th>\n",
       "      <th>participants</th>\n",
       "      <th>is  first  round</th>\n",
       "      <th>is  last  round</th>\n",
       "    </tr>\n",
       "  </thead>\n",
       "  <tbody>\n",
       "    <tr>\n",
       "      <th>0</th>\n",
       "      <td>1.0</td>\n",
       "      <td>Wetpaint</td>\n",
       "      <td>web</td>\n",
       "      <td>operating</td>\n",
       "      <td>2005-10-17</td>\n",
       "      <td>NaN</td>\n",
       "      <td>wetpaint-inc.com</td>\n",
       "      <td>BachelrWetpaint</td>\n",
       "      <td>USA</td>\n",
       "      <td>0.0</td>\n",
       "      <td>...</td>\n",
       "      <td>5.0</td>\n",
       "      <td>888.0</td>\n",
       "      <td>1.0</td>\n",
       "      <td>2005-10-01</td>\n",
       "      <td>series-a</td>\n",
       "      <td>5250000.0</td>\n",
       "      <td>0.0</td>\n",
       "      <td>2.0</td>\n",
       "      <td>0.0</td>\n",
       "      <td>1.0</td>\n",
       "    </tr>\n",
       "    <tr>\n",
       "      <th>1</th>\n",
       "      <td>1.0</td>\n",
       "      <td>Wetpaint</td>\n",
       "      <td>web</td>\n",
       "      <td>operating</td>\n",
       "      <td>2005-10-17</td>\n",
       "      <td>NaN</td>\n",
       "      <td>wetpaint-inc.com</td>\n",
       "      <td>BachelrWetpaint</td>\n",
       "      <td>USA</td>\n",
       "      <td>0.0</td>\n",
       "      <td>...</td>\n",
       "      <td>5.0</td>\n",
       "      <td>889.0</td>\n",
       "      <td>1.0</td>\n",
       "      <td>2007-01-01</td>\n",
       "      <td>series-b</td>\n",
       "      <td>9500000.0</td>\n",
       "      <td>0.0</td>\n",
       "      <td>3.0</td>\n",
       "      <td>0.0</td>\n",
       "      <td>0.0</td>\n",
       "    </tr>\n",
       "    <tr>\n",
       "      <th>2</th>\n",
       "      <td>1.0</td>\n",
       "      <td>Wetpaint</td>\n",
       "      <td>web</td>\n",
       "      <td>operating</td>\n",
       "      <td>2005-10-17</td>\n",
       "      <td>NaN</td>\n",
       "      <td>wetpaint-inc.com</td>\n",
       "      <td>BachelrWetpaint</td>\n",
       "      <td>USA</td>\n",
       "      <td>0.0</td>\n",
       "      <td>...</td>\n",
       "      <td>5.0</td>\n",
       "      <td>2312.0</td>\n",
       "      <td>1.0</td>\n",
       "      <td>2008-05-19</td>\n",
       "      <td>series-c+</td>\n",
       "      <td>25000000.0</td>\n",
       "      <td>0.0</td>\n",
       "      <td>4.0</td>\n",
       "      <td>1.0</td>\n",
       "      <td>0.0</td>\n",
       "    </tr>\n",
       "    <tr>\n",
       "      <th>3</th>\n",
       "      <td>10.0</td>\n",
       "      <td>Flektor</td>\n",
       "      <td>games_video</td>\n",
       "      <td>acquired</td>\n",
       "      <td>NaN</td>\n",
       "      <td>NaN</td>\n",
       "      <td>flektor.com</td>\n",
       "      <td>NaN</td>\n",
       "      <td>USA</td>\n",
       "      <td>0.0</td>\n",
       "      <td>...</td>\n",
       "      <td>0.0</td>\n",
       "      <td>NaN</td>\n",
       "      <td>NaN</td>\n",
       "      <td>NaN</td>\n",
       "      <td>NaN</td>\n",
       "      <td>NaN</td>\n",
       "      <td>NaN</td>\n",
       "      <td>NaN</td>\n",
       "      <td>NaN</td>\n",
       "      <td>NaN</td>\n",
       "    </tr>\n",
       "    <tr>\n",
       "      <th>4</th>\n",
       "      <td>100.0</td>\n",
       "      <td>There</td>\n",
       "      <td>games_video</td>\n",
       "      <td>acquired</td>\n",
       "      <td>NaN</td>\n",
       "      <td>NaN</td>\n",
       "      <td>there.com</td>\n",
       "      <td>NaN</td>\n",
       "      <td>USA</td>\n",
       "      <td>0.0</td>\n",
       "      <td>...</td>\n",
       "      <td>4.0</td>\n",
       "      <td>NaN</td>\n",
       "      <td>NaN</td>\n",
       "      <td>NaN</td>\n",
       "      <td>NaN</td>\n",
       "      <td>NaN</td>\n",
       "      <td>NaN</td>\n",
       "      <td>NaN</td>\n",
       "      <td>NaN</td>\n",
       "      <td>NaN</td>\n",
       "    </tr>\n",
       "  </tbody>\n",
       "</table>\n",
       "<p>5 rows × 22 columns</p>\n",
       "</div>"
      ],
      "text/plain": [
       "   company  ID      name category  code     status founded  at closed  at  \\\n",
       "0          1.0  Wetpaint            web  operating  2005-10-17        NaN   \n",
       "1          1.0  Wetpaint            web  operating  2005-10-17        NaN   \n",
       "2          1.0  Wetpaint            web  operating  2005-10-17        NaN   \n",
       "3         10.0   Flektor    games_video   acquired         NaN        NaN   \n",
       "4        100.0     There    games_video   acquired         NaN        NaN   \n",
       "\n",
       "             domain network  username country  code  investment  rounds  ...  \\\n",
       "0  wetpaint-inc.com   BachelrWetpaint           USA                 0.0  ...   \n",
       "1  wetpaint-inc.com   BachelrWetpaint           USA                 0.0  ...   \n",
       "2  wetpaint-inc.com   BachelrWetpaint           USA                 0.0  ...   \n",
       "3       flektor.com               NaN           USA                 0.0  ...   \n",
       "4         there.com               NaN           USA                 0.0  ...   \n",
       "\n",
       "   milestones  funding  round  id  company  id  funded  at  \\\n",
       "0         5.0               888.0          1.0  2005-10-01   \n",
       "1         5.0               889.0          1.0  2007-01-01   \n",
       "2         5.0              2312.0          1.0  2008-05-19   \n",
       "3         0.0                 NaN          NaN         NaN   \n",
       "4         4.0                 NaN          NaN         NaN   \n",
       "\n",
       "   funding  round  type raised  amount pre  money  valuation  participants  \\\n",
       "0              series-a      5250000.0                   0.0           2.0   \n",
       "1              series-b      9500000.0                   0.0           3.0   \n",
       "2             series-c+     25000000.0                   0.0           4.0   \n",
       "3                   NaN            NaN                   NaN           NaN   \n",
       "4                   NaN            NaN                   NaN           NaN   \n",
       "\n",
       "   is  first  round  is  last  round  \n",
       "0               0.0              1.0  \n",
       "1               0.0              0.0  \n",
       "2               1.0              0.0  \n",
       "3               NaN              NaN  \n",
       "4               NaN              NaN  \n",
       "\n",
       "[5 rows x 22 columns]"
      ]
     },
     "execution_count": 5,
     "metadata": {},
     "output_type": "execute_result"
    }
   ],
   "source": [
    "# Выводим первые строки датафрейма на экран\n",
    "cr_df.head()"
   ]
  },
  {
   "cell_type": "code",
   "execution_count": 6,
   "metadata": {
    "id": "oNqJ2qpRFebv"
   },
   "outputs": [
    {
     "name": "stdout",
     "output_type": "stream",
     "text": [
      "<class 'pandas.core.frame.DataFrame'>\n",
      "RangeIndex: 217774 entries, 0 to 217773\n",
      "Data columns (total 22 columns):\n",
      " #   Column                 Non-Null Count   Dtype  \n",
      "---  ------                 --------------   -----  \n",
      " 0   company  ID            217472 non-null  float64\n",
      " 1   name                   217472 non-null  object \n",
      " 2   category  code         143886 non-null  object \n",
      " 3   status                 217472 non-null  object \n",
      " 4   founded  at            109956 non-null  object \n",
      " 5   closed  at             3449 non-null    object \n",
      " 6   domain                 147159 non-null  object \n",
      " 7   network  username      95534 non-null   object \n",
      " 8   country  code          108607 non-null  object \n",
      " 9   investment  rounds     217472 non-null  float64\n",
      " 10  funding  rounds        217472 non-null  float64\n",
      " 11  funding  total         217472 non-null  float64\n",
      " 12  milestones             217472 non-null  float64\n",
      " 13  funding  round  id     52928 non-null   float64\n",
      " 14  company  id            52928 non-null   float64\n",
      " 15  funded  at             52680 non-null   object \n",
      " 16  funding  round  type   52928 non-null   object \n",
      " 17  raised  amount         52928 non-null   float64\n",
      " 18  pre  money  valuation  52928 non-null   float64\n",
      " 19  participants           52928 non-null   float64\n",
      " 20  is  first  round       52928 non-null   float64\n",
      " 21  is  last  round        52928 non-null   float64\n",
      "dtypes: float64(12), object(10)\n",
      "memory usage: 36.6+ MB\n"
     ]
    }
   ],
   "source": [
    "# Выводим информацию о датафрейме\n",
    "cr_df.info()"
   ]
  },
  {
   "cell_type": "markdown",
   "metadata": {},
   "source": [
    "Датасет `company_and_rounds.csv` содержит 22 столбца и 217 774 строки, в которых представлена информация о компаниях и раундах финансирования.\n",
    "\n",
    "После первичного анализа данных можно сделать следующие выводы:\n",
    "- Названия столбцов необходимо привести к одному виду - snake case.\n",
    "- Представленные данные содержат числовые и текстовые значения и хранятся в типах данных `float64` или `object`. Значения в столбцах `company ID`, `investment rounds`, `funding rounds`, `funding total`, `milestones`, `funding round id`, `company id`, `raised amount`, `pre money valuation`, `participants`, `is first round` и `is last round` представлены вещественными числами. Столбцы `name`, `category code`, `status`, `founded  at`, `closed  at`, `domain`, `network username`, `country code`, `funded  at` и `funding round type` содержат текстовые значения, в столбцах `founded  at`, `closed  at` и `funded  at` содержатся данные дат инвестирования, закрытия и финансирования компаний. Поэтому для них необходимо будет изменить тип данных на datetime.\n",
    "- Дублируются столбцы `company ID` и `company id`, однако второй столбец содержит около 75% пропусков. В дальнейшем разберёмся в причиной возникновения этого дублирования.\n",
    "- Пропуски содержатся во всех столбцах. Поэтому могут возникнуть некоторые проблемы с анализом данных из этого датасета.\n",
    "- Судя по первому знакомству с данными, значения в столбцах соответствуют своему описанию.\n",
    "\n",
    "В первую очередь приведём названия столбцов датасета к стилю `snake_case` для удобства дальнейшей работы. Названия должны быть написаны в нижнем регистре, а вместо пробелов — нижние подчёркивания. Но из-за дублирования столбцов с идентификатором компаний, добавим к столбцу `company ID` слово `full`, чтобы после преобразования названий к стилю `snake_case` эти столбцы не стали полными дубликатами по названию."
   ]
  },
  {
   "cell_type": "code",
   "execution_count": 7,
   "metadata": {},
   "outputs": [
    {
     "name": "stdout",
     "output_type": "stream",
     "text": [
      "Index(['company_id_full', 'name', 'category_code', 'status', 'founded_at',\n",
      "       'closed_at', 'domain', 'network_username', 'country_code',\n",
      "       'investment_rounds', 'funding_rounds', 'funding_total', 'milestones',\n",
      "       'funding_round_id', 'company_id', 'funded_at', 'funding_round_type',\n",
      "       'raised_amount', 'pre_money_valuation', 'participants',\n",
      "       'is_first_round', 'is_last_round'],\n",
      "      dtype='object')\n"
     ]
    }
   ],
   "source": [
    "# Переименовываем столбец company  ID\n",
    "cr_df = cr_df.rename(columns={'company  ID':'company  ID  full'})\n",
    "\n",
    "# Переводим названия столбцов в нижний регистр\n",
    "cr_df.columns = cr_df.columns.str.lower()\n",
    "\n",
    "# Заменяем все пробелы на нижнее подчёркивание\n",
    "cr_df.columns = cr_df.columns.str.replace('  ','_')\n",
    "\n",
    "# Выводим обновлённые названия столбцов на экран\n",
    "print(cr_df.columns)"
   ]
  },
  {
   "cell_type": "markdown",
   "metadata": {},
   "source": [
    "Теперь познакомимся с данными датасета `people.csv`."
   ]
  },
  {
   "cell_type": "code",
   "execution_count": 8,
   "metadata": {},
   "outputs": [
    {
     "data": {
      "text/html": [
       "<div>\n",
       "<style scoped>\n",
       "    .dataframe tbody tr th:only-of-type {\n",
       "        vertical-align: middle;\n",
       "    }\n",
       "\n",
       "    .dataframe tbody tr th {\n",
       "        vertical-align: top;\n",
       "    }\n",
       "\n",
       "    .dataframe thead th {\n",
       "        text-align: right;\n",
       "    }\n",
       "</style>\n",
       "<table border=\"1\" class=\"dataframe\">\n",
       "  <thead>\n",
       "    <tr style=\"text-align: right;\">\n",
       "      <th></th>\n",
       "      <th>id</th>\n",
       "      <th>first_name</th>\n",
       "      <th>last_name</th>\n",
       "      <th>company_id</th>\n",
       "      <th>network_username</th>\n",
       "    </tr>\n",
       "  </thead>\n",
       "  <tbody>\n",
       "    <tr>\n",
       "      <th>0</th>\n",
       "      <td>10</td>\n",
       "      <td>Mark</td>\n",
       "      <td>Zuckerberg</td>\n",
       "      <td>5.0</td>\n",
       "      <td>NaN</td>\n",
       "    </tr>\n",
       "    <tr>\n",
       "      <th>1</th>\n",
       "      <td>100</td>\n",
       "      <td>Peter</td>\n",
       "      <td>Lester</td>\n",
       "      <td>27.0</td>\n",
       "      <td>NaN</td>\n",
       "    </tr>\n",
       "    <tr>\n",
       "      <th>2</th>\n",
       "      <td>1000</td>\n",
       "      <td>Dr. Steven</td>\n",
       "      <td>E. Saunders</td>\n",
       "      <td>292.0</td>\n",
       "      <td>NaN</td>\n",
       "    </tr>\n",
       "    <tr>\n",
       "      <th>3</th>\n",
       "      <td>10000</td>\n",
       "      <td>Neil</td>\n",
       "      <td>Capel</td>\n",
       "      <td>2526.0</td>\n",
       "      <td>NaN</td>\n",
       "    </tr>\n",
       "    <tr>\n",
       "      <th>4</th>\n",
       "      <td>100000</td>\n",
       "      <td>Sue</td>\n",
       "      <td>Pilsch</td>\n",
       "      <td>NaN</td>\n",
       "      <td>NaN</td>\n",
       "    </tr>\n",
       "  </tbody>\n",
       "</table>\n",
       "</div>"
      ],
      "text/plain": [
       "       id  first_name    last_name  company_id network_username\n",
       "0      10        Mark   Zuckerberg         5.0              NaN\n",
       "1     100       Peter       Lester        27.0              NaN\n",
       "2    1000  Dr. Steven  E. Saunders       292.0              NaN\n",
       "3   10000        Neil        Capel      2526.0              NaN\n",
       "4  100000         Sue       Pilsch         NaN              NaN"
      ]
     },
     "execution_count": 8,
     "metadata": {},
     "output_type": "execute_result"
    }
   ],
   "source": [
    "# Выводим первые строки датафрейма на экран\n",
    "peop_df.head()"
   ]
  },
  {
   "cell_type": "code",
   "execution_count": 9,
   "metadata": {},
   "outputs": [
    {
     "name": "stdout",
     "output_type": "stream",
     "text": [
      "<class 'pandas.core.frame.DataFrame'>\n",
      "RangeIndex: 226709 entries, 0 to 226708\n",
      "Data columns (total 5 columns):\n",
      " #   Column            Non-Null Count   Dtype  \n",
      "---  ------            --------------   -----  \n",
      " 0   id                226709 non-null  int64  \n",
      " 1   first_name        226704 non-null  object \n",
      " 2   last_name         226708 non-null  object \n",
      " 3   company_id        34615 non-null   float64\n",
      " 4   network_username  38867 non-null   object \n",
      "dtypes: float64(1), int64(1), object(3)\n",
      "memory usage: 8.6+ MB\n"
     ]
    }
   ],
   "source": [
    "# Выводим информацию о датафрейме\n",
    "peop_df.info()"
   ]
  },
  {
   "cell_type": "markdown",
   "metadata": {},
   "source": [
    "Датасет `people.csv` содержит 5 столбцов и 226 709 строк, в которых представлена информация о сотрудниках.\n",
    "\n",
    "После первичного анализа данных можно сделать следующие выводы:\n",
    "- Названия столбцов приведены к одному виду - snake case.\n",
    "- Представленные данные содержат числовые и текстовые значения и хранятся в типах данных `int64`, `float64` или `object`. Значения в столбце `id` представлены целыми числами. Значения в столбце `company_id` представлены вещественными числами. Столбцы `first_name`, `last_name` и `network_username` содержат текстовые значения, что соответствует действительности.\n",
    "- Пропуски содержатся во всех столбцах, кроме `id`. Большое количество пропусков может отразиться на качестве данных для последующего анализа.\n",
    "- Судя по первому знакомству с данными, значения в столбцах соответствуют своему описанию.\n",
    "\n",
    "Теперь познакомимся с данными датасета `education.csv`. "
   ]
  },
  {
   "cell_type": "code",
   "execution_count": 10,
   "metadata": {},
   "outputs": [
    {
     "data": {
      "text/html": [
       "<div>\n",
       "<style scoped>\n",
       "    .dataframe tbody tr th:only-of-type {\n",
       "        vertical-align: middle;\n",
       "    }\n",
       "\n",
       "    .dataframe tbody tr th {\n",
       "        vertical-align: top;\n",
       "    }\n",
       "\n",
       "    .dataframe thead th {\n",
       "        text-align: right;\n",
       "    }\n",
       "</style>\n",
       "<table border=\"1\" class=\"dataframe\">\n",
       "  <thead>\n",
       "    <tr style=\"text-align: right;\">\n",
       "      <th></th>\n",
       "      <th>id</th>\n",
       "      <th>person_id</th>\n",
       "      <th>instituition</th>\n",
       "      <th>graduated_at</th>\n",
       "    </tr>\n",
       "  </thead>\n",
       "  <tbody>\n",
       "    <tr>\n",
       "      <th>0</th>\n",
       "      <td>1</td>\n",
       "      <td>6117</td>\n",
       "      <td>NaN</td>\n",
       "      <td>NaN</td>\n",
       "    </tr>\n",
       "    <tr>\n",
       "      <th>1</th>\n",
       "      <td>2</td>\n",
       "      <td>6136</td>\n",
       "      <td>Washington University, St. Louis</td>\n",
       "      <td>1990-01-01</td>\n",
       "    </tr>\n",
       "    <tr>\n",
       "      <th>2</th>\n",
       "      <td>3</td>\n",
       "      <td>6136</td>\n",
       "      <td>Boston University</td>\n",
       "      <td>1992-01-01</td>\n",
       "    </tr>\n",
       "    <tr>\n",
       "      <th>3</th>\n",
       "      <td>4</td>\n",
       "      <td>6005</td>\n",
       "      <td>University of Greenwich</td>\n",
       "      <td>2006-01-01</td>\n",
       "    </tr>\n",
       "    <tr>\n",
       "      <th>4</th>\n",
       "      <td>5</td>\n",
       "      <td>5832</td>\n",
       "      <td>Rice University</td>\n",
       "      <td>NaN</td>\n",
       "    </tr>\n",
       "  </tbody>\n",
       "</table>\n",
       "</div>"
      ],
      "text/plain": [
       "   id  person_id                      instituition graduated_at\n",
       "0   1       6117                               NaN          NaN\n",
       "1   2       6136  Washington University, St. Louis   1990-01-01\n",
       "2   3       6136                 Boston University   1992-01-01\n",
       "3   4       6005           University of Greenwich   2006-01-01\n",
       "4   5       5832                   Rice University          NaN"
      ]
     },
     "execution_count": 10,
     "metadata": {},
     "output_type": "execute_result"
    }
   ],
   "source": [
    "# Выводим первые строки датафрейма на экран\n",
    "edu_df.head()"
   ]
  },
  {
   "cell_type": "code",
   "execution_count": 11,
   "metadata": {},
   "outputs": [
    {
     "name": "stdout",
     "output_type": "stream",
     "text": [
      "<class 'pandas.core.frame.DataFrame'>\n",
      "RangeIndex: 109610 entries, 0 to 109609\n",
      "Data columns (total 4 columns):\n",
      " #   Column        Non-Null Count   Dtype \n",
      "---  ------        --------------   ----- \n",
      " 0   id            109610 non-null  int64 \n",
      " 1   person_id     109610 non-null  int64 \n",
      " 2   instituition  109555 non-null  object\n",
      " 3   graduated_at  58054 non-null   object\n",
      "dtypes: int64(2), object(2)\n",
      "memory usage: 3.3+ MB\n"
     ]
    }
   ],
   "source": [
    "# Выводим информацию о датафрейме\n",
    "edu_df.info()"
   ]
  },
  {
   "cell_type": "markdown",
   "metadata": {},
   "source": [
    "Датасет `education.csv` содержит 4 столбца и 109 610 строк, в которых представлена информация об образовании сотрудника.\n",
    "\n",
    "После первичного анализа данных можно сделать следующие выводы:\n",
    "- Названия столбцов приведены к одному виду - snake case.\n",
    "- Представленные данные содержат числовые и текстовые значения и хранятся в типах данных `int64` или `object`. Значения в столбцах `id` и `person_id` представлены целыми числами. Столбцы `instituition` и `graduated_at` содержат текстовые значения. Данные столбца `graduated_at` необходимо будет привести к типу datetime, так как он содержит даты.\n",
    "- Пропуски содержатся в столбцах `instituition` и `graduated_at`. Однако пропуски в этих столбцах не должны отразиться на качестве данных для последующего анализа.\n",
    "- Опечатка в названии столбца `instituition`. Её необходимо исправить, переименовав столбец в `institution`.\n",
    "- Судя по первому знакомству с данными, значения в столбцах соответствуют своему описанию.\n",
    "\n"
   ]
  },
  {
   "cell_type": "code",
   "execution_count": 12,
   "metadata": {},
   "outputs": [],
   "source": [
    "# Переименовываем столбец instituition\n",
    "edu_df = edu_df.rename(columns={'instituition':'institution'})"
   ]
  },
  {
   "cell_type": "markdown",
   "metadata": {},
   "source": [
    "\n",
    "Теперь познакомимся с данными датасета `degrees.csv`. "
   ]
  },
  {
   "cell_type": "code",
   "execution_count": 13,
   "metadata": {},
   "outputs": [
    {
     "data": {
      "text/html": [
       "<div>\n",
       "<style scoped>\n",
       "    .dataframe tbody tr th:only-of-type {\n",
       "        vertical-align: middle;\n",
       "    }\n",
       "\n",
       "    .dataframe tbody tr th {\n",
       "        vertical-align: top;\n",
       "    }\n",
       "\n",
       "    .dataframe thead th {\n",
       "        text-align: right;\n",
       "    }\n",
       "</style>\n",
       "<table border=\"1\" class=\"dataframe\">\n",
       "  <thead>\n",
       "    <tr style=\"text-align: right;\">\n",
       "      <th></th>\n",
       "      <th>id</th>\n",
       "      <th>object_id</th>\n",
       "      <th>degree_type</th>\n",
       "      <th>subject</th>\n",
       "    </tr>\n",
       "  </thead>\n",
       "  <tbody>\n",
       "    <tr>\n",
       "      <th>0</th>\n",
       "      <td>1</td>\n",
       "      <td>p:6117</td>\n",
       "      <td>MBA</td>\n",
       "      <td>NaN</td>\n",
       "    </tr>\n",
       "    <tr>\n",
       "      <th>1</th>\n",
       "      <td>2</td>\n",
       "      <td>p:6136</td>\n",
       "      <td>BA</td>\n",
       "      <td>English, French</td>\n",
       "    </tr>\n",
       "    <tr>\n",
       "      <th>2</th>\n",
       "      <td>3</td>\n",
       "      <td>p:6136</td>\n",
       "      <td>MS</td>\n",
       "      <td>Mass Communication</td>\n",
       "    </tr>\n",
       "    <tr>\n",
       "      <th>3</th>\n",
       "      <td>4</td>\n",
       "      <td>p:6005</td>\n",
       "      <td>MS</td>\n",
       "      <td>Internet Technology</td>\n",
       "    </tr>\n",
       "    <tr>\n",
       "      <th>4</th>\n",
       "      <td>5</td>\n",
       "      <td>p:5832</td>\n",
       "      <td>BCS</td>\n",
       "      <td>Computer Science, Psychology</td>\n",
       "    </tr>\n",
       "  </tbody>\n",
       "</table>\n",
       "</div>"
      ],
      "text/plain": [
       "   id object_id degree_type                       subject\n",
       "0   1    p:6117         MBA                           NaN\n",
       "1   2    p:6136          BA               English, French\n",
       "2   3    p:6136          MS            Mass Communication\n",
       "3   4    p:6005          MS           Internet Technology\n",
       "4   5    p:5832         BCS  Computer Science, Psychology"
      ]
     },
     "execution_count": 13,
     "metadata": {},
     "output_type": "execute_result"
    }
   ],
   "source": [
    "# Выводим первые строки датафрейма на экран\n",
    "deg_df.head()"
   ]
  },
  {
   "cell_type": "code",
   "execution_count": 14,
   "metadata": {},
   "outputs": [
    {
     "name": "stdout",
     "output_type": "stream",
     "text": [
      "<class 'pandas.core.frame.DataFrame'>\n",
      "RangeIndex: 109610 entries, 0 to 109609\n",
      "Data columns (total 4 columns):\n",
      " #   Column       Non-Null Count   Dtype \n",
      "---  ------       --------------   ----- \n",
      " 0   id           109610 non-null  int64 \n",
      " 1   object_id    109610 non-null  object\n",
      " 2   degree_type  98392 non-null   object\n",
      " 3   subject      81298 non-null   object\n",
      "dtypes: int64(1), object(3)\n",
      "memory usage: 3.3+ MB\n"
     ]
    }
   ],
   "source": [
    "# Выводим информацию о датафрейме\n",
    "deg_df.info()"
   ]
  },
  {
   "cell_type": "markdown",
   "metadata": {},
   "source": [
    "Датасет `degrees.csv` содержит 4 столбца и 109 610 строк, в которых представлена информация о типе образования сотрудника.\n",
    "\n",
    "После первичного анализа данных можно сделать следующие выводы:\n",
    "- Названия столбцов приведены к одному виду - snake case.\n",
    "- Представленные данные содержат числовые и текстовые значения и хранятся в типах данных `int64` или `object`. Значения в столбце `id` представлены целыми числами. Столбцы `object_id`, `degree_type` и `subject` содержат текстовые значения, что соответствует действительности.\n",
    "- Пропуски содержатся в столбцах `degree_type` и `subject`. Однако пропуски в этих столбцах не должны отразиться на качестве данных для последующего анализа.\n",
    "- Судя по первому знакомству с данными, значения в столбцах соответствуют своему описанию.\n",
    "\n",
    "Теперь познакомимся с данными датасета `fund.csv`"
   ]
  },
  {
   "cell_type": "code",
   "execution_count": 15,
   "metadata": {
    "scrolled": true
   },
   "outputs": [
    {
     "data": {
      "text/html": [
       "<div>\n",
       "<style scoped>\n",
       "    .dataframe tbody tr th:only-of-type {\n",
       "        vertical-align: middle;\n",
       "    }\n",
       "\n",
       "    .dataframe tbody tr th {\n",
       "        vertical-align: top;\n",
       "    }\n",
       "\n",
       "    .dataframe thead th {\n",
       "        text-align: right;\n",
       "    }\n",
       "</style>\n",
       "<table border=\"1\" class=\"dataframe\">\n",
       "  <thead>\n",
       "    <tr style=\"text-align: right;\">\n",
       "      <th></th>\n",
       "      <th>id</th>\n",
       "      <th>name</th>\n",
       "      <th>founded_at</th>\n",
       "      <th>domain</th>\n",
       "      <th>network_username</th>\n",
       "      <th>country_code</th>\n",
       "      <th>investment_rounds</th>\n",
       "      <th>invested_companies</th>\n",
       "      <th>milestones</th>\n",
       "    </tr>\n",
       "  </thead>\n",
       "  <tbody>\n",
       "    <tr>\n",
       "      <th>0</th>\n",
       "      <td>13131</td>\n",
       "      <td>NaN</td>\n",
       "      <td>NaN</td>\n",
       "      <td>NaN</td>\n",
       "      <td>NaN</td>\n",
       "      <td>NaN</td>\n",
       "      <td>0</td>\n",
       "      <td>0</td>\n",
       "      <td>0</td>\n",
       "    </tr>\n",
       "    <tr>\n",
       "      <th>1</th>\n",
       "      <td>1</td>\n",
       "      <td>Greylock Partners</td>\n",
       "      <td>1965-01-01</td>\n",
       "      <td>greylock.com</td>\n",
       "      <td>greylockvc</td>\n",
       "      <td>USA</td>\n",
       "      <td>307</td>\n",
       "      <td>196</td>\n",
       "      <td>0</td>\n",
       "    </tr>\n",
       "    <tr>\n",
       "      <th>2</th>\n",
       "      <td>10</td>\n",
       "      <td>Mission Ventures</td>\n",
       "      <td>1996-01-01</td>\n",
       "      <td>missionventures.com</td>\n",
       "      <td>NaN</td>\n",
       "      <td>USA</td>\n",
       "      <td>58</td>\n",
       "      <td>33</td>\n",
       "      <td>0</td>\n",
       "    </tr>\n",
       "    <tr>\n",
       "      <th>3</th>\n",
       "      <td>100</td>\n",
       "      <td>Kapor Enterprises, Inc.</td>\n",
       "      <td>NaN</td>\n",
       "      <td>kei.com</td>\n",
       "      <td>NaN</td>\n",
       "      <td>USA</td>\n",
       "      <td>2</td>\n",
       "      <td>1</td>\n",
       "      <td>0</td>\n",
       "    </tr>\n",
       "    <tr>\n",
       "      <th>4</th>\n",
       "      <td>1000</td>\n",
       "      <td>Speed Ventures</td>\n",
       "      <td>NaN</td>\n",
       "      <td>NaN</td>\n",
       "      <td>NaN</td>\n",
       "      <td>NaN</td>\n",
       "      <td>0</td>\n",
       "      <td>0</td>\n",
       "      <td>1</td>\n",
       "    </tr>\n",
       "  </tbody>\n",
       "</table>\n",
       "</div>"
      ],
      "text/plain": [
       "      id                     name  founded_at               domain  \\\n",
       "0  13131                      NaN         NaN                  NaN   \n",
       "1      1        Greylock Partners  1965-01-01         greylock.com   \n",
       "2     10         Mission Ventures  1996-01-01  missionventures.com   \n",
       "3    100  Kapor Enterprises, Inc.         NaN              kei.com   \n",
       "4   1000           Speed Ventures         NaN                  NaN   \n",
       "\n",
       "  network_username country_code  investment_rounds  invested_companies  \\\n",
       "0              NaN          NaN                  0                   0   \n",
       "1       greylockvc          USA                307                 196   \n",
       "2              NaN          USA                 58                  33   \n",
       "3              NaN          USA                  2                   1   \n",
       "4              NaN          NaN                  0                   0   \n",
       "\n",
       "   milestones  \n",
       "0           0  \n",
       "1           0  \n",
       "2           0  \n",
       "3           0  \n",
       "4           1  "
      ]
     },
     "execution_count": 15,
     "metadata": {},
     "output_type": "execute_result"
    }
   ],
   "source": [
    "# Выводим первые строки датафрейма на экран\n",
    "fund_df.head()"
   ]
  },
  {
   "cell_type": "code",
   "execution_count": 16,
   "metadata": {
    "scrolled": true
   },
   "outputs": [
    {
     "name": "stdout",
     "output_type": "stream",
     "text": [
      "<class 'pandas.core.frame.DataFrame'>\n",
      "RangeIndex: 11652 entries, 0 to 11651\n",
      "Data columns (total 9 columns):\n",
      " #   Column              Non-Null Count  Dtype \n",
      "---  ------              --------------  ----- \n",
      " 0   id                  11652 non-null  int64 \n",
      " 1   name                11650 non-null  object\n",
      " 2   founded_at          4605 non-null   object\n",
      " 3   domain              7362 non-null   object\n",
      " 4   network_username    2149 non-null   object\n",
      " 5   country_code        7053 non-null   object\n",
      " 6   investment_rounds   11652 non-null  int64 \n",
      " 7   invested_companies  11652 non-null  int64 \n",
      " 8   milestones          11652 non-null  int64 \n",
      "dtypes: int64(4), object(5)\n",
      "memory usage: 819.4+ KB\n"
     ]
    }
   ],
   "source": [
    "# Выводим информацию о датафрейме\n",
    "fund_df.info()"
   ]
  },
  {
   "cell_type": "markdown",
   "metadata": {},
   "source": [
    "Датасет `fund.csv` содержит 9 столбцов и 11 652 строки, в которых представлена информация о фондах.\n",
    "\n",
    "После первичного анализа данных можно сделать следующие выводы:\n",
    "- Названия столбцов приведены к одному виду - snake case.\n",
    "- Представленные данные содержат числовые и текстовые значения и хранятся в типах данных `int64` и `object`. Значения в столбце `id`, `investment_rounds`, `invested_companies ` и `milestones` представлены целыми числами. Столбцы `name`, `founded_at`, `domain`, `network_username` и `country_code`, содержат текстовые значения. Столбец `founded_at` содержит даты, соответственно необходимо будет превести его к типу datetime.\n",
    "- Пропуски содержатся в столбцах `name`, `founded_at`, `domain`, `network_username`.\n",
    "- Судя по первому знакомству с данными, значения в столбцах соответствуют своему описанию.\n",
    "\n",
    "Теперь познакомимся с данными датасета `investment.csv`. "
   ]
  },
  {
   "cell_type": "code",
   "execution_count": 17,
   "metadata": {
    "scrolled": true
   },
   "outputs": [
    {
     "data": {
      "text/html": [
       "<div>\n",
       "<style scoped>\n",
       "    .dataframe tbody tr th:only-of-type {\n",
       "        vertical-align: middle;\n",
       "    }\n",
       "\n",
       "    .dataframe tbody tr th {\n",
       "        vertical-align: top;\n",
       "    }\n",
       "\n",
       "    .dataframe thead th {\n",
       "        text-align: right;\n",
       "    }\n",
       "</style>\n",
       "<table border=\"1\" class=\"dataframe\">\n",
       "  <thead>\n",
       "    <tr style=\"text-align: right;\">\n",
       "      <th></th>\n",
       "      <th>id</th>\n",
       "      <th>funding_round_id</th>\n",
       "      <th>company_id</th>\n",
       "      <th>fund_id</th>\n",
       "    </tr>\n",
       "  </thead>\n",
       "  <tbody>\n",
       "    <tr>\n",
       "      <th>0</th>\n",
       "      <td>1</td>\n",
       "      <td>1</td>\n",
       "      <td>4</td>\n",
       "      <td>1</td>\n",
       "    </tr>\n",
       "    <tr>\n",
       "      <th>1</th>\n",
       "      <td>2</td>\n",
       "      <td>1</td>\n",
       "      <td>4</td>\n",
       "      <td>2</td>\n",
       "    </tr>\n",
       "    <tr>\n",
       "      <th>2</th>\n",
       "      <td>3</td>\n",
       "      <td>3</td>\n",
       "      <td>5</td>\n",
       "      <td>4</td>\n",
       "    </tr>\n",
       "    <tr>\n",
       "      <th>3</th>\n",
       "      <td>4</td>\n",
       "      <td>4</td>\n",
       "      <td>5</td>\n",
       "      <td>1</td>\n",
       "    </tr>\n",
       "    <tr>\n",
       "      <th>4</th>\n",
       "      <td>5</td>\n",
       "      <td>4</td>\n",
       "      <td>5</td>\n",
       "      <td>5</td>\n",
       "    </tr>\n",
       "  </tbody>\n",
       "</table>\n",
       "</div>"
      ],
      "text/plain": [
       "   id  funding_round_id  company_id  fund_id\n",
       "0   1                 1           4        1\n",
       "1   2                 1           4        2\n",
       "2   3                 3           5        4\n",
       "3   4                 4           5        1\n",
       "4   5                 4           5        5"
      ]
     },
     "execution_count": 17,
     "metadata": {},
     "output_type": "execute_result"
    }
   ],
   "source": [
    "# Выводим первые строки датафрейма на экран\n",
    "inv_df.head()"
   ]
  },
  {
   "cell_type": "code",
   "execution_count": 18,
   "metadata": {},
   "outputs": [
    {
     "name": "stdout",
     "output_type": "stream",
     "text": [
      "<class 'pandas.core.frame.DataFrame'>\n",
      "RangeIndex: 61403 entries, 0 to 61402\n",
      "Data columns (total 4 columns):\n",
      " #   Column            Non-Null Count  Dtype\n",
      "---  ------            --------------  -----\n",
      " 0   id                61403 non-null  int64\n",
      " 1   funding_round_id  61403 non-null  int64\n",
      " 2   company_id        61403 non-null  int64\n",
      " 3   fund_id           61403 non-null  int64\n",
      "dtypes: int64(4)\n",
      "memory usage: 1.9 MB\n"
     ]
    }
   ],
   "source": [
    "# Выводим информацию о датафрейме\n",
    "inv_df.info()"
   ]
  },
  {
   "cell_type": "markdown",
   "metadata": {},
   "source": [
    "Датасет `investment.csv` содержит 4 столбца и 61 403 строки, в которых представлена информация о раундах инвестирования.\n",
    "\n",
    "После первичного анализа данных можно сделать следующие выводы:\n",
    "- Названия столбцов приведены к одному виду - snake case.\n",
    "- Представленные данные содержат целочисленные значения и хранятся в типае данных `int64`.\n",
    "- Датасет не содержит пропусков.\n",
    "- Судя по первому знакомству с данными, значения в столбцах соответствуют своему описанию."
   ]
  },
  {
   "cell_type": "markdown",
   "metadata": {},
   "source": [
    "Первичное знакомство показывает, что данные хорошего качества — в них не большое количество пропущенных значений, а сами данные соответствуют описанию и выглядят корректными. Настало время следующего этапа — смены типов и анализа пропусков.\n",
    "\n",
    "---"
   ]
  },
  {
   "cell_type": "markdown",
   "metadata": {},
   "source": [
    "Первичное знакомство показывает, что данные хорошего качества — они соответствуют описанию и выглядят корректными. Настало время следующего этапа — предобработки данных."
   ]
  },
  {
   "cell_type": "markdown",
   "metadata": {
    "id": "mg2gEwh0rJg0"
   },
   "source": [
    "### 1.2. Смена типов и анализ пропусков\n"
   ]
  },
  {
   "cell_type": "markdown",
   "metadata": {},
   "source": [
    "Для столбцов, кроторые хранят значения даты и времени (`acquired_at`, `founded_at`, `closed_at`, `funded_at` и `graduated_at`), произведём преобразование данных к типу `datetime`:"
   ]
  },
  {
   "cell_type": "code",
   "execution_count": 19,
   "metadata": {
    "id": "FsL0A8RBrJg1",
    "vscode": {
     "languageId": "plaintext"
    }
   },
   "outputs": [],
   "source": [
    "# Преобразовывает данные даты в датафрейме acq_df\n",
    "acq_df['acquired_at'] = pd.to_datetime(acq_df['acquired_at'])\n",
    "\n",
    "# Преобразовывает данные даты в датафрейме cr_df\n",
    "cr_df['founded_at'] = pd.to_datetime(cr_df['founded_at'])\n",
    "cr_df['closed_at'] = pd.to_datetime(cr_df['closed_at'])\n",
    "cr_df['funded_at'] = pd.to_datetime(cr_df['funded_at'])\n",
    "\n",
    "# Преобразовывает данные даты в датафрейме edu_df\n",
    "edu_df['graduated_at'] = pd.to_datetime(edu_df['graduated_at'])\n",
    "\n",
    "# Проведём глобальную настройку, чтобы цифры формата float вы водились с разделителем групп разрядов \n",
    "pd.set_option('display.float_format', '{:,.2f}'.format)"
   ]
  },
  {
   "cell_type": "code",
   "execution_count": 20,
   "metadata": {
    "id": "46VskrGyFeJ-"
   },
   "outputs": [
    {
     "name": "stdout",
     "output_type": "stream",
     "text": [
      "Тип столбца acquired_at: datetime64[ns]\n",
      "Тип столбца founded_at: datetime64[ns]\n",
      "Тип столбца closed_at: datetime64[ns]\n",
      "Тип столбца funded_at: datetime64[ns]\n",
      "Тип столбца graduated_at: datetime64[ns]\n"
     ]
    }
   ],
   "source": [
    "# Проверим полученные типы данных в изменённых столбцах\n",
    "column_type = acq_df['acquired_at'].dtype\n",
    "print(f'Тип столбца acquired_at: {column_type}')\n",
    "\n",
    "column_type = cr_df['founded_at'].dtype\n",
    "print(f'Тип столбца founded_at: {column_type}')\n",
    "\n",
    "column_type = cr_df['closed_at'].dtype\n",
    "print(f'Тип столбца closed_at: {column_type}')\n",
    "\n",
    "column_type = cr_df['funded_at'].dtype\n",
    "print(f'Тип столбца funded_at: {column_type}')\n",
    "\n",
    "column_type = edu_df['graduated_at'].dtype\n",
    "print(f'Тип столбца graduated_at: {column_type}')"
   ]
  },
  {
   "cell_type": "markdown",
   "metadata": {
    "id": "DEg1tl8DFeBn"
   },
   "source": [
    "Теперь оценим полноту данных, изучив пропуски в датафреймах."
   ]
  },
  {
   "cell_type": "code",
   "execution_count": 21,
   "metadata": {},
   "outputs": [
    {
     "name": "stdout",
     "output_type": "stream",
     "text": [
      "Доли пропусков в датафрейме acq_df:\n"
     ]
    },
    {
     "data": {
      "text/plain": [
       "id                     0.00\n",
       "acquiring_company_id   0.00\n",
       "acquired_company_id    0.00\n",
       "term_code              0.81\n",
       "price_amount           0.00\n",
       "acquired_at            0.00\n",
       "dtype: float64"
      ]
     },
     "execution_count": 21,
     "metadata": {},
     "output_type": "execute_result"
    }
   ],
   "source": [
    "# Выведем доли пропусков для каждого датафрейма\n",
    "print('Доли пропусков в датафрейме acq_df:')\n",
    "acq_df.isna().mean()"
   ]
  },
  {
   "cell_type": "markdown",
   "metadata": {},
   "source": [
    "Мы видим, что столбец `term_code` содержит очень больше количество пропусков - 80%. Но так как эти данные не влияют на наш дальнейший анализ, то предполагаем, что эти пропуски останутся без изменений.\n",
    "\n",
    "Можем сделать вывод, что полноты данных в датафрейме acq_df достаточно."
   ]
  },
  {
   "cell_type": "code",
   "execution_count": 22,
   "metadata": {},
   "outputs": [
    {
     "name": "stdout",
     "output_type": "stream",
     "text": [
      "Доли пропусков в датафрейме cr_df:\n"
     ]
    },
    {
     "data": {
      "text/plain": [
       "company_id_full       0.00\n",
       "name                  0.00\n",
       "category_code         0.34\n",
       "status                0.00\n",
       "founded_at            0.50\n",
       "closed_at             0.98\n",
       "domain                0.32\n",
       "network_username      0.56\n",
       "country_code          0.50\n",
       "investment_rounds     0.00\n",
       "funding_rounds        0.00\n",
       "funding_total         0.00\n",
       "milestones            0.00\n",
       "funding_round_id      0.76\n",
       "company_id            0.76\n",
       "funded_at             0.76\n",
       "funding_round_type    0.76\n",
       "raised_amount         0.76\n",
       "pre_money_valuation   0.76\n",
       "participants          0.76\n",
       "is_first_round        0.76\n",
       "is_last_round         0.76\n",
       "dtype: float64"
      ]
     },
     "execution_count": 22,
     "metadata": {},
     "output_type": "execute_result"
    }
   ],
   "source": [
    "print('Доли пропусков в датафрейме cr_df:')\n",
    "cr_df.isna().mean()"
   ]
  },
  {
   "cell_type": "markdown",
   "metadata": {},
   "source": [
    "По доле пропусков видим, что больше всего пропусков (около **75%**) содержится в столбцах:\n",
    "- `funding  round  id`\n",
    "- `company  id`\n",
    "- `funded  at`\n",
    "- `funding  round  type`\n",
    "- `raised  amount`\n",
    "- `pre  money  valuation`\n",
    "- `participants`\n",
    "- `is  first  round`\n",
    "- `is  last  round`\n",
    "\n",
    "Однако, как мы можем заметить, все эти столбцы содержат информацию о раундах финансирования. Также мы видим, что датафрейм `cr_df` содержит два одинаковых столбца с идентификатором компании. Из вышеперечисленных факторов модем сделать предположение, что ранее данные таблицы `company_and_rounds` хранились в двух разных таблицах (`company` и `rounds`). Из-за чего столбцы, содержащие информацию о раундах финансирования, при полном объединении с данными о компанпиях получили большое количество пропусков, а также дублирование столбца `company_id`. Поэтому дублированные столбцы и столбцы с большим количеством пропусков оставим до момента разделения таблиц."
   ]
  },
  {
   "cell_type": "code",
   "execution_count": 23,
   "metadata": {},
   "outputs": [
    {
     "name": "stdout",
     "output_type": "stream",
     "text": [
      "Доли пропусков в датафрейме peop_df:\n"
     ]
    },
    {
     "data": {
      "text/plain": [
       "id                 0.00\n",
       "first_name         0.00\n",
       "last_name          0.00\n",
       "company_id         0.85\n",
       "network_username   0.83\n",
       "dtype: float64"
      ]
     },
     "execution_count": 23,
     "metadata": {},
     "output_type": "execute_result"
    }
   ],
   "source": [
    "print('Доли пропусков в датафрейме peop_df:')\n",
    "peop_df.isna().mean()"
   ]
  },
  {
   "cell_type": "markdown",
   "metadata": {},
   "source": [
    "Датафрейм `peop_df` содержит **84%** пропусков в столбце `company_id` и **82%** в столбце `network_username`. Такие данные мы также не можем назвать полными для анализа. Поэтому предполагаем, что пропуски в данных необходимо будет обработать."
   ]
  },
  {
   "cell_type": "code",
   "execution_count": 24,
   "metadata": {},
   "outputs": [
    {
     "name": "stdout",
     "output_type": "stream",
     "text": [
      "Доли пропусков в датафрейме edu_df:\n"
     ]
    },
    {
     "data": {
      "text/plain": [
       "id             0.00\n",
       "person_id      0.00\n",
       "institution    0.00\n",
       "graduated_at   0.47\n",
       "dtype: float64"
      ]
     },
     "execution_count": 24,
     "metadata": {},
     "output_type": "execute_result"
    }
   ],
   "source": [
    "print('Доли пропусков в датафрейме edu_df:')\n",
    "edu_df.isna().mean()"
   ]
  },
  {
   "cell_type": "markdown",
   "metadata": {},
   "source": [
    "Датафрейм `edu_df` содержит **47%** пропусков в столбце `graduated_at` . Такие данные мы также не можем назвать полными для анализа. Поэтому предполагаем, что пропуски необходимо будет обработать."
   ]
  },
  {
   "cell_type": "code",
   "execution_count": 25,
   "metadata": {},
   "outputs": [
    {
     "name": "stdout",
     "output_type": "stream",
     "text": [
      "Доли пропусков в датафрейме deg_df:\n"
     ]
    },
    {
     "data": {
      "text/plain": [
       "id            0.00\n",
       "object_id     0.00\n",
       "degree_type   0.10\n",
       "subject       0.26\n",
       "dtype: float64"
      ]
     },
     "execution_count": 25,
     "metadata": {},
     "output_type": "execute_result"
    }
   ],
   "source": [
    "print('Доли пропусков в датафрейме deg_df:')\n",
    "deg_df.isna().mean()"
   ]
  },
  {
   "cell_type": "markdown",
   "metadata": {},
   "source": [
    "Датафрейм `deg_df` содержит **10%** пропусков в столбце `degree_type` и **25%** в столбце `subject`. Такие данные мы можем назвать относительно полными для анализа. Поэтому предполагаем, что пропуски в данных необходимо будет обработать."
   ]
  },
  {
   "cell_type": "markdown",
   "metadata": {},
   "source": [
    "### Промежуточные выводы после загрузки и анализа пропусков\n",
    "\n",
    "На этом этап загрузки и анализа данных завершен. Предоставленные данные хорошего качества и требуют не так много действий по предобработке. \n",
    "\n",
    "В результате анализа данных были выполнены следующие действия:\n",
    "\n",
    "- Скорректированы названия столбцов — их привели к стилю snake case;\n",
    "- Изучены пропуски в данных. Больше всего пропусков обнаружилось в датасете `company_and_rounds`: 9 из 22 столбцов имеют более 75% пропусков, но объяснение этому мы уже предположили (ранее данные датасета хранились в двух разных таблицах). Поэтому их оставили как есть.\n",
    "\n",
    "Теперь можем переходить к предобработке данных и предварительным исследованиям.\n",
    "\n",
    "---"
   ]
  },
  {
   "cell_type": "markdown",
   "metadata": {
    "id": "u60cHsn6rJg1"
   },
   "source": [
    "## Шаг 2. Предобработка данных, предварительное исследование"
   ]
  },
  {
   "cell_type": "markdown",
   "metadata": {
    "id": "g2bHIIjcrJg1"
   },
   "source": [
    "\n",
    "### 2.1. Раунды финансирования по годам"
   ]
  },
  {
   "cell_type": "code",
   "execution_count": 26,
   "metadata": {
    "id": "8Fbz6KmzFdYP"
   },
   "outputs": [
    {
     "name": "stdout",
     "output_type": "stream",
     "text": [
      "             funding_rounds  raised_amount\n",
      "year_funded                               \n",
      "1960                      9           0.00\n",
      "1973                      1           0.00\n",
      "1974                      2           0.00\n",
      "1984                      3      41,000.00\n",
      "1985                      1           0.00\n",
      "1987                      2   1,250,000.00\n",
      "1989                      1      15,000.00\n",
      "1990                      1   1,000,000.00\n",
      "1992                      1   2,000,000.00\n",
      "1993                      2      62,500.00\n",
      "1994                      2   6,700,000.00\n",
      "1995                      7   2,000,000.00\n",
      "1996                      7      12,500.00\n",
      "1997                      9   3,300,000.00\n",
      "1998                     29     100,000.00\n",
      "1999                     76   2,000,000.00\n",
      "2000                    125   4,200,000.00\n",
      "2001                     95   3,000,000.00\n",
      "2002                    115   4,200,000.00\n",
      "2003                    154   3,000,000.00\n",
      "2004                    286   5,000,000.00\n",
      "2005                   1624   5,500,000.00\n",
      "2006                   2409   5,000,000.00\n",
      "2007                   3220   3,973,320.00\n",
      "2008                   3735   3,110,000.00\n",
      "2009                   4112   2,000,000.00\n",
      "2010                   6194   1,602,500.00\n",
      "2011                   9162   1,200,000.00\n",
      "2012                   9956   1,000,000.00\n",
      "2013                  11042   1,200,000.00\n"
     ]
    }
   ],
   "source": [
    "# Выделяем год финансирования в отдельный столбец\n",
    "cr_df['year_funded'] = cr_df['funded_at'].dt.year.astype('Int64')\n",
    "\n",
    "# Строим сводную таблицу\n",
    "pivot_amount = pd.pivot_table(cr_df,\n",
    "                              index='year_funded',\n",
    "                              aggfunc={'raised_amount':'median','funding_rounds':'count'})\n",
    "\n",
    "print(pivot_amount)"
   ]
  },
  {
   "cell_type": "code",
   "execution_count": 27,
   "metadata": {},
   "outputs": [
    {
     "name": "stdout",
     "output_type": "stream",
     "text": [
      "             funding_rounds  raised_amount\n",
      "year_funded                               \n",
      "1999                     76   2,000,000.00\n",
      "2000                    125   4,200,000.00\n",
      "2001                     95   3,000,000.00\n",
      "2002                    115   4,200,000.00\n",
      "2003                    154   3,000,000.00\n",
      "2004                    286   5,000,000.00\n",
      "2005                   1624   5,500,000.00\n",
      "2006                   2409   5,000,000.00\n",
      "2007                   3220   3,973,320.00\n",
      "2008                   3735   3,110,000.00\n",
      "2009                   4112   2,000,000.00\n",
      "2010                   6194   1,602,500.00\n",
      "2011                   9162   1,200,000.00\n",
      "2012                   9956   1,000,000.00\n",
      "2013                  11042   1,200,000.00\n"
     ]
    }
   ],
   "source": [
    "# Фильтруем таблицу по условию: в году было более 50 раундов финансирования\n",
    "filtered_pivot_amount = pivot_amount[pivot_amount['funding_rounds'] > 50]\n",
    "\n",
    "print(filtered_pivot_amount)"
   ]
  },
  {
   "cell_type": "code",
   "execution_count": 28,
   "metadata": {
    "id": "Z92DzKMMFdKW",
    "scrolled": true
   },
   "outputs": [
    {
     "data": {
      "image/png": "[encoded data removed]",
      "text/plain": [
       "<Figure size 648x360 with 1 Axes>"
      ]
     },
     "metadata": {
      "needs_background": "light"
     },
     "output_type": "display_data"
    }
   ],
   "source": [
    "# Создаём контейнер графика matplotlib и задаём его размер\n",
    "plt.figure(figsize=(9, 5))\n",
    "\n",
    "# Строим линейный график дикамики общего числа раундов финансирования по годам\n",
    "filtered_pivot_amount['raised_amount'].plot(\n",
    "               kind='line', # Тип графика — столбчатая диаграмма\n",
    "               rot=0, # Градус вращения подписи по оси Х\n",
    "               legend=False, # Выключаем легенду\n",
    "               title='Динамика средств в рамках одного раунда финансирования'\n",
    ")\n",
    "\n",
    "# Настраиваем оформление графика\n",
    "plt.xlabel('Год финансирования')\n",
    "plt.ylabel('Медиана инвестиций,(млн)')\n",
    "\n",
    "# Добавляем сетку графика\n",
    "plt.grid()\n",
    "\n",
    "# Выводим график\n",
    "plt.show()"
   ]
  },
  {
   "cell_type": "markdown",
   "metadata": {},
   "source": [
    "Теперь, когда перед нами визуализированны данные, можем предоставить ответы на вопросы:\n",
    "\n",
    "**В каком году типичный размер собранных в рамках одного раунда средств был максимален?**\n",
    "\n",
    "В 2005 году зафиксирован максимальный типичный размер средств, собранных в рамках одного раунда\n",
    "\n",
    "**Какая тенденция по количеству раундов и выделяемых в рамках каждого раунда средств наблюдалась в 2013 году?**\n",
    "\n",
    "В 2013 году число раундов повысилось, а типичная сумма за раунд начала восстанавливаться после падения."
   ]
  },
  {
   "cell_type": "markdown",
   "metadata": {
    "id": "45if1en1rJg2"
   },
   "source": [
    "\n",
    "### 2.2. Люди и их образование"
   ]
  },
  {
   "cell_type": "code",
   "execution_count": 29,
   "metadata": {
    "id": "psPO7C4MrJg2",
    "vscode": {
     "languageId": "plaintext"
    }
   },
   "outputs": [],
   "source": [
    "# Сначала подготовим датафреймы к объединению, удалив дубликаты\n",
    "peop_df = peop_df.drop_duplicates('id')\n",
    "\n",
    "edu_df = edu_df.drop_duplicates('id')\n",
    "\n",
    "# Объединим датафреймы peop_df и edu_df с параметром left\n",
    "# левой таблицей будет peop_df, чтобы сохранить все записи о сотрудниках\n",
    "peop_edu_df = peop_df.merge(edu_df, how='left', left_on='id', right_on='person_id', suffixes = ('_people','_education'))"
   ]
  },
  {
   "cell_type": "code",
   "execution_count": 30,
   "metadata": {
    "id": "BThTjpLqFcsm"
   },
   "outputs": [
    {
     "data": {
      "text/html": [
       "<div>\n",
       "<style scoped>\n",
       "    .dataframe tbody tr th:only-of-type {\n",
       "        vertical-align: middle;\n",
       "    }\n",
       "\n",
       "    .dataframe tbody tr th {\n",
       "        vertical-align: top;\n",
       "    }\n",
       "\n",
       "    .dataframe thead th {\n",
       "        text-align: right;\n",
       "    }\n",
       "</style>\n",
       "<table border=\"1\" class=\"dataframe\">\n",
       "  <thead>\n",
       "    <tr style=\"text-align: right;\">\n",
       "      <th></th>\n",
       "      <th>id_people</th>\n",
       "      <th>first_name</th>\n",
       "      <th>last_name</th>\n",
       "      <th>company_id</th>\n",
       "      <th>network_username</th>\n",
       "      <th>id_education</th>\n",
       "      <th>person_id</th>\n",
       "      <th>institution</th>\n",
       "      <th>graduated_at</th>\n",
       "      <th>count_peop</th>\n",
       "    </tr>\n",
       "  </thead>\n",
       "  <tbody>\n",
       "    <tr>\n",
       "      <th>0</th>\n",
       "      <td>10</td>\n",
       "      <td>Mark</td>\n",
       "      <td>Zuckerberg</td>\n",
       "      <td>5.00</td>\n",
       "      <td>NaN</td>\n",
       "      <td>2,415.00</td>\n",
       "      <td>10.00</td>\n",
       "      <td>Harvard University</td>\n",
       "      <td>NaT</td>\n",
       "      <td>84</td>\n",
       "    </tr>\n",
       "    <tr>\n",
       "      <th>3961</th>\n",
       "      <td>10430</td>\n",
       "      <td>Ruchi</td>\n",
       "      <td>Sanghvi</td>\n",
       "      <td>5.00</td>\n",
       "      <td>rsanghvi</td>\n",
       "      <td>4,247.00</td>\n",
       "      <td>10,430.00</td>\n",
       "      <td>Carnegie Mellon University</td>\n",
       "      <td>NaT</td>\n",
       "      <td>84</td>\n",
       "    </tr>\n",
       "    <tr>\n",
       "      <th>3962</th>\n",
       "      <td>10430</td>\n",
       "      <td>Ruchi</td>\n",
       "      <td>Sanghvi</td>\n",
       "      <td>5.00</td>\n",
       "      <td>rsanghvi</td>\n",
       "      <td>4,248.00</td>\n",
       "      <td>10,430.00</td>\n",
       "      <td>Carnegie Mellon University</td>\n",
       "      <td>NaT</td>\n",
       "      <td>84</td>\n",
       "    </tr>\n",
       "    <tr>\n",
       "      <th>5583</th>\n",
       "      <td>106199</td>\n",
       "      <td>Adam</td>\n",
       "      <td>Marchick</td>\n",
       "      <td>5.00</td>\n",
       "      <td>adammarstanford</td>\n",
       "      <td>15,666.00</td>\n",
       "      <td>106,199.00</td>\n",
       "      <td>Stanford University</td>\n",
       "      <td>2002-01-01</td>\n",
       "      <td>84</td>\n",
       "    </tr>\n",
       "    <tr>\n",
       "      <th>7716</th>\n",
       "      <td>108814</td>\n",
       "      <td>Jimmy</td>\n",
       "      <td>Zhu</td>\n",
       "      <td>5.00</td>\n",
       "      <td>jyzhu</td>\n",
       "      <td>16,050.00</td>\n",
       "      <td>108,814.00</td>\n",
       "      <td>Massachusetts Institute of Technology (MIT)</td>\n",
       "      <td>NaT</td>\n",
       "      <td>84</td>\n",
       "    </tr>\n",
       "  </tbody>\n",
       "</table>\n",
       "</div>"
      ],
      "text/plain": [
       "      id_people first_name   last_name  company_id network_username  \\\n",
       "0            10       Mark  Zuckerberg        5.00              NaN   \n",
       "3961      10430      Ruchi     Sanghvi        5.00         rsanghvi   \n",
       "3962      10430      Ruchi     Sanghvi        5.00         rsanghvi   \n",
       "5583     106199       Adam    Marchick        5.00  adammarstanford   \n",
       "7716     108814      Jimmy         Zhu        5.00            jyzhu   \n",
       "\n",
       "      id_education  person_id                                  institution  \\\n",
       "0         2,415.00      10.00                           Harvard University   \n",
       "3961      4,247.00  10,430.00                   Carnegie Mellon University   \n",
       "3962      4,248.00  10,430.00                   Carnegie Mellon University   \n",
       "5583     15,666.00 106,199.00                          Stanford University   \n",
       "7716     16,050.00 108,814.00  Massachusetts Institute of Technology (MIT)   \n",
       "\n",
       "     graduated_at  count_peop  \n",
       "0             NaT          84  \n",
       "3961          NaT          84  \n",
       "3962          NaT          84  \n",
       "5583   2002-01-01          84  \n",
       "7716          NaT          84  "
      ]
     },
     "execution_count": 30,
     "metadata": {},
     "output_type": "execute_result"
    }
   ],
   "source": [
    "# Группируем данные по идентификатору компании company_id и считаем количество сотрудников\n",
    "grouped_peop_edu = peop_edu_df.groupby('company_id')['id_people'].count().rename('count_peop')\n",
    "\n",
    "# Объединяем датафреймы peop_edu_df и grouped_peop_edu\n",
    "peop_edu_df = peop_edu_df.merge(grouped_peop_edu, left_on='company_id', right_index=True, suffixes=('_people','_education'))\n",
    "\n",
    "peop_edu_df.head()"
   ]
  },
  {
   "cell_type": "markdown",
   "metadata": {},
   "source": [
    "Выведем на экран для каждого уникального количества сотрудников частоту их встречаемости. Отсортируем по убыванию частоты встречаемости. Тогда мы сможем определить удобные для нас корзины, на которые мы сможем разбить стартапы по категориям."
   ]
  },
  {
   "cell_type": "code",
   "execution_count": 31,
   "metadata": {
    "scrolled": true
   },
   "outputs": [
    {
     "data": {
      "text/plain": [
       "1      14149\n",
       "2       9470\n",
       "3       5571\n",
       "4       3324\n",
       "5       2235\n",
       "6       1554\n",
       "7       1127\n",
       "8        920\n",
       "9        774\n",
       "11       572\n",
       "10       510\n",
       "376      376\n",
       "13       338\n",
       "12       300\n",
       "18       288\n",
       "221      221\n",
       "15       210\n",
       "192      192\n",
       "16       192\n",
       "19       190\n",
       "20       180\n",
       "14       168\n",
       "17       136\n",
       "111      111\n",
       "25       100\n",
       "89        89\n",
       "44        88\n",
       "84        84\n",
       "27        81\n",
       "80        80\n",
       "39        78\n",
       "73        73\n",
       "71        71\n",
       "35        70\n",
       "70        70\n",
       "34        68\n",
       "66        66\n",
       "22        66\n",
       "64        64\n",
       "30        60\n",
       "59        59\n",
       "29        58\n",
       "52        52\n",
       "26        52\n",
       "24        48\n",
       "46        46\n",
       "43        43\n",
       "42        42\n",
       "28        28\n",
       "23        23\n",
       "21        21\n",
       "Name: count_peop, dtype: int64"
      ]
     },
     "execution_count": 31,
     "metadata": {},
     "output_type": "execute_result"
    }
   ],
   "source": [
    "peop_edu_df['count_peop'].value_counts().sort_values(ascending=False)"
   ]
  },
  {
   "cell_type": "markdown",
   "metadata": {},
   "source": [
    "Как мы видим, бОльшая часть стартапов имеет 1-2 сотрудников. Поэтому укажем для стартапов следующие категории:\n",
    "- `1`\n",
    "- `2`\n",
    "- `3`\n",
    "- `4-5`\n",
    "- `6-10`\n",
    "- `11-25`\n",
    "- `26+`"
   ]
  },
  {
   "cell_type": "code",
   "execution_count": 32,
   "metadata": {
    "id": "4FC98Pd-FcmG",
    "scrolled": true
   },
   "outputs": [
    {
     "data": {
      "text/html": [
       "<div>\n",
       "<style scoped>\n",
       "    .dataframe tbody tr th:only-of-type {\n",
       "        vertical-align: middle;\n",
       "    }\n",
       "\n",
       "    .dataframe tbody tr th {\n",
       "        vertical-align: top;\n",
       "    }\n",
       "\n",
       "    .dataframe thead th {\n",
       "        text-align: right;\n",
       "    }\n",
       "</style>\n",
       "<table border=\"1\" class=\"dataframe\">\n",
       "  <thead>\n",
       "    <tr style=\"text-align: right;\">\n",
       "      <th></th>\n",
       "      <th>id_people</th>\n",
       "      <th>first_name</th>\n",
       "      <th>last_name</th>\n",
       "      <th>company_id</th>\n",
       "      <th>network_username</th>\n",
       "      <th>id_education</th>\n",
       "      <th>person_id</th>\n",
       "      <th>institution</th>\n",
       "      <th>graduated_at</th>\n",
       "      <th>count_peop</th>\n",
       "      <th>category_company</th>\n",
       "    </tr>\n",
       "  </thead>\n",
       "  <tbody>\n",
       "    <tr>\n",
       "      <th>0</th>\n",
       "      <td>10</td>\n",
       "      <td>Mark</td>\n",
       "      <td>Zuckerberg</td>\n",
       "      <td>5.00</td>\n",
       "      <td>NaN</td>\n",
       "      <td>2,415.00</td>\n",
       "      <td>10.00</td>\n",
       "      <td>Harvard University</td>\n",
       "      <td>NaT</td>\n",
       "      <td>84</td>\n",
       "      <td>26+</td>\n",
       "    </tr>\n",
       "    <tr>\n",
       "      <th>3961</th>\n",
       "      <td>10430</td>\n",
       "      <td>Ruchi</td>\n",
       "      <td>Sanghvi</td>\n",
       "      <td>5.00</td>\n",
       "      <td>rsanghvi</td>\n",
       "      <td>4,247.00</td>\n",
       "      <td>10,430.00</td>\n",
       "      <td>Carnegie Mellon University</td>\n",
       "      <td>NaT</td>\n",
       "      <td>84</td>\n",
       "      <td>26+</td>\n",
       "    </tr>\n",
       "    <tr>\n",
       "      <th>3962</th>\n",
       "      <td>10430</td>\n",
       "      <td>Ruchi</td>\n",
       "      <td>Sanghvi</td>\n",
       "      <td>5.00</td>\n",
       "      <td>rsanghvi</td>\n",
       "      <td>4,248.00</td>\n",
       "      <td>10,430.00</td>\n",
       "      <td>Carnegie Mellon University</td>\n",
       "      <td>NaT</td>\n",
       "      <td>84</td>\n",
       "      <td>26+</td>\n",
       "    </tr>\n",
       "    <tr>\n",
       "      <th>5583</th>\n",
       "      <td>106199</td>\n",
       "      <td>Adam</td>\n",
       "      <td>Marchick</td>\n",
       "      <td>5.00</td>\n",
       "      <td>adammarstanford</td>\n",
       "      <td>15,666.00</td>\n",
       "      <td>106,199.00</td>\n",
       "      <td>Stanford University</td>\n",
       "      <td>2002-01-01</td>\n",
       "      <td>84</td>\n",
       "      <td>26+</td>\n",
       "    </tr>\n",
       "    <tr>\n",
       "      <th>7716</th>\n",
       "      <td>108814</td>\n",
       "      <td>Jimmy</td>\n",
       "      <td>Zhu</td>\n",
       "      <td>5.00</td>\n",
       "      <td>jyzhu</td>\n",
       "      <td>16,050.00</td>\n",
       "      <td>108,814.00</td>\n",
       "      <td>Massachusetts Institute of Technology (MIT)</td>\n",
       "      <td>NaT</td>\n",
       "      <td>84</td>\n",
       "      <td>26+</td>\n",
       "    </tr>\n",
       "  </tbody>\n",
       "</table>\n",
       "</div>"
      ],
      "text/plain": [
       "      id_people first_name   last_name  company_id network_username  \\\n",
       "0            10       Mark  Zuckerberg        5.00              NaN   \n",
       "3961      10430      Ruchi     Sanghvi        5.00         rsanghvi   \n",
       "3962      10430      Ruchi     Sanghvi        5.00         rsanghvi   \n",
       "5583     106199       Adam    Marchick        5.00  adammarstanford   \n",
       "7716     108814      Jimmy         Zhu        5.00            jyzhu   \n",
       "\n",
       "      id_education  person_id                                  institution  \\\n",
       "0         2,415.00      10.00                           Harvard University   \n",
       "3961      4,247.00  10,430.00                   Carnegie Mellon University   \n",
       "3962      4,248.00  10,430.00                   Carnegie Mellon University   \n",
       "5583     15,666.00 106,199.00                          Stanford University   \n",
       "7716     16,050.00 108,814.00  Massachusetts Institute of Technology (MIT)   \n",
       "\n",
       "     graduated_at  count_peop category_company  \n",
       "0             NaT          84              26+  \n",
       "3961          NaT          84              26+  \n",
       "3962          NaT          84              26+  \n",
       "5583   2002-01-01          84              26+  \n",
       "7716          NaT          84              26+  "
      ]
     },
     "execution_count": 32,
     "metadata": {},
     "output_type": "execute_result"
    }
   ],
   "source": [
    "# Для каждого сотрудника укажем категорию размера компании, в которй он работает\n",
    "#bins   = [0, 1, 2, 3, 5, 10, 25, float('inf')],\n",
    "#labels = ['1', '2', '3', '4-5', '6-10', '11-25', '26+']\n",
    "\n",
    "peop_edu_df['category_company'] = pd.cut(peop_edu_df['count_peop'], bins=[0, 1, 2, 3, 5, 10, 25, float('inf')], labels=['1', '2', '3', '4-5', '6-10', '11-25', '26+'])\n",
    "\n",
    "peop_edu_df.head()"
   ]
  },
  {
   "cell_type": "code",
   "execution_count": 33,
   "metadata": {
    "scrolled": true
   },
   "outputs": [
    {
     "name": "stdout",
     "output_type": "stream",
     "text": [
      "  category_company  share_no_info\n",
      "3              26+           0.20\n",
      "2                2           0.23\n",
      "4                3           0.23\n",
      "5              4-5           0.28\n",
      "1            11-25           0.31\n",
      "6             6-10           0.31\n",
      "0                1           0.59\n"
     ]
    }
   ],
   "source": [
    "# Группируем по company_id\n",
    "grouped_company = peop_edu_df.groupby('company_id').agg(share_no_info=('institution', lambda x: x.isna().mean()),\n",
    "                                                        count_peop=('count_peop','first'),\n",
    "                                                        category_company=('category_company','first'))\n",
    "\n",
    "# Группируем по category_company и считаем средние значения\n",
    "grouped_category = grouped_company.groupby('category_company')['share_no_info'].mean().reset_index()\n",
    "\n",
    "#Сортируем полученные данные по столбцу share_no_info в порядке возрастания\n",
    "grouped_category = grouped_category.sort_values(by='share_no_info')\n",
    "\n",
    "print(grouped_category)"
   ]
  },
  {
   "cell_type": "markdown",
   "metadata": {},
   "source": [
    "По проведённому анализу можем сделать вывод, что относительно полную информацию о сотрудниках имеют крупные стартапы (более 26 сотрудников) - **20%**, а больше всего пропусков об образовании сотрудников содержат иднивидуальные стартапы (1 сотрудник) - **59%**. Стартапы с минимальным количеством сотрудников могут показывать больше пропусков, возможно, из-за слабой отчётности, в то время, как более многочисленные стартапы имеют строгие HR-процессы.\n",
    "\n",
    "Для выполнения данного задания возможно присоединить таблицу `degrees` по полю `object_id`, предварительно проверив ключевой столбец на дубликаты."
   ]
  },
  {
   "cell_type": "markdown",
   "metadata": {
    "id": "Lz7qjM32xglW"
   },
   "source": [
    "### 2.3. Объединять или не объединять — вот в чём вопрос"
   ]
  },
  {
   "cell_type": "markdown",
   "metadata": {},
   "source": [
    "Столбец с именем `network_username` встречается в двух датафреймах: cr_df и peop_df. Проверим, дублируется ли для этих датафреймов информация в столбцах с таким названием."
   ]
  },
  {
   "cell_type": "code",
   "execution_count": 34,
   "metadata": {
    "id": "RxOS5rwmFcNW"
   },
   "outputs": [
    {
     "name": "stdout",
     "output_type": "stream",
     "text": [
      "Количество уникальных network_username в people.csv: 38421\n",
      "Количество уникальных network_username в company_and_rounds.csv: 79571\n",
      "Количество общих уникальных значений у peop_df и cr_df: 2199\n"
     ]
    }
   ],
   "source": [
    "# Уникальные значения поля network_username их датафрейма peop_df\n",
    "people_username = set(peop_df['network_username'].dropna().unique())\n",
    "\n",
    "# Уникальные значения поля network_username их датафрейма cr_df\n",
    "company_username = set(cr_df['network_username'].dropna().unique())\n",
    "\n",
    "# Пересечём полученные множества\n",
    "intersect_username = people_username & company_username\n",
    "\n",
    "# Выведем количество network_username из people_username\n",
    "print(f'Количество уникальных network_username в people.csv: {len(people_username)}')\n",
    "\n",
    "# Выведем количество network_username из people_username\n",
    "print(f'Количество уникальных network_username в company_and_rounds.csv: {len(company_username)}')\n",
    "\n",
    "# Найдём количество значений в пересечении\n",
    "print(f'Количество общих уникальных значений у peop_df и cr_df: {len(intersect_username)}')"
   ]
  },
  {
   "cell_type": "markdown",
   "metadata": {
    "id": "_7gjdrGOFcB2"
   },
   "source": [
    "В результате мы получили, что в столбце `network_username` для датафреймов `peop_df` и `cr_df` значения дублируются. Таких значений — **2 199**.\n",
    "Однако, если мы обратим внимание на количество уникальных значений в датафреймах `peop_df` и `cr_df` отдельно, то можем заметить, что они содержат 38 421 и 79 571 уникальных значений соответственно. В таком случае при объединении датафреймов по полю `network_username` с полным совпадением мы потеряем большое количество данных. А при объединении датафреймов с сохранением всех строк, мы получим большое количество пропущенных значений.\n",
    "\n",
    "Но поле `network_username` также содержится в таблице `fund.csv`. Проверим пересечения с ней."
   ]
  },
  {
   "cell_type": "code",
   "execution_count": 35,
   "metadata": {},
   "outputs": [
    {
     "name": "stdout",
     "output_type": "stream",
     "text": [
      "Количество уникальных network_username в fund.csv: 2098\n",
      "Количество общих уникальных значений у peop_df и fund_df: 79\n",
      "Количество общих уникальных значений у company_df и fund_df: 70\n"
     ]
    }
   ],
   "source": [
    "# Уникальные значения поля network_username их датафрейма fund_df\n",
    "fund_username = set(fund_df['network_username'].dropna().unique())\n",
    "\n",
    "# Выведем количество network_username из fund_username\n",
    "print(f'Количество уникальных network_username в fund.csv: {len(fund_username)}')\n",
    "\n",
    "# Пересечём полученные множества\n",
    "intersect_username = people_username & fund_username\n",
    "\n",
    "# Найдём количество значений в пересечении\n",
    "print(f'Количество общих уникальных значений у peop_df и fund_df: {len(intersect_username)}')\n",
    "\n",
    "# Пересечём полученные множества\n",
    "intersect_username = company_username & fund_username\n",
    "\n",
    "# Найдём количество значений в пересечении\n",
    "print(f'Количество общих уникальных значений у company_df и fund_df: {len(intersect_username)}')"
   ]
  },
  {
   "cell_type": "markdown",
   "metadata": {},
   "source": [
    "Таким образом, столбец `network_username` не стоит использовать для объединения датафреймов."
   ]
  },
  {
   "cell_type": "markdown",
   "metadata": {
    "id": "EHcODomVrJg1"
   },
   "source": [
    "\n",
    "### 2.4. Проблемный датасет и причина возникновения пропусков\n"
   ]
  },
  {
   "cell_type": "markdown",
   "metadata": {
    "id": "oSk7xqu_FbaN"
   },
   "source": [
    "В датафрейме есть столбцы с логически повторяющимися названиями:  `company_id_full` и `company_id`, `funding_total` и `raised amount`. Ещё мы можем заметить, столбцы `funding_round_id`, `company_id`, `funded_at`, `funding_round_type`, `raised_amount`, `pre_money_valuation`, `participants`, `is_first_round`, `is_last_round` и `year_funded` содержат одинаковое количество пропущенных значений - **76%**. Это совпадение кажется довольно-таки странным. По гипотезе заказчика данные по компаниям из этой таблицы раньше хранились иначе. Тогда из вышеперечисленного мы смеем предположить, что данные таблицы `company_and_rounds` ранее хранились в двух разных таблицах. Одна таблица содержала информацию по компаниям, а вторая по раундам финансирования.\n",
    "\n",
    "Разделим таблицу `company_and_rounds` на две отдельные: `company` и `rounds`.\n",
    "В таблицу `company` войдут все столбцы до `milestones` включительно, а остальные мы передадим в таблицу `rounds`."
   ]
  },
  {
   "cell_type": "code",
   "execution_count": 36,
   "metadata": {},
   "outputs": [
    {
     "data": {
      "text/plain": [
       "company_id_full     0.00\n",
       "name                0.00\n",
       "category_code       0.37\n",
       "status              0.00\n",
       "founded_at          0.54\n",
       "closed_at           0.99\n",
       "domain              0.36\n",
       "network_username    0.59\n",
       "country_code        0.55\n",
       "investment_rounds   0.00\n",
       "funding_rounds      0.00\n",
       "funding_total       0.00\n",
       "milestones          0.00\n",
       "dtype: float64"
      ]
     },
     "execution_count": 36,
     "metadata": {},
     "output_type": "execute_result"
    }
   ],
   "source": [
    "# Создаём датафрейм с данными компаний\n",
    "company_df = cr_df[['company_id_full','name','category_code','status',\n",
    "                    'founded_at','closed_at','domain','network_username',\n",
    "                    'country_code','investment_rounds','funding_rounds','funding_total','milestones']]\n",
    "\n",
    "# Удалим дубликаты строк в данных для компании,\n",
    "# выберем столбец company_id_full как первичный ключ этой таблицы\n",
    "company_df = company_df.drop_duplicates(subset=['company_id_full']).copy()\n",
    "\n",
    "# Проверим полученный датафрейм на пропуски\n",
    "company_df.isna().mean()"
   ]
  },
  {
   "cell_type": "code",
   "execution_count": 37,
   "metadata": {},
   "outputs": [
    {
     "data": {
      "text/plain": [
       "funding_round_id      0.00\n",
       "company_id            0.00\n",
       "funded_at             0.00\n",
       "funding_round_type    0.00\n",
       "raised_amount         0.00\n",
       "pre_money_valuation   0.00\n",
       "participants          0.00\n",
       "is_first_round        0.00\n",
       "is_last_round         0.00\n",
       "year_funded           0.00\n",
       "dtype: float64"
      ]
     },
     "execution_count": 37,
     "metadata": {},
     "output_type": "execute_result"
    }
   ],
   "source": [
    "# По аналогии создаём датафрейм с данными о раундах финансирования\n",
    "rounds_df = cr_df[['funding_round_id','company_id','funded_at','funding_round_type','raised_amount',\n",
    "                   'pre_money_valuation','participants','is_first_round','is_last_round','year_funded']]\n",
    "\n",
    "# Удалим дубликаты строк в данных для раундов финансирования,\n",
    "# выберем столбец funding_round_id как первичный ключ этой таблицы\n",
    "rounds_df = rounds_df.drop_duplicates(subset=['funding_round_id']).copy()\n",
    "\n",
    "# Проверим полученный датафрейм на пропуски\n",
    "rounds_df.isna().mean()"
   ]
  },
  {
   "cell_type": "markdown",
   "metadata": {},
   "source": [
    "Мы получили два датафрейма: для компаний и для раундов финансирования. Но как мы можем заметить, получились пропуски в первичных ключах таблиц, поэтому обработаем их дополнительно."
   ]
  },
  {
   "cell_type": "code",
   "execution_count": 38,
   "metadata": {},
   "outputs": [
    {
     "data": {
      "text/plain": [
       "company_id          0.00\n",
       "name                0.00\n",
       "category_code       0.37\n",
       "status              0.00\n",
       "founded_at          0.54\n",
       "closed_at           0.99\n",
       "domain              0.36\n",
       "network_username    0.59\n",
       "country_code        0.55\n",
       "investment_rounds   0.00\n",
       "funding_rounds      0.00\n",
       "funding_total       0.00\n",
       "milestones          0.00\n",
       "dtype: float64"
      ]
     },
     "execution_count": 38,
     "metadata": {},
     "output_type": "execute_result"
    }
   ],
   "source": [
    "# Удалим строки с пропусками в столбце company_id_full\n",
    "company_df = company_df[~company_df['company_id_full'].isna()]\n",
    "\n",
    "company_df = company_df.reset_index(drop=True)\n",
    "\n",
    "# Переименуем столбец company_id_full в company_id\n",
    "company_df = company_df.rename(columns={'company_id_full': 'company_id'})\n",
    "\n",
    "# Проверим датафрейм на пропуски\n",
    "company_df.isna().mean()"
   ]
  },
  {
   "cell_type": "code",
   "execution_count": 39,
   "metadata": {},
   "outputs": [
    {
     "data": {
      "text/plain": [
       "funding_round_id      0.00\n",
       "company_id            0.00\n",
       "funded_at             0.00\n",
       "funding_round_type    0.00\n",
       "raised_amount         0.00\n",
       "pre_money_valuation   0.00\n",
       "participants          0.00\n",
       "is_first_round        0.00\n",
       "is_last_round         0.00\n",
       "year_funded           0.00\n",
       "dtype: float64"
      ]
     },
     "execution_count": 39,
     "metadata": {},
     "output_type": "execute_result"
    }
   ],
   "source": [
    "# Удалим строки с пропусками в столбце funding_round_id\n",
    "rounds_df = rounds_df[~rounds_df['funding_round_id'].isna()]\n",
    "\n",
    "rounds_df = rounds_df.reset_index(drop=True)\n",
    "\n",
    "# Проверим датафрейм на пропуски\n",
    "rounds_df.isna().mean()"
   ]
  },
  {
   "cell_type": "markdown",
   "metadata": {},
   "source": [
    "Таким образом, нам удалось разделить датафрейм `company_and_rounds` на два отдельных датафрейма: `company` - с информацией о компаниях, и `rounds` - с информацией о раундах финансирования. Также мы подготовили датафреймы, сохраняя данные, сохранив их связность и исключив возможные возникающие при этом ошибки. Теперь будет удобно отобирать компании по параметрам и рассчитывать показатели из расчёта на одну компанию без промежуточных агрегаций."
   ]
  },
  {
   "cell_type": "markdown",
   "metadata": {
    "id": "bmVYhphNrJg2"
   },
   "source": [
    "\n",
    "## Шаг 3. Исследовательский анализ объединённых таблиц\n"
   ]
  },
  {
   "cell_type": "markdown",
   "metadata": {
    "id": "3Di6tCT3rJg2"
   },
   "source": [
    "\n",
    "### 3.1. Объединение данных\n"
   ]
  },
  {
   "cell_type": "markdown",
   "metadata": {
    "id": "kuV1b5MXFg3_"
   },
   "source": [
    "В качестве основы для объединённой таблицы возьмём датафрейм `company_df`. Отфильтруем его по условиям: `funding_rounds > 0` или `investment_rounds > 0` ИЛИ `status == acquired`."
   ]
  },
  {
   "cell_type": "code",
   "execution_count": 40,
   "metadata": {},
   "outputs": [
    {
     "data": {
      "text/plain": [
       "40747"
      ]
     },
     "execution_count": 40,
     "metadata": {},
     "output_type": "execute_result"
    }
   ],
   "source": [
    "# Фильтруем датафрейм company_df по условиям\n",
    "filtered_company_df = company_df[(company_df['funding_rounds'] > 0) |\n",
    "                                 (company_df['investment_rounds'] > 0) | \n",
    "                                 (company_df['status'] == 'acquired')]\n",
    "\n",
    "# Проверим отфильтрованное количество компаний\n",
    "filtered_company_df['company_id'].nunique()"
   ]
  },
  {
   "cell_type": "markdown",
   "metadata": {},
   "source": [
    "Теперь проверим полноту и корректность получившейся таблицы. Для этого выведем первые 5 строк таблицы, а также долю пропущенных значений."
   ]
  },
  {
   "cell_type": "code",
   "execution_count": 41,
   "metadata": {
    "id": "93v3fEX5FgtP"
   },
   "outputs": [
    {
     "data": {
      "text/html": [
       "<div>\n",
       "<style scoped>\n",
       "    .dataframe tbody tr th:only-of-type {\n",
       "        vertical-align: middle;\n",
       "    }\n",
       "\n",
       "    .dataframe tbody tr th {\n",
       "        vertical-align: top;\n",
       "    }\n",
       "\n",
       "    .dataframe thead th {\n",
       "        text-align: right;\n",
       "    }\n",
       "</style>\n",
       "<table border=\"1\" class=\"dataframe\">\n",
       "  <thead>\n",
       "    <tr style=\"text-align: right;\">\n",
       "      <th></th>\n",
       "      <th>company_id</th>\n",
       "      <th>name</th>\n",
       "      <th>category_code</th>\n",
       "      <th>status</th>\n",
       "      <th>founded_at</th>\n",
       "      <th>closed_at</th>\n",
       "      <th>domain</th>\n",
       "      <th>network_username</th>\n",
       "      <th>country_code</th>\n",
       "      <th>investment_rounds</th>\n",
       "      <th>funding_rounds</th>\n",
       "      <th>funding_total</th>\n",
       "      <th>milestones</th>\n",
       "    </tr>\n",
       "  </thead>\n",
       "  <tbody>\n",
       "    <tr>\n",
       "      <th>0</th>\n",
       "      <td>1.00</td>\n",
       "      <td>Wetpaint</td>\n",
       "      <td>web</td>\n",
       "      <td>operating</td>\n",
       "      <td>2005-10-17</td>\n",
       "      <td>NaT</td>\n",
       "      <td>wetpaint-inc.com</td>\n",
       "      <td>BachelrWetpaint</td>\n",
       "      <td>USA</td>\n",
       "      <td>0.00</td>\n",
       "      <td>3.00</td>\n",
       "      <td>39,750,000.00</td>\n",
       "      <td>5.00</td>\n",
       "    </tr>\n",
       "    <tr>\n",
       "      <th>1</th>\n",
       "      <td>10.00</td>\n",
       "      <td>Flektor</td>\n",
       "      <td>games_video</td>\n",
       "      <td>acquired</td>\n",
       "      <td>NaT</td>\n",
       "      <td>NaT</td>\n",
       "      <td>flektor.com</td>\n",
       "      <td>NaN</td>\n",
       "      <td>USA</td>\n",
       "      <td>0.00</td>\n",
       "      <td>0.00</td>\n",
       "      <td>0.00</td>\n",
       "      <td>0.00</td>\n",
       "    </tr>\n",
       "    <tr>\n",
       "      <th>2</th>\n",
       "      <td>100.00</td>\n",
       "      <td>There</td>\n",
       "      <td>games_video</td>\n",
       "      <td>acquired</td>\n",
       "      <td>NaT</td>\n",
       "      <td>NaT</td>\n",
       "      <td>there.com</td>\n",
       "      <td>NaN</td>\n",
       "      <td>USA</td>\n",
       "      <td>0.00</td>\n",
       "      <td>0.00</td>\n",
       "      <td>0.00</td>\n",
       "      <td>4.00</td>\n",
       "    </tr>\n",
       "    <tr>\n",
       "      <th>13</th>\n",
       "      <td>1,001.00</td>\n",
       "      <td>FriendFeed</td>\n",
       "      <td>web</td>\n",
       "      <td>acquired</td>\n",
       "      <td>2007-10-01</td>\n",
       "      <td>NaT</td>\n",
       "      <td>friendfeed.com</td>\n",
       "      <td>friendfeed</td>\n",
       "      <td>USA</td>\n",
       "      <td>0.00</td>\n",
       "      <td>1.00</td>\n",
       "      <td>5,000,000.00</td>\n",
       "      <td>3.00</td>\n",
       "    </tr>\n",
       "    <tr>\n",
       "      <th>18</th>\n",
       "      <td>10,014.00</td>\n",
       "      <td>Mobclix</td>\n",
       "      <td>mobile</td>\n",
       "      <td>acquired</td>\n",
       "      <td>2008-03-01</td>\n",
       "      <td>NaT</td>\n",
       "      <td>mobclix.com</td>\n",
       "      <td>mobclix</td>\n",
       "      <td>USA</td>\n",
       "      <td>0.00</td>\n",
       "      <td>1.00</td>\n",
       "      <td>0.00</td>\n",
       "      <td>4.00</td>\n",
       "    </tr>\n",
       "  </tbody>\n",
       "</table>\n",
       "</div>"
      ],
      "text/plain": [
       "    company_id        name category_code     status founded_at closed_at  \\\n",
       "0         1.00    Wetpaint           web  operating 2005-10-17       NaT   \n",
       "1        10.00     Flektor   games_video   acquired        NaT       NaT   \n",
       "2       100.00       There   games_video   acquired        NaT       NaT   \n",
       "13    1,001.00  FriendFeed           web   acquired 2007-10-01       NaT   \n",
       "18   10,014.00     Mobclix        mobile   acquired 2008-03-01       NaT   \n",
       "\n",
       "              domain network_username country_code  investment_rounds  \\\n",
       "0   wetpaint-inc.com  BachelrWetpaint          USA               0.00   \n",
       "1        flektor.com              NaN          USA               0.00   \n",
       "2          there.com              NaN          USA               0.00   \n",
       "13    friendfeed.com       friendfeed          USA               0.00   \n",
       "18       mobclix.com          mobclix          USA               0.00   \n",
       "\n",
       "    funding_rounds  funding_total  milestones  \n",
       "0             3.00  39,750,000.00        5.00  \n",
       "1             0.00           0.00        0.00  \n",
       "2             0.00           0.00        4.00  \n",
       "13            1.00   5,000,000.00        3.00  \n",
       "18            1.00           0.00        4.00  "
      ]
     },
     "execution_count": 41,
     "metadata": {},
     "output_type": "execute_result"
    }
   ],
   "source": [
    "filtered_company_df.head()"
   ]
  },
  {
   "cell_type": "code",
   "execution_count": 42,
   "metadata": {},
   "outputs": [
    {
     "name": "stdout",
     "output_type": "stream",
     "text": [
      "Доли пропусков в датафрейме filtered_company_df:\n"
     ]
    },
    {
     "data": {
      "text/plain": [
       "company_id          0.00\n",
       "name                0.00\n",
       "category_code       0.13\n",
       "status              0.00\n",
       "founded_at          0.32\n",
       "closed_at           0.95\n",
       "domain              0.12\n",
       "network_username    0.49\n",
       "country_code        0.15\n",
       "investment_rounds   0.00\n",
       "funding_rounds      0.00\n",
       "funding_total       0.00\n",
       "milestones          0.00\n",
       "dtype: float64"
      ]
     },
     "execution_count": 42,
     "metadata": {},
     "output_type": "execute_result"
    }
   ],
   "source": [
    "print('Доли пропусков в датафрейме filtered_company_df:')\n",
    "filtered_company_df.isna().mean()"
   ]
  },
  {
   "cell_type": "markdown",
   "metadata": {},
   "source": [
    "Таблица для дальнейшего анализа выглядит полной и содержит корректные данные.\n",
    "Для объединения отсортируем таблицу `acquisition` в порядке возрастания по полю `acquired_at`, сгруппируем  по полю `acquired_company_id` и по полю `price_amount` найдём последнее значение."
   ]
  },
  {
   "cell_type": "code",
   "execution_count": 43,
   "metadata": {},
   "outputs": [],
   "source": [
    "# Сортируем датафрейм acq_df по возрастанию acquired_at\n",
    "acq_df = acq_df.sort_values(by='acquired_at')\n",
    "\n",
    "# Сгруппируем датафрейм по acquired_company_id,найдём последнее значение по полю price_amount\n",
    "unique_aquisition_df = acq_df.groupby('acquired_company_id')['price_amount'].last().reset_index()\n",
    "\n",
    "# Объединим датафреймы filtered_company_df и unique_aquisition_df\n",
    "buy_company_df = unique_aquisition_df.merge(filtered_company_df, left_on='acquired_company_id', right_on='company_id', how='left')"
   ]
  },
  {
   "cell_type": "markdown",
   "metadata": {},
   "source": [
    "Мы собрали необходимые для дальнейшего анализа данные и можем переходить к следующему пункту."
   ]
  },
  {
   "cell_type": "markdown",
   "metadata": {
    "id": "DFHINkV3rJg2"
   },
   "source": [
    "\n",
    "### 3.2. Анализ выбросов\n",
    "\n"
   ]
  },
  {
   "cell_type": "markdown",
   "metadata": {},
   "source": [
    "Построим гистограмму для изучения выбросов."
   ]
  },
  {
   "cell_type": "code",
   "execution_count": 44,
   "metadata": {
    "scrolled": true
   },
   "outputs": [
    {
     "data": {
      "image/png": "[encoded data removed]",
      "text/plain": [
       "<Figure size 432x288 with 1 Axes>"
      ]
     },
     "metadata": {
      "needs_background": "light"
     },
     "output_type": "display_data"
    }
   ],
   "source": [
    "# Построим распределение данных для столбца `funding_total`\n",
    "buy_company_df['funding_total'].value_counts().plot(kind='hist',\n",
    "                                                   title='Распределение данных в столбце funding_total',\n",
    "                                                   ylabel='Количество'\n",
    ")\n",
    "\n",
    "# Отображаем график\n",
    "plt.show()"
   ]
  },
  {
   "cell_type": "markdown",
   "metadata": {
    "id": "8jm75fKXrJg2",
    "vscode": {
     "languageId": "plaintext"
    }
   },
   "source": [
    "Как мы можем заметить на гистограмме всего один столбец с количеством компаний чуть больше 1000. Скорее всего данные имеют большие выбросы. Проверим нашу гипотезу и оценим статистические показатели. Для этого используем метод `describe()`:"
   ]
  },
  {
   "cell_type": "code",
   "execution_count": 45,
   "metadata": {},
   "outputs": [
    {
     "name": "stdout",
     "output_type": "stream",
     "text": [
      "Статистические показатели столбца funding_total:\n"
     ]
    },
    {
     "data": {
      "text/plain": [
       "count           9,247.00\n",
       "mean        5,503,039.18\n",
       "std        63,287,451.98\n",
       "min                 0.00\n",
       "25%                 0.00\n",
       "50%                 0.00\n",
       "75%                 0.00\n",
       "max     5,700,000,000.00\n",
       "Name: funding_total, dtype: float64"
      ]
     },
     "execution_count": 45,
     "metadata": {},
     "output_type": "execute_result"
    }
   ],
   "source": [
    "print('Статистические показатели столбца funding_total:')\n",
    "buy_company_df['funding_total'].describe()"
   ]
  },
  {
   "cell_type": "markdown",
   "metadata": {
    "id": "S1jrfr7rFhcw"
   },
   "source": [
    "На основе представленных статистических показателей столбца `funding_total`, можно сделать следующие выводы:\n",
    "\n",
    "- Большое количество записей с нулевым финансированием: Значения 25%, 50% и 75% перцентилей равны 0. Это означает, что как минимум 75% компаний в выборке не получили внешнего финансирования (или их финансирование не было зафиксировано в данных). Это может указывать на то, что многие компании финансируются за счет собственных средств, являются стартапами на ранней стадии без привлечения инвестиций, или данные о финансировании неполные.\n",
    "\n",
    "- Высокое среднее значение: Среднее значение (mean) в 5,5 миллиона долларов значительно выше медианы (которая равна 0 из-за того, что 50% перцентиль = 0). Это говорит о том, что в выборке есть несколько компаний с очень большими объемами финансирования, которые \"вытягивают\" среднее значение вверх.\n",
    "\n",
    "- Очень большое стандартное отклонение: Стандартное отклонение (std) в 63 миллиона долларов очень велико по сравнению со средним значением. Это подтверждает наличие большого разброса в данных и сильного влияния выбросов.\n",
    "\n",
    "- Огромный максимальный объем финансирования: Максимальное значение (max) в 5,7 миллиарда долларов подтверждает наличие выбросов. Этот один или несколько случаев экстремально высоких инвестиций сильно влияют на статистические показатели.\n",
    "\n",
    "- Распределение данных: Судя по всему, распределение данных крайне неравномерное и смещено вправо. Большинство компаний получают относительно небольшое финансирование или не получают его вовсе, но есть небольшое количество компаний с огромными инвестициями.\n",
    "\n",
    "Таким образом, типичным размером общего финансирования для одной компании является 0 долларов, а наличие финансирования в целом будет выбивающимся. И обычные способы нахождения типичных значений в нашем случае не подойдут."
   ]
  },
  {
   "cell_type": "markdown",
   "metadata": {
    "id": "JqkRAQrIrJg2"
   },
   "source": [
    "\n",
    "### 3.3. Куплены забесплатно?\n",
    "\n"
   ]
  },
  {
   "cell_type": "markdown",
   "metadata": {
    "id": "wJHXCBwwrJg2",
    "vscode": {
     "languageId": "plaintext"
    }
   },
   "source": [
    "Выделим компании, проданные за 0 или 1 доллар и имеющие при это ненулевой общий объём финансирования, в отдельный датафрейм."
   ]
  },
  {
   "cell_type": "code",
   "execution_count": 46,
   "metadata": {},
   "outputs": [
    {
     "name": "stdout",
     "output_type": "stream",
     "text": [
      "Статистические показатели столбца funding_total:\n"
     ]
    },
    {
     "data": {
      "text/plain": [
       "count           1,587.00\n",
       "mean       17,874,684.03\n",
       "std       145,533,575.06\n",
       "min             3,750.00\n",
       "25%         2,000,000.00\n",
       "50%         6,000,000.00\n",
       "75%        15,400,000.00\n",
       "max     5,700,000,000.00\n",
       "Name: funding_total, dtype: float64"
      ]
     },
     "execution_count": 46,
     "metadata": {},
     "output_type": "execute_result"
    }
   ],
   "source": [
    "# Отфильтруем по компаниям, удовлетворяющим условиям\n",
    "free_company_df = buy_company_df[((buy_company_df['price_amount'] == 1) | (buy_company_df['price_amount'] == 0)) \n",
    "                                 & ~(buy_company_df['funding_total']==0)]\n",
    "\n",
    "# Выведем статистические показатели для таких компаний\n",
    "print('Статистические показатели столбца funding_total:')\n",
    "free_company_df['funding_total'].describe()"
   ]
  },
  {
   "cell_type": "markdown",
   "metadata": {},
   "source": [
    "Удовлетворяющих всем условиям компаний — **1 587**.\n",
    "\n",
    "- Среднее значение (**17 млн**) сильно больше медианы (**6 млн**)\n",
    "- Огромное стандартное отклоние — **145 млн**\n",
    "- 75-ый процентиль (**15,4 млн**) сильно меньше максимального значения (**5,7 млрд**)\n",
    "\n",
    "Таким образом, можем сделать вывод что `funding_total` имеет большие выбросы и смещённое вправо распределение данных."
   ]
  },
  {
   "cell_type": "markdown",
   "metadata": {},
   "source": [
    "Для рассчёта верхней и нижней границ выбросов для столбца `funding_total` выполним следующие вычисления:\n",
    "\n",
    "- Рассчитать квартили Q1 и Q3.\n",
    "- Рассчитать межквартильный размах IQR как разность между Q3 и Q1: IQR = Q3 – Q1.\n",
    "- Вычислить нижний и верхний пороги для выбросов:\n",
    "        Нижний порог = Q1 – 1.5 * IQR\n",
    "        Верхний порог = Q3 + 1.5 * IQR"
   ]
  },
  {
   "cell_type": "code",
   "execution_count": 47,
   "metadata": {},
   "outputs": [
    {
     "name": "stdout",
     "output_type": "stream",
     "text": [
      "Нижний порог выбросов: -18100000.0\n",
      "Верхний порог выбросов: 35500000.0\n"
     ]
    }
   ],
   "source": [
    "# Вычисляем квартили Q1 и Q3\n",
    "Q1 = free_company_df['funding_total'].quantile(0.25)\n",
    "Q3 = free_company_df['funding_total'].quantile(0.75)\n",
    "\n",
    "# Вычисляем межквартильный размах IQR\n",
    "IQR = Q3 - Q1\n",
    "\n",
    "# Определяем нижний порог для выбросов\n",
    "lower_bound = Q1 - 1.5 * IQR\n",
    "\n",
    "print(f'Нижний порог выбросов: {lower_bound}')\n",
    "\n",
    "# Определяем верхний порог для выбросов\n",
    "upper_bound = Q3 + 1.5 * IQR\n",
    "\n",
    "print(f'Верхний порог выбросов: {upper_bound}')"
   ]
  },
  {
   "cell_type": "code",
   "execution_count": 48,
   "metadata": {},
   "outputs": [
    {
     "name": "stdout",
     "output_type": "stream",
     "text": [
      "0-й процентиль:\n",
      "3750.0\n",
      "\n",
      "91-й процентиль:\n",
      "35000000.0\n",
      "\n",
      "92-й процентиль:\n",
      "38938400.00000001\n"
     ]
    }
   ],
   "source": [
    "# Выводим 0-й процентиль\n",
    "print('0-й процентиль:')\n",
    "print(free_company_df['funding_total'].quantile(0))\n",
    "print()\n",
    "\n",
    "# Выводим 91-й процентиль\n",
    "print('91-й процентиль:')\n",
    "print(free_company_df['funding_total'].quantile(0.91))\n",
    "print()\n",
    "\n",
    "# Выводим 92-й процентиль\n",
    "print('92-й процентиль:')\n",
    "print(free_company_df['funding_total'].quantile(0.92))"
   ]
  },
  {
   "cell_type": "markdown",
   "metadata": {},
   "source": [
    "Нижняя граница по расчёту получилась отрицательная, из этого можем сделать вывод, что нижней границей будет минимальное значение — **3 750** долларов.\n",
    "Верхняя граница является 92 процентилем и равна **35 500 000** долларов."
   ]
  },
  {
   "cell_type": "markdown",
   "metadata": {
    "id": "mEiWpROjrJg2"
   },
   "source": [
    "\n",
    "### 3.4. Цены стартапов по категориям\n"
   ]
  },
  {
   "cell_type": "markdown",
   "metadata": {},
   "source": [
    "Построим сводную таблицу по категориям стартапов, для нахождения типично высоких цен возьмём медиану по полю `price_amount`, а для наибольшего разброса — разность между максимальным и минимальным значениями поля `price_amount`."
   ]
  },
  {
   "cell_type": "code",
   "execution_count": 49,
   "metadata": {
    "id": "jQ09dYUWrJg2",
    "vscode": {
     "languageId": "plaintext"
    }
   },
   "outputs": [
    {
     "name": "stdout",
     "output_type": "stream",
     "text": [
      "                  price_range  typical_price\n",
      "category_code                               \n",
      "advertising        3100000000              0\n",
      "analytics           263000000              0\n",
      "automotive         5200000000       43000000\n",
      "biotech           20000000000       12250000\n",
      "cleantech          3750000000              0\n",
      "consulting         5750000000              0\n",
      "design                      0              0\n",
      "ecommerce          1250000000              0\n",
      "education           721000000              0\n",
      "enterprise        13900000000              0\n",
      "fashion             270000000              0\n",
      "finance            4400000000         600000\n",
      "games_video       10000000000              0\n",
      "hardware           4600000000              0\n",
      "health             5400000000              0\n",
      "hospitality        2170000000       12500000\n",
      "legal                       0              0\n",
      "local                16140200              0\n",
      "manufacturing      4050000000       72000000\n",
      "medical             325000000              0\n",
      "messaging           169000000              0\n",
      "mobile            12500000000              0\n",
      "music               280000000              0\n",
      "nanotech                    0      584000000\n",
      "network_hosting    3000000000              0\n",
      "news                315000000              0\n",
      "nonprofit                   0              0\n",
      "other             18400000000              0\n",
      "photo_video        1010470000              0\n",
      "public_relations  39000000000              0\n",
      "real_estate        6850000000       50000000\n",
      "search             1200000000              0\n",
      "security           7680000000              0\n",
      "semiconductor      6500000000              0\n",
      "social              151000000              0\n",
      "software          10200000000              0\n",
      "sports              985000000              0\n",
      "transportation     1100000000              0\n",
      "travel              198000000              0\n",
      "web                6400000000              0\n"
     ]
    }
   ],
   "source": [
    "# Строим сводную таблицу по категориям стартапов\n",
    "pivot_table = pd.pivot_table(buy_company_df, \n",
    "                             index='category_code',\n",
    "                             aggfunc={\n",
    "                                 'price_amount': [\n",
    "                                     ('typical_price', 'median'),\n",
    "                                     ('price_range', lambda x: x.max() - x.min())\n",
    "                                 ]\n",
    "                             })\n",
    "\n",
    "# Упрощаем MultiIndex\n",
    "pivot_table.columns = [col[1] for col in pivot_table.columns]\n",
    "\n",
    "# Выводим получившуюся таблицу на экран\n",
    "print(pivot_table)"
   ]
  },
  {
   "cell_type": "markdown",
   "metadata": {
    "id": "eF1aULm5FjfY"
   },
   "source": [
    "В первую очередь мы сгруппировали наши данные по категориям стартапов.\n",
    "Для нахождения типичных цен покупки стартапов мы использовали медиану поля `price_amount`.\n",
    "Наибольший разброс - это разница между максимальным и минимальным значениями `price_amount` в каждой категории.\n",
    "В получившейся сводной таблице мы имеем категории,для которых типичная цена довольно высокая, но наибольший разброс цен за стартап равен 0, и наоборот. Поэтому мы выберем только те категории, для которых типичная цена и наибольший разброс не равны 0. "
   ]
  },
  {
   "cell_type": "code",
   "execution_count": 50,
   "metadata": {},
   "outputs": [
    {
     "name": "stdout",
     "output_type": "stream",
     "text": [
      "               price_range  typical_price\n",
      "category_code                            \n",
      "manufacturing   4050000000       72000000\n",
      "real_estate     6850000000       50000000\n",
      "automotive      5200000000       43000000\n",
      "hospitality     2170000000       12500000\n",
      "biotech        20000000000       12250000\n",
      "finance         4400000000         600000\n"
     ]
    }
   ],
   "source": [
    "# Отфильтруем сводную таблицу по условиям: price_range > 0 и typical_price > 0\n",
    "filter_pivot_table = pivot_table[(pivot_table['typical_price']>0) & (pivot_table['price_range']>0)]\n",
    "\n",
    "# Сортируем в порядке убывания цен и разброса\n",
    "sort_pivot_table = filter_pivot_table.sort_values(by=['typical_price','price_range'],ascending=False)\n",
    "\n",
    "# Выводим на экран отсортированную таблицу\n",
    "print(sort_pivot_table)"
   ]
  },
  {
   "cell_type": "markdown",
   "metadata": {},
   "source": [
    "Таким образом мы получили ТОП-6 категорий с типично высокими ценами и наибольшим разбросом цен за стартап:\n",
    "- производство,\n",
    "- недвижимость,\n",
    "- автомобилестроение,\n",
    "- гостиничный бизнес,\n",
    "- биотехнологии,\n",
    "- финансы."
   ]
  },
  {
   "cell_type": "markdown",
   "metadata": {
    "id": "ADOfyVY_rJg3"
   },
   "source": [
    "\n",
    "### 3.5. Сколько раундов продержится стартап перед покупкой\n",
    "\n"
   ]
  },
  {
   "cell_type": "markdown",
   "metadata": {},
   "source": [
    "Построим сводную таблицу по статусам, а для нахождения типичного значения количества раундов возьмём медиану по полю `funding_rounds`."
   ]
  },
  {
   "cell_type": "code",
   "execution_count": 51,
   "metadata": {
    "id": "jQ09dYUWrJg2",
    "scrolled": true,
    "vscode": {
     "languageId": "plaintext"
    }
   },
   "outputs": [
    {
     "name": "stdout",
     "output_type": "stream",
     "text": [
      "           typical_count\n",
      "status                  \n",
      "acquired            0.00\n",
      "closed              1.00\n",
      "ipo                 1.00\n",
      "operating           1.00\n"
     ]
    }
   ],
   "source": [
    "# Строим сводную таблицу по категориям стартапов\n",
    "pivot_table = pd.pivot_table(filtered_company_df, \n",
    "                             index='status',\n",
    "                             aggfunc={\n",
    "                                 'funding_rounds': [\n",
    "                                     ('typical_count', 'median')\n",
    "                                 ]\n",
    "                             })\n",
    "\n",
    "# Упрощаем MultiIndex\n",
    "pivot_table.columns = [col[1] for col in pivot_table.columns]\n",
    "\n",
    "# Выводим получившуюся таблицу на экран\n",
    "print(pivot_table)"
   ]
  },
  {
   "cell_type": "markdown",
   "metadata": {},
   "source": [
    "Как мы видим, до момента покупки (статус `acquired`) стартап в каждом статусе имеет 1 раунд финансирования.\n",
    "\n",
    "Теперь построим график, который отобразит среднее количестов раундов финансирования для каждого статуса:"
   ]
  },
  {
   "cell_type": "code",
   "execution_count": 52,
   "metadata": {
    "id": "pV3e7kw5Fj1Y"
   },
   "outputs": [
    {
     "data": {
      "image/png": "[encoded data removed]",
      "text/plain": [
       "<Figure size 720x504 with 1 Axes>"
      ]
     },
     "metadata": {
      "needs_background": "light"
     },
     "output_type": "display_data"
    }
   ],
   "source": [
    "# Вычисляем среднее количество раундов для каждого статуса\n",
    "mean_rounds_per_status = filtered_company_df.groupby('status')['funding_rounds'].mean().sort_values(ascending=False)\n",
    "\n",
    "# Задаём размер графика\n",
    "plt.figure(figsize=(10, 7))\n",
    "\n",
    "# Создаем столбчатую диаграмму\n",
    "plt.bar(mean_rounds_per_status.index, mean_rounds_per_status.values)\n",
    "\n",
    "# Настраиваем график\n",
    "plt.title('Среднее количество раундов по статусам')\n",
    "plt.xlabel('Статус')\n",
    "plt.ylabel('Среднее кол-во раундов')\n",
    "plt.xticks(rotation=45, ha='right') \n",
    "\n",
    "# Добавляем подписи данных\n",
    "for i, height in enumerate(mean_rounds_per_status.values):\n",
    "    plt.annotate(f'{height:.2f}', \n",
    "                 xy=(mean_rounds_per_status.index[i], height),\n",
    "                 xytext=(0, 3),  \n",
    "                 textcoords=\"offset points\",\n",
    "                 ha='center', va='bottom')\n",
    "\n",
    "plt.tight_layout()\n",
    "plt.show()"
   ]
  },
  {
   "cell_type": "markdown",
   "metadata": {},
   "source": [
    "По полученному графику можем сделать следующий выводы:\n",
    "\n",
    "- Больше всего раундов финансирования стартапов происходит в статусе `ipo` - около 2 раундов (**1.93**)\n",
    "- Меньше всего раундов финансирования стартапов осуществляется в статусе `acquired` - меньше 1 раунда (**0.52**)\n",
    "- Статусы `operating` и `closed` имеют приблизительно одинаковое среднее количество раундов - 1 (**1.52** и  **1.38** соответственно).\n",
    "\n",
    "Таким образом, при типичной покупке стартап при каждом статусе имеет 1 раунд финансирования, а самый популярный статус по среднему количеству раундов финансирования - `ipo`."
   ]
  },
  {
   "cell_type": "markdown",
   "metadata": {},
   "source": [
    "---\n",
    "\n",
    "### Промежуточный вывод\n",
    "\n",
    "В ходе исследовательского анализа мы отобрали около 40 тысяч компаний, которые удовлетворяют запросам заказчика и получили следующие результаты:\n",
    "- для одной компании типичный размер общего финансирования равен нулю, а наличие какого-либо финансирования, отличного от нуля будет выбивающимся;\n",
    "- в силу того, что статистические показатели общего размера финансирования (среднее значение и медиана) имеют слишком большой разрыв, нам **не подошли** типичные способы нахождения типичных значений;\n",
    "- также мы нашли около 1.5 тысяч компаний, проданных за 0 или 1 доллар, но при этом имеющих не нулевую общую сумму финансирования; минимальная сумма финансирования таких компаний составила - **3 750** долларов, а максимальная - **35.5 млн** долларов;\n",
    "- мы составили топ-6 категорий с типично высокими ценами и наибольшим разбросом цен за стартап и дополнительно добавили условие, чтобы цена за стратап и разброс цен были > 0:\n",
    "    - производство\n",
    "    - недвижимость\n",
    "    - автомобилестроение\n",
    "    - гостиничный бизнес\n",
    "    - биотехнологии\n",
    "    - финансы\n",
    "- при типичной покупке стартап при каждом статусе имеет 1 раунд финансирования, а самый популярный статус по среднему количеству раундов финансирования - `ipo`."
   ]
  },
  {
   "cell_type": "markdown",
   "metadata": {
    "id": "VAFEZ2HBrJg3"
   },
   "source": [
    "\n",
    "## Шаг 4. Итоговый вывод и рекомендации\n",
    "\n",
    "- В ходе исследования мы проанализировали 217 472 стартапа. Данные состояли из 7 датасетов. Мы провели предобработку данных: проверили корректность и полноту данных, сменили типы данных и проанализировали пропуски. \n",
    "\n",
    "- На этапе предобработки данных мы разделили датасет `company_and_rounds.csv` на два отдельных датасета `company` и `rounds`.\n",
    "\n",
    "- Также нам удалось выяснить, что поле `network_username` не подходит для объединения датасетов `people`, `education` и `degrees`.\n",
    "\n",
    "- Благодаря исследовательскому анализу мы смогли предоставить ответы на вопросы заказчика: \n",
    "    - определили, что типичный размер общего финансирования равен 0;\n",
    "    - нашли около 1.5 тысяч компаний, проданных за 0 или 1 доллар;\n",
    "    - составили топ-6 категорий стартапов с типично высокими ценами и наибольшим разбросом цен за стартап\n",
    "    - определили, что при типичной покупке стартап при каждом статусе имеет 1 раунд финансирования, а самый популярный статус по среднему количеству раундов финансирования - `ipo`.\n",
    "\n",
    "Полезнаыми для изучения могут быть данные `price_amount`, `category_code`, `funding rounds` и `funding total`.\n",
    "Советуем обратить внимание на категории из представленного топа, так как они имеют самые типично высокие цены за продажу стартапов.\n",
    "А также будет корректным отдельное изучение стартапов, проданных бесплатно, от стартапов, которые были проданные за n-ую сумму."
   ]
  }
 ],
 "metadata": {
  "ExecuteTimeLog": [
   {
    "duration": 3417,
    "start_time": "2025-03-12T08:27:06.225Z"
   },
   {
    "duration": 1365,
    "start_time": "2025-03-12T08:27:13.813Z"
   },
   {
    "duration": 2037,
    "start_time": "2025-03-12T08:36:42.471Z"
   },
   {
    "duration": 2036,
    "start_time": "2025-03-12T08:39:56.836Z"
   },
   {
    "duration": 12,
    "start_time": "2025-03-12T08:40:50.324Z"
   },
   {
    "duration": 12,
    "start_time": "2025-03-12T08:41:03.478Z"
   },
   {
    "duration": 23,
    "start_time": "2025-03-12T08:50:59.227Z"
   },
   {
    "duration": 97,
    "start_time": "2025-03-12T08:51:20.609Z"
   },
   {
    "duration": 9,
    "start_time": "2025-03-12T09:10:10.159Z"
   },
   {
    "duration": 41,
    "start_time": "2025-03-12T09:10:24.354Z"
   },
   {
    "duration": 8,
    "start_time": "2025-03-12T09:17:04.573Z"
   },
   {
    "duration": 19,
    "start_time": "2025-03-12T09:17:16.507Z"
   },
   {
    "duration": 7,
    "start_time": "2025-03-12T09:21:58.761Z"
   },
   {
    "duration": 24,
    "start_time": "2025-03-12T09:22:09.829Z"
   },
   {
    "duration": 7,
    "start_time": "2025-03-12T09:50:02.195Z"
   },
   {
    "duration": 12,
    "start_time": "2025-03-12T09:50:10.782Z"
   },
   {
    "duration": 78,
    "start_time": "2025-03-12T09:57:39.072Z"
   },
   {
    "duration": 1617,
    "start_time": "2025-03-12T09:59:22.302Z"
   },
   {
    "duration": 1919,
    "start_time": "2025-03-12T10:01:14.015Z"
   },
   {
    "duration": 2539,
    "start_time": "2025-03-12T10:04:14.366Z"
   },
   {
    "duration": 1246,
    "start_time": "2025-03-12T10:04:19.706Z"
   },
   {
    "duration": 2209,
    "start_time": "2025-03-12T10:04:21.979Z"
   },
   {
    "duration": 11,
    "start_time": "2025-03-12T10:04:27.373Z"
   },
   {
    "duration": 11,
    "start_time": "2025-03-12T10:04:28.325Z"
   },
   {
    "duration": 25,
    "start_time": "2025-03-12T10:04:31.040Z"
   },
   {
    "duration": 95,
    "start_time": "2025-03-12T10:04:31.854Z"
   },
   {
    "duration": 9,
    "start_time": "2025-03-12T10:04:33.937Z"
   },
   {
    "duration": 40,
    "start_time": "2025-03-12T10:04:34.816Z"
   },
   {
    "duration": 7,
    "start_time": "2025-03-12T10:04:36.737Z"
   },
   {
    "duration": 19,
    "start_time": "2025-03-12T10:04:37.690Z"
   },
   {
    "duration": 10,
    "start_time": "2025-03-12T10:04:39.720Z"
   },
   {
    "duration": 24,
    "start_time": "2025-03-12T10:04:40.586Z"
   },
   {
    "duration": 207,
    "start_time": "2025-03-12T10:04:47.490Z"
   },
   {
    "duration": 6,
    "start_time": "2025-03-12T10:05:29.814Z"
   },
   {
    "duration": 5,
    "start_time": "2025-03-12T11:01:14.217Z"
   },
   {
    "duration": 123,
    "start_time": "2025-03-12T11:02:03.024Z"
   },
   {
    "duration": 128,
    "start_time": "2025-03-12T11:03:04.883Z"
   },
   {
    "duration": 7,
    "start_time": "2025-03-12T11:03:44.663Z"
   },
   {
    "duration": 71,
    "start_time": "2025-03-12T11:03:49.274Z"
   },
   {
    "duration": 36,
    "start_time": "2025-03-12T11:03:52.165Z"
   },
   {
    "duration": 14,
    "start_time": "2025-03-12T11:03:53.679Z"
   },
   {
    "duration": 31,
    "start_time": "2025-03-12T11:03:54.955Z"
   },
   {
    "duration": 13,
    "start_time": "2025-03-12T12:17:44.569Z"
   },
   {
    "duration": 3269,
    "start_time": "2025-03-12T19:06:18.819Z"
   },
   {
    "duration": 1339,
    "start_time": "2025-03-12T19:06:22.090Z"
   },
   {
    "duration": 2139,
    "start_time": "2025-03-12T19:06:23.430Z"
   },
   {
    "duration": 12,
    "start_time": "2025-03-12T19:06:25.571Z"
   },
   {
    "duration": 11,
    "start_time": "2025-03-12T19:06:25.585Z"
   },
   {
    "duration": 22,
    "start_time": "2025-03-12T19:06:25.597Z"
   },
   {
    "duration": 120,
    "start_time": "2025-03-12T19:06:25.621Z"
   },
   {
    "duration": 8,
    "start_time": "2025-03-12T19:06:25.743Z"
   },
   {
    "duration": 49,
    "start_time": "2025-03-12T19:06:25.753Z"
   },
   {
    "duration": 24,
    "start_time": "2025-03-12T19:06:25.803Z"
   },
   {
    "duration": 21,
    "start_time": "2025-03-12T19:06:25.828Z"
   },
   {
    "duration": 7,
    "start_time": "2025-03-12T19:06:25.850Z"
   },
   {
    "duration": 66,
    "start_time": "2025-03-12T19:06:25.859Z"
   },
   {
    "duration": 157,
    "start_time": "2025-03-12T19:06:25.929Z"
   },
   {
    "duration": 7,
    "start_time": "2025-03-12T19:06:26.088Z"
   },
   {
    "duration": 11,
    "start_time": "2025-03-12T19:06:26.096Z"
   },
   {
    "duration": 88,
    "start_time": "2025-03-12T19:06:26.109Z"
   },
   {
    "duration": 35,
    "start_time": "2025-03-12T19:06:26.199Z"
   },
   {
    "duration": 32,
    "start_time": "2025-03-12T19:06:26.236Z"
   },
   {
    "duration": 21,
    "start_time": "2025-03-12T19:06:26.269Z"
   },
   {
    "duration": 47,
    "start_time": "2025-03-12T19:53:17.961Z"
   },
   {
    "duration": 39,
    "start_time": "2025-03-12T19:54:02.326Z"
   },
   {
    "duration": 111,
    "start_time": "2025-03-12T19:58:08.452Z"
   },
   {
    "duration": 145,
    "start_time": "2025-03-12T19:59:12.863Z"
   },
   {
    "duration": 112,
    "start_time": "2025-03-12T19:59:40.163Z"
   },
   {
    "duration": 26,
    "start_time": "2025-03-12T20:00:09.588Z"
   },
   {
    "duration": 7,
    "start_time": "2025-03-12T20:04:02.007Z"
   },
   {
    "duration": 190,
    "start_time": "2025-03-12T20:18:59.681Z"
   },
   {
    "duration": 173,
    "start_time": "2025-03-12T20:25:30.974Z"
   },
   {
    "duration": 159,
    "start_time": "2025-03-12T20:42:28.529Z"
   },
   {
    "duration": 157,
    "start_time": "2025-03-12T20:42:40.983Z"
   },
   {
    "duration": 160,
    "start_time": "2025-03-12T20:42:50.685Z"
   },
   {
    "duration": 153,
    "start_time": "2025-03-12T20:42:56.880Z"
   },
   {
    "duration": 3358,
    "start_time": "2025-03-13T07:58:06.048Z"
   },
   {
    "duration": 1403,
    "start_time": "2025-03-13T07:58:09.409Z"
   },
   {
    "duration": 2263,
    "start_time": "2025-03-13T07:58:10.814Z"
   },
   {
    "duration": 13,
    "start_time": "2025-03-13T07:58:13.079Z"
   },
   {
    "duration": 28,
    "start_time": "2025-03-13T07:58:13.094Z"
   },
   {
    "duration": 59,
    "start_time": "2025-03-13T07:58:13.123Z"
   },
   {
    "duration": 123,
    "start_time": "2025-03-13T07:58:13.183Z"
   },
   {
    "duration": 9,
    "start_time": "2025-03-13T07:58:13.308Z"
   },
   {
    "duration": 52,
    "start_time": "2025-03-13T07:58:13.318Z"
   },
   {
    "duration": 7,
    "start_time": "2025-03-13T07:58:13.373Z"
   },
   {
    "duration": 48,
    "start_time": "2025-03-13T07:58:13.382Z"
   },
   {
    "duration": 22,
    "start_time": "2025-03-13T07:58:13.431Z"
   },
   {
    "duration": 36,
    "start_time": "2025-03-13T07:58:13.454Z"
   },
   {
    "duration": 173,
    "start_time": "2025-03-13T07:58:13.491Z"
   },
   {
    "duration": 5,
    "start_time": "2025-03-13T07:58:13.666Z"
   },
   {
    "duration": 88,
    "start_time": "2025-03-13T07:58:13.673Z"
   },
   {
    "duration": 82,
    "start_time": "2025-03-13T07:58:13.762Z"
   },
   {
    "duration": 42,
    "start_time": "2025-03-13T07:58:13.845Z"
   },
   {
    "duration": 13,
    "start_time": "2025-03-13T07:58:13.889Z"
   },
   {
    "duration": 21,
    "start_time": "2025-03-13T07:58:13.904Z"
   },
   {
    "duration": 58,
    "start_time": "2025-03-13T07:58:13.926Z"
   },
   {
    "duration": 7,
    "start_time": "2025-03-13T07:58:13.986Z"
   },
   {
    "duration": 203,
    "start_time": "2025-03-13T07:58:13.995Z"
   },
   {
    "duration": 105,
    "start_time": "2025-03-13T08:09:53.513Z"
   },
   {
    "duration": 80,
    "start_time": "2025-03-13T08:27:57.865Z"
   },
   {
    "duration": 114,
    "start_time": "2025-03-13T08:33:51.628Z"
   },
   {
    "duration": 168,
    "start_time": "2025-03-13T08:34:40.476Z"
   },
   {
    "duration": 115,
    "start_time": "2025-03-13T08:34:55.371Z"
   },
   {
    "duration": 22,
    "start_time": "2025-03-13T08:35:08.428Z"
   },
   {
    "duration": 23,
    "start_time": "2025-03-13T08:38:39.451Z"
   },
   {
    "duration": 23,
    "start_time": "2025-03-13T08:39:53.496Z"
   },
   {
    "duration": 74,
    "start_time": "2025-03-13T08:40:13.017Z"
   },
   {
    "duration": 82,
    "start_time": "2025-03-13T08:40:33.608Z"
   },
   {
    "duration": 51,
    "start_time": "2025-03-13T08:40:38.393Z"
   },
   {
    "duration": 54,
    "start_time": "2025-03-13T08:41:15.377Z"
   },
   {
    "duration": 51,
    "start_time": "2025-03-13T08:41:22.004Z"
   },
   {
    "duration": 50,
    "start_time": "2025-03-13T08:41:28.724Z"
   },
   {
    "duration": 1832,
    "start_time": "2025-03-13T08:50:24.446Z"
   },
   {
    "duration": 65,
    "start_time": "2025-03-13T08:50:56.069Z"
   },
   {
    "duration": 1875,
    "start_time": "2025-03-13T08:51:14.019Z"
   },
   {
    "duration": 64,
    "start_time": "2025-03-13T08:52:34.716Z"
   },
   {
    "duration": 10,
    "start_time": "2025-03-13T08:56:18.207Z"
   },
   {
    "duration": 2407,
    "start_time": "2025-03-13T08:57:48.255Z"
   },
   {
    "duration": 1251,
    "start_time": "2025-03-13T08:57:50.664Z"
   },
   {
    "duration": 2594,
    "start_time": "2025-03-13T08:57:51.917Z"
   },
   {
    "duration": 11,
    "start_time": "2025-03-13T08:57:54.513Z"
   },
   {
    "duration": 11,
    "start_time": "2025-03-13T08:57:54.526Z"
   },
   {
    "duration": 36,
    "start_time": "2025-03-13T08:57:54.539Z"
   },
   {
    "duration": 106,
    "start_time": "2025-03-13T08:57:54.577Z"
   },
   {
    "duration": 8,
    "start_time": "2025-03-13T08:57:54.684Z"
   },
   {
    "duration": 40,
    "start_time": "2025-03-13T08:57:54.694Z"
   },
   {
    "duration": 6,
    "start_time": "2025-03-13T08:57:54.736Z"
   },
   {
    "duration": 54,
    "start_time": "2025-03-13T08:57:54.744Z"
   },
   {
    "duration": 7,
    "start_time": "2025-03-13T08:57:54.800Z"
   },
   {
    "duration": 28,
    "start_time": "2025-03-13T08:57:54.809Z"
   },
   {
    "duration": 164,
    "start_time": "2025-03-13T08:57:54.840Z"
   },
   {
    "duration": 6,
    "start_time": "2025-03-13T08:57:55.006Z"
   },
   {
    "duration": 9,
    "start_time": "2025-03-13T08:57:55.013Z"
   },
   {
    "duration": 88,
    "start_time": "2025-03-13T08:57:55.024Z"
   },
   {
    "duration": 45,
    "start_time": "2025-03-13T08:57:55.114Z"
   },
   {
    "duration": 12,
    "start_time": "2025-03-13T08:57:55.161Z"
   },
   {
    "duration": 26,
    "start_time": "2025-03-13T08:57:55.174Z"
   },
   {
    "duration": 27,
    "start_time": "2025-03-13T08:57:55.202Z"
   },
   {
    "duration": 28,
    "start_time": "2025-03-13T08:57:55.231Z"
   },
   {
    "duration": 189,
    "start_time": "2025-03-13T08:57:55.260Z"
   },
   {
    "duration": 89,
    "start_time": "2025-03-13T08:57:55.450Z"
   },
   {
    "duration": 84,
    "start_time": "2025-03-13T08:57:55.541Z"
   },
   {
    "duration": 17,
    "start_time": "2025-03-13T08:57:55.626Z"
   },
   {
    "duration": 2266,
    "start_time": "2025-03-13T09:10:08.674Z"
   },
   {
    "duration": 1180,
    "start_time": "2025-03-13T09:10:10.942Z"
   },
   {
    "duration": 1745,
    "start_time": "2025-03-13T09:10:12.124Z"
   },
   {
    "duration": 11,
    "start_time": "2025-03-13T09:10:13.871Z"
   },
   {
    "duration": 18,
    "start_time": "2025-03-13T09:10:13.884Z"
   },
   {
    "duration": 41,
    "start_time": "2025-03-13T09:10:13.903Z"
   },
   {
    "duration": 101,
    "start_time": "2025-03-13T09:10:13.946Z"
   },
   {
    "duration": 12,
    "start_time": "2025-03-13T09:10:14.049Z"
   },
   {
    "duration": 43,
    "start_time": "2025-03-13T09:10:14.062Z"
   },
   {
    "duration": 7,
    "start_time": "2025-03-13T09:10:14.107Z"
   },
   {
    "duration": 83,
    "start_time": "2025-03-13T09:10:14.116Z"
   },
   {
    "duration": 8,
    "start_time": "2025-03-13T09:10:14.200Z"
   },
   {
    "duration": 29,
    "start_time": "2025-03-13T09:10:14.210Z"
   },
   {
    "duration": 160,
    "start_time": "2025-03-13T09:10:14.242Z"
   },
   {
    "duration": 5,
    "start_time": "2025-03-13T09:10:14.404Z"
   },
   {
    "duration": 11,
    "start_time": "2025-03-13T09:10:14.411Z"
   },
   {
    "duration": 87,
    "start_time": "2025-03-13T09:10:14.424Z"
   },
   {
    "duration": 49,
    "start_time": "2025-03-13T09:10:14.512Z"
   },
   {
    "duration": 11,
    "start_time": "2025-03-13T09:10:14.563Z"
   },
   {
    "duration": 21,
    "start_time": "2025-03-13T09:10:14.576Z"
   },
   {
    "duration": 25,
    "start_time": "2025-03-13T09:10:14.599Z"
   },
   {
    "duration": 32,
    "start_time": "2025-03-13T09:10:14.626Z"
   },
   {
    "duration": 227,
    "start_time": "2025-03-13T09:10:14.660Z"
   },
   {
    "duration": 95,
    "start_time": "2025-03-13T09:10:14.888Z"
   },
   {
    "duration": 78,
    "start_time": "2025-03-13T09:10:14.985Z"
   },
   {
    "duration": 16,
    "start_time": "2025-03-13T09:10:15.065Z"
   },
   {
    "duration": 4622,
    "start_time": "2025-03-13T09:10:15.082Z"
   },
   {
    "duration": 2402,
    "start_time": "2025-03-13T09:12:42.200Z"
   },
   {
    "duration": 1198,
    "start_time": "2025-03-13T09:12:44.604Z"
   },
   {
    "duration": 1824,
    "start_time": "2025-03-13T09:12:45.805Z"
   },
   {
    "duration": 12,
    "start_time": "2025-03-13T09:12:47.632Z"
   },
   {
    "duration": 11,
    "start_time": "2025-03-13T09:12:47.657Z"
   },
   {
    "duration": 25,
    "start_time": "2025-03-13T09:12:47.669Z"
   },
   {
    "duration": 109,
    "start_time": "2025-03-13T09:12:47.695Z"
   },
   {
    "duration": 8,
    "start_time": "2025-03-13T09:12:47.806Z"
   },
   {
    "duration": 50,
    "start_time": "2025-03-13T09:12:47.815Z"
   },
   {
    "duration": 7,
    "start_time": "2025-03-13T09:12:47.866Z"
   },
   {
    "duration": 25,
    "start_time": "2025-03-13T09:12:47.874Z"
   },
   {
    "duration": 8,
    "start_time": "2025-03-13T09:12:47.901Z"
   },
   {
    "duration": 23,
    "start_time": "2025-03-13T09:12:47.913Z"
   },
   {
    "duration": 177,
    "start_time": "2025-03-13T09:12:47.957Z"
   },
   {
    "duration": 6,
    "start_time": "2025-03-13T09:12:48.136Z"
   },
   {
    "duration": 53,
    "start_time": "2025-03-13T09:12:48.144Z"
   },
   {
    "duration": 74,
    "start_time": "2025-03-13T09:12:48.198Z"
   },
   {
    "duration": 35,
    "start_time": "2025-03-13T09:12:48.274Z"
   },
   {
    "duration": 12,
    "start_time": "2025-03-13T09:12:48.310Z"
   },
   {
    "duration": 38,
    "start_time": "2025-03-13T09:12:48.323Z"
   },
   {
    "duration": 25,
    "start_time": "2025-03-13T09:12:48.363Z"
   },
   {
    "duration": 6,
    "start_time": "2025-03-13T09:12:48.389Z"
   },
   {
    "duration": 190,
    "start_time": "2025-03-13T09:12:48.397Z"
   },
   {
    "duration": 95,
    "start_time": "2025-03-13T09:12:48.588Z"
   },
   {
    "duration": 73,
    "start_time": "2025-03-13T09:12:48.684Z"
   },
   {
    "duration": 17,
    "start_time": "2025-03-13T09:12:48.759Z"
   },
   {
    "duration": 4841,
    "start_time": "2025-03-13T09:12:48.777Z"
   },
   {
    "duration": 4904,
    "start_time": "2025-03-13T09:13:04.830Z"
   },
   {
    "duration": 2395,
    "start_time": "2025-03-13T09:19:43.936Z"
   },
   {
    "duration": 1189,
    "start_time": "2025-03-13T09:19:46.333Z"
   },
   {
    "duration": 1647,
    "start_time": "2025-03-13T09:19:47.524Z"
   },
   {
    "duration": 12,
    "start_time": "2025-03-13T09:19:49.173Z"
   },
   {
    "duration": 37,
    "start_time": "2025-03-13T09:19:49.186Z"
   },
   {
    "duration": 25,
    "start_time": "2025-03-13T09:19:49.225Z"
   },
   {
    "duration": 111,
    "start_time": "2025-03-13T09:19:49.251Z"
   },
   {
    "duration": 8,
    "start_time": "2025-03-13T09:19:49.363Z"
   },
   {
    "duration": 42,
    "start_time": "2025-03-13T09:19:49.373Z"
   },
   {
    "duration": 7,
    "start_time": "2025-03-13T09:19:49.418Z"
   },
   {
    "duration": 32,
    "start_time": "2025-03-13T09:19:49.427Z"
   },
   {
    "duration": 8,
    "start_time": "2025-03-13T09:19:49.460Z"
   },
   {
    "duration": 23,
    "start_time": "2025-03-13T09:19:49.469Z"
   },
   {
    "duration": 186,
    "start_time": "2025-03-13T09:19:49.494Z"
   },
   {
    "duration": 5,
    "start_time": "2025-03-13T09:19:49.682Z"
   },
   {
    "duration": 20,
    "start_time": "2025-03-13T09:19:49.688Z"
   },
   {
    "duration": 162,
    "start_time": "2025-03-13T09:19:49.709Z"
   },
   {
    "duration": 36,
    "start_time": "2025-03-13T09:19:49.872Z"
   },
   {
    "duration": 11,
    "start_time": "2025-03-13T09:19:49.909Z"
   },
   {
    "duration": 46,
    "start_time": "2025-03-13T09:19:49.922Z"
   },
   {
    "duration": 27,
    "start_time": "2025-03-13T09:19:49.970Z"
   },
   {
    "duration": 7,
    "start_time": "2025-03-13T09:19:49.999Z"
   },
   {
    "duration": 188,
    "start_time": "2025-03-13T09:19:50.008Z"
   },
   {
    "duration": 94,
    "start_time": "2025-03-13T09:19:50.198Z"
   },
   {
    "duration": 76,
    "start_time": "2025-03-13T09:19:50.294Z"
   },
   {
    "duration": 16,
    "start_time": "2025-03-13T09:19:50.372Z"
   },
   {
    "duration": 4706,
    "start_time": "2025-03-13T09:19:50.390Z"
   },
   {
    "duration": 9,
    "start_time": "2025-03-13T10:07:30.971Z"
   },
   {
    "duration": 9,
    "start_time": "2025-03-13T10:07:57.439Z"
   },
   {
    "duration": 18,
    "start_time": "2025-03-13T10:09:03.721Z"
   },
   {
    "duration": 28,
    "start_time": "2025-03-13T10:11:20.521Z"
   },
   {
    "duration": 8,
    "start_time": "2025-03-13T10:12:40.881Z"
   },
   {
    "duration": 14,
    "start_time": "2025-03-13T10:13:22.965Z"
   },
   {
    "duration": 21,
    "start_time": "2025-03-13T10:15:10.430Z"
   },
   {
    "duration": 33,
    "start_time": "2025-03-13T10:15:15.292Z"
   },
   {
    "duration": 149,
    "start_time": "2025-03-13T10:28:27.682Z"
   },
   {
    "duration": 59,
    "start_time": "2025-03-13T10:28:50.190Z"
   },
   {
    "duration": 52,
    "start_time": "2025-03-13T10:31:09.733Z"
   },
   {
    "duration": 47,
    "start_time": "2025-03-13T10:31:16.928Z"
   },
   {
    "duration": 51,
    "start_time": "2025-03-13T10:31:20.512Z"
   },
   {
    "duration": 56,
    "start_time": "2025-03-13T10:33:06.531Z"
   },
   {
    "duration": 57,
    "start_time": "2025-03-13T10:33:31.481Z"
   },
   {
    "duration": 65,
    "start_time": "2025-03-13T10:34:59.268Z"
   },
   {
    "duration": 56,
    "start_time": "2025-03-13T10:35:40.186Z"
   },
   {
    "duration": 57,
    "start_time": "2025-03-13T10:37:27.430Z"
   },
   {
    "duration": 2329,
    "start_time": "2025-03-13T10:42:10.739Z"
   },
   {
    "duration": 1196,
    "start_time": "2025-03-13T10:42:13.070Z"
   },
   {
    "duration": 2452,
    "start_time": "2025-03-13T10:42:14.267Z"
   },
   {
    "duration": 12,
    "start_time": "2025-03-13T10:42:16.721Z"
   },
   {
    "duration": 25,
    "start_time": "2025-03-13T10:42:16.735Z"
   },
   {
    "duration": 37,
    "start_time": "2025-03-13T10:42:16.761Z"
   },
   {
    "duration": 96,
    "start_time": "2025-03-13T10:42:16.800Z"
   },
   {
    "duration": 8,
    "start_time": "2025-03-13T10:42:16.898Z"
   },
   {
    "duration": 53,
    "start_time": "2025-03-13T10:42:16.908Z"
   },
   {
    "duration": 7,
    "start_time": "2025-03-13T10:42:16.963Z"
   },
   {
    "duration": 22,
    "start_time": "2025-03-13T10:42:16.971Z"
   },
   {
    "duration": 7,
    "start_time": "2025-03-13T10:42:16.994Z"
   },
   {
    "duration": 30,
    "start_time": "2025-03-13T10:42:17.003Z"
   },
   {
    "duration": 200,
    "start_time": "2025-03-13T10:42:17.036Z"
   },
   {
    "duration": 5,
    "start_time": "2025-03-13T10:42:17.238Z"
   },
   {
    "duration": 17,
    "start_time": "2025-03-13T10:42:17.244Z"
   },
   {
    "duration": 84,
    "start_time": "2025-03-13T10:42:17.262Z"
   },
   {
    "duration": 40,
    "start_time": "2025-03-13T10:42:17.348Z"
   },
   {
    "duration": 12,
    "start_time": "2025-03-13T10:42:17.389Z"
   },
   {
    "duration": 22,
    "start_time": "2025-03-13T10:42:17.403Z"
   },
   {
    "duration": 51,
    "start_time": "2025-03-13T10:42:17.427Z"
   },
   {
    "duration": 6,
    "start_time": "2025-03-13T10:42:17.480Z"
   },
   {
    "duration": 188,
    "start_time": "2025-03-13T10:42:17.487Z"
   },
   {
    "duration": 96,
    "start_time": "2025-03-13T10:42:17.677Z"
   },
   {
    "duration": 72,
    "start_time": "2025-03-13T10:42:17.775Z"
   },
   {
    "duration": 15,
    "start_time": "2025-03-13T10:42:17.857Z"
   },
   {
    "duration": 4770,
    "start_time": "2025-03-13T10:42:17.874Z"
   },
   {
    "duration": 54,
    "start_time": "2025-03-13T10:42:22.646Z"
   },
   {
    "duration": 37,
    "start_time": "2025-03-13T11:17:05.115Z"
   },
   {
    "duration": 22,
    "start_time": "2025-03-13T11:17:34.420Z"
   },
   {
    "duration": 34,
    "start_time": "2025-03-13T11:26:18.119Z"
   },
   {
    "duration": 24,
    "start_time": "2025-03-13T11:27:01.900Z"
   },
   {
    "duration": 2289,
    "start_time": "2025-03-13T11:27:21.002Z"
   },
   {
    "duration": 1115,
    "start_time": "2025-03-13T11:27:23.293Z"
   },
   {
    "duration": 2236,
    "start_time": "2025-03-13T11:27:24.410Z"
   },
   {
    "duration": 11,
    "start_time": "2025-03-13T11:27:26.648Z"
   },
   {
    "duration": 10,
    "start_time": "2025-03-13T11:27:26.661Z"
   },
   {
    "duration": 30,
    "start_time": "2025-03-13T11:27:26.672Z"
   },
   {
    "duration": 104,
    "start_time": "2025-03-13T11:27:26.703Z"
   },
   {
    "duration": 8,
    "start_time": "2025-03-13T11:27:26.809Z"
   },
   {
    "duration": 48,
    "start_time": "2025-03-13T11:27:26.819Z"
   },
   {
    "duration": 7,
    "start_time": "2025-03-13T11:27:26.868Z"
   },
   {
    "duration": 23,
    "start_time": "2025-03-13T11:27:26.877Z"
   },
   {
    "duration": 7,
    "start_time": "2025-03-13T11:27:26.901Z"
   },
   {
    "duration": 23,
    "start_time": "2025-03-13T11:27:26.909Z"
   },
   {
    "duration": 177,
    "start_time": "2025-03-13T11:27:26.934Z"
   },
   {
    "duration": 5,
    "start_time": "2025-03-13T11:27:27.113Z"
   },
   {
    "duration": 55,
    "start_time": "2025-03-13T11:27:27.120Z"
   },
   {
    "duration": 73,
    "start_time": "2025-03-13T11:27:27.177Z"
   },
   {
    "duration": 41,
    "start_time": "2025-03-13T11:27:27.251Z"
   },
   {
    "duration": 12,
    "start_time": "2025-03-13T11:27:27.294Z"
   },
   {
    "duration": 23,
    "start_time": "2025-03-13T11:27:27.307Z"
   },
   {
    "duration": 61,
    "start_time": "2025-03-13T11:27:27.331Z"
   },
   {
    "duration": 6,
    "start_time": "2025-03-13T11:27:27.393Z"
   },
   {
    "duration": 189,
    "start_time": "2025-03-13T11:27:27.400Z"
   },
   {
    "duration": 92,
    "start_time": "2025-03-13T11:27:27.590Z"
   },
   {
    "duration": 79,
    "start_time": "2025-03-13T11:27:27.684Z"
   },
   {
    "duration": 16,
    "start_time": "2025-03-13T11:27:27.765Z"
   },
   {
    "duration": 4814,
    "start_time": "2025-03-13T11:27:27.783Z"
   },
   {
    "duration": 59,
    "start_time": "2025-03-13T11:27:32.599Z"
   },
   {
    "duration": 66,
    "start_time": "2025-03-13T11:27:32.659Z"
   },
   {
    "duration": 116,
    "start_time": "2025-03-13T11:29:50.874Z"
   },
   {
    "duration": 72,
    "start_time": "2025-03-13T11:30:09.549Z"
   },
   {
    "duration": 3301,
    "start_time": "2025-03-13T20:24:17.112Z"
   },
   {
    "duration": 1383,
    "start_time": "2025-03-13T20:24:20.415Z"
   },
   {
    "duration": 1925,
    "start_time": "2025-03-13T20:24:21.799Z"
   },
   {
    "duration": 11,
    "start_time": "2025-03-13T20:24:23.726Z"
   },
   {
    "duration": 16,
    "start_time": "2025-03-13T20:24:23.738Z"
   },
   {
    "duration": 22,
    "start_time": "2025-03-13T20:24:23.756Z"
   },
   {
    "duration": 100,
    "start_time": "2025-03-13T20:24:23.780Z"
   },
   {
    "duration": 8,
    "start_time": "2025-03-13T20:24:23.882Z"
   },
   {
    "duration": 55,
    "start_time": "2025-03-13T20:24:23.892Z"
   },
   {
    "duration": 7,
    "start_time": "2025-03-13T20:24:23.950Z"
   },
   {
    "duration": 27,
    "start_time": "2025-03-13T20:24:23.958Z"
   },
   {
    "duration": 11,
    "start_time": "2025-03-13T20:24:23.986Z"
   },
   {
    "duration": 53,
    "start_time": "2025-03-13T20:24:23.999Z"
   },
   {
    "duration": 166,
    "start_time": "2025-03-13T20:24:24.054Z"
   },
   {
    "duration": 9,
    "start_time": "2025-03-13T20:24:24.222Z"
   },
   {
    "duration": 29,
    "start_time": "2025-03-13T20:24:24.233Z"
   },
   {
    "duration": 72,
    "start_time": "2025-03-13T20:24:24.263Z"
   },
   {
    "duration": 35,
    "start_time": "2025-03-13T20:24:24.337Z"
   },
   {
    "duration": 33,
    "start_time": "2025-03-13T20:24:24.374Z"
   },
   {
    "duration": 20,
    "start_time": "2025-03-13T20:24:24.408Z"
   },
   {
    "duration": 27,
    "start_time": "2025-03-13T20:24:24.430Z"
   },
   {
    "duration": 6,
    "start_time": "2025-03-13T20:24:24.459Z"
   },
   {
    "duration": 193,
    "start_time": "2025-03-13T20:24:24.467Z"
   },
   {
    "duration": 85,
    "start_time": "2025-03-13T20:24:24.662Z"
   },
   {
    "duration": 66,
    "start_time": "2025-03-13T20:24:24.748Z"
   },
   {
    "duration": 30,
    "start_time": "2025-03-13T20:24:24.815Z"
   },
   {
    "duration": 4572,
    "start_time": "2025-03-13T20:24:24.847Z"
   },
   {
    "duration": 48,
    "start_time": "2025-03-13T20:24:29.429Z"
   },
   {
    "duration": 37,
    "start_time": "2025-03-13T20:24:29.478Z"
   },
   {
    "duration": 80,
    "start_time": "2025-03-13T20:24:29.516Z"
   },
   {
    "duration": 3763,
    "start_time": "2025-03-14T06:49:06.263Z"
   },
   {
    "duration": 1465,
    "start_time": "2025-03-14T06:49:10.029Z"
   },
   {
    "duration": 2320,
    "start_time": "2025-03-14T06:49:11.496Z"
   },
   {
    "duration": 12,
    "start_time": "2025-03-14T06:49:13.819Z"
   },
   {
    "duration": 15,
    "start_time": "2025-03-14T06:49:13.832Z"
   },
   {
    "duration": 24,
    "start_time": "2025-03-14T06:49:13.849Z"
   },
   {
    "duration": 117,
    "start_time": "2025-03-14T06:49:13.874Z"
   },
   {
    "duration": 13,
    "start_time": "2025-03-14T06:49:13.993Z"
   },
   {
    "duration": 72,
    "start_time": "2025-03-14T06:49:14.008Z"
   },
   {
    "duration": 8,
    "start_time": "2025-03-14T06:49:14.083Z"
   },
   {
    "duration": 32,
    "start_time": "2025-03-14T06:49:14.093Z"
   },
   {
    "duration": 10,
    "start_time": "2025-03-14T06:49:14.127Z"
   },
   {
    "duration": 34,
    "start_time": "2025-03-14T06:49:14.138Z"
   },
   {
    "duration": 178,
    "start_time": "2025-03-14T06:49:14.173Z"
   },
   {
    "duration": 5,
    "start_time": "2025-03-14T06:49:14.353Z"
   },
   {
    "duration": 19,
    "start_time": "2025-03-14T06:49:14.360Z"
   },
   {
    "duration": 100,
    "start_time": "2025-03-14T06:49:14.380Z"
   },
   {
    "duration": 43,
    "start_time": "2025-03-14T06:49:14.483Z"
   },
   {
    "duration": 15,
    "start_time": "2025-03-14T06:49:14.528Z"
   },
   {
    "duration": 44,
    "start_time": "2025-03-14T06:49:14.545Z"
   },
   {
    "duration": 41,
    "start_time": "2025-03-14T06:49:14.591Z"
   },
   {
    "duration": 7,
    "start_time": "2025-03-14T06:49:14.634Z"
   },
   {
    "duration": 233,
    "start_time": "2025-03-14T06:49:14.643Z"
   },
   {
    "duration": 102,
    "start_time": "2025-03-14T06:49:14.878Z"
   },
   {
    "duration": 87,
    "start_time": "2025-03-14T06:49:14.981Z"
   },
   {
    "duration": 22,
    "start_time": "2025-03-14T06:49:15.069Z"
   },
   {
    "duration": 5403,
    "start_time": "2025-03-14T06:49:15.104Z"
   },
   {
    "duration": 61,
    "start_time": "2025-03-14T06:49:20.510Z"
   },
   {
    "duration": 49,
    "start_time": "2025-03-14T06:49:20.573Z"
   },
   {
    "duration": 87,
    "start_time": "2025-03-14T06:49:20.624Z"
   },
   {
    "duration": 2841,
    "start_time": "2025-03-14T07:28:52.345Z"
   },
   {
    "duration": 1294,
    "start_time": "2025-03-14T07:28:55.188Z"
   },
   {
    "duration": 2413,
    "start_time": "2025-03-14T07:28:56.484Z"
   },
   {
    "duration": 13,
    "start_time": "2025-03-14T07:28:58.898Z"
   },
   {
    "duration": 16,
    "start_time": "2025-03-14T07:28:58.912Z"
   },
   {
    "duration": 26,
    "start_time": "2025-03-14T07:28:58.930Z"
   },
   {
    "duration": 115,
    "start_time": "2025-03-14T07:28:58.957Z"
   },
   {
    "duration": 9,
    "start_time": "2025-03-14T07:28:59.073Z"
   },
   {
    "duration": 55,
    "start_time": "2025-03-14T07:28:59.084Z"
   },
   {
    "duration": 7,
    "start_time": "2025-03-14T07:28:59.141Z"
   },
   {
    "duration": 22,
    "start_time": "2025-03-14T07:28:59.150Z"
   },
   {
    "duration": 7,
    "start_time": "2025-03-14T07:28:59.173Z"
   },
   {
    "duration": 43,
    "start_time": "2025-03-14T07:28:59.182Z"
   },
   {
    "duration": 191,
    "start_time": "2025-03-14T07:28:59.227Z"
   },
   {
    "duration": 6,
    "start_time": "2025-03-14T07:28:59.419Z"
   },
   {
    "duration": 12,
    "start_time": "2025-03-14T07:28:59.427Z"
   },
   {
    "duration": 98,
    "start_time": "2025-03-14T07:28:59.441Z"
   },
   {
    "duration": 39,
    "start_time": "2025-03-14T07:28:59.541Z"
   },
   {
    "duration": 35,
    "start_time": "2025-03-14T07:28:59.582Z"
   },
   {
    "duration": 22,
    "start_time": "2025-03-14T07:28:59.619Z"
   },
   {
    "duration": 35,
    "start_time": "2025-03-14T07:28:59.643Z"
   },
   {
    "duration": 8,
    "start_time": "2025-03-14T07:28:59.704Z"
   },
   {
    "duration": 222,
    "start_time": "2025-03-14T07:28:59.714Z"
   },
   {
    "duration": 103,
    "start_time": "2025-03-14T07:28:59.937Z"
   },
   {
    "duration": 86,
    "start_time": "2025-03-14T07:29:00.041Z"
   },
   {
    "duration": 17,
    "start_time": "2025-03-14T07:29:00.129Z"
   },
   {
    "duration": 5329,
    "start_time": "2025-03-14T07:29:00.150Z"
   },
   {
    "duration": 65,
    "start_time": "2025-03-14T07:29:05.481Z"
   },
   {
    "duration": 44,
    "start_time": "2025-03-14T07:29:05.549Z"
   },
   {
    "duration": 76,
    "start_time": "2025-03-14T07:29:05.604Z"
   },
   {
    "duration": 210,
    "start_time": "2025-03-14T07:29:05.682Z"
   },
   {
    "duration": 49,
    "start_time": "2025-03-14T07:29:05.894Z"
   },
   {
    "duration": 82,
    "start_time": "2025-03-14T07:46:59.626Z"
   },
   {
    "duration": 15,
    "start_time": "2025-03-14T07:47:09.319Z"
   },
   {
    "duration": 2653,
    "start_time": "2025-03-14T07:50:35.659Z"
   },
   {
    "duration": 1272,
    "start_time": "2025-03-14T07:50:38.314Z"
   },
   {
    "duration": 2474,
    "start_time": "2025-03-14T07:50:39.588Z"
   },
   {
    "duration": 12,
    "start_time": "2025-03-14T07:50:42.064Z"
   },
   {
    "duration": 51,
    "start_time": "2025-03-14T07:50:42.078Z"
   },
   {
    "duration": 65,
    "start_time": "2025-03-14T07:50:42.131Z"
   },
   {
    "duration": 140,
    "start_time": "2025-03-14T07:50:42.197Z"
   },
   {
    "duration": 11,
    "start_time": "2025-03-14T07:50:42.339Z"
   },
   {
    "duration": 62,
    "start_time": "2025-03-14T07:50:42.352Z"
   },
   {
    "duration": 7,
    "start_time": "2025-03-14T07:50:42.416Z"
   },
   {
    "duration": 20,
    "start_time": "2025-03-14T07:50:42.425Z"
   },
   {
    "duration": 9,
    "start_time": "2025-03-14T07:50:42.446Z"
   },
   {
    "duration": 54,
    "start_time": "2025-03-14T07:50:42.456Z"
   },
   {
    "duration": 190,
    "start_time": "2025-03-14T07:50:42.513Z"
   },
   {
    "duration": 6,
    "start_time": "2025-03-14T07:50:42.705Z"
   },
   {
    "duration": 10,
    "start_time": "2025-03-14T07:50:42.713Z"
   },
   {
    "duration": 102,
    "start_time": "2025-03-14T07:50:42.725Z"
   },
   {
    "duration": 40,
    "start_time": "2025-03-14T07:50:42.829Z"
   },
   {
    "duration": 35,
    "start_time": "2025-03-14T07:50:42.871Z"
   },
   {
    "duration": 24,
    "start_time": "2025-03-14T07:50:42.909Z"
   },
   {
    "duration": 29,
    "start_time": "2025-03-14T07:50:42.935Z"
   },
   {
    "duration": 8,
    "start_time": "2025-03-14T07:50:42.965Z"
   },
   {
    "duration": 213,
    "start_time": "2025-03-14T07:50:43.003Z"
   },
   {
    "duration": 106,
    "start_time": "2025-03-14T07:50:43.219Z"
   },
   {
    "duration": 79,
    "start_time": "2025-03-14T07:50:43.327Z"
   },
   {
    "duration": 26,
    "start_time": "2025-03-14T07:50:43.408Z"
   },
   {
    "duration": 5237,
    "start_time": "2025-03-14T07:50:43.436Z"
   },
   {
    "duration": 67,
    "start_time": "2025-03-14T07:50:48.675Z"
   },
   {
    "duration": 50,
    "start_time": "2025-03-14T07:50:48.744Z"
   },
   {
    "duration": 78,
    "start_time": "2025-03-14T07:50:48.804Z"
   },
   {
    "duration": 181,
    "start_time": "2025-03-14T07:50:48.884Z"
   },
   {
    "duration": 56,
    "start_time": "2025-03-14T07:50:49.067Z"
   },
   {
    "duration": 95,
    "start_time": "2025-03-14T07:50:49.125Z"
   },
   {
    "duration": 15,
    "start_time": "2025-03-14T07:50:49.221Z"
   },
   {
    "duration": 2510,
    "start_time": "2025-03-14T10:11:49.941Z"
   },
   {
    "duration": 1635,
    "start_time": "2025-03-14T10:11:52.453Z"
   },
   {
    "duration": 2504,
    "start_time": "2025-03-14T10:11:54.089Z"
   },
   {
    "duration": 17,
    "start_time": "2025-03-14T10:11:56.595Z"
   },
   {
    "duration": 21,
    "start_time": "2025-03-14T10:11:56.615Z"
   },
   {
    "duration": 38,
    "start_time": "2025-03-14T10:11:56.638Z"
   },
   {
    "duration": 105,
    "start_time": "2025-03-14T10:11:56.678Z"
   },
   {
    "duration": 9,
    "start_time": "2025-03-14T10:11:56.785Z"
   },
   {
    "duration": 54,
    "start_time": "2025-03-14T10:11:56.807Z"
   },
   {
    "duration": 7,
    "start_time": "2025-03-14T10:11:56.863Z"
   },
   {
    "duration": 18,
    "start_time": "2025-03-14T10:11:56.872Z"
   },
   {
    "duration": 22,
    "start_time": "2025-03-14T10:11:56.892Z"
   },
   {
    "duration": 24,
    "start_time": "2025-03-14T10:11:56.923Z"
   },
   {
    "duration": 177,
    "start_time": "2025-03-14T10:11:56.949Z"
   },
   {
    "duration": 5,
    "start_time": "2025-03-14T10:11:57.128Z"
   },
   {
    "duration": 9,
    "start_time": "2025-03-14T10:11:57.135Z"
   },
   {
    "duration": 106,
    "start_time": "2025-03-14T10:11:57.146Z"
   },
   {
    "duration": 34,
    "start_time": "2025-03-14T10:11:57.254Z"
   },
   {
    "duration": 32,
    "start_time": "2025-03-14T10:11:57.290Z"
   },
   {
    "duration": 20,
    "start_time": "2025-03-14T10:11:57.323Z"
   },
   {
    "duration": 89,
    "start_time": "2025-03-14T10:11:57.344Z"
   },
   {
    "duration": 6,
    "start_time": "2025-03-14T10:11:57.434Z"
   },
   {
    "duration": 212,
    "start_time": "2025-03-14T10:11:57.442Z"
   },
   {
    "duration": 98,
    "start_time": "2025-03-14T10:11:57.656Z"
   },
   {
    "duration": 83,
    "start_time": "2025-03-14T10:11:57.756Z"
   },
   {
    "duration": 17,
    "start_time": "2025-03-14T10:11:57.840Z"
   },
   {
    "duration": 5189,
    "start_time": "2025-03-14T10:11:57.859Z"
   },
   {
    "duration": 53,
    "start_time": "2025-03-14T10:12:03.052Z"
   },
   {
    "duration": 42,
    "start_time": "2025-03-14T10:12:03.107Z"
   },
   {
    "duration": 159,
    "start_time": "2025-03-14T10:12:03.151Z"
   },
   {
    "duration": 206,
    "start_time": "2025-03-14T10:12:03.316Z"
   },
   {
    "duration": 42,
    "start_time": "2025-03-14T10:12:03.524Z"
   },
   {
    "duration": 95,
    "start_time": "2025-03-14T10:12:03.568Z"
   },
   {
    "duration": 14,
    "start_time": "2025-03-14T10:12:03.664Z"
   },
   {
    "duration": 22,
    "start_time": "2025-03-14T10:12:11.472Z"
   },
   {
    "duration": 111,
    "start_time": "2025-03-14T10:25:07.055Z"
   },
   {
    "duration": 2449,
    "start_time": "2025-03-14T10:25:13.867Z"
   },
   {
    "duration": 1705,
    "start_time": "2025-03-14T10:25:16.321Z"
   },
   {
    "duration": 2140,
    "start_time": "2025-03-14T10:25:18.028Z"
   },
   {
    "duration": 13,
    "start_time": "2025-03-14T10:25:20.170Z"
   },
   {
    "duration": 30,
    "start_time": "2025-03-14T10:25:20.184Z"
   },
   {
    "duration": 28,
    "start_time": "2025-03-14T10:25:20.222Z"
   },
   {
    "duration": 128,
    "start_time": "2025-03-14T10:25:20.251Z"
   },
   {
    "duration": 10,
    "start_time": "2025-03-14T10:25:20.381Z"
   },
   {
    "duration": 96,
    "start_time": "2025-03-14T10:25:20.392Z"
   },
   {
    "duration": 8,
    "start_time": "2025-03-14T10:25:20.491Z"
   },
   {
    "duration": 42,
    "start_time": "2025-03-14T10:25:20.500Z"
   },
   {
    "duration": 19,
    "start_time": "2025-03-14T10:25:20.543Z"
   },
   {
    "duration": 32,
    "start_time": "2025-03-14T10:25:20.564Z"
   },
   {
    "duration": 288,
    "start_time": "2025-03-14T10:25:20.598Z"
   },
   {
    "duration": 7,
    "start_time": "2025-03-14T10:25:20.889Z"
   },
   {
    "duration": 20,
    "start_time": "2025-03-14T10:25:20.897Z"
   },
   {
    "duration": 115,
    "start_time": "2025-03-14T10:25:20.919Z"
   },
   {
    "duration": 37,
    "start_time": "2025-03-14T10:25:21.035Z"
   },
   {
    "duration": 27,
    "start_time": "2025-03-14T10:25:21.074Z"
   },
   {
    "duration": 49,
    "start_time": "2025-03-14T10:25:21.108Z"
   },
   {
    "duration": 53,
    "start_time": "2025-03-14T10:25:21.159Z"
   },
   {
    "duration": 10,
    "start_time": "2025-03-14T10:25:21.216Z"
   },
   {
    "duration": 219,
    "start_time": "2025-03-14T10:25:21.227Z"
   },
   {
    "duration": 103,
    "start_time": "2025-03-14T10:25:21.448Z"
   },
   {
    "duration": 83,
    "start_time": "2025-03-14T10:25:21.552Z"
   },
   {
    "duration": 20,
    "start_time": "2025-03-14T10:25:21.637Z"
   },
   {
    "duration": 5219,
    "start_time": "2025-03-14T10:25:21.659Z"
   },
   {
    "duration": 71,
    "start_time": "2025-03-14T10:25:26.881Z"
   },
   {
    "duration": 38,
    "start_time": "2025-03-14T10:25:26.954Z"
   },
   {
    "duration": 87,
    "start_time": "2025-03-14T10:25:26.994Z"
   },
   {
    "duration": 178,
    "start_time": "2025-03-14T10:25:27.083Z"
   },
   {
    "duration": 57,
    "start_time": "2025-03-14T10:25:27.263Z"
   },
   {
    "duration": 104,
    "start_time": "2025-03-14T10:25:27.322Z"
   },
   {
    "duration": 15,
    "start_time": "2025-03-14T10:25:27.428Z"
   },
   {
    "duration": 109,
    "start_time": "2025-03-14T10:25:27.445Z"
   },
   {
    "duration": 22,
    "start_time": "2025-03-14T10:25:34.383Z"
   },
   {
    "duration": 82,
    "start_time": "2025-03-15T14:59:55.830Z"
   },
   {
    "duration": 3326,
    "start_time": "2025-03-15T15:22:41.280Z"
   },
   {
    "duration": 1278,
    "start_time": "2025-03-15T15:22:44.608Z"
   },
   {
    "duration": 1897,
    "start_time": "2025-03-15T15:22:45.888Z"
   },
   {
    "duration": 12,
    "start_time": "2025-03-15T15:22:47.787Z"
   },
   {
    "duration": 12,
    "start_time": "2025-03-15T15:22:47.800Z"
   },
   {
    "duration": 19,
    "start_time": "2025-03-15T15:22:47.814Z"
   },
   {
    "duration": 117,
    "start_time": "2025-03-15T15:22:47.835Z"
   },
   {
    "duration": 52,
    "start_time": "2025-03-15T15:22:47.953Z"
   },
   {
    "duration": 8,
    "start_time": "2025-03-15T15:22:48.007Z"
   },
   {
    "duration": 50,
    "start_time": "2025-03-15T15:22:48.017Z"
   },
   {
    "duration": 7,
    "start_time": "2025-03-15T15:22:48.069Z"
   },
   {
    "duration": 18,
    "start_time": "2025-03-15T15:22:48.077Z"
   },
   {
    "duration": 7,
    "start_time": "2025-03-15T15:22:48.097Z"
   },
   {
    "duration": 34,
    "start_time": "2025-03-15T15:22:48.105Z"
   },
   {
    "duration": 1438,
    "start_time": "2025-03-15T15:22:48.141Z"
   },
   {
    "duration": 0,
    "start_time": "2025-03-15T15:22:49.581Z"
   },
   {
    "duration": 0,
    "start_time": "2025-03-15T15:22:49.582Z"
   },
   {
    "duration": 0,
    "start_time": "2025-03-15T15:22:49.584Z"
   },
   {
    "duration": 0,
    "start_time": "2025-03-15T15:22:49.585Z"
   },
   {
    "duration": 0,
    "start_time": "2025-03-15T15:22:49.587Z"
   },
   {
    "duration": 0,
    "start_time": "2025-03-15T15:22:49.588Z"
   },
   {
    "duration": 0,
    "start_time": "2025-03-15T15:22:49.590Z"
   },
   {
    "duration": 0,
    "start_time": "2025-03-15T15:22:49.592Z"
   },
   {
    "duration": 0,
    "start_time": "2025-03-15T15:22:49.593Z"
   },
   {
    "duration": 0,
    "start_time": "2025-03-15T15:22:49.595Z"
   },
   {
    "duration": 0,
    "start_time": "2025-03-15T15:22:49.596Z"
   },
   {
    "duration": 0,
    "start_time": "2025-03-15T15:22:49.597Z"
   },
   {
    "duration": 0,
    "start_time": "2025-03-15T15:22:49.598Z"
   },
   {
    "duration": 0,
    "start_time": "2025-03-15T15:22:49.599Z"
   },
   {
    "duration": 0,
    "start_time": "2025-03-15T15:22:49.600Z"
   },
   {
    "duration": 0,
    "start_time": "2025-03-15T15:22:49.601Z"
   },
   {
    "duration": 0,
    "start_time": "2025-03-15T15:22:49.602Z"
   },
   {
    "duration": 0,
    "start_time": "2025-03-15T15:22:49.603Z"
   },
   {
    "duration": 1,
    "start_time": "2025-03-15T15:22:49.604Z"
   },
   {
    "duration": 4,
    "start_time": "2025-03-15T15:25:38.963Z"
   },
   {
    "duration": 3334,
    "start_time": "2025-03-15T16:47:56.239Z"
   },
   {
    "duration": 1282,
    "start_time": "2025-03-15T16:47:59.575Z"
   },
   {
    "duration": 1875,
    "start_time": "2025-03-15T16:48:00.859Z"
   },
   {
    "duration": 11,
    "start_time": "2025-03-15T16:48:02.736Z"
   },
   {
    "duration": 11,
    "start_time": "2025-03-15T16:48:02.749Z"
   },
   {
    "duration": 22,
    "start_time": "2025-03-15T16:48:02.762Z"
   },
   {
    "duration": 112,
    "start_time": "2025-03-15T16:48:02.786Z"
   },
   {
    "duration": 58,
    "start_time": "2025-03-15T16:48:02.901Z"
   },
   {
    "duration": 9,
    "start_time": "2025-03-15T16:48:02.961Z"
   },
   {
    "duration": 39,
    "start_time": "2025-03-15T16:48:02.973Z"
   },
   {
    "duration": 22,
    "start_time": "2025-03-15T16:48:03.014Z"
   },
   {
    "duration": 18,
    "start_time": "2025-03-15T16:48:03.038Z"
   },
   {
    "duration": 5,
    "start_time": "2025-03-15T16:48:03.058Z"
   },
   {
    "duration": 27,
    "start_time": "2025-03-15T16:48:03.065Z"
   },
   {
    "duration": 25,
    "start_time": "2025-03-15T16:48:03.094Z"
   },
   {
    "duration": 1687,
    "start_time": "2025-03-15T16:48:03.120Z"
   },
   {
    "duration": 0,
    "start_time": "2025-03-15T16:48:04.808Z"
   },
   {
    "duration": 1,
    "start_time": "2025-03-15T16:48:04.809Z"
   },
   {
    "duration": 0,
    "start_time": "2025-03-15T16:48:04.811Z"
   },
   {
    "duration": 0,
    "start_time": "2025-03-15T16:48:04.812Z"
   },
   {
    "duration": 0,
    "start_time": "2025-03-15T16:48:04.813Z"
   },
   {
    "duration": 0,
    "start_time": "2025-03-15T16:48:04.814Z"
   },
   {
    "duration": 0,
    "start_time": "2025-03-15T16:48:04.815Z"
   },
   {
    "duration": 0,
    "start_time": "2025-03-15T16:48:04.816Z"
   },
   {
    "duration": 0,
    "start_time": "2025-03-15T16:48:04.817Z"
   },
   {
    "duration": 0,
    "start_time": "2025-03-15T16:48:04.818Z"
   },
   {
    "duration": 0,
    "start_time": "2025-03-15T16:48:04.819Z"
   },
   {
    "duration": 0,
    "start_time": "2025-03-15T16:48:04.820Z"
   },
   {
    "duration": 0,
    "start_time": "2025-03-15T16:48:04.822Z"
   },
   {
    "duration": 0,
    "start_time": "2025-03-15T16:48:04.823Z"
   },
   {
    "duration": 0,
    "start_time": "2025-03-15T16:48:04.824Z"
   },
   {
    "duration": 0,
    "start_time": "2025-03-15T16:48:04.825Z"
   },
   {
    "duration": 0,
    "start_time": "2025-03-15T16:48:04.826Z"
   },
   {
    "duration": 0,
    "start_time": "2025-03-15T16:48:04.827Z"
   },
   {
    "duration": 0,
    "start_time": "2025-03-15T16:48:04.828Z"
   },
   {
    "duration": 163,
    "start_time": "2025-03-15T17:07:06.869Z"
   },
   {
    "duration": 1297,
    "start_time": "2025-03-15T17:11:04.526Z"
   },
   {
    "duration": 6,
    "start_time": "2025-03-15T17:11:21.498Z"
   },
   {
    "duration": 7,
    "start_time": "2025-03-15T17:11:30.938Z"
   },
   {
    "duration": 67,
    "start_time": "2025-03-15T17:11:47.494Z"
   },
   {
    "duration": 36,
    "start_time": "2025-03-15T17:17:20.046Z"
   },
   {
    "duration": 12,
    "start_time": "2025-03-15T17:18:11.787Z"
   },
   {
    "duration": 21,
    "start_time": "2025-03-15T17:18:16.202Z"
   },
   {
    "duration": 22,
    "start_time": "2025-03-15T17:49:29.617Z"
   },
   {
    "duration": 25,
    "start_time": "2025-03-15T17:49:39.807Z"
   },
   {
    "duration": 2386,
    "start_time": "2025-03-15T17:50:01.644Z"
   },
   {
    "duration": 1112,
    "start_time": "2025-03-15T17:50:04.032Z"
   },
   {
    "duration": 2018,
    "start_time": "2025-03-15T17:50:05.145Z"
   },
   {
    "duration": 11,
    "start_time": "2025-03-15T17:50:07.166Z"
   },
   {
    "duration": 12,
    "start_time": "2025-03-15T17:50:07.179Z"
   },
   {
    "duration": 19,
    "start_time": "2025-03-15T17:50:07.192Z"
   },
   {
    "duration": 92,
    "start_time": "2025-03-15T17:50:07.236Z"
   },
   {
    "duration": 46,
    "start_time": "2025-03-15T17:50:07.335Z"
   },
   {
    "duration": 8,
    "start_time": "2025-03-15T17:50:07.382Z"
   },
   {
    "duration": 55,
    "start_time": "2025-03-15T17:50:07.392Z"
   },
   {
    "duration": 7,
    "start_time": "2025-03-15T17:50:07.448Z"
   },
   {
    "duration": 33,
    "start_time": "2025-03-15T17:50:07.457Z"
   },
   {
    "duration": 4,
    "start_time": "2025-03-15T17:50:07.492Z"
   },
   {
    "duration": 7,
    "start_time": "2025-03-15T17:50:07.497Z"
   },
   {
    "duration": 34,
    "start_time": "2025-03-15T17:50:07.505Z"
   },
   {
    "duration": 176,
    "start_time": "2025-03-15T17:50:07.540Z"
   },
   {
    "duration": 5,
    "start_time": "2025-03-15T17:50:07.718Z"
   },
   {
    "duration": 13,
    "start_time": "2025-03-15T17:50:07.724Z"
   },
   {
    "duration": 69,
    "start_time": "2025-03-15T17:50:07.738Z"
   },
   {
    "duration": 49,
    "start_time": "2025-03-15T17:50:07.809Z"
   },
   {
    "duration": 49,
    "start_time": "2025-03-15T17:50:07.860Z"
   },
   {
    "duration": 19,
    "start_time": "2025-03-15T17:50:07.911Z"
   },
   {
    "duration": 27,
    "start_time": "2025-03-15T17:50:07.931Z"
   },
   {
    "duration": 1404,
    "start_time": "2025-03-15T17:50:07.960Z"
   },
   {
    "duration": 0,
    "start_time": "2025-03-15T17:50:09.366Z"
   },
   {
    "duration": 0,
    "start_time": "2025-03-15T17:50:09.368Z"
   },
   {
    "duration": 0,
    "start_time": "2025-03-15T17:50:09.370Z"
   },
   {
    "duration": 0,
    "start_time": "2025-03-15T17:50:09.371Z"
   },
   {
    "duration": 0,
    "start_time": "2025-03-15T17:50:09.373Z"
   },
   {
    "duration": 0,
    "start_time": "2025-03-15T17:50:09.374Z"
   },
   {
    "duration": 0,
    "start_time": "2025-03-15T17:50:09.375Z"
   },
   {
    "duration": 0,
    "start_time": "2025-03-15T17:50:09.377Z"
   },
   {
    "duration": 0,
    "start_time": "2025-03-15T17:50:09.378Z"
   },
   {
    "duration": 0,
    "start_time": "2025-03-15T17:50:09.380Z"
   },
   {
    "duration": 0,
    "start_time": "2025-03-15T17:50:09.381Z"
   },
   {
    "duration": 2301,
    "start_time": "2025-03-15T18:05:53.136Z"
   },
   {
    "duration": 1167,
    "start_time": "2025-03-15T18:05:55.439Z"
   },
   {
    "duration": 1994,
    "start_time": "2025-03-15T18:05:56.607Z"
   },
   {
    "duration": 12,
    "start_time": "2025-03-15T18:05:58.603Z"
   },
   {
    "duration": 11,
    "start_time": "2025-03-15T18:05:58.617Z"
   },
   {
    "duration": 22,
    "start_time": "2025-03-15T18:05:58.635Z"
   },
   {
    "duration": 108,
    "start_time": "2025-03-15T18:05:58.659Z"
   },
   {
    "duration": 45,
    "start_time": "2025-03-15T18:05:58.769Z"
   },
   {
    "duration": 20,
    "start_time": "2025-03-15T18:05:58.816Z"
   },
   {
    "duration": 84,
    "start_time": "2025-03-15T18:05:58.837Z"
   },
   {
    "duration": 6,
    "start_time": "2025-03-15T18:05:58.923Z"
   },
   {
    "duration": 26,
    "start_time": "2025-03-15T18:05:58.931Z"
   },
   {
    "duration": 4,
    "start_time": "2025-03-15T18:05:58.958Z"
   },
   {
    "duration": 7,
    "start_time": "2025-03-15T18:05:58.965Z"
   },
   {
    "duration": 23,
    "start_time": "2025-03-15T18:05:58.973Z"
   },
   {
    "duration": 185,
    "start_time": "2025-03-15T18:05:58.997Z"
   },
   {
    "duration": 6,
    "start_time": "2025-03-15T18:05:59.184Z"
   },
   {
    "duration": 8,
    "start_time": "2025-03-15T18:05:59.192Z"
   },
   {
    "duration": 91,
    "start_time": "2025-03-15T18:05:59.202Z"
   },
   {
    "duration": 54,
    "start_time": "2025-03-15T18:05:59.295Z"
   },
   {
    "duration": 69,
    "start_time": "2025-03-15T18:05:59.351Z"
   },
   {
    "duration": 26,
    "start_time": "2025-03-15T18:05:59.422Z"
   },
   {
    "duration": 82,
    "start_time": "2025-03-15T18:05:59.449Z"
   },
   {
    "duration": 1680,
    "start_time": "2025-03-15T18:05:59.532Z"
   },
   {
    "duration": 0,
    "start_time": "2025-03-15T18:06:01.214Z"
   },
   {
    "duration": 0,
    "start_time": "2025-03-15T18:06:01.216Z"
   },
   {
    "duration": 0,
    "start_time": "2025-03-15T18:06:01.217Z"
   },
   {
    "duration": 0,
    "start_time": "2025-03-15T18:06:01.219Z"
   },
   {
    "duration": 0,
    "start_time": "2025-03-15T18:06:01.220Z"
   },
   {
    "duration": 0,
    "start_time": "2025-03-15T18:06:01.222Z"
   },
   {
    "duration": 0,
    "start_time": "2025-03-15T18:06:01.223Z"
   },
   {
    "duration": 0,
    "start_time": "2025-03-15T18:06:01.225Z"
   },
   {
    "duration": 0,
    "start_time": "2025-03-15T18:06:01.227Z"
   },
   {
    "duration": 0,
    "start_time": "2025-03-15T18:06:01.228Z"
   },
   {
    "duration": 0,
    "start_time": "2025-03-15T18:06:01.229Z"
   },
   {
    "duration": 2337,
    "start_time": "2025-03-15T18:08:45.644Z"
   },
   {
    "duration": 1054,
    "start_time": "2025-03-15T18:08:47.983Z"
   },
   {
    "duration": 1977,
    "start_time": "2025-03-15T18:08:49.039Z"
   },
   {
    "duration": 18,
    "start_time": "2025-03-15T18:08:51.018Z"
   },
   {
    "duration": 10,
    "start_time": "2025-03-15T18:08:51.037Z"
   },
   {
    "duration": 28,
    "start_time": "2025-03-15T18:08:51.049Z"
   },
   {
    "duration": 104,
    "start_time": "2025-03-15T18:08:51.078Z"
   },
   {
    "duration": 53,
    "start_time": "2025-03-15T18:08:51.184Z"
   },
   {
    "duration": 8,
    "start_time": "2025-03-15T18:08:51.239Z"
   },
   {
    "duration": 37,
    "start_time": "2025-03-15T18:08:51.249Z"
   },
   {
    "duration": 6,
    "start_time": "2025-03-15T18:08:51.288Z"
   },
   {
    "duration": 39,
    "start_time": "2025-03-15T18:08:51.296Z"
   },
   {
    "duration": 4,
    "start_time": "2025-03-15T18:08:51.337Z"
   },
   {
    "duration": 7,
    "start_time": "2025-03-15T18:08:51.342Z"
   },
   {
    "duration": 95,
    "start_time": "2025-03-15T18:08:51.351Z"
   },
   {
    "duration": 162,
    "start_time": "2025-03-15T18:08:51.447Z"
   },
   {
    "duration": 6,
    "start_time": "2025-03-15T18:08:51.611Z"
   },
   {
    "duration": 20,
    "start_time": "2025-03-15T18:08:51.619Z"
   },
   {
    "duration": 67,
    "start_time": "2025-03-15T18:08:51.640Z"
   },
   {
    "duration": 48,
    "start_time": "2025-03-15T18:08:51.709Z"
   },
   {
    "duration": 22,
    "start_time": "2025-03-15T18:08:51.758Z"
   },
   {
    "duration": 22,
    "start_time": "2025-03-15T18:08:51.781Z"
   },
   {
    "duration": 45,
    "start_time": "2025-03-15T18:08:51.804Z"
   },
   {
    "duration": 1420,
    "start_time": "2025-03-15T18:08:51.851Z"
   },
   {
    "duration": 0,
    "start_time": "2025-03-15T18:08:53.273Z"
   },
   {
    "duration": 0,
    "start_time": "2025-03-15T18:08:53.274Z"
   },
   {
    "duration": 0,
    "start_time": "2025-03-15T18:08:53.275Z"
   },
   {
    "duration": 0,
    "start_time": "2025-03-15T18:08:53.276Z"
   },
   {
    "duration": 0,
    "start_time": "2025-03-15T18:08:53.277Z"
   },
   {
    "duration": 1,
    "start_time": "2025-03-15T18:08:53.278Z"
   },
   {
    "duration": 0,
    "start_time": "2025-03-15T18:08:53.279Z"
   },
   {
    "duration": 0,
    "start_time": "2025-03-15T18:08:53.280Z"
   },
   {
    "duration": 0,
    "start_time": "2025-03-15T18:08:53.281Z"
   },
   {
    "duration": 0,
    "start_time": "2025-03-15T18:08:53.282Z"
   },
   {
    "duration": 0,
    "start_time": "2025-03-15T18:08:53.283Z"
   },
   {
    "duration": 5,
    "start_time": "2025-03-15T18:09:25.946Z"
   },
   {
    "duration": 149,
    "start_time": "2025-03-15T18:09:49.712Z"
   },
   {
    "duration": 138,
    "start_time": "2025-03-15T18:10:24.196Z"
   },
   {
    "duration": 139,
    "start_time": "2025-03-15T18:10:29.556Z"
   },
   {
    "duration": 51,
    "start_time": "2025-03-15T20:15:18.132Z"
   },
   {
    "duration": 3772,
    "start_time": "2025-03-15T20:16:48.518Z"
   },
   {
    "duration": 1354,
    "start_time": "2025-03-15T20:16:52.293Z"
   },
   {
    "duration": 2427,
    "start_time": "2025-03-15T20:16:53.652Z"
   },
   {
    "duration": 13,
    "start_time": "2025-03-15T20:16:56.081Z"
   },
   {
    "duration": 12,
    "start_time": "2025-03-15T20:16:56.095Z"
   },
   {
    "duration": 25,
    "start_time": "2025-03-15T20:16:56.109Z"
   },
   {
    "duration": 115,
    "start_time": "2025-03-15T20:16:56.157Z"
   },
   {
    "duration": 50,
    "start_time": "2025-03-15T20:16:56.274Z"
   },
   {
    "duration": 11,
    "start_time": "2025-03-15T20:16:56.326Z"
   },
   {
    "duration": 42,
    "start_time": "2025-03-15T20:16:56.358Z"
   },
   {
    "duration": 8,
    "start_time": "2025-03-15T20:16:56.402Z"
   },
   {
    "duration": 20,
    "start_time": "2025-03-15T20:16:56.412Z"
   },
   {
    "duration": 4,
    "start_time": "2025-03-15T20:16:56.460Z"
   },
   {
    "duration": 17,
    "start_time": "2025-03-15T20:16:56.466Z"
   },
   {
    "duration": 25,
    "start_time": "2025-03-15T20:16:56.485Z"
   },
   {
    "duration": 194,
    "start_time": "2025-03-15T20:16:56.512Z"
   },
   {
    "duration": 6,
    "start_time": "2025-03-15T20:16:56.708Z"
   },
   {
    "duration": 23,
    "start_time": "2025-03-15T20:16:56.716Z"
   },
   {
    "duration": 77,
    "start_time": "2025-03-15T20:16:56.741Z"
   },
   {
    "duration": 45,
    "start_time": "2025-03-15T20:16:56.820Z"
   },
   {
    "duration": 13,
    "start_time": "2025-03-15T20:16:56.867Z"
   },
   {
    "duration": 21,
    "start_time": "2025-03-15T20:16:56.882Z"
   },
   {
    "duration": 57,
    "start_time": "2025-03-15T20:16:56.905Z"
   },
   {
    "duration": 6,
    "start_time": "2025-03-15T20:16:56.963Z"
   },
   {
    "duration": 188,
    "start_time": "2025-03-15T20:16:56.970Z"
   },
   {
    "duration": 162,
    "start_time": "2025-03-15T20:16:57.160Z"
   },
   {
    "duration": 112,
    "start_time": "2025-03-15T20:16:57.324Z"
   },
   {
    "duration": 0,
    "start_time": "2025-03-15T20:16:57.438Z"
   },
   {
    "duration": 0,
    "start_time": "2025-03-15T20:16:57.439Z"
   },
   {
    "duration": 0,
    "start_time": "2025-03-15T20:16:57.440Z"
   },
   {
    "duration": 0,
    "start_time": "2025-03-15T20:16:57.442Z"
   },
   {
    "duration": 0,
    "start_time": "2025-03-15T20:16:57.443Z"
   },
   {
    "duration": 0,
    "start_time": "2025-03-15T20:16:57.444Z"
   },
   {
    "duration": 0,
    "start_time": "2025-03-15T20:16:57.458Z"
   },
   {
    "duration": 0,
    "start_time": "2025-03-15T20:16:57.460Z"
   },
   {
    "duration": 82,
    "start_time": "2025-03-15T20:18:45.078Z"
   },
   {
    "duration": 354,
    "start_time": "2025-03-15T20:26:50.573Z"
   },
   {
    "duration": 324,
    "start_time": "2025-03-15T20:30:48.773Z"
   },
   {
    "duration": 328,
    "start_time": "2025-03-15T20:31:11.815Z"
   },
   {
    "duration": 376,
    "start_time": "2025-03-15T20:32:28.853Z"
   },
   {
    "duration": 16,
    "start_time": "2025-03-15T20:33:18.811Z"
   },
   {
    "duration": 5264,
    "start_time": "2025-03-15T20:33:43.566Z"
   },
   {
    "duration": 3228,
    "start_time": "2025-03-16T09:10:55.179Z"
   },
   {
    "duration": 1255,
    "start_time": "2025-03-16T09:10:58.409Z"
   },
   {
    "duration": 2570,
    "start_time": "2025-03-16T09:10:59.666Z"
   },
   {
    "duration": 11,
    "start_time": "2025-03-16T09:11:02.238Z"
   },
   {
    "duration": 30,
    "start_time": "2025-03-16T09:11:02.257Z"
   },
   {
    "duration": 27,
    "start_time": "2025-03-16T09:11:02.288Z"
   },
   {
    "duration": 142,
    "start_time": "2025-03-16T09:11:02.317Z"
   },
   {
    "duration": 43,
    "start_time": "2025-03-16T09:11:02.461Z"
   },
   {
    "duration": 9,
    "start_time": "2025-03-16T09:11:02.505Z"
   },
   {
    "duration": 60,
    "start_time": "2025-03-16T09:11:02.516Z"
   },
   {
    "duration": 53,
    "start_time": "2025-03-16T09:11:02.578Z"
   },
   {
    "duration": 97,
    "start_time": "2025-03-16T09:11:02.633Z"
   },
   {
    "duration": 23,
    "start_time": "2025-03-16T09:11:02.732Z"
   },
   {
    "duration": 30,
    "start_time": "2025-03-16T09:11:02.756Z"
   },
   {
    "duration": 50,
    "start_time": "2025-03-16T09:11:02.787Z"
   },
   {
    "duration": 163,
    "start_time": "2025-03-16T09:11:02.839Z"
   },
   {
    "duration": 6,
    "start_time": "2025-03-16T09:11:03.003Z"
   },
   {
    "duration": 104,
    "start_time": "2025-03-16T09:11:03.010Z"
   },
   {
    "duration": 105,
    "start_time": "2025-03-16T09:11:03.116Z"
   },
   {
    "duration": 38,
    "start_time": "2025-03-16T09:11:03.223Z"
   },
   {
    "duration": 23,
    "start_time": "2025-03-16T09:11:03.263Z"
   },
   {
    "duration": 34,
    "start_time": "2025-03-16T09:11:03.287Z"
   },
   {
    "duration": 52,
    "start_time": "2025-03-16T09:11:03.323Z"
   },
   {
    "duration": 6,
    "start_time": "2025-03-16T09:11:03.376Z"
   },
   {
    "duration": 161,
    "start_time": "2025-03-16T09:11:03.383Z"
   },
   {
    "duration": 128,
    "start_time": "2025-03-16T09:11:03.546Z"
   },
   {
    "duration": 81,
    "start_time": "2025-03-16T09:11:03.676Z"
   },
   {
    "duration": 15,
    "start_time": "2025-03-16T09:11:03.761Z"
   },
   {
    "duration": 4621,
    "start_time": "2025-03-16T09:11:03.777Z"
   },
   {
    "duration": 1380,
    "start_time": "2025-03-16T09:11:08.400Z"
   },
   {
    "duration": 0,
    "start_time": "2025-03-16T09:11:09.782Z"
   },
   {
    "duration": 0,
    "start_time": "2025-03-16T09:11:09.783Z"
   },
   {
    "duration": 0,
    "start_time": "2025-03-16T09:11:09.784Z"
   },
   {
    "duration": 0,
    "start_time": "2025-03-16T09:11:09.786Z"
   },
   {
    "duration": 0,
    "start_time": "2025-03-16T09:11:09.786Z"
   },
   {
    "duration": 1677,
    "start_time": "2025-03-16T09:21:31.647Z"
   },
   {
    "duration": 40,
    "start_time": "2025-03-16T09:22:17.153Z"
   },
   {
    "duration": 2445,
    "start_time": "2025-03-16T09:22:57.603Z"
   },
   {
    "duration": 1220,
    "start_time": "2025-03-16T09:23:00.051Z"
   },
   {
    "duration": 2541,
    "start_time": "2025-03-16T09:23:01.273Z"
   },
   {
    "duration": 11,
    "start_time": "2025-03-16T09:23:03.816Z"
   },
   {
    "duration": 90,
    "start_time": "2025-03-16T09:23:03.828Z"
   },
   {
    "duration": 72,
    "start_time": "2025-03-16T09:23:03.920Z"
   },
   {
    "duration": 118,
    "start_time": "2025-03-16T09:23:03.993Z"
   },
   {
    "duration": 46,
    "start_time": "2025-03-16T09:23:04.113Z"
   },
   {
    "duration": 8,
    "start_time": "2025-03-16T09:23:04.161Z"
   },
   {
    "duration": 44,
    "start_time": "2025-03-16T09:23:04.172Z"
   },
   {
    "duration": 7,
    "start_time": "2025-03-16T09:23:04.218Z"
   },
   {
    "duration": 48,
    "start_time": "2025-03-16T09:23:04.226Z"
   },
   {
    "duration": 6,
    "start_time": "2025-03-16T09:23:04.276Z"
   },
   {
    "duration": 7,
    "start_time": "2025-03-16T09:23:04.284Z"
   },
   {
    "duration": 29,
    "start_time": "2025-03-16T09:23:04.292Z"
   },
   {
    "duration": 174,
    "start_time": "2025-03-16T09:23:04.323Z"
   },
   {
    "duration": 5,
    "start_time": "2025-03-16T09:23:04.499Z"
   },
   {
    "duration": 48,
    "start_time": "2025-03-16T09:23:04.506Z"
   },
   {
    "duration": 163,
    "start_time": "2025-03-16T09:23:04.555Z"
   },
   {
    "duration": 48,
    "start_time": "2025-03-16T09:23:04.720Z"
   },
   {
    "duration": 13,
    "start_time": "2025-03-16T09:23:04.769Z"
   },
   {
    "duration": 45,
    "start_time": "2025-03-16T09:23:04.784Z"
   },
   {
    "duration": 57,
    "start_time": "2025-03-16T09:23:04.830Z"
   },
   {
    "duration": 6,
    "start_time": "2025-03-16T09:23:04.888Z"
   },
   {
    "duration": 187,
    "start_time": "2025-03-16T09:23:04.895Z"
   },
   {
    "duration": 144,
    "start_time": "2025-03-16T09:23:05.084Z"
   },
   {
    "duration": 87,
    "start_time": "2025-03-16T09:23:05.230Z"
   },
   {
    "duration": 158,
    "start_time": "2025-03-16T09:23:05.320Z"
   },
   {
    "duration": 15,
    "start_time": "2025-03-16T09:23:05.479Z"
   },
   {
    "duration": 4874,
    "start_time": "2025-03-16T09:23:05.496Z"
   },
   {
    "duration": 1392,
    "start_time": "2025-03-16T09:23:10.372Z"
   },
   {
    "duration": 0,
    "start_time": "2025-03-16T09:23:11.766Z"
   },
   {
    "duration": 0,
    "start_time": "2025-03-16T09:23:11.767Z"
   },
   {
    "duration": 1,
    "start_time": "2025-03-16T09:23:11.768Z"
   },
   {
    "duration": 0,
    "start_time": "2025-03-16T09:23:11.770Z"
   },
   {
    "duration": 0,
    "start_time": "2025-03-16T09:23:11.771Z"
   },
   {
    "duration": 18,
    "start_time": "2025-03-16T09:31:55.834Z"
   },
   {
    "duration": 7,
    "start_time": "2025-03-16T09:32:02.019Z"
   },
   {
    "duration": 3456,
    "start_time": "2025-03-17T08:10:18.432Z"
   },
   {
    "duration": 1272,
    "start_time": "2025-03-17T08:10:21.891Z"
   },
   {
    "duration": 2390,
    "start_time": "2025-03-17T08:10:23.165Z"
   },
   {
    "duration": 11,
    "start_time": "2025-03-17T08:10:25.557Z"
   },
   {
    "duration": 12,
    "start_time": "2025-03-17T08:10:25.570Z"
   },
   {
    "duration": 23,
    "start_time": "2025-03-17T08:10:25.583Z"
   },
   {
    "duration": 119,
    "start_time": "2025-03-17T08:10:25.608Z"
   },
   {
    "duration": 52,
    "start_time": "2025-03-17T08:10:25.729Z"
   },
   {
    "duration": 9,
    "start_time": "2025-03-17T08:10:25.782Z"
   },
   {
    "duration": 60,
    "start_time": "2025-03-17T08:10:25.793Z"
   },
   {
    "duration": 67,
    "start_time": "2025-03-17T08:10:25.854Z"
   },
   {
    "duration": 20,
    "start_time": "2025-03-17T08:10:25.923Z"
   },
   {
    "duration": 5,
    "start_time": "2025-03-17T08:10:25.944Z"
   },
   {
    "duration": 8,
    "start_time": "2025-03-17T08:10:25.951Z"
   },
   {
    "duration": 24,
    "start_time": "2025-03-17T08:10:25.961Z"
   },
   {
    "duration": 188,
    "start_time": "2025-03-17T08:10:25.987Z"
   },
   {
    "duration": 5,
    "start_time": "2025-03-17T08:10:26.177Z"
   },
   {
    "duration": 169,
    "start_time": "2025-03-17T08:10:26.184Z"
   },
   {
    "duration": 77,
    "start_time": "2025-03-17T08:10:26.354Z"
   },
   {
    "duration": 35,
    "start_time": "2025-03-17T08:10:26.433Z"
   },
   {
    "duration": 12,
    "start_time": "2025-03-17T08:10:26.469Z"
   },
   {
    "duration": 58,
    "start_time": "2025-03-17T08:10:26.482Z"
   },
   {
    "duration": 32,
    "start_time": "2025-03-17T08:10:26.542Z"
   },
   {
    "duration": 6,
    "start_time": "2025-03-17T08:10:26.575Z"
   },
   {
    "duration": 186,
    "start_time": "2025-03-17T08:10:26.582Z"
   },
   {
    "duration": 141,
    "start_time": "2025-03-17T08:10:26.770Z"
   },
   {
    "duration": 82,
    "start_time": "2025-03-17T08:10:26.912Z"
   },
   {
    "duration": 6,
    "start_time": "2025-03-17T08:10:26.997Z"
   },
   {
    "duration": 33,
    "start_time": "2025-03-17T08:10:27.005Z"
   },
   {
    "duration": 4806,
    "start_time": "2025-03-17T08:10:27.040Z"
   },
   {
    "duration": 1554,
    "start_time": "2025-03-17T08:10:31.848Z"
   },
   {
    "duration": 0,
    "start_time": "2025-03-17T08:10:33.403Z"
   },
   {
    "duration": 0,
    "start_time": "2025-03-17T08:10:33.405Z"
   },
   {
    "duration": 0,
    "start_time": "2025-03-17T08:10:33.406Z"
   },
   {
    "duration": 0,
    "start_time": "2025-03-17T08:10:33.407Z"
   },
   {
    "duration": 0,
    "start_time": "2025-03-17T08:10:33.409Z"
   },
   {
    "duration": 69,
    "start_time": "2025-03-17T08:17:18.976Z"
   },
   {
    "duration": 50,
    "start_time": "2025-03-17T08:25:08.145Z"
   },
   {
    "duration": 52,
    "start_time": "2025-03-17T08:33:25.982Z"
   },
   {
    "duration": 54,
    "start_time": "2025-03-17T08:34:08.393Z"
   },
   {
    "duration": 2313,
    "start_time": "2025-03-17T09:03:21.826Z"
   },
   {
    "duration": 1105,
    "start_time": "2025-03-17T09:03:24.142Z"
   },
   {
    "duration": 2454,
    "start_time": "2025-03-17T09:03:25.248Z"
   },
   {
    "duration": 14,
    "start_time": "2025-03-17T09:03:27.703Z"
   },
   {
    "duration": 29,
    "start_time": "2025-03-17T09:03:27.719Z"
   },
   {
    "duration": 33,
    "start_time": "2025-03-17T09:03:27.750Z"
   },
   {
    "duration": 114,
    "start_time": "2025-03-17T09:03:27.784Z"
   },
   {
    "duration": 43,
    "start_time": "2025-03-17T09:03:27.900Z"
   },
   {
    "duration": 8,
    "start_time": "2025-03-17T09:03:27.945Z"
   },
   {
    "duration": 40,
    "start_time": "2025-03-17T09:03:27.955Z"
   },
   {
    "duration": 7,
    "start_time": "2025-03-17T09:03:27.997Z"
   },
   {
    "duration": 107,
    "start_time": "2025-03-17T09:03:28.005Z"
   },
   {
    "duration": 4,
    "start_time": "2025-03-17T09:03:28.113Z"
   },
   {
    "duration": 8,
    "start_time": "2025-03-17T09:03:28.120Z"
   },
   {
    "duration": 25,
    "start_time": "2025-03-17T09:03:28.129Z"
   },
   {
    "duration": 59,
    "start_time": "2025-03-17T09:03:28.155Z"
   },
   {
    "duration": 11,
    "start_time": "2025-03-17T09:03:28.216Z"
   },
   {
    "duration": 7,
    "start_time": "2025-03-17T09:03:28.229Z"
   },
   {
    "duration": 10,
    "start_time": "2025-03-17T09:03:28.237Z"
   },
   {
    "duration": 166,
    "start_time": "2025-03-17T09:03:28.248Z"
   },
   {
    "duration": 5,
    "start_time": "2025-03-17T09:03:28.416Z"
   },
   {
    "duration": 95,
    "start_time": "2025-03-17T09:03:28.423Z"
   },
   {
    "duration": 74,
    "start_time": "2025-03-17T09:03:28.519Z"
   },
   {
    "duration": 43,
    "start_time": "2025-03-17T09:03:28.594Z"
   },
   {
    "duration": 11,
    "start_time": "2025-03-17T09:03:28.638Z"
   },
   {
    "duration": 20,
    "start_time": "2025-03-17T09:03:28.651Z"
   },
   {
    "duration": 32,
    "start_time": "2025-03-17T09:03:28.672Z"
   },
   {
    "duration": 31,
    "start_time": "2025-03-17T09:03:28.706Z"
   },
   {
    "duration": 167,
    "start_time": "2025-03-17T09:03:28.739Z"
   },
   {
    "duration": 135,
    "start_time": "2025-03-17T09:03:28.908Z"
   },
   {
    "duration": 78,
    "start_time": "2025-03-17T09:03:29.045Z"
   },
   {
    "duration": 16,
    "start_time": "2025-03-17T09:03:29.124Z"
   },
   {
    "duration": 16,
    "start_time": "2025-03-17T09:03:29.142Z"
   },
   {
    "duration": 4570,
    "start_time": "2025-03-17T09:03:29.160Z"
   },
   {
    "duration": 55,
    "start_time": "2025-03-17T09:03:33.735Z"
   },
   {
    "duration": 88,
    "start_time": "2025-03-17T09:03:33.792Z"
   },
   {
    "duration": 155,
    "start_time": "2025-03-17T09:03:33.882Z"
   },
   {
    "duration": 44,
    "start_time": "2025-03-17T09:03:34.039Z"
   },
   {
    "duration": 129,
    "start_time": "2025-03-17T09:03:34.085Z"
   },
   {
    "duration": 20,
    "start_time": "2025-03-17T09:03:34.216Z"
   },
   {
    "duration": 3210,
    "start_time": "2025-03-17T11:00:54.427Z"
   },
   {
    "duration": 1352,
    "start_time": "2025-03-17T11:00:57.639Z"
   },
   {
    "duration": 2391,
    "start_time": "2025-03-17T11:00:58.993Z"
   },
   {
    "duration": 12,
    "start_time": "2025-03-17T11:01:01.385Z"
   },
   {
    "duration": 176,
    "start_time": "2025-03-17T11:01:01.398Z"
   },
   {
    "duration": 60,
    "start_time": "2025-03-17T11:01:01.575Z"
   },
   {
    "duration": 117,
    "start_time": "2025-03-17T11:01:01.637Z"
   },
   {
    "duration": 45,
    "start_time": "2025-03-17T11:01:01.755Z"
   },
   {
    "duration": 8,
    "start_time": "2025-03-17T11:01:01.801Z"
   },
   {
    "duration": 51,
    "start_time": "2025-03-17T11:01:01.811Z"
   },
   {
    "duration": 295,
    "start_time": "2025-03-17T11:01:01.864Z"
   },
   {
    "duration": 63,
    "start_time": "2025-03-17T11:01:02.161Z"
   },
   {
    "duration": 53,
    "start_time": "2025-03-17T11:01:02.225Z"
   },
   {
    "duration": 37,
    "start_time": "2025-03-17T11:01:02.281Z"
   },
   {
    "duration": 57,
    "start_time": "2025-03-17T11:01:02.319Z"
   },
   {
    "duration": 24,
    "start_time": "2025-03-17T11:01:02.378Z"
   },
   {
    "duration": 41,
    "start_time": "2025-03-17T11:01:02.403Z"
   },
   {
    "duration": 34,
    "start_time": "2025-03-17T11:01:02.445Z"
   },
   {
    "duration": 19,
    "start_time": "2025-03-17T11:01:02.481Z"
   },
   {
    "duration": 159,
    "start_time": "2025-03-17T11:01:02.501Z"
   },
   {
    "duration": 5,
    "start_time": "2025-03-17T11:01:02.661Z"
   },
   {
    "duration": 28,
    "start_time": "2025-03-17T11:01:02.667Z"
   },
   {
    "duration": 80,
    "start_time": "2025-03-17T11:01:02.697Z"
   },
   {
    "duration": 53,
    "start_time": "2025-03-17T11:01:02.779Z"
   },
   {
    "duration": 73,
    "start_time": "2025-03-17T11:01:02.834Z"
   },
   {
    "duration": 41,
    "start_time": "2025-03-17T11:01:02.908Z"
   },
   {
    "duration": 41,
    "start_time": "2025-03-17T11:01:02.951Z"
   },
   {
    "duration": 14,
    "start_time": "2025-03-17T11:01:02.993Z"
   },
   {
    "duration": 167,
    "start_time": "2025-03-17T11:01:03.008Z"
   },
   {
    "duration": 142,
    "start_time": "2025-03-17T11:01:03.176Z"
   },
   {
    "duration": 79,
    "start_time": "2025-03-17T11:01:03.320Z"
   },
   {
    "duration": 6,
    "start_time": "2025-03-17T11:01:03.400Z"
   },
   {
    "duration": 118,
    "start_time": "2025-03-17T11:01:03.407Z"
   },
   {
    "duration": 4586,
    "start_time": "2025-03-17T11:01:03.526Z"
   },
   {
    "duration": 61,
    "start_time": "2025-03-17T11:01:08.114Z"
   },
   {
    "duration": 99,
    "start_time": "2025-03-17T11:01:08.177Z"
   },
   {
    "duration": 148,
    "start_time": "2025-03-17T11:01:08.277Z"
   },
   {
    "duration": 52,
    "start_time": "2025-03-17T11:01:08.426Z"
   },
   {
    "duration": 88,
    "start_time": "2025-03-17T11:01:08.479Z"
   },
   {
    "duration": 14,
    "start_time": "2025-03-17T11:01:08.568Z"
   },
   {
    "duration": 6,
    "start_time": "2025-03-17T11:07:43.682Z"
   },
   {
    "duration": 2327,
    "start_time": "2025-03-17T12:02:03.477Z"
   },
   {
    "duration": 1145,
    "start_time": "2025-03-17T12:02:05.806Z"
   },
   {
    "duration": 2632,
    "start_time": "2025-03-17T12:02:06.953Z"
   },
   {
    "duration": 12,
    "start_time": "2025-03-17T12:02:09.587Z"
   },
   {
    "duration": 31,
    "start_time": "2025-03-17T12:02:09.601Z"
   },
   {
    "duration": 34,
    "start_time": "2025-03-17T12:02:09.634Z"
   },
   {
    "duration": 109,
    "start_time": "2025-03-17T12:02:09.670Z"
   },
   {
    "duration": 44,
    "start_time": "2025-03-17T12:02:09.781Z"
   },
   {
    "duration": 8,
    "start_time": "2025-03-17T12:02:09.827Z"
   },
   {
    "duration": 56,
    "start_time": "2025-03-17T12:02:09.836Z"
   },
   {
    "duration": 6,
    "start_time": "2025-03-17T12:02:09.894Z"
   },
   {
    "duration": 28,
    "start_time": "2025-03-17T12:02:09.902Z"
   },
   {
    "duration": 14,
    "start_time": "2025-03-17T12:02:09.931Z"
   },
   {
    "duration": 17,
    "start_time": "2025-03-17T12:02:09.947Z"
   },
   {
    "duration": 48,
    "start_time": "2025-03-17T12:02:09.965Z"
   },
   {
    "duration": 26,
    "start_time": "2025-03-17T12:02:10.014Z"
   },
   {
    "duration": 34,
    "start_time": "2025-03-17T12:02:10.042Z"
   },
   {
    "duration": 7,
    "start_time": "2025-03-17T12:02:10.078Z"
   },
   {
    "duration": 103,
    "start_time": "2025-03-17T12:02:10.086Z"
   },
   {
    "duration": 162,
    "start_time": "2025-03-17T12:02:10.191Z"
   },
   {
    "duration": 5,
    "start_time": "2025-03-17T12:02:10.355Z"
   },
   {
    "duration": 84,
    "start_time": "2025-03-17T12:02:10.362Z"
   },
   {
    "duration": 83,
    "start_time": "2025-03-17T12:02:10.448Z"
   },
   {
    "duration": 33,
    "start_time": "2025-03-17T12:02:10.533Z"
   },
   {
    "duration": 11,
    "start_time": "2025-03-17T12:02:10.568Z"
   },
   {
    "duration": 31,
    "start_time": "2025-03-17T12:02:10.581Z"
   },
   {
    "duration": 29,
    "start_time": "2025-03-17T12:02:10.613Z"
   },
   {
    "duration": 14,
    "start_time": "2025-03-17T12:02:10.643Z"
   },
   {
    "duration": 183,
    "start_time": "2025-03-17T12:02:10.659Z"
   },
   {
    "duration": 142,
    "start_time": "2025-03-17T12:02:10.844Z"
   },
   {
    "duration": 87,
    "start_time": "2025-03-17T12:02:10.988Z"
   },
   {
    "duration": 7,
    "start_time": "2025-03-17T12:02:11.077Z"
   },
   {
    "duration": 23,
    "start_time": "2025-03-17T12:02:11.085Z"
   },
   {
    "duration": 4681,
    "start_time": "2025-03-17T12:02:11.110Z"
   },
   {
    "duration": 84,
    "start_time": "2025-03-17T12:02:15.793Z"
   },
   {
    "duration": 7,
    "start_time": "2025-03-17T12:02:15.879Z"
   },
   {
    "duration": 166,
    "start_time": "2025-03-17T12:02:15.888Z"
   },
   {
    "duration": 31,
    "start_time": "2025-03-17T12:02:16.057Z"
   },
   {
    "duration": 96,
    "start_time": "2025-03-17T12:02:16.090Z"
   },
   {
    "duration": 23,
    "start_time": "2025-03-17T12:02:16.188Z"
   },
   {
    "duration": 2405,
    "start_time": "2025-03-17T12:04:47.966Z"
   },
   {
    "duration": 1196,
    "start_time": "2025-03-17T12:04:50.373Z"
   },
   {
    "duration": 2113,
    "start_time": "2025-03-17T12:04:51.571Z"
   },
   {
    "duration": 13,
    "start_time": "2025-03-17T12:04:53.687Z"
   },
   {
    "duration": 30,
    "start_time": "2025-03-17T12:04:53.701Z"
   },
   {
    "duration": 70,
    "start_time": "2025-03-17T12:04:53.733Z"
   },
   {
    "duration": 94,
    "start_time": "2025-03-17T12:04:53.805Z"
   },
   {
    "duration": 44,
    "start_time": "2025-03-17T12:04:53.901Z"
   },
   {
    "duration": 18,
    "start_time": "2025-03-17T12:04:53.946Z"
   },
   {
    "duration": 41,
    "start_time": "2025-03-17T12:04:53.966Z"
   },
   {
    "duration": 13,
    "start_time": "2025-03-17T12:04:54.008Z"
   },
   {
    "duration": 45,
    "start_time": "2025-03-17T12:04:54.022Z"
   },
   {
    "duration": 20,
    "start_time": "2025-03-17T12:04:54.069Z"
   },
   {
    "duration": 8,
    "start_time": "2025-03-17T12:04:54.091Z"
   },
   {
    "duration": 95,
    "start_time": "2025-03-17T12:04:54.101Z"
   },
   {
    "duration": 12,
    "start_time": "2025-03-17T12:04:54.198Z"
   },
   {
    "duration": 18,
    "start_time": "2025-03-17T12:04:54.211Z"
   },
   {
    "duration": 17,
    "start_time": "2025-03-17T12:04:54.230Z"
   },
   {
    "duration": 20,
    "start_time": "2025-03-17T12:04:54.249Z"
   },
   {
    "duration": 282,
    "start_time": "2025-03-17T12:04:54.270Z"
   },
   {
    "duration": 6,
    "start_time": "2025-03-17T12:04:54.554Z"
   },
   {
    "duration": 41,
    "start_time": "2025-03-17T12:04:54.561Z"
   },
   {
    "duration": 79,
    "start_time": "2025-03-17T12:04:54.604Z"
   },
   {
    "duration": 35,
    "start_time": "2025-03-17T12:04:54.685Z"
   },
   {
    "duration": 14,
    "start_time": "2025-03-17T12:04:54.721Z"
   },
   {
    "duration": 36,
    "start_time": "2025-03-17T12:04:54.736Z"
   },
   {
    "duration": 38,
    "start_time": "2025-03-17T12:04:54.773Z"
   },
   {
    "duration": 6,
    "start_time": "2025-03-17T12:04:54.814Z"
   },
   {
    "duration": 172,
    "start_time": "2025-03-17T12:04:54.821Z"
   },
   {
    "duration": 148,
    "start_time": "2025-03-17T12:04:54.995Z"
   },
   {
    "duration": 84,
    "start_time": "2025-03-17T12:04:55.145Z"
   },
   {
    "duration": 5,
    "start_time": "2025-03-17T12:04:55.231Z"
   },
   {
    "duration": 50,
    "start_time": "2025-03-17T12:04:55.237Z"
   },
   {
    "duration": 4803,
    "start_time": "2025-03-17T12:04:55.288Z"
   },
   {
    "duration": 65,
    "start_time": "2025-03-17T12:05:00.093Z"
   },
   {
    "duration": 82,
    "start_time": "2025-03-17T12:05:00.159Z"
   },
   {
    "duration": 315,
    "start_time": "2025-03-17T12:05:00.242Z"
   },
   {
    "duration": 29,
    "start_time": "2025-03-17T12:05:00.558Z"
   },
   {
    "duration": 100,
    "start_time": "2025-03-17T12:05:00.588Z"
   },
   {
    "duration": 13,
    "start_time": "2025-03-17T12:05:00.690Z"
   },
   {
    "duration": 2348,
    "start_time": "2025-03-17T12:08:16.065Z"
   },
   {
    "duration": 1190,
    "start_time": "2025-03-17T12:08:18.415Z"
   },
   {
    "duration": 1992,
    "start_time": "2025-03-17T12:08:19.607Z"
   },
   {
    "duration": 12,
    "start_time": "2025-03-17T12:08:21.601Z"
   },
   {
    "duration": 14,
    "start_time": "2025-03-17T12:08:21.616Z"
   },
   {
    "duration": 43,
    "start_time": "2025-03-17T12:08:21.632Z"
   },
   {
    "duration": 108,
    "start_time": "2025-03-17T12:08:21.677Z"
   },
   {
    "duration": 48,
    "start_time": "2025-03-17T12:08:21.787Z"
   },
   {
    "duration": 25,
    "start_time": "2025-03-17T12:08:21.837Z"
   },
   {
    "duration": 65,
    "start_time": "2025-03-17T12:08:21.863Z"
   },
   {
    "duration": 7,
    "start_time": "2025-03-17T12:08:21.930Z"
   },
   {
    "duration": 30,
    "start_time": "2025-03-17T12:08:21.939Z"
   },
   {
    "duration": 7,
    "start_time": "2025-03-17T12:08:21.970Z"
   },
   {
    "duration": 30,
    "start_time": "2025-03-17T12:08:21.980Z"
   },
   {
    "duration": 40,
    "start_time": "2025-03-17T12:08:22.011Z"
   },
   {
    "duration": 10,
    "start_time": "2025-03-17T12:08:22.052Z"
   },
   {
    "duration": 25,
    "start_time": "2025-03-17T12:08:22.064Z"
   },
   {
    "duration": 12,
    "start_time": "2025-03-17T12:08:22.091Z"
   },
   {
    "duration": 95,
    "start_time": "2025-03-17T12:08:22.104Z"
   },
   {
    "duration": 169,
    "start_time": "2025-03-17T12:08:22.201Z"
   },
   {
    "duration": 6,
    "start_time": "2025-03-17T12:08:22.371Z"
   },
   {
    "duration": 50,
    "start_time": "2025-03-17T12:08:22.379Z"
   },
   {
    "duration": 75,
    "start_time": "2025-03-17T12:08:22.430Z"
   },
   {
    "duration": 36,
    "start_time": "2025-03-17T12:08:22.507Z"
   },
   {
    "duration": 23,
    "start_time": "2025-03-17T12:08:22.544Z"
   },
   {
    "duration": 19,
    "start_time": "2025-03-17T12:08:22.568Z"
   },
   {
    "duration": 29,
    "start_time": "2025-03-17T12:08:22.589Z"
   },
   {
    "duration": 4,
    "start_time": "2025-03-17T12:08:22.620Z"
   },
   {
    "duration": 190,
    "start_time": "2025-03-17T12:08:22.626Z"
   },
   {
    "duration": 154,
    "start_time": "2025-03-17T12:08:22.818Z"
   },
   {
    "duration": 86,
    "start_time": "2025-03-17T12:08:22.973Z"
   },
   {
    "duration": 5,
    "start_time": "2025-03-17T12:08:23.061Z"
   },
   {
    "duration": 19,
    "start_time": "2025-03-17T12:08:23.068Z"
   },
   {
    "duration": 4616,
    "start_time": "2025-03-17T12:08:23.088Z"
   },
   {
    "duration": 63,
    "start_time": "2025-03-17T12:08:27.706Z"
   },
   {
    "duration": 72,
    "start_time": "2025-03-17T12:08:27.771Z"
   },
   {
    "duration": 151,
    "start_time": "2025-03-17T12:08:27.845Z"
   },
   {
    "duration": 28,
    "start_time": "2025-03-17T12:08:27.997Z"
   },
   {
    "duration": 112,
    "start_time": "2025-03-17T12:08:28.026Z"
   },
   {
    "duration": 23,
    "start_time": "2025-03-17T12:08:28.140Z"
   },
   {
    "duration": 190,
    "start_time": "2025-03-17T12:09:52.554Z"
   },
   {
    "duration": 1430,
    "start_time": "2025-03-17T12:55:47.192Z"
   },
   {
    "duration": 10,
    "start_time": "2025-03-17T12:55:59.429Z"
   },
   {
    "duration": 21,
    "start_time": "2025-03-17T12:56:26.803Z"
   },
   {
    "duration": 74,
    "start_time": "2025-03-17T12:57:56.169Z"
   },
   {
    "duration": 25,
    "start_time": "2025-03-17T12:58:11.759Z"
   },
   {
    "duration": 13,
    "start_time": "2025-03-17T13:02:11.740Z"
   },
   {
    "duration": 23,
    "start_time": "2025-03-17T13:03:53.514Z"
   },
   {
    "duration": 4027,
    "start_time": "2025-03-17T18:52:53.220Z"
   },
   {
    "duration": 1299,
    "start_time": "2025-03-17T18:52:57.249Z"
   },
   {
    "duration": 2401,
    "start_time": "2025-03-17T18:52:58.550Z"
   },
   {
    "duration": 11,
    "start_time": "2025-03-17T18:53:00.953Z"
   },
   {
    "duration": 30,
    "start_time": "2025-03-17T18:53:00.966Z"
   },
   {
    "duration": 69,
    "start_time": "2025-03-17T18:53:00.998Z"
   },
   {
    "duration": 104,
    "start_time": "2025-03-17T18:53:01.069Z"
   },
   {
    "duration": 43,
    "start_time": "2025-03-17T18:53:01.174Z"
   },
   {
    "duration": 19,
    "start_time": "2025-03-17T18:53:01.218Z"
   },
   {
    "duration": 39,
    "start_time": "2025-03-17T18:53:01.238Z"
   },
   {
    "duration": 12,
    "start_time": "2025-03-17T18:53:01.278Z"
   },
   {
    "duration": 29,
    "start_time": "2025-03-17T18:53:01.291Z"
   },
   {
    "duration": 6,
    "start_time": "2025-03-17T18:53:01.335Z"
   },
   {
    "duration": 9,
    "start_time": "2025-03-17T18:53:01.344Z"
   },
   {
    "duration": 37,
    "start_time": "2025-03-17T18:53:01.355Z"
   },
   {
    "duration": 10,
    "start_time": "2025-03-17T18:53:01.394Z"
   },
   {
    "duration": 43,
    "start_time": "2025-03-17T18:53:01.406Z"
   },
   {
    "duration": 7,
    "start_time": "2025-03-17T18:53:01.451Z"
   },
   {
    "duration": 33,
    "start_time": "2025-03-17T18:53:01.459Z"
   },
   {
    "duration": 167,
    "start_time": "2025-03-17T18:53:01.494Z"
   },
   {
    "duration": 6,
    "start_time": "2025-03-17T18:53:01.663Z"
   },
   {
    "duration": 18,
    "start_time": "2025-03-17T18:53:01.670Z"
   },
   {
    "duration": 77,
    "start_time": "2025-03-17T18:53:01.690Z"
   },
   {
    "duration": 36,
    "start_time": "2025-03-17T18:53:01.769Z"
   },
   {
    "duration": 120,
    "start_time": "2025-03-17T18:53:01.807Z"
   },
   {
    "duration": 28,
    "start_time": "2025-03-17T18:53:01.928Z"
   },
   {
    "duration": 30,
    "start_time": "2025-03-17T18:53:01.958Z"
   },
   {
    "duration": 5,
    "start_time": "2025-03-17T18:53:01.990Z"
   },
   {
    "duration": 174,
    "start_time": "2025-03-17T18:53:01.996Z"
   },
   {
    "duration": 139,
    "start_time": "2025-03-17T18:53:02.172Z"
   },
   {
    "duration": 82,
    "start_time": "2025-03-17T18:53:02.312Z"
   },
   {
    "duration": 5,
    "start_time": "2025-03-17T18:53:02.396Z"
   },
   {
    "duration": 22,
    "start_time": "2025-03-17T18:53:02.403Z"
   },
   {
    "duration": 4734,
    "start_time": "2025-03-17T18:53:02.435Z"
   },
   {
    "duration": 65,
    "start_time": "2025-03-17T18:53:07.171Z"
   },
   {
    "duration": 8,
    "start_time": "2025-03-17T18:53:07.238Z"
   },
   {
    "duration": 149,
    "start_time": "2025-03-17T18:53:07.248Z"
   },
   {
    "duration": 37,
    "start_time": "2025-03-17T18:53:07.399Z"
   },
   {
    "duration": 105,
    "start_time": "2025-03-17T18:53:07.438Z"
   },
   {
    "duration": 13,
    "start_time": "2025-03-17T18:53:07.545Z"
   },
   {
    "duration": 103,
    "start_time": "2025-03-17T18:53:07.562Z"
   },
   {
    "duration": 12,
    "start_time": "2025-03-17T18:53:07.667Z"
   },
   {
    "duration": 22,
    "start_time": "2025-03-17T18:53:07.680Z"
   },
   {
    "duration": 3131,
    "start_time": "2025-03-18T06:04:36.429Z"
   },
   {
    "duration": 1292,
    "start_time": "2025-03-18T06:04:39.562Z"
   },
   {
    "duration": 3042,
    "start_time": "2025-03-18T06:04:40.855Z"
   },
   {
    "duration": 11,
    "start_time": "2025-03-18T06:04:43.899Z"
   },
   {
    "duration": 10,
    "start_time": "2025-03-18T06:04:43.912Z"
   },
   {
    "duration": 23,
    "start_time": "2025-03-18T06:04:43.924Z"
   },
   {
    "duration": 96,
    "start_time": "2025-03-18T06:04:43.948Z"
   },
   {
    "duration": 48,
    "start_time": "2025-03-18T06:04:44.046Z"
   },
   {
    "duration": 27,
    "start_time": "2025-03-18T06:04:44.096Z"
   },
   {
    "duration": 46,
    "start_time": "2025-03-18T06:04:44.126Z"
   },
   {
    "duration": 10,
    "start_time": "2025-03-18T06:04:44.174Z"
   },
   {
    "duration": 25,
    "start_time": "2025-03-18T06:04:44.186Z"
   },
   {
    "duration": 4,
    "start_time": "2025-03-18T06:04:44.235Z"
   },
   {
    "duration": 9,
    "start_time": "2025-03-18T06:04:44.241Z"
   },
   {
    "duration": 25,
    "start_time": "2025-03-18T06:04:44.252Z"
   },
   {
    "duration": 9,
    "start_time": "2025-03-18T06:04:44.279Z"
   },
   {
    "duration": 12,
    "start_time": "2025-03-18T06:04:44.289Z"
   },
   {
    "duration": 34,
    "start_time": "2025-03-18T06:04:44.303Z"
   },
   {
    "duration": 68,
    "start_time": "2025-03-18T06:04:44.339Z"
   },
   {
    "duration": 163,
    "start_time": "2025-03-18T06:04:44.408Z"
   },
   {
    "duration": 6,
    "start_time": "2025-03-18T06:04:44.572Z"
   },
   {
    "duration": 59,
    "start_time": "2025-03-18T06:04:44.579Z"
   },
   {
    "duration": 68,
    "start_time": "2025-03-18T06:04:44.640Z"
   },
   {
    "duration": 46,
    "start_time": "2025-03-18T06:04:44.709Z"
   },
   {
    "duration": 11,
    "start_time": "2025-03-18T06:04:44.756Z"
   },
   {
    "duration": 19,
    "start_time": "2025-03-18T06:04:44.769Z"
   },
   {
    "duration": 55,
    "start_time": "2025-03-18T06:04:44.789Z"
   },
   {
    "duration": 4,
    "start_time": "2025-03-18T06:04:44.847Z"
   },
   {
    "duration": 221,
    "start_time": "2025-03-18T06:04:44.853Z"
   },
   {
    "duration": 138,
    "start_time": "2025-03-18T06:04:45.076Z"
   },
   {
    "duration": 82,
    "start_time": "2025-03-18T06:04:45.215Z"
   },
   {
    "duration": 5,
    "start_time": "2025-03-18T06:04:45.299Z"
   },
   {
    "duration": 29,
    "start_time": "2025-03-18T06:04:45.305Z"
   },
   {
    "duration": 4442,
    "start_time": "2025-03-18T06:04:45.335Z"
   },
   {
    "duration": 67,
    "start_time": "2025-03-18T06:04:49.779Z"
   },
   {
    "duration": 7,
    "start_time": "2025-03-18T06:04:49.848Z"
   },
   {
    "duration": 209,
    "start_time": "2025-03-18T06:04:49.857Z"
   },
   {
    "duration": 28,
    "start_time": "2025-03-18T06:04:50.068Z"
   },
   {
    "duration": 118,
    "start_time": "2025-03-18T06:04:50.098Z"
   },
   {
    "duration": 18,
    "start_time": "2025-03-18T06:04:50.218Z"
   },
   {
    "duration": 26,
    "start_time": "2025-03-18T06:04:50.238Z"
   },
   {
    "duration": 21,
    "start_time": "2025-03-18T06:04:50.266Z"
   },
   {
    "duration": 47,
    "start_time": "2025-03-18T06:04:50.288Z"
   },
   {
    "duration": 95,
    "start_time": "2025-03-18T06:15:54.621Z"
   },
   {
    "duration": 10,
    "start_time": "2025-03-18T06:16:31.520Z"
   },
   {
    "duration": 9,
    "start_time": "2025-03-18T06:16:38.895Z"
   },
   {
    "duration": 10,
    "start_time": "2025-03-18T06:16:41.687Z"
   },
   {
    "duration": 9,
    "start_time": "2025-03-18T06:16:49.215Z"
   },
   {
    "duration": 15,
    "start_time": "2025-03-18T06:17:20.212Z"
   },
   {
    "duration": 4,
    "start_time": "2025-03-18T06:22:30.968Z"
   },
   {
    "duration": 3,
    "start_time": "2025-03-18T06:22:42.665Z"
   },
   {
    "duration": 4,
    "start_time": "2025-03-18T06:22:55.542Z"
   },
   {
    "duration": 3166,
    "start_time": "2025-03-18T09:38:35.647Z"
   },
   {
    "duration": 1386,
    "start_time": "2025-03-18T09:38:38.815Z"
   },
   {
    "duration": 3280,
    "start_time": "2025-03-18T09:38:40.202Z"
   },
   {
    "duration": 13,
    "start_time": "2025-03-18T09:38:43.484Z"
   },
   {
    "duration": 59,
    "start_time": "2025-03-18T09:38:43.499Z"
   },
   {
    "duration": 24,
    "start_time": "2025-03-18T09:38:43.560Z"
   },
   {
    "duration": 97,
    "start_time": "2025-03-18T09:38:43.586Z"
   },
   {
    "duration": 59,
    "start_time": "2025-03-18T09:38:43.685Z"
   },
   {
    "duration": 9,
    "start_time": "2025-03-18T09:38:43.746Z"
   },
   {
    "duration": 53,
    "start_time": "2025-03-18T09:38:43.758Z"
   },
   {
    "duration": 7,
    "start_time": "2025-03-18T09:38:43.813Z"
   },
   {
    "duration": 20,
    "start_time": "2025-03-18T09:38:43.822Z"
   },
   {
    "duration": 5,
    "start_time": "2025-03-18T09:38:43.844Z"
   },
   {
    "duration": 8,
    "start_time": "2025-03-18T09:38:43.850Z"
   },
   {
    "duration": 60,
    "start_time": "2025-03-18T09:38:43.860Z"
   },
   {
    "duration": 10,
    "start_time": "2025-03-18T09:38:43.922Z"
   },
   {
    "duration": 29,
    "start_time": "2025-03-18T09:38:43.933Z"
   },
   {
    "duration": 7,
    "start_time": "2025-03-18T09:38:43.964Z"
   },
   {
    "duration": 22,
    "start_time": "2025-03-18T09:38:43.973Z"
   },
   {
    "duration": 170,
    "start_time": "2025-03-18T09:38:43.996Z"
   },
   {
    "duration": 6,
    "start_time": "2025-03-18T09:38:44.167Z"
   },
   {
    "duration": 8,
    "start_time": "2025-03-18T09:38:44.175Z"
   },
   {
    "duration": 88,
    "start_time": "2025-03-18T09:38:44.185Z"
   },
   {
    "duration": 48,
    "start_time": "2025-03-18T09:38:44.275Z"
   },
   {
    "duration": 12,
    "start_time": "2025-03-18T09:38:44.325Z"
   },
   {
    "duration": 48,
    "start_time": "2025-03-18T09:38:44.339Z"
   },
   {
    "duration": 30,
    "start_time": "2025-03-18T09:38:44.389Z"
   },
   {
    "duration": 5,
    "start_time": "2025-03-18T09:38:44.423Z"
   },
   {
    "duration": 192,
    "start_time": "2025-03-18T09:38:44.429Z"
   },
   {
    "duration": 146,
    "start_time": "2025-03-18T09:38:44.623Z"
   },
   {
    "duration": 87,
    "start_time": "2025-03-18T09:38:44.771Z"
   },
   {
    "duration": 7,
    "start_time": "2025-03-18T09:38:44.860Z"
   },
   {
    "duration": 19,
    "start_time": "2025-03-18T09:38:44.869Z"
   },
   {
    "duration": 4503,
    "start_time": "2025-03-18T09:38:44.890Z"
   },
   {
    "duration": 57,
    "start_time": "2025-03-18T09:38:49.395Z"
   },
   {
    "duration": 8,
    "start_time": "2025-03-18T09:38:49.453Z"
   },
   {
    "duration": 235,
    "start_time": "2025-03-18T09:38:49.463Z"
   },
   {
    "duration": 29,
    "start_time": "2025-03-18T09:38:49.699Z"
   },
   {
    "duration": 105,
    "start_time": "2025-03-18T09:38:49.729Z"
   },
   {
    "duration": 13,
    "start_time": "2025-03-18T09:38:49.835Z"
   },
   {
    "duration": 25,
    "start_time": "2025-03-18T09:38:49.850Z"
   },
   {
    "duration": 41,
    "start_time": "2025-03-18T09:38:49.876Z"
   },
   {
    "duration": 24,
    "start_time": "2025-03-18T09:38:49.919Z"
   },
   {
    "duration": 5,
    "start_time": "2025-03-18T09:38:49.945Z"
   },
   {
    "duration": 3439,
    "start_time": "2025-03-18T18:36:33.877Z"
   },
   {
    "duration": 1270,
    "start_time": "2025-03-18T18:36:37.318Z"
   },
   {
    "duration": 2864,
    "start_time": "2025-03-18T18:36:38.590Z"
   },
   {
    "duration": 12,
    "start_time": "2025-03-18T18:36:41.455Z"
   },
   {
    "duration": 49,
    "start_time": "2025-03-18T18:36:41.469Z"
   },
   {
    "duration": 24,
    "start_time": "2025-03-18T18:36:41.519Z"
   },
   {
    "duration": 100,
    "start_time": "2025-03-18T18:36:41.544Z"
   },
   {
    "duration": 52,
    "start_time": "2025-03-18T18:36:41.645Z"
   },
   {
    "duration": 63,
    "start_time": "2025-03-18T18:36:41.698Z"
   },
   {
    "duration": 50,
    "start_time": "2025-03-18T18:36:41.763Z"
   },
   {
    "duration": 7,
    "start_time": "2025-03-18T18:36:41.814Z"
   },
   {
    "duration": 25,
    "start_time": "2025-03-18T18:36:41.822Z"
   },
   {
    "duration": 5,
    "start_time": "2025-03-18T18:36:41.848Z"
   },
   {
    "duration": 12,
    "start_time": "2025-03-18T18:36:41.856Z"
   },
   {
    "duration": 32,
    "start_time": "2025-03-18T18:36:41.870Z"
   },
   {
    "duration": 15,
    "start_time": "2025-03-18T18:36:41.903Z"
   },
   {
    "duration": 41,
    "start_time": "2025-03-18T18:36:41.920Z"
   },
   {
    "duration": 9,
    "start_time": "2025-03-18T18:36:41.963Z"
   },
   {
    "duration": 23,
    "start_time": "2025-03-18T18:36:41.974Z"
   },
   {
    "duration": 170,
    "start_time": "2025-03-18T18:36:41.998Z"
   },
   {
    "duration": 5,
    "start_time": "2025-03-18T18:36:42.169Z"
   },
   {
    "duration": 8,
    "start_time": "2025-03-18T18:36:42.176Z"
   },
   {
    "duration": 88,
    "start_time": "2025-03-18T18:36:42.185Z"
   },
   {
    "duration": 36,
    "start_time": "2025-03-18T18:36:42.275Z"
   },
   {
    "duration": 20,
    "start_time": "2025-03-18T18:36:42.312Z"
   },
   {
    "duration": 38,
    "start_time": "2025-03-18T18:36:42.334Z"
   },
   {
    "duration": 75,
    "start_time": "2025-03-18T18:36:42.374Z"
   },
   {
    "duration": 66,
    "start_time": "2025-03-18T18:36:42.451Z"
   },
   {
    "duration": 166,
    "start_time": "2025-03-18T18:36:42.519Z"
   },
   {
    "duration": 145,
    "start_time": "2025-03-18T18:36:42.687Z"
   },
   {
    "duration": 83,
    "start_time": "2025-03-18T18:36:42.834Z"
   },
   {
    "duration": 7,
    "start_time": "2025-03-18T18:36:42.918Z"
   },
   {
    "duration": 19,
    "start_time": "2025-03-18T18:36:42.927Z"
   },
   {
    "duration": 4804,
    "start_time": "2025-03-18T18:36:42.961Z"
   },
   {
    "duration": 52,
    "start_time": "2025-03-18T18:36:47.767Z"
   },
   {
    "duration": 39,
    "start_time": "2025-03-18T18:36:47.821Z"
   },
   {
    "duration": 162,
    "start_time": "2025-03-18T18:36:47.862Z"
   },
   {
    "duration": 29,
    "start_time": "2025-03-18T18:36:48.026Z"
   },
   {
    "duration": 107,
    "start_time": "2025-03-18T18:36:48.056Z"
   },
   {
    "duration": 14,
    "start_time": "2025-03-18T18:36:48.164Z"
   },
   {
    "duration": 25,
    "start_time": "2025-03-18T18:36:48.182Z"
   },
   {
    "duration": 12,
    "start_time": "2025-03-18T18:36:48.209Z"
   },
   {
    "duration": 45,
    "start_time": "2025-03-18T18:36:48.223Z"
   },
   {
    "duration": 6,
    "start_time": "2025-03-18T18:59:49.918Z"
   },
   {
    "duration": 3640,
    "start_time": "2025-03-19T18:39:37.019Z"
   },
   {
    "duration": 1552,
    "start_time": "2025-03-19T18:39:40.661Z"
   },
   {
    "duration": 2506,
    "start_time": "2025-03-19T18:39:42.215Z"
   },
   {
    "duration": 15,
    "start_time": "2025-03-19T18:39:44.725Z"
   },
   {
    "duration": 15,
    "start_time": "2025-03-19T18:39:44.742Z"
   },
   {
    "duration": 50,
    "start_time": "2025-03-19T18:39:44.758Z"
   },
   {
    "duration": 109,
    "start_time": "2025-03-19T18:39:44.810Z"
   },
   {
    "duration": 98,
    "start_time": "2025-03-19T18:39:44.921Z"
   },
   {
    "duration": 8,
    "start_time": "2025-03-19T18:39:45.021Z"
   },
   {
    "duration": 68,
    "start_time": "2025-03-19T18:39:45.031Z"
   },
   {
    "duration": 7,
    "start_time": "2025-03-19T18:39:45.101Z"
   },
   {
    "duration": 53,
    "start_time": "2025-03-19T18:39:45.110Z"
   },
   {
    "duration": 21,
    "start_time": "2025-03-19T18:39:45.165Z"
   },
   {
    "duration": 26,
    "start_time": "2025-03-19T18:39:45.188Z"
   },
   {
    "duration": 47,
    "start_time": "2025-03-19T18:39:45.216Z"
   },
   {
    "duration": 26,
    "start_time": "2025-03-19T18:39:45.265Z"
   },
   {
    "duration": 31,
    "start_time": "2025-03-19T18:39:45.292Z"
   },
   {
    "duration": 7,
    "start_time": "2025-03-19T18:39:45.325Z"
   },
   {
    "duration": 30,
    "start_time": "2025-03-19T18:39:45.333Z"
   },
   {
    "duration": 201,
    "start_time": "2025-03-19T18:39:45.365Z"
   },
   {
    "duration": 6,
    "start_time": "2025-03-19T18:39:45.568Z"
   },
   {
    "duration": 11,
    "start_time": "2025-03-19T18:39:45.575Z"
   },
   {
    "duration": 77,
    "start_time": "2025-03-19T18:39:45.604Z"
   },
   {
    "duration": 45,
    "start_time": "2025-03-19T18:39:45.682Z"
   },
   {
    "duration": 13,
    "start_time": "2025-03-19T18:39:45.729Z"
   },
   {
    "duration": 28,
    "start_time": "2025-03-19T18:39:45.743Z"
   },
   {
    "duration": 55,
    "start_time": "2025-03-19T18:39:45.773Z"
   },
   {
    "duration": 6,
    "start_time": "2025-03-19T18:39:45.831Z"
   },
   {
    "duration": 202,
    "start_time": "2025-03-19T18:39:45.838Z"
   },
   {
    "duration": 175,
    "start_time": "2025-03-19T18:39:46.041Z"
   },
   {
    "duration": 124,
    "start_time": "2025-03-19T18:39:46.217Z"
   },
   {
    "duration": 7,
    "start_time": "2025-03-19T18:39:46.342Z"
   },
   {
    "duration": 31,
    "start_time": "2025-03-19T18:39:46.351Z"
   },
   {
    "duration": 5071,
    "start_time": "2025-03-19T18:39:46.384Z"
   },
   {
    "duration": 67,
    "start_time": "2025-03-19T18:39:51.457Z"
   },
   {
    "duration": 7,
    "start_time": "2025-03-19T18:39:51.526Z"
   },
   {
    "duration": 269,
    "start_time": "2025-03-19T18:39:51.535Z"
   },
   {
    "duration": 32,
    "start_time": "2025-03-19T18:39:51.806Z"
   },
   {
    "duration": 124,
    "start_time": "2025-03-19T18:39:51.840Z"
   },
   {
    "duration": 17,
    "start_time": "2025-03-19T18:39:51.966Z"
   },
   {
    "duration": 46,
    "start_time": "2025-03-19T18:39:51.984Z"
   },
   {
    "duration": 23,
    "start_time": "2025-03-19T18:39:52.032Z"
   },
   {
    "duration": 51,
    "start_time": "2025-03-19T18:39:52.057Z"
   },
   {
    "duration": 29,
    "start_time": "2025-03-19T18:39:52.110Z"
   },
   {
    "duration": 98,
    "start_time": "2025-03-19T18:41:40.472Z"
   },
   {
    "duration": 95,
    "start_time": "2025-03-19T18:57:02.047Z"
   },
   {
    "duration": 107,
    "start_time": "2025-03-19T19:20:33.882Z"
   },
   {
    "duration": 103,
    "start_time": "2025-03-19T19:31:11.330Z"
   },
   {
    "duration": 99,
    "start_time": "2025-03-19T19:36:45.631Z"
   },
   {
    "duration": 29,
    "start_time": "2025-03-19T19:39:54.365Z"
   },
   {
    "duration": 80,
    "start_time": "2025-03-19T19:49:17.744Z"
   },
   {
    "duration": 20,
    "start_time": "2025-03-19T19:49:21.391Z"
   },
   {
    "duration": 51,
    "start_time": "2025-03-19T19:49:37.871Z"
   },
   {
    "duration": 156,
    "start_time": "2025-03-19T19:57:36.144Z"
   },
   {
    "duration": 20,
    "start_time": "2025-03-19T19:58:37.666Z"
   },
   {
    "duration": 44,
    "start_time": "2025-03-19T19:59:23.305Z"
   },
   {
    "duration": 14,
    "start_time": "2025-03-19T19:59:31.157Z"
   },
   {
    "duration": 57,
    "start_time": "2025-03-19T20:07:08.286Z"
   },
   {
    "duration": 106,
    "start_time": "2025-03-19T20:07:30.330Z"
   },
   {
    "duration": 63,
    "start_time": "2025-03-19T20:08:01.291Z"
   },
   {
    "duration": 66,
    "start_time": "2025-03-19T20:09:32.368Z"
   },
   {
    "duration": 3177,
    "start_time": "2025-03-20T05:39:03.111Z"
   },
   {
    "duration": 1284,
    "start_time": "2025-03-20T05:39:06.291Z"
   },
   {
    "duration": 2137,
    "start_time": "2025-03-20T05:39:07.576Z"
   },
   {
    "duration": 11,
    "start_time": "2025-03-20T05:39:09.715Z"
   },
   {
    "duration": 11,
    "start_time": "2025-03-20T05:39:09.727Z"
   },
   {
    "duration": 22,
    "start_time": "2025-03-20T05:39:09.740Z"
   },
   {
    "duration": 116,
    "start_time": "2025-03-20T05:39:09.763Z"
   },
   {
    "duration": 43,
    "start_time": "2025-03-20T05:39:09.881Z"
   },
   {
    "duration": 8,
    "start_time": "2025-03-20T05:39:09.925Z"
   },
   {
    "duration": 54,
    "start_time": "2025-03-20T05:39:09.936Z"
   },
   {
    "duration": 8,
    "start_time": "2025-03-20T05:39:09.992Z"
   },
   {
    "duration": 31,
    "start_time": "2025-03-20T05:39:10.002Z"
   },
   {
    "duration": 24,
    "start_time": "2025-03-20T05:39:10.035Z"
   },
   {
    "duration": 41,
    "start_time": "2025-03-20T05:39:10.060Z"
   },
   {
    "duration": 30,
    "start_time": "2025-03-20T05:39:10.102Z"
   },
   {
    "duration": 19,
    "start_time": "2025-03-20T05:39:10.133Z"
   },
   {
    "duration": 12,
    "start_time": "2025-03-20T05:39:10.154Z"
   },
   {
    "duration": 7,
    "start_time": "2025-03-20T05:39:10.167Z"
   },
   {
    "duration": 12,
    "start_time": "2025-03-20T05:39:10.175Z"
   },
   {
    "duration": 169,
    "start_time": "2025-03-20T05:39:10.189Z"
   },
   {
    "duration": 9,
    "start_time": "2025-03-20T05:39:10.360Z"
   },
   {
    "duration": 7,
    "start_time": "2025-03-20T05:39:10.370Z"
   },
   {
    "duration": 89,
    "start_time": "2025-03-20T05:39:10.379Z"
   },
   {
    "duration": 35,
    "start_time": "2025-03-20T05:39:10.470Z"
   },
   {
    "duration": 40,
    "start_time": "2025-03-20T05:39:10.507Z"
   },
   {
    "duration": 22,
    "start_time": "2025-03-20T05:39:10.549Z"
   },
   {
    "duration": 31,
    "start_time": "2025-03-20T05:39:10.572Z"
   },
   {
    "duration": 5,
    "start_time": "2025-03-20T05:39:10.605Z"
   },
   {
    "duration": 172,
    "start_time": "2025-03-20T05:39:10.612Z"
   },
   {
    "duration": 130,
    "start_time": "2025-03-20T05:39:10.785Z"
   },
   {
    "duration": 84,
    "start_time": "2025-03-20T05:39:10.917Z"
   },
   {
    "duration": 6,
    "start_time": "2025-03-20T05:39:11.003Z"
   },
   {
    "duration": 17,
    "start_time": "2025-03-20T05:39:11.011Z"
   },
   {
    "duration": 4600,
    "start_time": "2025-03-20T05:39:11.029Z"
   },
   {
    "duration": 59,
    "start_time": "2025-03-20T05:39:15.631Z"
   },
   {
    "duration": 6,
    "start_time": "2025-03-20T05:39:15.691Z"
   },
   {
    "duration": 145,
    "start_time": "2025-03-20T05:39:15.699Z"
   },
   {
    "duration": 36,
    "start_time": "2025-03-20T05:39:15.845Z"
   },
   {
    "duration": 100,
    "start_time": "2025-03-20T05:39:15.883Z"
   },
   {
    "duration": 14,
    "start_time": "2025-03-20T05:39:15.985Z"
   },
   {
    "duration": 24,
    "start_time": "2025-03-20T05:39:16.001Z"
   },
   {
    "duration": 20,
    "start_time": "2025-03-20T05:39:16.027Z"
   },
   {
    "duration": 20,
    "start_time": "2025-03-20T05:39:16.068Z"
   },
   {
    "duration": 27,
    "start_time": "2025-03-20T05:39:16.089Z"
   },
   {
    "duration": 102,
    "start_time": "2025-03-20T06:31:14.915Z"
   },
   {
    "duration": 8,
    "start_time": "2025-03-20T06:31:22.419Z"
   },
   {
    "duration": 8,
    "start_time": "2025-03-20T06:50:12.990Z"
   },
   {
    "duration": 5,
    "start_time": "2025-03-20T07:03:50.048Z"
   },
   {
    "duration": 21,
    "start_time": "2025-03-20T08:48:05.744Z"
   },
   {
    "duration": 99,
    "start_time": "2025-03-20T08:48:15.377Z"
   },
   {
    "duration": 137,
    "start_time": "2025-03-20T08:52:43.657Z"
   },
   {
    "duration": 2383,
    "start_time": "2025-03-20T11:05:23.341Z"
   },
   {
    "duration": 1128,
    "start_time": "2025-03-20T11:05:25.726Z"
   },
   {
    "duration": 2456,
    "start_time": "2025-03-20T11:05:26.856Z"
   },
   {
    "duration": 11,
    "start_time": "2025-03-20T11:05:29.314Z"
   },
   {
    "duration": 10,
    "start_time": "2025-03-20T11:05:29.326Z"
   },
   {
    "duration": 21,
    "start_time": "2025-03-20T11:05:29.338Z"
   },
   {
    "duration": 98,
    "start_time": "2025-03-20T11:05:29.360Z"
   },
   {
    "duration": 43,
    "start_time": "2025-03-20T11:05:29.459Z"
   },
   {
    "duration": 8,
    "start_time": "2025-03-20T11:05:29.503Z"
   },
   {
    "duration": 40,
    "start_time": "2025-03-20T11:05:29.513Z"
   },
   {
    "duration": 6,
    "start_time": "2025-03-20T11:05:29.567Z"
   },
   {
    "duration": 45,
    "start_time": "2025-03-20T11:05:29.575Z"
   },
   {
    "duration": 24,
    "start_time": "2025-03-20T11:05:29.622Z"
   },
   {
    "duration": 14,
    "start_time": "2025-03-20T11:05:29.647Z"
   },
   {
    "duration": 26,
    "start_time": "2025-03-20T11:05:29.662Z"
   },
   {
    "duration": 8,
    "start_time": "2025-03-20T11:05:29.690Z"
   },
   {
    "duration": 14,
    "start_time": "2025-03-20T11:05:29.700Z"
   },
   {
    "duration": 5,
    "start_time": "2025-03-20T11:05:29.716Z"
   },
   {
    "duration": 12,
    "start_time": "2025-03-20T11:05:29.723Z"
   },
   {
    "duration": 170,
    "start_time": "2025-03-20T11:05:29.737Z"
   },
   {
    "duration": 6,
    "start_time": "2025-03-20T11:05:29.908Z"
   },
   {
    "duration": 14,
    "start_time": "2025-03-20T11:05:29.916Z"
   },
   {
    "duration": 84,
    "start_time": "2025-03-20T11:05:29.932Z"
   },
   {
    "duration": 36,
    "start_time": "2025-03-20T11:05:30.018Z"
   },
   {
    "duration": 18,
    "start_time": "2025-03-20T11:05:30.067Z"
   },
   {
    "duration": 75,
    "start_time": "2025-03-20T11:05:30.087Z"
   },
   {
    "duration": 103,
    "start_time": "2025-03-20T11:05:30.164Z"
   },
   {
    "duration": 20,
    "start_time": "2025-03-20T11:05:30.271Z"
   },
   {
    "duration": 180,
    "start_time": "2025-03-20T11:05:30.293Z"
   },
   {
    "duration": 150,
    "start_time": "2025-03-20T11:05:30.475Z"
   },
   {
    "duration": 87,
    "start_time": "2025-03-20T11:05:30.627Z"
   },
   {
    "duration": 6,
    "start_time": "2025-03-20T11:05:30.716Z"
   },
   {
    "duration": 52,
    "start_time": "2025-03-20T11:05:30.724Z"
   },
   {
    "duration": 4798,
    "start_time": "2025-03-20T11:05:30.778Z"
   },
   {
    "duration": 55,
    "start_time": "2025-03-20T11:05:35.578Z"
   },
   {
    "duration": 23,
    "start_time": "2025-03-20T11:05:35.635Z"
   },
   {
    "duration": 188,
    "start_time": "2025-03-20T11:05:35.660Z"
   },
   {
    "duration": 33,
    "start_time": "2025-03-20T11:05:35.850Z"
   },
   {
    "duration": 108,
    "start_time": "2025-03-20T11:05:35.885Z"
   },
   {
    "duration": 14,
    "start_time": "2025-03-20T11:05:35.995Z"
   },
   {
    "duration": 24,
    "start_time": "2025-03-20T11:05:36.010Z"
   },
   {
    "duration": 36,
    "start_time": "2025-03-20T11:05:36.036Z"
   },
   {
    "duration": 40,
    "start_time": "2025-03-20T11:05:36.074Z"
   },
   {
    "duration": 28,
    "start_time": "2025-03-20T11:05:36.115Z"
   },
   {
    "duration": 55,
    "start_time": "2025-03-20T11:05:36.145Z"
   },
   {
    "duration": 325,
    "start_time": "2025-03-20T11:05:36.202Z"
   },
   {
    "duration": 137,
    "start_time": "2025-03-20T11:07:56.681Z"
   },
   {
    "duration": 193,
    "start_time": "2025-03-20T11:08:12.834Z"
   },
   {
    "duration": 105,
    "start_time": "2025-03-20T11:08:16.905Z"
   },
   {
    "duration": 2418,
    "start_time": "2025-03-20T11:08:25.614Z"
   },
   {
    "duration": 1169,
    "start_time": "2025-03-20T11:08:28.034Z"
   },
   {
    "duration": 3265,
    "start_time": "2025-03-20T11:08:29.205Z"
   },
   {
    "duration": 13,
    "start_time": "2025-03-20T11:08:32.472Z"
   },
   {
    "duration": 11,
    "start_time": "2025-03-20T11:08:32.487Z"
   },
   {
    "duration": 23,
    "start_time": "2025-03-20T11:08:32.499Z"
   },
   {
    "duration": 117,
    "start_time": "2025-03-20T11:08:32.524Z"
   },
   {
    "duration": 54,
    "start_time": "2025-03-20T11:08:32.642Z"
   },
   {
    "duration": 9,
    "start_time": "2025-03-20T11:08:32.697Z"
   },
   {
    "duration": 57,
    "start_time": "2025-03-20T11:08:32.710Z"
   },
   {
    "duration": 8,
    "start_time": "2025-03-20T11:08:32.769Z"
   },
   {
    "duration": 23,
    "start_time": "2025-03-20T11:08:32.778Z"
   },
   {
    "duration": 4,
    "start_time": "2025-03-20T11:08:32.803Z"
   },
   {
    "duration": 20,
    "start_time": "2025-03-20T11:08:32.808Z"
   },
   {
    "duration": 43,
    "start_time": "2025-03-20T11:08:32.829Z"
   },
   {
    "duration": 11,
    "start_time": "2025-03-20T11:08:32.873Z"
   },
   {
    "duration": 15,
    "start_time": "2025-03-20T11:08:32.886Z"
   },
   {
    "duration": 11,
    "start_time": "2025-03-20T11:08:32.903Z"
   },
   {
    "duration": 31,
    "start_time": "2025-03-20T11:08:32.916Z"
   },
   {
    "duration": 170,
    "start_time": "2025-03-20T11:08:32.949Z"
   },
   {
    "duration": 5,
    "start_time": "2025-03-20T11:08:33.120Z"
   },
   {
    "duration": 23,
    "start_time": "2025-03-20T11:08:33.127Z"
   },
   {
    "duration": 77,
    "start_time": "2025-03-20T11:08:33.151Z"
   },
   {
    "duration": 39,
    "start_time": "2025-03-20T11:08:33.230Z"
   },
   {
    "duration": 12,
    "start_time": "2025-03-20T11:08:33.271Z"
   },
   {
    "duration": 21,
    "start_time": "2025-03-20T11:08:33.285Z"
   },
   {
    "duration": 60,
    "start_time": "2025-03-20T11:08:33.308Z"
   },
   {
    "duration": 5,
    "start_time": "2025-03-20T11:08:33.373Z"
   },
   {
    "duration": 167,
    "start_time": "2025-03-20T11:08:33.379Z"
   },
   {
    "duration": 136,
    "start_time": "2025-03-20T11:08:33.548Z"
   },
   {
    "duration": 87,
    "start_time": "2025-03-20T11:08:33.686Z"
   },
   {
    "duration": 5,
    "start_time": "2025-03-20T11:08:33.774Z"
   },
   {
    "duration": 14,
    "start_time": "2025-03-20T11:08:33.781Z"
   },
   {
    "duration": 4786,
    "start_time": "2025-03-20T11:08:33.796Z"
   },
   {
    "duration": 59,
    "start_time": "2025-03-20T11:08:38.584Z"
   },
   {
    "duration": 24,
    "start_time": "2025-03-20T11:08:38.645Z"
   },
   {
    "duration": 151,
    "start_time": "2025-03-20T11:08:38.671Z"
   },
   {
    "duration": 44,
    "start_time": "2025-03-20T11:08:38.824Z"
   },
   {
    "duration": 123,
    "start_time": "2025-03-20T11:08:38.870Z"
   },
   {
    "duration": 21,
    "start_time": "2025-03-20T11:08:38.995Z"
   },
   {
    "duration": 26,
    "start_time": "2025-03-20T11:08:39.018Z"
   },
   {
    "duration": 38,
    "start_time": "2025-03-20T11:08:39.045Z"
   },
   {
    "duration": 23,
    "start_time": "2025-03-20T11:08:39.085Z"
   },
   {
    "duration": 28,
    "start_time": "2025-03-20T11:08:39.110Z"
   },
   {
    "duration": 28,
    "start_time": "2025-03-20T11:08:39.140Z"
   },
   {
    "duration": 225,
    "start_time": "2025-03-20T11:08:39.170Z"
   },
   {
    "duration": 12,
    "start_time": "2025-03-20T11:11:04.706Z"
   },
   {
    "duration": 9,
    "start_time": "2025-03-20T11:11:10.185Z"
   },
   {
    "duration": 137,
    "start_time": "2025-03-20T11:11:14.634Z"
   },
   {
    "duration": 8,
    "start_time": "2025-03-20T11:52:56.808Z"
   },
   {
    "duration": 5,
    "start_time": "2025-03-20T11:53:02.681Z"
   },
   {
    "duration": 14,
    "start_time": "2025-03-20T11:53:10.168Z"
   },
   {
    "duration": 8,
    "start_time": "2025-03-20T12:14:28.366Z"
   },
   {
    "duration": 14,
    "start_time": "2025-03-20T12:17:03.588Z"
   },
   {
    "duration": 5,
    "start_time": "2025-03-20T12:19:12.046Z"
   },
   {
    "duration": 7,
    "start_time": "2025-03-20T12:20:03.751Z"
   },
   {
    "duration": 7,
    "start_time": "2025-03-20T12:20:11.455Z"
   },
   {
    "duration": 7,
    "start_time": "2025-03-20T12:20:20.303Z"
   },
   {
    "duration": 7,
    "start_time": "2025-03-20T12:20:32.799Z"
   },
   {
    "duration": 6,
    "start_time": "2025-03-20T12:20:50.279Z"
   },
   {
    "duration": 7,
    "start_time": "2025-03-20T12:21:10.936Z"
   },
   {
    "duration": 7,
    "start_time": "2025-03-20T12:21:16.632Z"
   },
   {
    "duration": 7,
    "start_time": "2025-03-20T12:21:24.288Z"
   },
   {
    "duration": 6,
    "start_time": "2025-03-20T12:21:34.755Z"
   },
   {
    "duration": 6,
    "start_time": "2025-03-20T12:21:41.352Z"
   },
   {
    "duration": 6,
    "start_time": "2025-03-20T12:21:47.192Z"
   },
   {
    "duration": 6,
    "start_time": "2025-03-20T12:23:07.152Z"
   },
   {
    "duration": 7,
    "start_time": "2025-03-20T12:23:12.576Z"
   },
   {
    "duration": 8,
    "start_time": "2025-03-20T12:25:05.572Z"
   },
   {
    "duration": 5,
    "start_time": "2025-03-20T12:30:10.562Z"
   },
   {
    "duration": 5,
    "start_time": "2025-03-20T12:30:16.395Z"
   },
   {
    "duration": 4,
    "start_time": "2025-03-20T12:30:19.619Z"
   },
   {
    "duration": 5,
    "start_time": "2025-03-20T12:30:22.693Z"
   },
   {
    "duration": 5,
    "start_time": "2025-03-20T12:30:26.496Z"
   },
   {
    "duration": 5,
    "start_time": "2025-03-20T12:30:34.427Z"
   },
   {
    "duration": 5,
    "start_time": "2025-03-20T12:30:38.717Z"
   },
   {
    "duration": 5,
    "start_time": "2025-03-20T12:30:44.086Z"
   },
   {
    "duration": 5,
    "start_time": "2025-03-20T12:30:47.651Z"
   },
   {
    "duration": 6,
    "start_time": "2025-03-20T12:32:07.293Z"
   },
   {
    "duration": 6,
    "start_time": "2025-03-20T12:33:14.996Z"
   },
   {
    "duration": 7,
    "start_time": "2025-03-20T12:58:23.224Z"
   },
   {
    "duration": 7,
    "start_time": "2025-03-20T12:58:27.104Z"
   },
   {
    "duration": 6,
    "start_time": "2025-03-20T12:58:31.776Z"
   },
   {
    "duration": 7,
    "start_time": "2025-03-20T12:58:36.376Z"
   },
   {
    "duration": 6,
    "start_time": "2025-03-20T12:58:40.976Z"
   },
   {
    "duration": 7,
    "start_time": "2025-03-20T12:59:07.088Z"
   },
   {
    "duration": 7,
    "start_time": "2025-03-20T12:59:11.168Z"
   },
   {
    "duration": 2977,
    "start_time": "2025-03-21T05:45:17.133Z"
   },
   {
    "duration": 1262,
    "start_time": "2025-03-21T05:45:20.112Z"
   },
   {
    "duration": 2865,
    "start_time": "2025-03-21T05:45:21.376Z"
   },
   {
    "duration": 12,
    "start_time": "2025-03-21T05:45:24.243Z"
   },
   {
    "duration": 11,
    "start_time": "2025-03-21T05:45:24.256Z"
   },
   {
    "duration": 22,
    "start_time": "2025-03-21T05:45:24.269Z"
   },
   {
    "duration": 101,
    "start_time": "2025-03-21T05:45:24.293Z"
   },
   {
    "duration": 43,
    "start_time": "2025-03-21T05:45:24.396Z"
   },
   {
    "duration": 8,
    "start_time": "2025-03-21T05:45:24.440Z"
   },
   {
    "duration": 51,
    "start_time": "2025-03-21T05:45:24.450Z"
   },
   {
    "duration": 6,
    "start_time": "2025-03-21T05:45:24.503Z"
   },
   {
    "duration": 17,
    "start_time": "2025-03-21T05:45:24.511Z"
   },
   {
    "duration": 4,
    "start_time": "2025-03-21T05:45:24.529Z"
   },
   {
    "duration": 36,
    "start_time": "2025-03-21T05:45:24.534Z"
   },
   {
    "duration": 24,
    "start_time": "2025-03-21T05:45:24.572Z"
   },
   {
    "duration": 12,
    "start_time": "2025-03-21T05:45:24.598Z"
   },
   {
    "duration": 12,
    "start_time": "2025-03-21T05:45:24.612Z"
   },
   {
    "duration": 7,
    "start_time": "2025-03-21T05:45:24.626Z"
   },
   {
    "duration": 41,
    "start_time": "2025-03-21T05:45:24.634Z"
   },
   {
    "duration": 168,
    "start_time": "2025-03-21T05:45:24.676Z"
   },
   {
    "duration": 6,
    "start_time": "2025-03-21T05:45:24.845Z"
   },
   {
    "duration": 18,
    "start_time": "2025-03-21T05:45:24.853Z"
   },
   {
    "duration": 69,
    "start_time": "2025-03-21T05:45:24.872Z"
   },
   {
    "duration": 55,
    "start_time": "2025-03-21T05:45:24.942Z"
   },
   {
    "duration": 11,
    "start_time": "2025-03-21T05:45:24.999Z"
   },
   {
    "duration": 21,
    "start_time": "2025-03-21T05:45:25.011Z"
   },
   {
    "duration": 50,
    "start_time": "2025-03-21T05:45:25.034Z"
   },
   {
    "duration": 4,
    "start_time": "2025-03-21T05:45:25.087Z"
   },
   {
    "duration": 161,
    "start_time": "2025-03-21T05:45:25.093Z"
   },
   {
    "duration": 124,
    "start_time": "2025-03-21T05:45:25.255Z"
   },
   {
    "duration": 72,
    "start_time": "2025-03-21T05:45:25.380Z"
   },
   {
    "duration": 18,
    "start_time": "2025-03-21T05:45:25.453Z"
   },
   {
    "duration": 14,
    "start_time": "2025-03-21T05:45:25.473Z"
   },
   {
    "duration": 4456,
    "start_time": "2025-03-21T05:45:25.489Z"
   },
   {
    "duration": 59,
    "start_time": "2025-03-21T05:45:29.947Z"
   },
   {
    "duration": 7,
    "start_time": "2025-03-21T05:45:30.007Z"
   },
   {
    "duration": 204,
    "start_time": "2025-03-21T05:45:30.015Z"
   },
   {
    "duration": 25,
    "start_time": "2025-03-21T05:45:30.221Z"
   },
   {
    "duration": 146,
    "start_time": "2025-03-21T05:45:30.247Z"
   },
   {
    "duration": 13,
    "start_time": "2025-03-21T05:45:30.394Z"
   },
   {
    "duration": 98,
    "start_time": "2025-03-21T05:45:30.408Z"
   },
   {
    "duration": 42,
    "start_time": "2025-03-21T05:45:30.507Z"
   },
   {
    "duration": 70,
    "start_time": "2025-03-21T05:45:30.550Z"
   },
   {
    "duration": 70,
    "start_time": "2025-03-21T05:45:30.622Z"
   },
   {
    "duration": 169,
    "start_time": "2025-03-21T05:45:30.694Z"
   },
   {
    "duration": 8,
    "start_time": "2025-03-21T05:45:30.865Z"
   },
   {
    "duration": 76,
    "start_time": "2025-03-21T05:45:30.874Z"
   },
   {
    "duration": 18,
    "start_time": "2025-03-21T05:45:30.952Z"
   },
   {
    "duration": 28,
    "start_time": "2025-03-21T05:45:30.971Z"
   },
   {
    "duration": 7,
    "start_time": "2025-03-21T05:46:18.200Z"
   },
   {
    "duration": 7,
    "start_time": "2025-03-21T05:46:27.747Z"
   },
   {
    "duration": 7,
    "start_time": "2025-03-21T05:46:35.785Z"
   },
   {
    "duration": 148,
    "start_time": "2025-03-21T07:07:22.968Z"
   },
   {
    "duration": 20,
    "start_time": "2025-03-21T07:07:35.808Z"
   },
   {
    "duration": 20,
    "start_time": "2025-03-21T07:10:07.040Z"
   },
   {
    "duration": 28,
    "start_time": "2025-03-21T07:10:37.097Z"
   },
   {
    "duration": 20,
    "start_time": "2025-03-21T07:13:10.402Z"
   },
   {
    "duration": 21,
    "start_time": "2025-03-21T07:16:37.409Z"
   },
   {
    "duration": 24,
    "start_time": "2025-03-21T07:23:49.419Z"
   },
   {
    "duration": 18,
    "start_time": "2025-03-21T07:25:06.013Z"
   },
   {
    "duration": 8,
    "start_time": "2025-03-21T07:25:11.898Z"
   },
   {
    "duration": 13,
    "start_time": "2025-03-21T07:44:49.410Z"
   },
   {
    "duration": 4,
    "start_time": "2025-03-21T08:10:29.793Z"
   },
   {
    "duration": 2313,
    "start_time": "2025-03-21T08:11:42.473Z"
   },
   {
    "duration": 1184,
    "start_time": "2025-03-21T08:11:44.788Z"
   },
   {
    "duration": 2198,
    "start_time": "2025-03-21T08:11:45.974Z"
   },
   {
    "duration": 11,
    "start_time": "2025-03-21T08:11:48.174Z"
   },
   {
    "duration": 14,
    "start_time": "2025-03-21T08:11:48.187Z"
   },
   {
    "duration": 23,
    "start_time": "2025-03-21T08:11:48.203Z"
   },
   {
    "duration": 111,
    "start_time": "2025-03-21T08:11:48.227Z"
   },
   {
    "duration": 51,
    "start_time": "2025-03-21T08:11:48.340Z"
   },
   {
    "duration": 8,
    "start_time": "2025-03-21T08:11:48.393Z"
   },
   {
    "duration": 42,
    "start_time": "2025-03-21T08:11:48.404Z"
   },
   {
    "duration": 22,
    "start_time": "2025-03-21T08:11:48.448Z"
   },
   {
    "duration": 25,
    "start_time": "2025-03-21T08:11:48.472Z"
   },
   {
    "duration": 5,
    "start_time": "2025-03-21T08:11:48.498Z"
   },
   {
    "duration": 18,
    "start_time": "2025-03-21T08:11:48.505Z"
   },
   {
    "duration": 42,
    "start_time": "2025-03-21T08:11:48.525Z"
   },
   {
    "duration": 9,
    "start_time": "2025-03-21T08:11:48.569Z"
   },
   {
    "duration": 28,
    "start_time": "2025-03-21T08:11:48.580Z"
   },
   {
    "duration": 9,
    "start_time": "2025-03-21T08:11:48.610Z"
   },
   {
    "duration": 11,
    "start_time": "2025-03-21T08:11:48.620Z"
   },
   {
    "duration": 171,
    "start_time": "2025-03-21T08:11:48.632Z"
   },
   {
    "duration": 6,
    "start_time": "2025-03-21T08:11:48.805Z"
   },
   {
    "duration": 16,
    "start_time": "2025-03-21T08:11:48.813Z"
   },
   {
    "duration": 82,
    "start_time": "2025-03-21T08:11:48.831Z"
   },
   {
    "duration": 38,
    "start_time": "2025-03-21T08:11:48.915Z"
   },
   {
    "duration": 29,
    "start_time": "2025-03-21T08:11:48.956Z"
   },
   {
    "duration": 28,
    "start_time": "2025-03-21T08:11:48.988Z"
   },
   {
    "duration": 59,
    "start_time": "2025-03-21T08:11:49.018Z"
   },
   {
    "duration": 6,
    "start_time": "2025-03-21T08:11:49.080Z"
   },
   {
    "duration": 170,
    "start_time": "2025-03-21T08:11:49.087Z"
   },
   {
    "duration": 132,
    "start_time": "2025-03-21T08:11:49.258Z"
   },
   {
    "duration": 83,
    "start_time": "2025-03-21T08:11:49.391Z"
   },
   {
    "duration": 6,
    "start_time": "2025-03-21T08:11:49.476Z"
   },
   {
    "duration": 19,
    "start_time": "2025-03-21T08:11:49.484Z"
   },
   {
    "duration": 4710,
    "start_time": "2025-03-21T08:11:49.505Z"
   },
   {
    "duration": 61,
    "start_time": "2025-03-21T08:11:54.217Z"
   },
   {
    "duration": 6,
    "start_time": "2025-03-21T08:11:54.280Z"
   },
   {
    "duration": 145,
    "start_time": "2025-03-21T08:11:54.287Z"
   },
   {
    "duration": 35,
    "start_time": "2025-03-21T08:11:54.433Z"
   },
   {
    "duration": 100,
    "start_time": "2025-03-21T08:11:54.470Z"
   },
   {
    "duration": 14,
    "start_time": "2025-03-21T08:11:54.571Z"
   },
   {
    "duration": 34,
    "start_time": "2025-03-21T08:11:54.587Z"
   },
   {
    "duration": 22,
    "start_time": "2025-03-21T08:11:54.622Z"
   },
   {
    "duration": 40,
    "start_time": "2025-03-21T08:11:54.645Z"
   },
   {
    "duration": 29,
    "start_time": "2025-03-21T08:11:54.687Z"
   },
   {
    "duration": 150,
    "start_time": "2025-03-21T08:11:54.718Z"
   },
   {
    "duration": 10,
    "start_time": "2025-03-21T08:11:54.869Z"
   },
   {
    "duration": 14,
    "start_time": "2025-03-21T08:11:54.881Z"
   },
   {
    "duration": 7,
    "start_time": "2025-03-21T08:11:54.897Z"
   },
   {
    "duration": 8,
    "start_time": "2025-03-21T08:11:54.905Z"
   },
   {
    "duration": 56,
    "start_time": "2025-03-21T08:11:54.915Z"
   },
   {
    "duration": 7,
    "start_time": "2025-03-21T08:11:54.972Z"
   },
   {
    "duration": 14,
    "start_time": "2025-03-21T08:11:54.981Z"
   },
   {
    "duration": 4,
    "start_time": "2025-03-21T08:11:54.996Z"
   },
   {
    "duration": 18,
    "start_time": "2025-03-21T08:21:09.565Z"
   },
   {
    "duration": 6,
    "start_time": "2025-03-21T08:26:05.286Z"
   },
   {
    "duration": 105,
    "start_time": "2025-03-21T08:40:53.963Z"
   },
   {
    "duration": 144,
    "start_time": "2025-03-21T08:41:02.355Z"
   },
   {
    "duration": 137,
    "start_time": "2025-03-21T08:41:17.939Z"
   },
   {
    "duration": 249,
    "start_time": "2025-03-21T08:46:08.251Z"
   },
   {
    "duration": 162,
    "start_time": "2025-03-21T08:46:33.932Z"
   },
   {
    "duration": 161,
    "start_time": "2025-03-21T08:48:12.700Z"
   },
   {
    "duration": 175,
    "start_time": "2025-03-21T08:49:39.221Z"
   },
   {
    "duration": 271,
    "start_time": "2025-03-21T08:49:50.549Z"
   },
   {
    "duration": 178,
    "start_time": "2025-03-21T08:50:00.572Z"
   },
   {
    "duration": 185,
    "start_time": "2025-03-21T08:50:09.557Z"
   },
   {
    "duration": 177,
    "start_time": "2025-03-21T08:50:23.213Z"
   },
   {
    "duration": 16,
    "start_time": "2025-03-21T08:56:19.062Z"
   },
   {
    "duration": 168,
    "start_time": "2025-03-21T08:59:58.720Z"
   },
   {
    "duration": 284,
    "start_time": "2025-03-21T09:00:58.008Z"
   },
   {
    "duration": 98,
    "start_time": "2025-03-21T09:01:22.952Z"
   },
   {
    "duration": 273,
    "start_time": "2025-03-21T09:01:25.960Z"
   },
   {
    "duration": 250,
    "start_time": "2025-03-21T09:07:04.785Z"
   },
   {
    "duration": 290,
    "start_time": "2025-03-21T09:08:00.138Z"
   },
   {
    "duration": 247,
    "start_time": "2025-03-21T09:08:11.162Z"
   },
   {
    "duration": 13,
    "start_time": "2025-03-21T09:08:16.979Z"
   },
   {
    "duration": 313,
    "start_time": "2025-03-21T09:08:25.115Z"
   },
   {
    "duration": 1294,
    "start_time": "2025-07-25T18:36:58.928Z"
   },
   {
    "duration": 3009,
    "start_time": "2025-07-25T18:37:00.224Z"
   },
   {
    "duration": 12,
    "start_time": "2025-07-25T18:37:03.235Z"
   },
   {
    "duration": 45,
    "start_time": "2025-07-25T18:37:03.249Z"
   },
   {
    "duration": 29,
    "start_time": "2025-07-25T18:37:03.296Z"
   },
   {
    "duration": 154,
    "start_time": "2025-07-25T18:37:03.327Z"
   },
   {
    "duration": 44,
    "start_time": "2025-07-25T18:37:03.483Z"
   },
   {
    "duration": 31,
    "start_time": "2025-07-25T18:37:03.529Z"
   },
   {
    "duration": 43,
    "start_time": "2025-07-25T18:37:03.562Z"
   },
   {
    "duration": 8,
    "start_time": "2025-07-25T18:37:03.607Z"
   },
   {
    "duration": 42,
    "start_time": "2025-07-25T18:37:03.617Z"
   },
   {
    "duration": 6,
    "start_time": "2025-07-25T18:37:03.661Z"
   },
   {
    "duration": 11,
    "start_time": "2025-07-25T18:37:03.668Z"
   },
   {
    "duration": 33,
    "start_time": "2025-07-25T18:37:03.684Z"
   },
   {
    "duration": 26,
    "start_time": "2025-07-25T18:37:03.718Z"
   },
   {
    "duration": 27,
    "start_time": "2025-07-25T18:37:03.746Z"
   },
   {
    "duration": 7,
    "start_time": "2025-07-25T18:37:03.775Z"
   },
   {
    "duration": 18,
    "start_time": "2025-07-25T18:37:03.784Z"
   },
   {
    "duration": 207,
    "start_time": "2025-07-25T18:37:03.804Z"
   },
   {
    "duration": 6,
    "start_time": "2025-07-25T18:37:04.013Z"
   },
   {
    "duration": 25,
    "start_time": "2025-07-25T18:37:04.021Z"
   },
   {
    "duration": 84,
    "start_time": "2025-07-25T18:37:04.047Z"
   },
   {
    "duration": 43,
    "start_time": "2025-07-25T18:37:04.132Z"
   },
   {
    "duration": 60,
    "start_time": "2025-07-25T18:37:04.177Z"
   },
   {
    "duration": 36,
    "start_time": "2025-07-25T18:37:04.238Z"
   },
   {
    "duration": 30,
    "start_time": "2025-07-25T18:37:04.276Z"
   },
   {
    "duration": 6,
    "start_time": "2025-07-25T18:37:04.308Z"
   },
   {
    "duration": 184,
    "start_time": "2025-07-25T18:37:04.315Z"
   },
   {
    "duration": 138,
    "start_time": "2025-07-25T18:37:04.501Z"
   },
   {
    "duration": 84,
    "start_time": "2025-07-25T18:37:04.641Z"
   },
   {
    "duration": 6,
    "start_time": "2025-07-25T18:37:04.727Z"
   },
   {
    "duration": 49,
    "start_time": "2025-07-25T18:37:04.735Z"
   },
   {
    "duration": 4701,
    "start_time": "2025-07-25T18:37:04.786Z"
   },
   {
    "duration": 58,
    "start_time": "2025-07-25T18:37:09.489Z"
   },
   {
    "duration": 24,
    "start_time": "2025-07-25T18:37:09.548Z"
   },
   {
    "duration": 141,
    "start_time": "2025-07-25T18:37:09.573Z"
   },
   {
    "duration": 29,
    "start_time": "2025-07-25T18:37:09.716Z"
   },
   {
    "duration": 111,
    "start_time": "2025-07-25T18:37:09.747Z"
   },
   {
    "duration": 22,
    "start_time": "2025-07-25T18:37:09.860Z"
   },
   {
    "duration": 32,
    "start_time": "2025-07-25T18:37:09.884Z"
   },
   {
    "duration": 13,
    "start_time": "2025-07-25T18:37:09.920Z"
   },
   {
    "duration": 44,
    "start_time": "2025-07-25T18:37:09.934Z"
   },
   {
    "duration": 30,
    "start_time": "2025-07-25T18:37:09.980Z"
   },
   {
    "duration": 160,
    "start_time": "2025-07-25T18:37:10.012Z"
   },
   {
    "duration": 9,
    "start_time": "2025-07-25T18:37:10.174Z"
   },
   {
    "duration": 19,
    "start_time": "2025-07-25T18:37:10.185Z"
   },
   {
    "duration": 7,
    "start_time": "2025-07-25T18:37:10.206Z"
   },
   {
    "duration": 9,
    "start_time": "2025-07-25T18:37:10.215Z"
   },
   {
    "duration": 49,
    "start_time": "2025-07-25T18:37:10.226Z"
   },
   {
    "duration": 8,
    "start_time": "2025-07-25T18:37:10.277Z"
   },
   {
    "duration": 24,
    "start_time": "2025-07-25T18:37:10.286Z"
   },
   {
    "duration": 381,
    "start_time": "2025-07-25T18:37:10.312Z"
   }
  ],
  "colab": {
   "provenance": []
  },
  "kernelspec": {
   "display_name": "Python 3 (ipykernel)",
   "language": "python",
   "name": "python3"
  },
  "language_info": {
   "codemirror_mode": {
    "name": "ipython",
    "version": 3
   },
   "file_extension": ".py",
   "mimetype": "text/x-python",
   "name": "python",
   "nbconvert_exporter": "python",
   "pygments_lexer": "ipython3",
   "version": "3.9.5"
  },
  "toc": {
   "base_numbering": 1,
   "nav_menu": {},
   "number_sections": true,
   "sideBar": true,
   "skip_h1_title": true,
   "title_cell": "Table of Contents",
   "title_sidebar": "Contents",
   "toc_cell": false,
   "toc_position": {},
   "toc_section_display": true,
   "toc_window_display": false
  }
 },
 "nbformat": 4,
 "nbformat_minor": 1
}
