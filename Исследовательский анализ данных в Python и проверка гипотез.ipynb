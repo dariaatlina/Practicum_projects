{
 "cells": [
  {
   "cell_type": "markdown",
   "metadata": {
    "id": "LMuaGIE3lGcr"
   },
   "source": [
    "# Исследовательский анализ данных в Python и проверка гипотез\n",
    "- Автор: Дарья Атлина\n",
    "- Дата: 02.06.2025"
   ]
  },
  {
   "cell_type": "markdown",
   "metadata": {},
   "source": [
    "## Цели и задачи проекта\n",
    "**Цель проекта:** изучение и сравнение распределения заказов по сегментам и их сезонных изменений, осенней активности пользователей, а также популярных событий и партнёров.\n",
    "\n",
    "**Задачи проекта:**\n",
    "- Загрузка данных и знакомство с ними;\n",
    "- Предобработка данных и подготовка их к исследованию;\n",
    "- Исследовательский анализ данных:\n",
    "    - анализ распределения заказов по сегментам и их сезонные изменения;\n",
    "    - осенняя активность пользователей;\n",
    "    - популярные события и партнёры;\n",
    "- Статистический анализ данных;\n",
    "- Общий вывод и рекомендации."
   ]
  },
  {
   "cell_type": "markdown",
   "metadata": {},
   "source": [
    "## Описание данных\n",
    "\n",
    "В данном проекте мы будем работать с тремя датасетами:\n",
    "- `final_tickets_orders_df.csv` включает информацию обо всех заказах билетов, совершённых с двух типов устройств — мобильных и стационарных. \n",
    "\n",
    "- `final_tickets_events_df.csv` содержит информацию о событиях, включая город и регион события, а также информацию о площадке проведения мероприятия.\n",
    "\n",
    "- `final_tickets_tenge_df.csv` с информацией о курсе тенге к российскому рублю за 2024 год. Значения в рублях представлено для 100 тенге.\n",
    "\n",
    "Таблица `final_tickets_orders_df.csv`\n",
    "- `order_id` — уникальный идентификатор заказа.\n",
    "- `user_id` — уникальный идентификатор пользователя.\n",
    "- `created_dt_msk` — дата создания заказа (московское время).\n",
    "- `created_ts_msk` — дата и время создания заказа (московское время).\n",
    "- `event_id` — идентификатор мероприятия из таблицы events.\n",
    "- `cinema_circuit` — сеть кинотеатров. Если не применимо, то здесь будет значение 'нет'.\n",
    "- `age_limit` — возрастное ограничение мероприятия.\n",
    "- `currency_code` — валюта оплаты, например rub для российских рублей.\n",
    "- `device_type_canonical` — тип устройства, с которого был оформлен заказ, например mobile для мобильных устройств, desktop для стационарных;\n",
    "- `revenue` — выручка от заказа.\n",
    "- `service_name` — название билетного оператора.\n",
    "- `tickets_count` — количество купленных билетов.\n",
    "- `total` — общая сумма заказа.\n",
    "\n",
    "Таблица `final_tickets_events_df.csv`\n",
    "- `event_id` — уникальный идентификатор мероприятия.\n",
    "- `event_name` — название мероприятия. Аналог поля event_name_code из исходной базы данных.\n",
    "- `event_type_description` — описание типа мероприятия.\n",
    "- `event_type_main` — основной тип мероприятия: театральная постановка, концерт и так далее.\n",
    "- `organizers` — организаторы мероприятия.\n",
    "- `region_name` — название региона.\n",
    "- `city_name` — название города.\n",
    "- `venue_id` — уникальный идентификатор площадки.\n",
    "- `venue_name` — название площадки.\n",
    "- `venue_address` — адрес площадки.\n",
    "\n",
    "Таблица `final_tickets_tenge_df.csv`\n",
    "- `nominal` — номинал (100 тенге);\n",
    "- `data` — дата;\n",
    "- `curs` — курс тенге к рублю;\n",
    "- `cdx` — обозначение валюты (kzt)."
   ]
  },
  {
   "cell_type": "markdown",
   "metadata": {},
   "source": [
    "## Содержимое проекта\n",
    "1. Загрузка данных и знакомство с ними.\n",
    "2. Предобработка данных и подготовка их к исследованию.\n",
    "3. Исследовательский анализ данных:\n",
    "    - анализ распределения заказов по сегментам и их сезонные изменения;\n",
    "    - осенняя активность пользователей;\n",
    "    - популярные события и партнёры.\n",
    "4. Статистический анализ данных;\n",
    "5. Общий вывод и рекомендации."
   ]
  },
  {
   "cell_type": "markdown",
   "metadata": {},
   "source": [
    "## 1. Загрузка данных и знакомство с ними"
   ]
  },
  {
   "cell_type": "markdown",
   "metadata": {},
   "source": [
    "Для начала импортируем все необходимые для проекта библиотеки и сохраним таблицы в датафреймы."
   ]
  },
  {
   "cell_type": "code",
   "execution_count": 1,
   "metadata": {},
   "outputs": [],
   "source": [
    "# импортируем библиотеку pandas\n",
    "import pandas as pd\n",
    "\n",
    "import seaborn as sns\n",
    "import matplotlib.pyplot as plt\n",
    "\n",
    "import numpy as np\n",
    "\n",
    "from scipy.stats import mannwhitneyu"
   ]
  },
  {
   "cell_type": "code",
   "execution_count": 2,
   "metadata": {},
   "outputs": [
    {
     "data": {
      "text/html": [
       "<div>\n",
       "<style scoped>\n",
       "    .dataframe tbody tr th:only-of-type {\n",
       "        vertical-align: middle;\n",
       "    }\n",
       "\n",
       "    .dataframe tbody tr th {\n",
       "        vertical-align: top;\n",
       "    }\n",
       "\n",
       "    .dataframe thead th {\n",
       "        text-align: right;\n",
       "    }\n",
       "</style>\n",
       "<table border=\"1\" class=\"dataframe\">\n",
       "  <thead>\n",
       "    <tr style=\"text-align: right;\">\n",
       "      <th></th>\n",
       "      <th>order_id</th>\n",
       "      <th>user_id</th>\n",
       "      <th>created_dt_msk</th>\n",
       "      <th>created_ts_msk</th>\n",
       "      <th>event_id</th>\n",
       "      <th>cinema_circuit</th>\n",
       "      <th>age_limit</th>\n",
       "      <th>currency_code</th>\n",
       "      <th>device_type_canonical</th>\n",
       "      <th>revenue</th>\n",
       "      <th>service_name</th>\n",
       "      <th>tickets_count</th>\n",
       "      <th>total</th>\n",
       "      <th>days_since_prev</th>\n",
       "    </tr>\n",
       "  </thead>\n",
       "  <tbody>\n",
       "    <tr>\n",
       "      <th>0</th>\n",
       "      <td>4359165</td>\n",
       "      <td>0002849b70a3ce2</td>\n",
       "      <td>2024-08-20</td>\n",
       "      <td>2024-08-20 16:08:03</td>\n",
       "      <td>169230</td>\n",
       "      <td>нет</td>\n",
       "      <td>16</td>\n",
       "      <td>rub</td>\n",
       "      <td>mobile</td>\n",
       "      <td>1521.94</td>\n",
       "      <td>Край билетов</td>\n",
       "      <td>4</td>\n",
       "      <td>10870.99</td>\n",
       "      <td>NaN</td>\n",
       "    </tr>\n",
       "    <tr>\n",
       "      <th>1</th>\n",
       "      <td>7965605</td>\n",
       "      <td>0005ca5e93f2cf4</td>\n",
       "      <td>2024-07-23</td>\n",
       "      <td>2024-07-23 18:36:24</td>\n",
       "      <td>237325</td>\n",
       "      <td>нет</td>\n",
       "      <td>0</td>\n",
       "      <td>rub</td>\n",
       "      <td>mobile</td>\n",
       "      <td>289.45</td>\n",
       "      <td>Мой билет</td>\n",
       "      <td>2</td>\n",
       "      <td>2067.51</td>\n",
       "      <td>NaN</td>\n",
       "    </tr>\n",
       "    <tr>\n",
       "      <th>2</th>\n",
       "      <td>7292370</td>\n",
       "      <td>0005ca5e93f2cf4</td>\n",
       "      <td>2024-10-06</td>\n",
       "      <td>2024-10-06 13:56:02</td>\n",
       "      <td>578454</td>\n",
       "      <td>нет</td>\n",
       "      <td>0</td>\n",
       "      <td>rub</td>\n",
       "      <td>mobile</td>\n",
       "      <td>1258.57</td>\n",
       "      <td>За билетом!</td>\n",
       "      <td>4</td>\n",
       "      <td>13984.16</td>\n",
       "      <td>75.0</td>\n",
       "    </tr>\n",
       "    <tr>\n",
       "      <th>3</th>\n",
       "      <td>1139875</td>\n",
       "      <td>000898990054619</td>\n",
       "      <td>2024-07-13</td>\n",
       "      <td>2024-07-13 19:40:48</td>\n",
       "      <td>387271</td>\n",
       "      <td>нет</td>\n",
       "      <td>0</td>\n",
       "      <td>rub</td>\n",
       "      <td>mobile</td>\n",
       "      <td>8.49</td>\n",
       "      <td>Лови билет!</td>\n",
       "      <td>2</td>\n",
       "      <td>212.28</td>\n",
       "      <td>NaN</td>\n",
       "    </tr>\n",
       "    <tr>\n",
       "      <th>4</th>\n",
       "      <td>972400</td>\n",
       "      <td>000898990054619</td>\n",
       "      <td>2024-10-04</td>\n",
       "      <td>2024-10-04 22:33:15</td>\n",
       "      <td>509453</td>\n",
       "      <td>нет</td>\n",
       "      <td>18</td>\n",
       "      <td>rub</td>\n",
       "      <td>mobile</td>\n",
       "      <td>1390.41</td>\n",
       "      <td>Билеты без проблем</td>\n",
       "      <td>3</td>\n",
       "      <td>10695.43</td>\n",
       "      <td>83.0</td>\n",
       "    </tr>\n",
       "  </tbody>\n",
       "</table>\n",
       "</div>"
      ],
      "text/plain": [
       "   order_id          user_id created_dt_msk      created_ts_msk  event_id  \\\n",
       "0   4359165  0002849b70a3ce2     2024-08-20 2024-08-20 16:08:03    169230   \n",
       "1   7965605  0005ca5e93f2cf4     2024-07-23 2024-07-23 18:36:24    237325   \n",
       "2   7292370  0005ca5e93f2cf4     2024-10-06 2024-10-06 13:56:02    578454   \n",
       "3   1139875  000898990054619     2024-07-13 2024-07-13 19:40:48    387271   \n",
       "4    972400  000898990054619     2024-10-04 2024-10-04 22:33:15    509453   \n",
       "\n",
       "  cinema_circuit  age_limit currency_code device_type_canonical  revenue  \\\n",
       "0            нет         16           rub                mobile  1521.94   \n",
       "1            нет          0           rub                mobile   289.45   \n",
       "2            нет          0           rub                mobile  1258.57   \n",
       "3            нет          0           rub                mobile     8.49   \n",
       "4            нет         18           rub                mobile  1390.41   \n",
       "\n",
       "         service_name  tickets_count     total  days_since_prev  \n",
       "0        Край билетов              4  10870.99              NaN  \n",
       "1           Мой билет              2   2067.51              NaN  \n",
       "2         За билетом!              4  13984.16             75.0  \n",
       "3         Лови билет!              2    212.28              NaN  \n",
       "4  Билеты без проблем              3  10695.43             83.0  "
      ]
     },
     "execution_count": 2,
     "metadata": {},
     "output_type": "execute_result"
    }
   ],
   "source": [
    "# сохраняем таблицу\n",
    "tickets_orders_df = pd.read_csv('final_tickets_orders_df.csv',parse_dates=['created_dt_msk','created_ts_msk'])\n",
    "\n",
    "# выводим первые 5 строк таблицы\n",
    "tickets_orders_df.head()"
   ]
  },
  {
   "cell_type": "code",
   "execution_count": 3,
   "metadata": {},
   "outputs": [
    {
     "name": "stdout",
     "output_type": "stream",
     "text": [
      "<class 'pandas.core.frame.DataFrame'>\n",
      "RangeIndex: 290849 entries, 0 to 290848\n",
      "Data columns (total 14 columns):\n",
      " #   Column                 Non-Null Count   Dtype         \n",
      "---  ------                 --------------   -----         \n",
      " 0   order_id               290849 non-null  int64         \n",
      " 1   user_id                290849 non-null  object        \n",
      " 2   created_dt_msk         290849 non-null  datetime64[ns]\n",
      " 3   created_ts_msk         290849 non-null  datetime64[ns]\n",
      " 4   event_id               290849 non-null  int64         \n",
      " 5   cinema_circuit         290849 non-null  object        \n",
      " 6   age_limit              290849 non-null  int64         \n",
      " 7   currency_code          290849 non-null  object        \n",
      " 8   device_type_canonical  290849 non-null  object        \n",
      " 9   revenue                290849 non-null  float64       \n",
      " 10  service_name           290849 non-null  object        \n",
      " 11  tickets_count          290849 non-null  int64         \n",
      " 12  total                  290849 non-null  float64       \n",
      " 13  days_since_prev        268909 non-null  float64       \n",
      "dtypes: datetime64[ns](2), float64(3), int64(4), object(5)\n",
      "memory usage: 31.1+ MB\n"
     ]
    }
   ],
   "source": [
    "# выводим основную информацию о таблице\n",
    "tickets_orders_df.info()"
   ]
  },
  {
   "cell_type": "markdown",
   "metadata": {},
   "source": [
    "Датафрейм состоит из 14 столбцов и 290 849 строк.\n",
    "- Столбцы `order_id`, `event_id`, `age_limit`, `revenue`, `tickets_count`, `total` и `days_since_prev` содержат числовые данные, 4 из которых содержат целочисленные данные типа `int64`, и 3 содержат числа с плавающей точкой типа `float64`.\n",
    "- Столбцы `created_dt_msk` и `created_ts_msk` содержат данные даты и времени и имеют тип данных `dstetime64`.\n",
    "- Столбцы `user_id`, `cinema_circuit`, `currency_code`, `device_type_canonical` и `service_name` содержат в себе текстовые данные и имеют тип данных `object`.\n",
    "- Пропуски содержатся только в столбце `days_since_prev`, но они имеют логичное объяснение (если покупки не было, то данные содержат пропуск).\n",
    "\n",
    "Таким образом, данные таблицы достаточно полные и информативные, все поля имеют подходящие типы данных, однако для полей с количественными данными возможно понизить разрядность."
   ]
  },
  {
   "cell_type": "code",
   "execution_count": 4,
   "metadata": {},
   "outputs": [
    {
     "data": {
      "text/html": [
       "<div>\n",
       "<style scoped>\n",
       "    .dataframe tbody tr th:only-of-type {\n",
       "        vertical-align: middle;\n",
       "    }\n",
       "\n",
       "    .dataframe tbody tr th {\n",
       "        vertical-align: top;\n",
       "    }\n",
       "\n",
       "    .dataframe thead th {\n",
       "        text-align: right;\n",
       "    }\n",
       "</style>\n",
       "<table border=\"1\" class=\"dataframe\">\n",
       "  <thead>\n",
       "    <tr style=\"text-align: right;\">\n",
       "      <th></th>\n",
       "      <th>event_id</th>\n",
       "      <th>event_name</th>\n",
       "      <th>event_type_description</th>\n",
       "      <th>event_type_main</th>\n",
       "      <th>organizers</th>\n",
       "      <th>region_name</th>\n",
       "      <th>city_name</th>\n",
       "      <th>city_id</th>\n",
       "      <th>venue_id</th>\n",
       "      <th>venue_name</th>\n",
       "      <th>venue_address</th>\n",
       "    </tr>\n",
       "  </thead>\n",
       "  <tbody>\n",
       "    <tr>\n",
       "      <th>0</th>\n",
       "      <td>4436</td>\n",
       "      <td>e4f26fba-da77-4c61-928a-6c3e434d793f</td>\n",
       "      <td>спектакль</td>\n",
       "      <td>театр</td>\n",
       "      <td>№4893</td>\n",
       "      <td>Североярская область</td>\n",
       "      <td>Озёрск</td>\n",
       "      <td>2</td>\n",
       "      <td>1600</td>\n",
       "      <td>Кладбище искусств \"Проблема\" и партнеры</td>\n",
       "      <td>наб. Загородная, д. 785</td>\n",
       "    </tr>\n",
       "    <tr>\n",
       "      <th>1</th>\n",
       "      <td>5785</td>\n",
       "      <td>5cc08a60-fdea-4186-9bb2-bffc3603fb77</td>\n",
       "      <td>спектакль</td>\n",
       "      <td>театр</td>\n",
       "      <td>№1931</td>\n",
       "      <td>Светополянский округ</td>\n",
       "      <td>Глиноград</td>\n",
       "      <td>54</td>\n",
       "      <td>2196</td>\n",
       "      <td>Лекции по искусству \"Свет\" Групп</td>\n",
       "      <td>ул. Ягодная, д. 942</td>\n",
       "    </tr>\n",
       "    <tr>\n",
       "      <th>2</th>\n",
       "      <td>8817</td>\n",
       "      <td>8e379a89-3a10-4811-ba06-ec22ebebe989</td>\n",
       "      <td>спектакль</td>\n",
       "      <td>театр</td>\n",
       "      <td>№4896</td>\n",
       "      <td>Североярская область</td>\n",
       "      <td>Озёрск</td>\n",
       "      <td>2</td>\n",
       "      <td>4043</td>\n",
       "      <td>Кинокомитет \"Золотая\" Инк</td>\n",
       "      <td>ш. Коммуны, д. 92 стр. 6</td>\n",
       "    </tr>\n",
       "    <tr>\n",
       "      <th>3</th>\n",
       "      <td>8849</td>\n",
       "      <td>682e3129-6a32-4952-9d8a-ef7f60d4c247</td>\n",
       "      <td>спектакль</td>\n",
       "      <td>театр</td>\n",
       "      <td>№4960</td>\n",
       "      <td>Каменевский регион</td>\n",
       "      <td>Глиногорск</td>\n",
       "      <td>213</td>\n",
       "      <td>1987</td>\n",
       "      <td>Выставка ремесел \"Свет\" Лтд</td>\n",
       "      <td>пер. Набережный, д. 35</td>\n",
       "    </tr>\n",
       "    <tr>\n",
       "      <th>4</th>\n",
       "      <td>8850</td>\n",
       "      <td>d6e99176-c77f-4af0-9222-07c571f6c624</td>\n",
       "      <td>спектакль</td>\n",
       "      <td>театр</td>\n",
       "      <td>№4770</td>\n",
       "      <td>Лесодальний край</td>\n",
       "      <td>Родниковец</td>\n",
       "      <td>55</td>\n",
       "      <td>4230</td>\n",
       "      <td>Фестивальный проект \"Листья\" Групп</td>\n",
       "      <td>пер. Проезжий, д. 9</td>\n",
       "    </tr>\n",
       "  </tbody>\n",
       "</table>\n",
       "</div>"
      ],
      "text/plain": [
       "   event_id                            event_name event_type_description  \\\n",
       "0      4436  e4f26fba-da77-4c61-928a-6c3e434d793f              спектакль   \n",
       "1      5785  5cc08a60-fdea-4186-9bb2-bffc3603fb77              спектакль   \n",
       "2      8817  8e379a89-3a10-4811-ba06-ec22ebebe989              спектакль   \n",
       "3      8849  682e3129-6a32-4952-9d8a-ef7f60d4c247              спектакль   \n",
       "4      8850  d6e99176-c77f-4af0-9222-07c571f6c624              спектакль   \n",
       "\n",
       "  event_type_main organizers           region_name   city_name  city_id  \\\n",
       "0           театр      №4893  Североярская область      Озёрск        2   \n",
       "1           театр      №1931  Светополянский округ   Глиноград       54   \n",
       "2           театр      №4896  Североярская область      Озёрск        2   \n",
       "3           театр      №4960    Каменевский регион  Глиногорск      213   \n",
       "4           театр      №4770      Лесодальний край  Родниковец       55   \n",
       "\n",
       "   venue_id                               venue_name             venue_address  \n",
       "0      1600  Кладбище искусств \"Проблема\" и партнеры   наб. Загородная, д. 785  \n",
       "1      2196         Лекции по искусству \"Свет\" Групп       ул. Ягодная, д. 942  \n",
       "2      4043                Кинокомитет \"Золотая\" Инк  ш. Коммуны, д. 92 стр. 6  \n",
       "3      1987              Выставка ремесел \"Свет\" Лтд    пер. Набережный, д. 35  \n",
       "4      4230       Фестивальный проект \"Листья\" Групп       пер. Проезжий, д. 9  "
      ]
     },
     "execution_count": 4,
     "metadata": {},
     "output_type": "execute_result"
    }
   ],
   "source": [
    "# сохраняем таблицу\n",
    "tickets_events_df = pd.read_csv('final_tickets_events_df.csv')\n",
    "\n",
    "# выводим первые 5 строк таблицы\n",
    "tickets_events_df.head()"
   ]
  },
  {
   "cell_type": "code",
   "execution_count": 5,
   "metadata": {},
   "outputs": [
    {
     "name": "stdout",
     "output_type": "stream",
     "text": [
      "<class 'pandas.core.frame.DataFrame'>\n",
      "RangeIndex: 22427 entries, 0 to 22426\n",
      "Data columns (total 11 columns):\n",
      " #   Column                  Non-Null Count  Dtype \n",
      "---  ------                  --------------  ----- \n",
      " 0   event_id                22427 non-null  int64 \n",
      " 1   event_name              22427 non-null  object\n",
      " 2   event_type_description  22427 non-null  object\n",
      " 3   event_type_main         22427 non-null  object\n",
      " 4   organizers              22427 non-null  object\n",
      " 5   region_name             22427 non-null  object\n",
      " 6   city_name               22427 non-null  object\n",
      " 7   city_id                 22427 non-null  int64 \n",
      " 8   venue_id                22427 non-null  int64 \n",
      " 9   venue_name              22427 non-null  object\n",
      " 10  venue_address           22427 non-null  object\n",
      "dtypes: int64(3), object(8)\n",
      "memory usage: 1.9+ MB\n"
     ]
    }
   ],
   "source": [
    "tickets_events_df.info()"
   ]
  },
  {
   "cell_type": "markdown",
   "metadata": {},
   "source": [
    "Датафрейм состоит из 11 столбцов и 22 427 строк.\n",
    "\n",
    "- Столбцы `event_id`, `city_id` и `venue_id` имеют тип данных `int64` и содержат соответственно целочисленные значения.\n",
    "- Остальные столбцы имеют тип данных `object` и содержат текстовые данные.\n",
    "- Пропуски в данных отсутствуют.\n",
    "\n",
    "Таким образом, данные таблицы достаточно полные и информативные, все поля имеют подходящие типы данных, однако для полей с количественными данными возможно понизить разрядность."
   ]
  },
  {
   "cell_type": "code",
   "execution_count": 6,
   "metadata": {},
   "outputs": [
    {
     "data": {
      "text/html": [
       "<div>\n",
       "<style scoped>\n",
       "    .dataframe tbody tr th:only-of-type {\n",
       "        vertical-align: middle;\n",
       "    }\n",
       "\n",
       "    .dataframe tbody tr th {\n",
       "        vertical-align: top;\n",
       "    }\n",
       "\n",
       "    .dataframe thead th {\n",
       "        text-align: right;\n",
       "    }\n",
       "</style>\n",
       "<table border=\"1\" class=\"dataframe\">\n",
       "  <thead>\n",
       "    <tr style=\"text-align: right;\">\n",
       "      <th></th>\n",
       "      <th>data</th>\n",
       "      <th>nominal</th>\n",
       "      <th>curs</th>\n",
       "      <th>cdx</th>\n",
       "    </tr>\n",
       "  </thead>\n",
       "  <tbody>\n",
       "    <tr>\n",
       "      <th>0</th>\n",
       "      <td>2024-01-10</td>\n",
       "      <td>100</td>\n",
       "      <td>19.9391</td>\n",
       "      <td>kzt</td>\n",
       "    </tr>\n",
       "    <tr>\n",
       "      <th>1</th>\n",
       "      <td>2024-01-11</td>\n",
       "      <td>100</td>\n",
       "      <td>19.7255</td>\n",
       "      <td>kzt</td>\n",
       "    </tr>\n",
       "    <tr>\n",
       "      <th>2</th>\n",
       "      <td>2024-01-12</td>\n",
       "      <td>100</td>\n",
       "      <td>19.5839</td>\n",
       "      <td>kzt</td>\n",
       "    </tr>\n",
       "    <tr>\n",
       "      <th>3</th>\n",
       "      <td>2024-01-13</td>\n",
       "      <td>100</td>\n",
       "      <td>19.4501</td>\n",
       "      <td>kzt</td>\n",
       "    </tr>\n",
       "    <tr>\n",
       "      <th>4</th>\n",
       "      <td>2024-01-14</td>\n",
       "      <td>100</td>\n",
       "      <td>19.4501</td>\n",
       "      <td>kzt</td>\n",
       "    </tr>\n",
       "  </tbody>\n",
       "</table>\n",
       "</div>"
      ],
      "text/plain": [
       "        data  nominal     curs  cdx\n",
       "0 2024-01-10      100  19.9391  kzt\n",
       "1 2024-01-11      100  19.7255  kzt\n",
       "2 2024-01-12      100  19.5839  kzt\n",
       "3 2024-01-13      100  19.4501  kzt\n",
       "4 2024-01-14      100  19.4501  kzt"
      ]
     },
     "execution_count": 6,
     "metadata": {},
     "output_type": "execute_result"
    }
   ],
   "source": [
    "# сохраняем таблицу\n",
    "tickets_tenge_df = pd.read_csv('final_tickets_tenge_df.csv',parse_dates=['data'])\n",
    "\n",
    "# выводим первые 5 строк таблицы\n",
    "tickets_tenge_df.head()"
   ]
  },
  {
   "cell_type": "code",
   "execution_count": 7,
   "metadata": {},
   "outputs": [
    {
     "name": "stdout",
     "output_type": "stream",
     "text": [
      "<class 'pandas.core.frame.DataFrame'>\n",
      "RangeIndex: 357 entries, 0 to 356\n",
      "Data columns (total 4 columns):\n",
      " #   Column   Non-Null Count  Dtype         \n",
      "---  ------   --------------  -----         \n",
      " 0   data     357 non-null    datetime64[ns]\n",
      " 1   nominal  357 non-null    int64         \n",
      " 2   curs     357 non-null    float64       \n",
      " 3   cdx      357 non-null    object        \n",
      "dtypes: datetime64[ns](1), float64(1), int64(1), object(1)\n",
      "memory usage: 11.3+ KB\n"
     ]
    }
   ],
   "source": [
    "tickets_tenge_df.info()"
   ]
  },
  {
   "cell_type": "markdown",
   "metadata": {},
   "source": [
    "Датафрейм состоит из 4 столбцов и 357 строк.\n",
    "\n",
    "- Столбец `data` имеет тип данных `datetime64` и содержит данные даты.\n",
    "- Столбец `nominal` имеет тип данных `int64` и содержит целочисленные значения.\n",
    "- Столбец `curs` имеет тип данных `float64` и содержит числа с плавающей точкой.\n",
    "- Столбец `cdx` имеет тип данных `object` и содержит текстовые данные.\n",
    "- Пропуски в данных отсутствуют.\n",
    "\n",
    "Таким образом, данные таблицы достаточно полные и информативные, все поля имеют подходящие типы данных, однако для полей с количественными данными возможно понизить разрядность."
   ]
  },
  {
   "cell_type": "markdown",
   "metadata": {},
   "source": [
    "Первичное знакомство показывает, что данные хорошего качества — в них не большое количество пропущенных значений, а сами данные соответствуют описанию и выглядят корректными. \n",
    "\n",
    "У всех типов полей, которые содержат количественные данные, можно понизить разрядность до оптимальной. Этим мы зайдёмся в разделе предобработки данных.\n",
    "\n",
    "\n",
    "Настало время следующего этапа — предобработки данных и подготовки их к исследованию.\n",
    "\n",
    "---"
   ]
  },
  {
   "cell_type": "markdown",
   "metadata": {},
   "source": [
    "## 2. Предобработка данных\n",
    "### 2.1. Проверка на пропуски"
   ]
  },
  {
   "cell_type": "markdown",
   "metadata": {},
   "source": [
    "Как и обговаривалось ранее, столбцы всех таблиц, за исключением столбца `days_since_prev`, не содержат пропусков.\n",
    "\n"
   ]
  },
  {
   "cell_type": "markdown",
   "metadata": {},
   "source": [
    "### 2.2. Предварительное исследование\n",
    "\n",
    "Теперь изучим значения в ключевых столбцах и проверим их на ошибки. Начнём с категориальных данных. Выведем на экран уникальные значения таких столбцов:"
   ]
  },
  {
   "cell_type": "code",
   "execution_count": 8,
   "metadata": {},
   "outputs": [
    {
     "data": {
      "text/plain": [
       "array(['rub', 'kzt'], dtype=object)"
      ]
     },
     "execution_count": 8,
     "metadata": {},
     "output_type": "execute_result"
    }
   ],
   "source": [
    "tickets_orders_df['currency_code'].unique()"
   ]
  },
  {
   "cell_type": "markdown",
   "metadata": {},
   "source": [
    "Столбец с названиями валют содержит только значения `rub` и `kzt`, что является корректным. \n",
    "\n",
    "Проверим столбец `device_type_canonical`:"
   ]
  },
  {
   "cell_type": "code",
   "execution_count": 9,
   "metadata": {},
   "outputs": [
    {
     "data": {
      "text/plain": [
       "array(['mobile', 'desktop'], dtype=object)"
      ]
     },
     "execution_count": 9,
     "metadata": {},
     "output_type": "execute_result"
    }
   ],
   "source": [
    "tickets_orders_df['device_type_canonical'].unique()"
   ]
  },
  {
   "cell_type": "markdown",
   "metadata": {},
   "source": [
    "Столбец `device_type_canonical`, как и заявлялось в задании, содержит только 2 значения, соответсвующих мобильному телефону и ПК. "
   ]
  },
  {
   "cell_type": "markdown",
   "metadata": {},
   "source": [
    "Проверим столбец `event_type_description`:"
   ]
  },
  {
   "cell_type": "code",
   "execution_count": 10,
   "metadata": {
    "scrolled": true
   },
   "outputs": [
    {
     "data": {
      "text/plain": [
       "array(['спектакль', 'балет', 'мюзикл', 'опера', 'концерт', 'шоу', 'ёлка',\n",
       "       'цирковое шоу', 'событие', 'фестиваль', 'спортивное мероприятие',\n",
       "       'выставка', 'спорт', 'оперетта', 'экскурсия', 'рок-мюзикл',\n",
       "       'музыкальный спектакль', 'снегурочка', 'подарок',\n",
       "       'кукольный спектакль'], dtype=object)"
      ]
     },
     "execution_count": 10,
     "metadata": {},
     "output_type": "execute_result"
    }
   ],
   "source": [
    "tickets_events_df['event_type_description'].unique()"
   ]
  },
  {
   "cell_type": "markdown",
   "metadata": {},
   "source": [
    "Все описания типов мероприятия указаны в нижнем регистре, оставим их без изменений.\n",
    "\n",
    "Проверим столбец `event_type_main`:"
   ]
  },
  {
   "cell_type": "code",
   "execution_count": 11,
   "metadata": {
    "scrolled": true
   },
   "outputs": [
    {
     "data": {
      "text/plain": [
       "array(['театр', 'концерты', 'ёлки', 'другое', 'стендап', 'выставки',\n",
       "       'спорт'], dtype=object)"
      ]
     },
     "execution_count": 11,
     "metadata": {},
     "output_type": "execute_result"
    }
   ],
   "source": [
    "tickets_events_df['event_type_main'].unique()"
   ]
  },
  {
   "cell_type": "markdown",
   "metadata": {},
   "source": [
    "Все типы мероприятий также указаны в нижнем регистре, мы их оставляем без изменений.\n",
    "\n",
    "Проверим столбец `organizers`:"
   ]
  },
  {
   "cell_type": "code",
   "execution_count": 12,
   "metadata": {
    "scrolled": true
   },
   "outputs": [
    {
     "data": {
      "text/plain": [
       "array(['№4893', '№1931', '№4896', ..., '№4817', '№5105', '№4552'],\n",
       "      dtype=object)"
      ]
     },
     "execution_count": 12,
     "metadata": {},
     "output_type": "execute_result"
    }
   ],
   "source": [
    "tickets_events_df['organizers'].unique()"
   ]
  },
  {
   "cell_type": "markdown",
   "metadata": {},
   "source": [
    "В поле с организаторами мероприятия `organizers` указаны их номера со знаком \"№\". И так понятно, что это номера организаторов мероприятия, поэтому можем избавиться от этого префикса."
   ]
  },
  {
   "cell_type": "code",
   "execution_count": 13,
   "metadata": {},
   "outputs": [
    {
     "data": {
      "text/plain": [
       "array(['4893', '1931', '4896', ..., '4817', '5105', '4552'], dtype=object)"
      ]
     },
     "execution_count": 13,
     "metadata": {},
     "output_type": "execute_result"
    }
   ],
   "source": [
    "# Уберём символ \"№\"\n",
    "tickets_events_df['organizers'] = tickets_events_df['organizers'].str.replace('№', '', regex = False)\n",
    "\n",
    "tickets_events_df['organizers'].unique()"
   ]
  },
  {
   "cell_type": "markdown",
   "metadata": {},
   "source": [
    "\n",
    "\n",
    "Перейдём к проверке количественных значений из таблицы `tickets_orders_df`. Построим распределение и диаграмму размаха для столбцов `revenue` и `tickets_count`:"
   ]
  },
  {
   "cell_type": "code",
   "execution_count": 14,
   "metadata": {},
   "outputs": [
    {
     "data": {
      "image/png": "[encoded data removed]",
      "text/plain": [
       "<Figure size 432x288 with 1 Axes>"
      ]
     },
     "metadata": {
      "needs_background": "light"
     },
     "output_type": "display_data"
    }
   ],
   "source": [
    "# Построим распределение данных для столбца `revenue`\n",
    "sns.histplot(data=tickets_orders_df[tickets_orders_df['currency_code']=='rub'], x='revenue')\n",
    "\n",
    "# Подписываем и отображаем график\n",
    "plt.title('Распределение данных в столбце revenue в рублях')\n",
    "plt.ylabel('Количество')\n",
    "plt.show()"
   ]
  },
  {
   "cell_type": "code",
   "execution_count": 15,
   "metadata": {
    "scrolled": true
   },
   "outputs": [
    {
     "data": {
      "image/png": "[encoded data removed]",
      "text/plain": [
       "<Figure size 504x360 with 1 Axes>"
      ]
     },
     "metadata": {
      "needs_background": "light"
     },
     "output_type": "display_data"
    }
   ],
   "source": [
    "# Строим диаграмму размаха методом boxplot()\n",
    "boxplot = tickets_orders_df[tickets_orders_df['currency_code']=='rub'].boxplot(column='revenue',\n",
    "                     vert=False, \n",
    "                     figsize=(7, 5))\n",
    "\n",
    "# Добавляем заголовок и метку оси X\n",
    "boxplot.set_title('Распределение выручки в рублях')\n",
    "boxplot.set_xlabel('Размер выручки в рублях')\n",
    "\n",
    "plt.show()"
   ]
  },
  {
   "cell_type": "markdown",
   "metadata": {},
   "source": [
    "По гистограмме и ящику с усами мы видим, что данные выручки в рублях имеют очень длинный правый хвост. С такими данными будет тяжело работать из-за большого количества выбросов. Поэтому ограничим наши данные с выручкой в рублях 99-м процентилем."
   ]
  },
  {
   "cell_type": "code",
   "execution_count": 16,
   "metadata": {
    "scrolled": true
   },
   "outputs": [
    {
     "name": "stdout",
     "output_type": "stream",
     "text": [
      "Статистические показатели столбца revenue в рублях:\n"
     ]
    },
    {
     "data": {
      "text/plain": [
       "count    285780.000000\n",
       "mean        547.568333\n",
       "std         871.524559\n",
       "min         -90.760000\n",
       "25%         113.827500\n",
       "50%         346.100000\n",
       "75%         791.700000\n",
       "max       81174.540000\n",
       "Name: revenue, dtype: float64"
      ]
     },
     "execution_count": 16,
     "metadata": {},
     "output_type": "execute_result"
    }
   ],
   "source": [
    "# Выведем статистические показатели выручки в рублях\n",
    "print('Статистические показатели столбца revenue в рублях:')\n",
    "tickets_orders_df[tickets_orders_df['currency_code']=='rub']['revenue'].describe()"
   ]
  },
  {
   "cell_type": "markdown",
   "metadata": {},
   "source": [
    "- Данные столбца `revenue` в рублях имеют довольно высокие выбросы, о чем нам говорит сильный размах между максимальным значением и 75 процентилем, а также высокое стандартное отклонение. Поэтому ограничим наш столбец 99-м процентилем.\n",
    "- Также по статистическим покаателям мы можем заметить, что данные имеют отрицательные показатели выручки, что является ошибкой, которую нам необходимо исправить."
   ]
  },
  {
   "cell_type": "code",
   "execution_count": 17,
   "metadata": {
    "scrolled": true
   },
   "outputs": [
    {
     "data": {
      "text/plain": [
       "'99-ый процентиль по выручке до фильтрации в рублях = 2569.5942000000005'"
      ]
     },
     "metadata": {},
     "output_type": "display_data"
    },
    {
     "name": "stdout",
     "output_type": "stream",
     "text": [
      "count    276810.000000\n",
      "mean        521.230877\n",
      "std         499.762413\n",
      "min           0.020000\n",
      "25%         123.305000\n",
      "50%         355.310000\n",
      "75%         788.900000\n",
      "max        2569.590000\n",
      "Name: revenue, dtype: float64\n"
     ]
    }
   ],
   "source": [
    "# Найдём 99-й процентиль\n",
    "outliers = tickets_orders_df[tickets_orders_df['currency_code']=='rub']['revenue'].quantile(0.99)\n",
    "\n",
    "display(f'99-ый процентиль по выручке до фильтрации в рублях = {outliers}')\n",
    "\n",
    "# Отфильтруем данные, оставив значения меньше найденного порога выбросов и больше 0\n",
    "tickets_orders_rub = tickets_orders_df.loc[(tickets_orders_df['currency_code']=='rub')&(tickets_orders_df['revenue'] < outliers)&(tickets_orders_df['revenue']>0)]\n",
    "\n",
    "# Выводим результат describe() после фильтрации данных\n",
    "print(tickets_orders_rub['revenue'].describe())"
   ]
  },
  {
   "cell_type": "markdown",
   "metadata": {},
   "source": [
    "Теперь проведём аналогичную проверку выручки в тенге:"
   ]
  },
  {
   "cell_type": "code",
   "execution_count": 18,
   "metadata": {
    "scrolled": false
   },
   "outputs": [
    {
     "data": {
      "image/png": "[encoded data removed]",
      "text/plain": [
       "<Figure size 432x288 with 1 Axes>"
      ]
     },
     "metadata": {
      "needs_background": "light"
     },
     "output_type": "display_data"
    }
   ],
   "source": [
    "# Построим распределение данных для столбца `revenue`\n",
    "sns.histplot(data=tickets_orders_df[tickets_orders_df['currency_code']=='kzt'], x='revenue')\n",
    "\n",
    "# Подписываем и отображаем график\n",
    "plt.title('Распределение данных в столбце revenue в тенге')\n",
    "plt.ylabel('Количество')\n",
    "plt.show()"
   ]
  },
  {
   "cell_type": "code",
   "execution_count": 19,
   "metadata": {
    "scrolled": false
   },
   "outputs": [
    {
     "data": {
      "image/png": "[encoded data removed]",
      "text/plain": [
       "<Figure size 504x360 with 1 Axes>"
      ]
     },
     "metadata": {
      "needs_background": "light"
     },
     "output_type": "display_data"
    }
   ],
   "source": [
    "# Строим диаграмму размаха методом boxplot()\n",
    "boxplot = tickets_orders_df[tickets_orders_df['currency_code']=='kzt'].boxplot(column='revenue',\n",
    "                     vert=False, \n",
    "                     figsize=(7, 5))\n",
    "\n",
    "# Добавляем заголовок и метку оси X\n",
    "boxplot.set_title('Распределение выручки в тенге')\n",
    "boxplot.set_xlabel('Размер выручки в тенге')\n",
    "\n",
    "plt.show()"
   ]
  },
  {
   "cell_type": "markdown",
   "metadata": {},
   "source": [
    "По гистограмме и ящику с усами мы видим, что данные выручки в тенге имеют длинный правый хвост. Поэтому ограничим наши данные с выручкой в тенге аналогично 99-м процентилем."
   ]
  },
  {
   "cell_type": "code",
   "execution_count": 20,
   "metadata": {
    "scrolled": false
   },
   "outputs": [
    {
     "name": "stdout",
     "output_type": "stream",
     "text": [
      "Статистические показатели столбца revenue в тенге:\n"
     ]
    },
    {
     "data": {
      "text/plain": [
       "count     5069.000000\n",
       "mean      4995.206767\n",
       "std       4916.752776\n",
       "min          0.000000\n",
       "25%        518.100000\n",
       "50%       3698.830000\n",
       "75%       7397.660000\n",
       "max      26425.860000\n",
       "Name: revenue, dtype: float64"
      ]
     },
     "execution_count": 20,
     "metadata": {},
     "output_type": "execute_result"
    }
   ],
   "source": [
    "# Выведем статистические показатели выручки в тенге\n",
    "print('Статистические показатели столбца revenue в тенге:')\n",
    "tickets_orders_df[tickets_orders_df['currency_code']=='kzt']['revenue'].describe()"
   ]
  },
  {
   "cell_type": "markdown",
   "metadata": {},
   "source": [
    "- Данные столбца `revenue` в тенге имеют довольно высокие выбросы, о чем нам говорит сильный размах между максимальным значением и 75 процентилем, а также высокое стандартное отклонение. Поэтому ограничим наш столбец 99-м процентилем."
   ]
  },
  {
   "cell_type": "code",
   "execution_count": 21,
   "metadata": {},
   "outputs": [
    {
     "data": {
      "text/plain": [
       "'99-ый процентиль по выручке до фильтрации в тенге = 17617.24'"
      ]
     },
     "metadata": {},
     "output_type": "display_data"
    },
    {
     "name": "stdout",
     "output_type": "stream",
     "text": [
      "count     4844.000000\n",
      "mean      4378.842494\n",
      "std       4072.645224\n",
      "min          0.000000\n",
      "25%        486.030000\n",
      "50%       3698.830000\n",
      "75%       7076.240000\n",
      "max      17230.320000\n",
      "Name: revenue, dtype: float64\n"
     ]
    }
   ],
   "source": [
    "# Найдём 99-й процентиль\n",
    "outliers = tickets_orders_df[tickets_orders_df['currency_code']=='kzt']['revenue'].quantile(0.99)\n",
    "\n",
    "display(f'99-ый процентиль по выручке до фильтрации в тенге = {outliers}')\n",
    "\n",
    "# Отфильтруем данные, оставив значения меньше найденного порога выбросов\n",
    "tickets_orders_kzt = tickets_orders_df.loc[(tickets_orders_df['currency_code']=='kzt')&(tickets_orders_df['revenue'] < outliers)]\n",
    "\n",
    "# Выводим результат describe() после фильтрации данных\n",
    "print(tickets_orders_kzt['revenue'].describe())"
   ]
  },
  {
   "cell_type": "markdown",
   "metadata": {},
   "source": [
    "Теперь наши данные в столбце `revenue` нормализованы и мы можем объединить полученные датафреймы `tickets_orders_rub` и `tickets_orders_kzt` с помощью метода `concat` в один датафрейм `to_df`:"
   ]
  },
  {
   "cell_type": "code",
   "execution_count": 22,
   "metadata": {
    "scrolled": true
   },
   "outputs": [
    {
     "name": "stdout",
     "output_type": "stream",
     "text": [
      "<class 'pandas.core.frame.DataFrame'>\n",
      "RangeIndex: 281654 entries, 0 to 281653\n",
      "Data columns (total 14 columns):\n",
      " #   Column                 Non-Null Count   Dtype         \n",
      "---  ------                 --------------   -----         \n",
      " 0   order_id               281654 non-null  int64         \n",
      " 1   user_id                281654 non-null  object        \n",
      " 2   created_dt_msk         281654 non-null  datetime64[ns]\n",
      " 3   created_ts_msk         281654 non-null  datetime64[ns]\n",
      " 4   event_id               281654 non-null  int64         \n",
      " 5   cinema_circuit         281654 non-null  object        \n",
      " 6   age_limit              281654 non-null  int64         \n",
      " 7   currency_code          281654 non-null  object        \n",
      " 8   device_type_canonical  281654 non-null  object        \n",
      " 9   revenue                281654 non-null  float64       \n",
      " 10  service_name           281654 non-null  object        \n",
      " 11  tickets_count          281654 non-null  int64         \n",
      " 12  total                  281654 non-null  float64       \n",
      " 13  days_since_prev        260302 non-null  float64       \n",
      "dtypes: datetime64[ns](2), float64(3), int64(4), object(5)\n",
      "memory usage: 30.1+ MB\n"
     ]
    }
   ],
   "source": [
    "to_df = pd.concat([tickets_orders_rub, tickets_orders_kzt], ignore_index=True)\n",
    "\n",
    "#Выведем информацию о отфильтрованном датафрейме\n",
    "to_df.info()"
   ]
  },
  {
   "cell_type": "code",
   "execution_count": 23,
   "metadata": {},
   "outputs": [
    {
     "data": {
      "text/plain": [
       "'Удалено 9195 строк с выбросами в поле с выручкой'"
      ]
     },
     "metadata": {},
     "output_type": "display_data"
    }
   ],
   "source": [
    "display(f'Удалено {tickets_orders_df.shape[0]-to_df.shape[0]} строк с выбросами в поле с выручкой')"
   ]
  },
  {
   "cell_type": "markdown",
   "metadata": {},
   "source": [
    "Таким образом, после фильтрации мы удалили 11 967 строк в поле с выручкой и можем переходить к изучению данных в столбце `tickets_count`:"
   ]
  },
  {
   "cell_type": "code",
   "execution_count": 24,
   "metadata": {
    "scrolled": false
   },
   "outputs": [
    {
     "name": "stdout",
     "output_type": "stream",
     "text": [
      "Статистические показатели столбца tickets_count:\n"
     ]
    },
    {
     "data": {
      "text/plain": [
       "count    281654.000000\n",
       "mean          2.742688\n",
       "std           1.156488\n",
       "min           1.000000\n",
       "25%           2.000000\n",
       "50%           3.000000\n",
       "75%           3.000000\n",
       "max          47.000000\n",
       "Name: tickets_count, dtype: float64"
      ]
     },
     "execution_count": 24,
     "metadata": {},
     "output_type": "execute_result"
    }
   ],
   "source": [
    "# Выведем статистические показатели кол-ва билетов\n",
    "print('Статистические показатели столбца tickets_count:')\n",
    "to_df['tickets_count'].describe()"
   ]
  },
  {
   "cell_type": "code",
   "execution_count": 25,
   "metadata": {
    "scrolled": true
   },
   "outputs": [
    {
     "data": {
      "image/png": "[encoded data removed]",
      "text/plain": [
       "<Figure size 432x288 with 1 Axes>"
      ]
     },
     "metadata": {
      "needs_background": "light"
     },
     "output_type": "display_data"
    }
   ],
   "source": [
    "# Задаем границы бинов вручную\n",
    "max_bin = to_df['tickets_count'].max()\n",
    "# Построим распределение данных для столбца `tickets_count`\n",
    "sns.histplot(data=to_df, x='tickets_count', bins=[0, 1, 2, 3, 5, 10, 25, max_bin])\n",
    "\n",
    "# Подписываем и отображаем график\n",
    "plt.title('Распределение данных в столбце tickets_count')\n",
    "plt.ylabel('Количество')\n",
    "plt.show()"
   ]
  },
  {
   "cell_type": "code",
   "execution_count": 26,
   "metadata": {
    "scrolled": false
   },
   "outputs": [
    {
     "data": {
      "image/png": "[encoded data removed]",
      "text/plain": [
       "<Figure size 504x360 with 1 Axes>"
      ]
     },
     "metadata": {
      "needs_background": "light"
     },
     "output_type": "display_data"
    }
   ],
   "source": [
    "# Строим диаграмму размаха методом boxplot()\n",
    "boxplot = to_df.boxplot(column='tickets_count',\n",
    "                     vert=False, \n",
    "                     figsize=(7, 5))\n",
    "\n",
    "# Добавляем заголовок и метку оси X\n",
    "boxplot.set_title('Распределение кол-ва билетов в заказе')\n",
    "boxplot.set_xlabel('Кол-во билетов')\n",
    "\n",
    "plt.show()"
   ]
  },
  {
   "cell_type": "markdown",
   "metadata": {},
   "source": [
    "По графикам столбца `tickets_count` видим, что данные имеют распределение, стремящееся к нормальному, также имеются выбросы, которые мы учтём при выборе статистического теста."
   ]
  },
  {
   "cell_type": "markdown",
   "metadata": {},
   "source": [
    "Таким образом, мы провели предварительное исследование распределения данных в ключевых столбцах, изучили их распределение и совершили следующие действия:\n",
    "\n",
    "- Ограничили данные с выручкой в рублях и тенге 99-м процентилем, так как данные имели очень высокие выбросы.\n",
    "- Рассмотрели распределение и статистические показатели данных с количеством билетов.\n",
    "\n",
    "Теперь можем переходить к проверке данных на дубликаты."
   ]
  },
  {
   "cell_type": "markdown",
   "metadata": {},
   "source": [
    "### 2.3. Проверка на дубликаты"
   ]
  },
  {
   "cell_type": "markdown",
   "metadata": {},
   "source": [
    "Начнем с проверки данных на явные дубликаты."
   ]
  },
  {
   "cell_type": "code",
   "execution_count": 27,
   "metadata": {},
   "outputs": [
    {
     "data": {
      "text/plain": [
       "'В датафрейме to_df найдено 0 дубликатов'"
      ]
     },
     "metadata": {},
     "output_type": "display_data"
    }
   ],
   "source": [
    "# Найдём количество дубликатов\n",
    "count_dupl = to_df.duplicated().sum()\n",
    "display(f'В датафрейме to_df найдено {count_dupl} дубликатов')"
   ]
  },
  {
   "cell_type": "code",
   "execution_count": 28,
   "metadata": {},
   "outputs": [
    {
     "data": {
      "text/plain": [
       "'В таблице tickets_events_df найдено 0 дубликатов'"
      ]
     },
     "metadata": {},
     "output_type": "display_data"
    }
   ],
   "source": [
    "# Найдём количество дубликатов\n",
    "count_dupl = tickets_events_df.duplicated().sum()\n",
    "display(f'В таблице tickets_events_df найдено {count_dupl} дубликатов')"
   ]
  },
  {
   "cell_type": "code",
   "execution_count": 29,
   "metadata": {},
   "outputs": [
    {
     "data": {
      "text/plain": [
       "'В таблице tickets_tenge_df найдено 0 дубликатов'"
      ]
     },
     "metadata": {},
     "output_type": "display_data"
    }
   ],
   "source": [
    "# Найдём количество дубликатов\n",
    "count_dupl = tickets_tenge_df.duplicated().sum()\n",
    "display(f'В таблице tickets_tenge_df найдено {count_dupl} дубликатов')"
   ]
  },
  {
   "cell_type": "markdown",
   "metadata": {},
   "source": [
    "Мы убедились в отсутствии явных дубликатов в наших данных, но могли остаться неявные дубликаты. Проверим данные на наличие неявных дубликатов:"
   ]
  },
  {
   "cell_type": "code",
   "execution_count": 30,
   "metadata": {},
   "outputs": [
    {
     "data": {
      "text/plain": [
       "'Общее количество строк в датафрейме to_df равно 281654'"
      ]
     },
     "metadata": {},
     "output_type": "display_data"
    },
    {
     "data": {
      "text/plain": [
       "'Найдено 29 неявных дубликатов'"
      ]
     },
     "metadata": {},
     "output_type": "display_data"
    }
   ],
   "source": [
    "subset_columns = [col for col in to_df.columns if col != 'order_id']\n",
    "\n",
    "# Ищем дубликаты, учитывая только указанные столбцы\n",
    "duplicates = to_df.duplicated(subset=subset_columns).sum()\n",
    "count = to_df.shape[0]\n",
    "display(f'Общее количество строк в датафрейме to_df равно {count}')\n",
    "\n",
    "display(f'Найдено {duplicates} неявных дубликатов')"
   ]
  },
  {
   "cell_type": "markdown",
   "metadata": {},
   "source": [
    "Мы нашли 29 неявных дубликатов по бронированию билета без учёта идентификаторов заказа в датафрейме to_df. Так как данные имеют 270+ тыс строк, можем избавиться от неявных дубликатов без потери качества данных, оставив только первые вхождения дублирующихся строк."
   ]
  },
  {
   "cell_type": "code",
   "execution_count": 31,
   "metadata": {},
   "outputs": [],
   "source": [
    "to_df_deduplicated = to_df.drop_duplicates(subset=subset_columns, keep='first') # keep='first' оставляет первое вхождение"
   ]
  },
  {
   "cell_type": "markdown",
   "metadata": {},
   "source": [
    "Проверим также датафрейм `tickets_events_df` на наличие неявных дубликатов:"
   ]
  },
  {
   "cell_type": "code",
   "execution_count": 32,
   "metadata": {},
   "outputs": [
    {
     "data": {
      "text/plain": [
       "'Общее количество строк в датафрейме tickets_events_df равно 22427'"
      ]
     },
     "metadata": {},
     "output_type": "display_data"
    },
    {
     "data": {
      "text/plain": [
       "'Найдено 871 неявных дубликатов'"
      ]
     },
     "metadata": {},
     "output_type": "display_data"
    }
   ],
   "source": [
    "subset_columns = [col for col in tickets_events_df.columns if col != 'event_id']\n",
    "\n",
    "# Ищем дубликаты, учитывая только указанные столбцы\n",
    "duplicates = tickets_events_df.duplicated(subset=subset_columns).sum()\n",
    "count = tickets_events_df.shape[0]\n",
    "display(f'Общее количество строк в датафрейме tickets_events_df равно {count}')\n",
    "\n",
    "display(f'Найдено {duplicates} неявных дубликатов')"
   ]
  },
  {
   "cell_type": "markdown",
   "metadata": {},
   "source": [
    "Мы проверили данные на наличие явных и неявных дубликатов и получили следующие результаты:\n",
    "- Явные дубликаты в данных отсутствуют.\n",
    "- В датафрейме `to_df` найдено 29 неявных дубликатов, которые мы удалили, так как их количество несоизмеримо мало с общим количеством строк. А также невозможна ситуация, при которой будут существовать заказы с разными идентификаторами, но созданные в одно и то же время.\n",
    "- В датафрейме `tickets_events_df` найдено 871 неявных дубликатов, которые мы оставили, так как одно и то же мероприятие могло повторяться с некоторой периодичностью на одной и той же площадке с теми же организаторами."
   ]
  },
  {
   "cell_type": "markdown",
   "metadata": {},
   "source": [
    "### 2.4. Преобразование типов данных\n",
    "\n",
    "Изначально при чтении таблиц в наши датафреймы мы учли, что есть столбцы, которые содержат данные даты и времени. Поэтому сразу при чтении файлов мы смогли преобразовать их к типу `datetime`. Однако у нас остались столбцы с количественными данными, размерность которых мы можем понизить, или же совсем изменить тип данных. Перейдём к оптимизации типов данных.\n",
    "\n",
    "Снизим размерность для количественных столбцов."
   ]
  },
  {
   "cell_type": "code",
   "execution_count": 33,
   "metadata": {},
   "outputs": [
    {
     "name": "stdout",
     "output_type": "stream",
     "text": [
      "<class 'pandas.core.frame.DataFrame'>\n",
      "RangeIndex: 281654 entries, 0 to 281653\n",
      "Data columns (total 14 columns):\n",
      " #   Column                 Non-Null Count   Dtype         \n",
      "---  ------                 --------------   -----         \n",
      " 0   order_id               281654 non-null  int64         \n",
      " 1   user_id                281654 non-null  object        \n",
      " 2   created_dt_msk         281654 non-null  datetime64[ns]\n",
      " 3   created_ts_msk         281654 non-null  datetime64[ns]\n",
      " 4   event_id               281654 non-null  int64         \n",
      " 5   cinema_circuit         281654 non-null  object        \n",
      " 6   age_limit              281654 non-null  int64         \n",
      " 7   currency_code          281654 non-null  object        \n",
      " 8   device_type_canonical  281654 non-null  object        \n",
      " 9   revenue                281654 non-null  float64       \n",
      " 10  service_name           281654 non-null  object        \n",
      " 11  tickets_count          281654 non-null  int64         \n",
      " 12  total                  281654 non-null  float64       \n",
      " 13  days_since_prev        260302 non-null  float64       \n",
      "dtypes: datetime64[ns](2), float64(3), int64(4), object(5)\n",
      "memory usage: 30.1+ MB\n"
     ]
    }
   ],
   "source": [
    "to_df.info()"
   ]
  },
  {
   "cell_type": "code",
   "execution_count": 34,
   "metadata": {},
   "outputs": [
    {
     "name": "stdout",
     "output_type": "stream",
     "text": [
      "<class 'pandas.core.frame.DataFrame'>\n",
      "RangeIndex: 281654 entries, 0 to 281653\n",
      "Data columns (total 14 columns):\n",
      " #   Column                 Non-Null Count   Dtype         \n",
      "---  ------                 --------------   -----         \n",
      " 0   order_id               281654 non-null  int32         \n",
      " 1   user_id                281654 non-null  object        \n",
      " 2   created_dt_msk         281654 non-null  datetime64[ns]\n",
      " 3   created_ts_msk         281654 non-null  datetime64[ns]\n",
      " 4   event_id               281654 non-null  int32         \n",
      " 5   cinema_circuit         281654 non-null  object        \n",
      " 6   age_limit              281654 non-null  int8          \n",
      " 7   currency_code          281654 non-null  object        \n",
      " 8   device_type_canonical  281654 non-null  object        \n",
      " 9   revenue                281654 non-null  float32       \n",
      " 10  service_name           281654 non-null  object        \n",
      " 11  tickets_count          281654 non-null  int8          \n",
      " 12  total                  281654 non-null  float32       \n",
      " 13  days_since_prev        260302 non-null  float32       \n",
      "dtypes: datetime64[ns](2), float32(3), int32(2), int8(2), object(5)\n",
      "memory usage: 21.0+ MB\n"
     ]
    }
   ],
   "source": [
    "for i in ['order_id', 'event_id', 'age_limit', 'tickets_count']:\n",
    "    to_df[i] = pd.to_numeric(to_df[i],downcast='integer')\n",
    "\n",
    "for i in ['revenue', 'total', 'days_since_prev']:\n",
    "    to_df[i] = pd.to_numeric(to_df[i],downcast='float')\n",
    "\n",
    "to_df.info()"
   ]
  },
  {
   "cell_type": "markdown",
   "metadata": {},
   "source": [
    "Мы снизили разрядность количественных столбцов в датафрейме `to_df`. Теперь проведём ту же самую процедуру для датафрейма tickets_events_df."
   ]
  },
  {
   "cell_type": "code",
   "execution_count": 35,
   "metadata": {
    "scrolled": true
   },
   "outputs": [
    {
     "name": "stdout",
     "output_type": "stream",
     "text": [
      "<class 'pandas.core.frame.DataFrame'>\n",
      "RangeIndex: 22427 entries, 0 to 22426\n",
      "Data columns (total 11 columns):\n",
      " #   Column                  Non-Null Count  Dtype \n",
      "---  ------                  --------------  ----- \n",
      " 0   event_id                22427 non-null  int64 \n",
      " 1   event_name              22427 non-null  object\n",
      " 2   event_type_description  22427 non-null  object\n",
      " 3   event_type_main         22427 non-null  object\n",
      " 4   organizers              22427 non-null  object\n",
      " 5   region_name             22427 non-null  object\n",
      " 6   city_name               22427 non-null  object\n",
      " 7   city_id                 22427 non-null  int64 \n",
      " 8   venue_id                22427 non-null  int64 \n",
      " 9   venue_name              22427 non-null  object\n",
      " 10  venue_address           22427 non-null  object\n",
      "dtypes: int64(3), object(8)\n",
      "memory usage: 1.9+ MB\n"
     ]
    }
   ],
   "source": [
    "tickets_events_df.info()"
   ]
  },
  {
   "cell_type": "code",
   "execution_count": 36,
   "metadata": {},
   "outputs": [
    {
     "name": "stdout",
     "output_type": "stream",
     "text": [
      "<class 'pandas.core.frame.DataFrame'>\n",
      "RangeIndex: 22427 entries, 0 to 22426\n",
      "Data columns (total 11 columns):\n",
      " #   Column                  Non-Null Count  Dtype \n",
      "---  ------                  --------------  ----- \n",
      " 0   event_id                22427 non-null  int32 \n",
      " 1   event_name              22427 non-null  object\n",
      " 2   event_type_description  22427 non-null  object\n",
      " 3   event_type_main         22427 non-null  object\n",
      " 4   organizers              22427 non-null  int16 \n",
      " 5   region_name             22427 non-null  object\n",
      " 6   city_name               22427 non-null  object\n",
      " 7   city_id                 22427 non-null  int32 \n",
      " 8   venue_id                22427 non-null  int16 \n",
      " 9   venue_name              22427 non-null  object\n",
      " 10  venue_address           22427 non-null  object\n",
      "dtypes: int16(2), int32(2), object(7)\n",
      "memory usage: 1.5+ MB\n"
     ]
    }
   ],
   "source": [
    "for i in ['event_id', 'organizers', 'city_id', 'venue_id']:\n",
    "    tickets_events_df[i] = pd.to_numeric(tickets_events_df[i],downcast='integer')\n",
    "\n",
    "tickets_events_df.info()"
   ]
  },
  {
   "cell_type": "markdown",
   "metadata": {},
   "source": [
    "Мы снизили разрядность для количественных столбцов датафрейма `tickets_events_df`. Аналогично сделаем и для датафрейма `tickets_tenge_df`."
   ]
  },
  {
   "cell_type": "code",
   "execution_count": 37,
   "metadata": {
    "scrolled": false
   },
   "outputs": [
    {
     "name": "stdout",
     "output_type": "stream",
     "text": [
      "<class 'pandas.core.frame.DataFrame'>\n",
      "RangeIndex: 357 entries, 0 to 356\n",
      "Data columns (total 4 columns):\n",
      " #   Column   Non-Null Count  Dtype         \n",
      "---  ------   --------------  -----         \n",
      " 0   data     357 non-null    datetime64[ns]\n",
      " 1   nominal  357 non-null    int64         \n",
      " 2   curs     357 non-null    float64       \n",
      " 3   cdx      357 non-null    object        \n",
      "dtypes: datetime64[ns](1), float64(1), int64(1), object(1)\n",
      "memory usage: 11.3+ KB\n"
     ]
    }
   ],
   "source": [
    "tickets_tenge_df.info()"
   ]
  },
  {
   "cell_type": "code",
   "execution_count": 38,
   "metadata": {},
   "outputs": [
    {
     "name": "stdout",
     "output_type": "stream",
     "text": [
      "<class 'pandas.core.frame.DataFrame'>\n",
      "RangeIndex: 357 entries, 0 to 356\n",
      "Data columns (total 4 columns):\n",
      " #   Column   Non-Null Count  Dtype         \n",
      "---  ------   --------------  -----         \n",
      " 0   data     357 non-null    datetime64[ns]\n",
      " 1   nominal  357 non-null    int8          \n",
      " 2   curs     357 non-null    float32       \n",
      " 3   cdx      357 non-null    object        \n",
      "dtypes: datetime64[ns](1), float32(1), int8(1), object(1)\n",
      "memory usage: 7.4+ KB\n"
     ]
    }
   ],
   "source": [
    "tickets_tenge_df['nominal'] = pd.to_numeric(tickets_tenge_df['nominal'],downcast='integer')\n",
    "tickets_tenge_df['curs'] = pd.to_numeric(tickets_tenge_df['curs'],downcast='float')\n",
    "\n",
    "tickets_tenge_df.info()"
   ]
  },
  {
   "cell_type": "markdown",
   "metadata": {},
   "source": [
    "Таким образом, мы понизили разрядость с `int64` и `float64` до оптимально необходимых `int8`, `int16`, `int32` и `float32` у всех количественных столбцов трёх имеющихся датафреймов.\n",
    "\n",
    "Теперь мы можем переходить к объединению и дополнению датафреймов необходимыми полями."
   ]
  },
  {
   "cell_type": "markdown",
   "metadata": {},
   "source": [
    "### 2.5. Объединение и дополнение датафреймов\n",
    "\n",
    "Начнём с объединения датафреймов. Объединим датафреймы `to_df` и `tickets_events_df` в один датафрейм `df_new`. Тип объединения будем использовать `inner` для того, чтобы избежать появления NaN значений. К полученному датафрейму присоединим датафрейм `tickets_tenge_df`."
   ]
  },
  {
   "cell_type": "code",
   "execution_count": 39,
   "metadata": {},
   "outputs": [
    {
     "data": {
      "text/html": [
       "<div>\n",
       "<style scoped>\n",
       "    .dataframe tbody tr th:only-of-type {\n",
       "        vertical-align: middle;\n",
       "    }\n",
       "\n",
       "    .dataframe tbody tr th {\n",
       "        vertical-align: top;\n",
       "    }\n",
       "\n",
       "    .dataframe thead th {\n",
       "        text-align: right;\n",
       "    }\n",
       "</style>\n",
       "<table border=\"1\" class=\"dataframe\">\n",
       "  <thead>\n",
       "    <tr style=\"text-align: right;\">\n",
       "      <th></th>\n",
       "      <th>order_id</th>\n",
       "      <th>user_id</th>\n",
       "      <th>created_dt_msk</th>\n",
       "      <th>created_ts_msk</th>\n",
       "      <th>event_id</th>\n",
       "      <th>cinema_circuit</th>\n",
       "      <th>age_limit</th>\n",
       "      <th>currency_code</th>\n",
       "      <th>device_type_canonical</th>\n",
       "      <th>revenue</th>\n",
       "      <th>...</th>\n",
       "      <th>region_name</th>\n",
       "      <th>city_name</th>\n",
       "      <th>city_id</th>\n",
       "      <th>venue_id</th>\n",
       "      <th>venue_name</th>\n",
       "      <th>venue_address</th>\n",
       "      <th>data</th>\n",
       "      <th>nominal</th>\n",
       "      <th>curs</th>\n",
       "      <th>cdx</th>\n",
       "    </tr>\n",
       "  </thead>\n",
       "  <tbody>\n",
       "    <tr>\n",
       "      <th>0</th>\n",
       "      <td>4359165</td>\n",
       "      <td>0002849b70a3ce2</td>\n",
       "      <td>2024-08-20</td>\n",
       "      <td>2024-08-20 16:08:03</td>\n",
       "      <td>169230</td>\n",
       "      <td>нет</td>\n",
       "      <td>16</td>\n",
       "      <td>rub</td>\n",
       "      <td>mobile</td>\n",
       "      <td>1521.939941</td>\n",
       "      <td>...</td>\n",
       "      <td>Каменевский регион</td>\n",
       "      <td>Глиногорск</td>\n",
       "      <td>213</td>\n",
       "      <td>3972</td>\n",
       "      <td>Сценический центр \"Деталь\" Групп</td>\n",
       "      <td>алл. Машиностроителей, д. 19 стр. 6</td>\n",
       "      <td>2024-08-20</td>\n",
       "      <td>100</td>\n",
       "      <td>18.697201</td>\n",
       "      <td>kzt</td>\n",
       "    </tr>\n",
       "    <tr>\n",
       "      <th>1</th>\n",
       "      <td>6274963</td>\n",
       "      <td>44c1c640a242aea</td>\n",
       "      <td>2024-08-20</td>\n",
       "      <td>2024-08-20 22:12:04</td>\n",
       "      <td>237325</td>\n",
       "      <td>нет</td>\n",
       "      <td>0</td>\n",
       "      <td>rub</td>\n",
       "      <td>mobile</td>\n",
       "      <td>144.729996</td>\n",
       "      <td>...</td>\n",
       "      <td>Каменевский регион</td>\n",
       "      <td>Глиногорск</td>\n",
       "      <td>213</td>\n",
       "      <td>2941</td>\n",
       "      <td>Музыкальная школа для детей \"Аккаунт\" Лтд</td>\n",
       "      <td>алл. Шмидта, д. 9 стр. 4</td>\n",
       "      <td>2024-08-20</td>\n",
       "      <td>100</td>\n",
       "      <td>18.697201</td>\n",
       "      <td>kzt</td>\n",
       "    </tr>\n",
       "    <tr>\n",
       "      <th>2</th>\n",
       "      <td>474528</td>\n",
       "      <td>2b1f730d7024681</td>\n",
       "      <td>2024-08-20</td>\n",
       "      <td>2024-08-20 15:29:56</td>\n",
       "      <td>373657</td>\n",
       "      <td>нет</td>\n",
       "      <td>18</td>\n",
       "      <td>rub</td>\n",
       "      <td>mobile</td>\n",
       "      <td>318.269989</td>\n",
       "      <td>...</td>\n",
       "      <td>Североярская область</td>\n",
       "      <td>Озёрск</td>\n",
       "      <td>2</td>\n",
       "      <td>1631</td>\n",
       "      <td>Музей истории \"Воспоминание\" Групп</td>\n",
       "      <td>наб. Тамбовская, д. 1/4 к. 577</td>\n",
       "      <td>2024-08-20</td>\n",
       "      <td>100</td>\n",
       "      <td>18.697201</td>\n",
       "      <td>kzt</td>\n",
       "    </tr>\n",
       "    <tr>\n",
       "      <th>3</th>\n",
       "      <td>7477361</td>\n",
       "      <td>05ba93f1b1e1fdd</td>\n",
       "      <td>2024-08-20</td>\n",
       "      <td>2024-08-20 17:06:44</td>\n",
       "      <td>534657</td>\n",
       "      <td>нет</td>\n",
       "      <td>16</td>\n",
       "      <td>rub</td>\n",
       "      <td>mobile</td>\n",
       "      <td>339.609985</td>\n",
       "      <td>...</td>\n",
       "      <td>Ветренский регион</td>\n",
       "      <td>Кокжар</td>\n",
       "      <td>20</td>\n",
       "      <td>2866</td>\n",
       "      <td>Школа фотографии \"Золотое\" Инк</td>\n",
       "      <td>ш. Микрорайон, д. 79 стр. 50</td>\n",
       "      <td>2024-08-20</td>\n",
       "      <td>100</td>\n",
       "      <td>18.697201</td>\n",
       "      <td>kzt</td>\n",
       "    </tr>\n",
       "    <tr>\n",
       "      <th>4</th>\n",
       "      <td>472150</td>\n",
       "      <td>3ee7dc2e115847f</td>\n",
       "      <td>2024-08-20</td>\n",
       "      <td>2024-08-20 02:57:22</td>\n",
       "      <td>534657</td>\n",
       "      <td>нет</td>\n",
       "      <td>16</td>\n",
       "      <td>rub</td>\n",
       "      <td>mobile</td>\n",
       "      <td>339.609985</td>\n",
       "      <td>...</td>\n",
       "      <td>Ветренский регион</td>\n",
       "      <td>Кокжар</td>\n",
       "      <td>20</td>\n",
       "      <td>2866</td>\n",
       "      <td>Школа фотографии \"Золотое\" Инк</td>\n",
       "      <td>ш. Микрорайон, д. 79 стр. 50</td>\n",
       "      <td>2024-08-20</td>\n",
       "      <td>100</td>\n",
       "      <td>18.697201</td>\n",
       "      <td>kzt</td>\n",
       "    </tr>\n",
       "  </tbody>\n",
       "</table>\n",
       "<p>5 rows × 28 columns</p>\n",
       "</div>"
      ],
      "text/plain": [
       "   order_id          user_id created_dt_msk      created_ts_msk  event_id  \\\n",
       "0   4359165  0002849b70a3ce2     2024-08-20 2024-08-20 16:08:03    169230   \n",
       "1   6274963  44c1c640a242aea     2024-08-20 2024-08-20 22:12:04    237325   \n",
       "2    474528  2b1f730d7024681     2024-08-20 2024-08-20 15:29:56    373657   \n",
       "3   7477361  05ba93f1b1e1fdd     2024-08-20 2024-08-20 17:06:44    534657   \n",
       "4    472150  3ee7dc2e115847f     2024-08-20 2024-08-20 02:57:22    534657   \n",
       "\n",
       "  cinema_circuit  age_limit currency_code device_type_canonical      revenue  \\\n",
       "0            нет         16           rub                mobile  1521.939941   \n",
       "1            нет          0           rub                mobile   144.729996   \n",
       "2            нет         18           rub                mobile   318.269989   \n",
       "3            нет         16           rub                mobile   339.609985   \n",
       "4            нет         16           rub                mobile   339.609985   \n",
       "\n",
       "   ...           region_name   city_name  city_id  venue_id  \\\n",
       "0  ...    Каменевский регион  Глиногорск      213      3972   \n",
       "1  ...    Каменевский регион  Глиногорск      213      2941   \n",
       "2  ...  Североярская область      Озёрск        2      1631   \n",
       "3  ...     Ветренский регион      Кокжар       20      2866   \n",
       "4  ...     Ветренский регион      Кокжар       20      2866   \n",
       "\n",
       "                                  venue_name  \\\n",
       "0           Сценический центр \"Деталь\" Групп   \n",
       "1  Музыкальная школа для детей \"Аккаунт\" Лтд   \n",
       "2         Музей истории \"Воспоминание\" Групп   \n",
       "3             Школа фотографии \"Золотое\" Инк   \n",
       "4             Школа фотографии \"Золотое\" Инк   \n",
       "\n",
       "                         venue_address       data  nominal       curs  cdx  \n",
       "0  алл. Машиностроителей, д. 19 стр. 6 2024-08-20      100  18.697201  kzt  \n",
       "1             алл. Шмидта, д. 9 стр. 4 2024-08-20      100  18.697201  kzt  \n",
       "2       наб. Тамбовская, д. 1/4 к. 577 2024-08-20      100  18.697201  kzt  \n",
       "3         ш. Микрорайон, д. 79 стр. 50 2024-08-20      100  18.697201  kzt  \n",
       "4         ш. Микрорайон, д. 79 стр. 50 2024-08-20      100  18.697201  kzt  \n",
       "\n",
       "[5 rows x 28 columns]"
      ]
     },
     "execution_count": 39,
     "metadata": {},
     "output_type": "execute_result"
    }
   ],
   "source": [
    "df_new = to_df.merge(tickets_events_df, on='event_id')\n",
    "df = df_new.merge(tickets_tenge_df, left_on='created_dt_msk', right_on='data')\n",
    "\n",
    "df.head()"
   ]
  },
  {
   "cell_type": "markdown",
   "metadata": {},
   "source": [
    "Теперь мы можем переходить к добавлению необходимых полей. Начнём с поля `revenue_rub`:"
   ]
  },
  {
   "cell_type": "code",
   "execution_count": 40,
   "metadata": {},
   "outputs": [],
   "source": [
    "df['revenue_rub'] = df.apply(\n",
    "    lambda row: row['revenue'] if row['currency_code'] == 'rub' \n",
    "    else (row['revenue'] / row['nominal']) * row['curs'],\n",
    "    axis = 1)"
   ]
  },
  {
   "cell_type": "markdown",
   "metadata": {},
   "source": [
    "Теперь у нас есть столбец с выручкой полностью в рублях. Можем переходить к созданию нового поля `one_ticket_revenue_rub`:"
   ]
  },
  {
   "cell_type": "code",
   "execution_count": 41,
   "metadata": {},
   "outputs": [],
   "source": [
    "df['one_ticket_revenue_rub'] = df.apply(\n",
    "    lambda row: row['revenue_rub'] / row['tickets_count'],\n",
    "    axis = 1)"
   ]
  },
  {
   "cell_type": "markdown",
   "metadata": {},
   "source": [
    "Мы добавили ещё одно поле, которое содержит в себе выручку с продажи одного билета на мероприятие.\n",
    "\n",
    "Создадим ещё одно расчётное поле. `month` - выделим месяц оформления заказа в отдельный столбец."
   ]
  },
  {
   "cell_type": "code",
   "execution_count": 42,
   "metadata": {},
   "outputs": [],
   "source": [
    "df['month'] = df['created_dt_msk'].dt.month"
   ]
  },
  {
   "cell_type": "markdown",
   "metadata": {},
   "source": [
    "Теперь у нас есть столбец, который содержит месяц оформления заказа, и мы можем создать заключительное поле `season` с информацией о сезонности, включая такие категории, как: 'лето', 'осень', 'зима', 'весна'."
   ]
  },
  {
   "cell_type": "code",
   "execution_count": 43,
   "metadata": {},
   "outputs": [],
   "source": [
    "# Функция для определения сезона\n",
    "def get_season(month):\n",
    "  if month in [12, 1, 2]:\n",
    "    return 'зима'\n",
    "  elif month in [3, 4, 5]:\n",
    "    return 'весна'\n",
    "  elif month in [6, 7, 8]:\n",
    "    return 'лето'\n",
    "  else:  # month in [9, 10, 11]\n",
    "    return 'осень'\n",
    "\n",
    "# Создаем столбец 'season'\n",
    "df['season'] = df['month'].apply(get_season)"
   ]
  },
  {
   "cell_type": "markdown",
   "metadata": {},
   "source": [
    "В ходе пункта 2.5 мы объединили три имеющихся датафрейма в один, а также добавили 4 новых столбца:\n",
    "- `revenue_rub` - содержит значения выручки в российских рублях.\n",
    "- `one_ticket_revenue_rub` - содержит выручку с продажи одного билета на мероприятие.\n",
    "- `month` - содержит месяц оформления заказа.\n",
    "- `season` - содержит информацию о сезонности, включая такие категории, как: 'лето', 'осень', 'зима', 'весна'.\n",
    "\n",
    "На этом предобработка данных окончена. В ходе предобработки мы:\n",
    "- Проверили данные на пропуски и убедились в их отсутствии за исключением столбца `days_since_prev`.\n",
    "- Проверили значения в ключевых столбцах: для количественных данных проверили наличие выбросов и ограничили поле с выручкой 99-м процентилем, а также проверили категориальные данные и убедились в их корректности.\n",
    "- Проверили данные на явные и неявные дубликаты. Убедились в отсутствии явных дубликатов и избавились от неявных дубликатов.\n",
    "- Провели преобразование типов данных, снизив разрядность полей с количественными данными до типов `int8`, `int16`, `int32` и `float32`.\n",
    "- А также создали 4 новых поля для дальнейшего исследования.\n",
    "\n",
    "Теперь мы можем переходить к исследовательскому анализу данных."
   ]
  },
  {
   "cell_type": "markdown",
   "metadata": {},
   "source": [
    "## 3. Исследовательский анализ данных\n",
    "### 3.1. Анализ распределения заказов по сегментам и их сезонные изменения"
   ]
  },
  {
   "cell_type": "markdown",
   "metadata": {},
   "source": [
    "Анализ дашборда показал, что в данных наблюдается сезонность — осенью количество заказов увеличивается. На стадии исследовательского анализа изучим изменение пользовательской активности или пользовательского интереса в связи с сезонностью. Проанализируем динамику по таким разрезам:\n",
    "- тип мероприятия `event_type_main`;\n",
    "- тип устройства `device_type_canonical`;\n",
    "- категория мероприятий по возрастному рейтингу `age_limit`.\n",
    "\n",
    "В этом разделе изучим распределение заказов по сегментам и их сезонные изменения, выполнив следующие шаги:\n",
    "- **Для каждого месяца найдём количество заказов** и визуализируем результаты. Проверим, фиксируется ли увеличение заказов от июня к ноябрю 2024 года.\n",
    "- **Для осеннего и летнего периодов сравним распределение заказов билетов** по разным категориям: тип мероприятия, тип устройства, категория мероприятия по возрастному рейтингу. Результаты визуализируем подходящим графиком, который поможет сопоставить значения для летнего и осеннего сезонов.\n",
    "- **Изучите изменение выручки с продажи одного билета** в зависимости от типа мероприятия летом и осенью. Видна ли динамика средней стоимости билета в разрезе разных категорий мероприятий? Для каждого типа мероприятия рассчитаем среднее значение выручки с одного билета, затем найдём относительное изменение осенних значений по сравнению с летними. Результат сопроводим подходящей визуализацией.\n",
    "- **Сделаем вывод** о том, как меняется распределение заказов в каждой категории с наступлением осени. Было ли изменение средней стоимости одного билета в разрезе разных типов мероприятий?"
   ]
  },
  {
   "cell_type": "code",
   "execution_count": 44,
   "metadata": {},
   "outputs": [
    {
     "data": {
      "text/html": [
       "<div>\n",
       "<style scoped>\n",
       "    .dataframe tbody tr th:only-of-type {\n",
       "        vertical-align: middle;\n",
       "    }\n",
       "\n",
       "    .dataframe tbody tr th {\n",
       "        vertical-align: top;\n",
       "    }\n",
       "\n",
       "    .dataframe thead th {\n",
       "        text-align: right;\n",
       "    }\n",
       "</style>\n",
       "<table border=\"1\" class=\"dataframe\">\n",
       "  <thead>\n",
       "    <tr style=\"text-align: right;\">\n",
       "      <th></th>\n",
       "      <th>order_id</th>\n",
       "    </tr>\n",
       "    <tr>\n",
       "      <th>month</th>\n",
       "      <th></th>\n",
       "    </tr>\n",
       "  </thead>\n",
       "  <tbody>\n",
       "    <tr>\n",
       "      <th>6</th>\n",
       "      <td>32715</td>\n",
       "    </tr>\n",
       "    <tr>\n",
       "      <th>7</th>\n",
       "      <td>37882</td>\n",
       "    </tr>\n",
       "    <tr>\n",
       "      <th>8</th>\n",
       "      <td>43172</td>\n",
       "    </tr>\n",
       "    <tr>\n",
       "      <th>9</th>\n",
       "      <td>68862</td>\n",
       "    </tr>\n",
       "    <tr>\n",
       "      <th>10</th>\n",
       "      <td>98996</td>\n",
       "    </tr>\n",
       "  </tbody>\n",
       "</table>\n",
       "</div>"
      ],
      "text/plain": [
       "       order_id\n",
       "month          \n",
       "6         32715\n",
       "7         37882\n",
       "8         43172\n",
       "9         68862\n",
       "10        98996"
      ]
     },
     "metadata": {},
     "output_type": "display_data"
    }
   ],
   "source": [
    "pivot_month = pd.pivot_table(df,\n",
    "                             index=\"month\",\n",
    "                             values=\"order_id\",\n",
    "                             aggfunc=\"count\")\n",
    "display(pivot_month)"
   ]
  },
  {
   "cell_type": "code",
   "execution_count": 45,
   "metadata": {},
   "outputs": [
    {
     "data": {
      "image/png": "[encoded data removed]",
      "text/plain": [
       "<Figure size 432x288 with 1 Axes>"
      ]
     },
     "metadata": {
      "needs_background": "light"
     },
     "output_type": "display_data"
    }
   ],
   "source": [
    "pivot_month.plot(kind='bar',\n",
    "                 title='Количество заказов в разрезе месяцев',\n",
    "                 legend=False,\n",
    "                 ylabel='Количество заказов',\n",
    "                 xlabel='Месяцы',\n",
    "                 rot=0,\n",
    "                 color='lightgreen');"
   ]
  },
  {
   "cell_type": "markdown",
   "metadata": {},
   "source": [
    "Мы построили сводную таблицу, в которой для каждого месяца рассчитали количество заказов. Для визуализации мы выбрали столбчатую диаграмму. На ней можно отследить положительную динамику: от июня к октябрю количество заказов стабильно увеличивается.\n",
    "\n",
    "Для осеннего и летнего периодов сравним распределение заказов. Для начала посмотрим на распределение в разрезе типа мероприятия:"
   ]
  },
  {
   "cell_type": "code",
   "execution_count": 46,
   "metadata": {},
   "outputs": [
    {
     "data": {
      "text/html": [
       "<div>\n",
       "<style scoped>\n",
       "    .dataframe tbody tr th:only-of-type {\n",
       "        vertical-align: middle;\n",
       "    }\n",
       "\n",
       "    .dataframe tbody tr th {\n",
       "        vertical-align: top;\n",
       "    }\n",
       "\n",
       "    .dataframe thead th {\n",
       "        text-align: right;\n",
       "    }\n",
       "</style>\n",
       "<table border=\"1\" class=\"dataframe\">\n",
       "  <thead>\n",
       "    <tr style=\"text-align: right;\">\n",
       "      <th>season</th>\n",
       "      <th>лето</th>\n",
       "      <th>осень</th>\n",
       "    </tr>\n",
       "    <tr>\n",
       "      <th>event_type_main</th>\n",
       "      <th></th>\n",
       "      <th></th>\n",
       "    </tr>\n",
       "  </thead>\n",
       "  <tbody>\n",
       "    <tr>\n",
       "      <th>концерты</th>\n",
       "      <td>0.437606</td>\n",
       "      <td>0.373387</td>\n",
       "    </tr>\n",
       "    <tr>\n",
       "      <th>другое</th>\n",
       "      <td>0.250428</td>\n",
       "      <td>0.194641</td>\n",
       "    </tr>\n",
       "    <tr>\n",
       "      <th>театр</th>\n",
       "      <td>0.208343</td>\n",
       "      <td>0.254447</td>\n",
       "    </tr>\n",
       "    <tr>\n",
       "      <th>стендап</th>\n",
       "      <td>0.055780</td>\n",
       "      <td>0.041243</td>\n",
       "    </tr>\n",
       "    <tr>\n",
       "      <th>спорт</th>\n",
       "      <td>0.024277</td>\n",
       "      <td>0.111898</td>\n",
       "    </tr>\n",
       "    <tr>\n",
       "      <th>выставки</th>\n",
       "      <td>0.021166</td>\n",
       "      <td>0.014310</td>\n",
       "    </tr>\n",
       "    <tr>\n",
       "      <th>ёлки</th>\n",
       "      <td>0.002400</td>\n",
       "      <td>0.010074</td>\n",
       "    </tr>\n",
       "  </tbody>\n",
       "</table>\n",
       "</div>"
      ],
      "text/plain": [
       "season               лето     осень\n",
       "event_type_main                    \n",
       "концерты         0.437606  0.373387\n",
       "другое           0.250428  0.194641\n",
       "театр            0.208343  0.254447\n",
       "стендап          0.055780  0.041243\n",
       "спорт            0.024277  0.111898\n",
       "выставки         0.021166  0.014310\n",
       "ёлки             0.002400  0.010074"
      ]
     },
     "metadata": {},
     "output_type": "display_data"
    }
   ],
   "source": [
    "pivot_seasons_event = pd.pivot_table(df,\n",
    "                             index=\"event_type_main\",\n",
    "                             columns=\"season\",\n",
    "                             values=\"order_id\",\n",
    "                             aggfunc=\"count\")\n",
    "\n",
    "pivot_seasons_event = pivot_seasons_event.div(pivot_seasons_event.sum(axis=0), axis=1)  # axis=0: суммируем по строкам, axis=1: делим по столбцам\n",
    "\n",
    "display(pivot_seasons_event.sort_values(by='лето', ascending=False))"
   ]
  },
  {
   "cell_type": "code",
   "execution_count": 47,
   "metadata": {},
   "outputs": [
    {
     "data": {
      "image/png": "[encoded data removed]",
      "text/plain": [
       "<Figure size 432x288 with 1 Axes>"
      ]
     },
     "metadata": {
      "needs_background": "light"
     },
     "output_type": "display_data"
    }
   ],
   "source": [
    "pivot_seasons_event.sort_values(by='лето', ascending=False).plot(kind='bar',\n",
    "                 title='Количество заказов по типу мероприятия в разрезе сезонов',\n",
    "                 #legend=False,\n",
    "                 ylabel='Количество заказов',\n",
    "                 xlabel='Тип мероприятия',\n",
    "                 rot=0,\n",
    "                 color=['lightgreen','yellow']);"
   ]
  },
  {
   "cell_type": "markdown",
   "metadata": {},
   "source": [
    "По графику мы видим, что не все типы мероприятий имеют положительный тренд количества заказов с наступлением осени. Так, например, доля заказов для концертов, стендапов, выставок и других мероприятий летом выше, чем осенью. А вот для театров, спорта и ёлок мы наблюдаем положительную тенденцию (увеличение доли количества заказов от лета к осени).\n",
    "\n",
    "Рассмотрим теперь распределение заказов билетов по типам устройств:"
   ]
  },
  {
   "cell_type": "code",
   "execution_count": 48,
   "metadata": {
    "scrolled": true
   },
   "outputs": [
    {
     "data": {
      "text/html": [
       "<div>\n",
       "<style scoped>\n",
       "    .dataframe tbody tr th:only-of-type {\n",
       "        vertical-align: middle;\n",
       "    }\n",
       "\n",
       "    .dataframe tbody tr th {\n",
       "        vertical-align: top;\n",
       "    }\n",
       "\n",
       "    .dataframe thead th {\n",
       "        text-align: right;\n",
       "    }\n",
       "</style>\n",
       "<table border=\"1\" class=\"dataframe\">\n",
       "  <thead>\n",
       "    <tr style=\"text-align: right;\">\n",
       "      <th>season</th>\n",
       "      <th>лето</th>\n",
       "      <th>осень</th>\n",
       "    </tr>\n",
       "    <tr>\n",
       "      <th>device_type_canonical</th>\n",
       "      <th></th>\n",
       "      <th></th>\n",
       "    </tr>\n",
       "  </thead>\n",
       "  <tbody>\n",
       "    <tr>\n",
       "      <th>mobile</th>\n",
       "      <td>0.809289</td>\n",
       "      <td>0.796036</td>\n",
       "    </tr>\n",
       "    <tr>\n",
       "      <th>desktop</th>\n",
       "      <td>0.190711</td>\n",
       "      <td>0.203964</td>\n",
       "    </tr>\n",
       "  </tbody>\n",
       "</table>\n",
       "</div>"
      ],
      "text/plain": [
       "season                     лето     осень\n",
       "device_type_canonical                    \n",
       "mobile                 0.809289  0.796036\n",
       "desktop                0.190711  0.203964"
      ]
     },
     "metadata": {},
     "output_type": "display_data"
    }
   ],
   "source": [
    "pivot_seasons_device = pd.pivot_table(df,\n",
    "                             index=\"device_type_canonical\",\n",
    "                             columns=\"season\",\n",
    "                             values=\"order_id\",\n",
    "                             aggfunc=\"count\")\n",
    "\n",
    "pivot_seasons_device = pivot_seasons_device.div(pivot_seasons_device.sum(axis=0), axis=1)  # axis=0: суммируем по строкам, axis=1: делим по столбцам\n",
    "\n",
    "display(pivot_seasons_device.sort_values(by='лето', ascending=False))"
   ]
  },
  {
   "cell_type": "code",
   "execution_count": 49,
   "metadata": {},
   "outputs": [
    {
     "data": {
      "image/png": "[encoded data removed]",
      "text/plain": [
       "<Figure size 432x288 with 1 Axes>"
      ]
     },
     "metadata": {
      "needs_background": "light"
     },
     "output_type": "display_data"
    }
   ],
   "source": [
    "pivot_seasons_device.sort_values(by='лето', ascending=False).plot(kind='bar',\n",
    "                 title='Количество заказов по типу устройства в разрезе сезонов',\n",
    "                 #legend=False,\n",
    "                 ylabel='Количество заказов',\n",
    "                 xlabel='Тип устройства',\n",
    "                 rot=0,\n",
    "                 color=['lightgreen','yellow']);"
   ]
  },
  {
   "cell_type": "markdown",
   "metadata": {},
   "source": [
    "Для типов устройств же мы видим, что сезон практически никак не влияет на долю количества заказов. Для заказов, сделанных с мобильных устройств осенью мы наблюдаем незначительное снижение доли количества заказов по сравнению с летом, а для ПК - наоборот, с наступлением осени мы видим незначительное увеличение доли заказов.\n",
    "\n",
    "И аналогично рассмотрим распределение доли заказов в разрезе категорий мероприятий по возрастному рейтингу для осеннего и летнего периодов:"
   ]
  },
  {
   "cell_type": "code",
   "execution_count": 50,
   "metadata": {
    "scrolled": false
   },
   "outputs": [
    {
     "data": {
      "text/html": [
       "<div>\n",
       "<style scoped>\n",
       "    .dataframe tbody tr th:only-of-type {\n",
       "        vertical-align: middle;\n",
       "    }\n",
       "\n",
       "    .dataframe tbody tr th {\n",
       "        vertical-align: top;\n",
       "    }\n",
       "\n",
       "    .dataframe thead th {\n",
       "        text-align: right;\n",
       "    }\n",
       "</style>\n",
       "<table border=\"1\" class=\"dataframe\">\n",
       "  <thead>\n",
       "    <tr style=\"text-align: right;\">\n",
       "      <th>season</th>\n",
       "      <th>лето</th>\n",
       "      <th>осень</th>\n",
       "    </tr>\n",
       "    <tr>\n",
       "      <th>age_limit</th>\n",
       "      <th></th>\n",
       "      <th></th>\n",
       "    </tr>\n",
       "  </thead>\n",
       "  <tbody>\n",
       "    <tr>\n",
       "      <th>16</th>\n",
       "      <td>0.284708</td>\n",
       "      <td>0.263354</td>\n",
       "    </tr>\n",
       "    <tr>\n",
       "      <th>12</th>\n",
       "      <td>0.210998</td>\n",
       "      <td>0.221485</td>\n",
       "    </tr>\n",
       "    <tr>\n",
       "      <th>6</th>\n",
       "      <td>0.183547</td>\n",
       "      <td>0.176602</td>\n",
       "    </tr>\n",
       "    <tr>\n",
       "      <th>0</th>\n",
       "      <td>0.181693</td>\n",
       "      <td>0.234073</td>\n",
       "    </tr>\n",
       "    <tr>\n",
       "      <th>18</th>\n",
       "      <td>0.139054</td>\n",
       "      <td>0.104487</td>\n",
       "    </tr>\n",
       "  </tbody>\n",
       "</table>\n",
       "</div>"
      ],
      "text/plain": [
       "season         лето     осень\n",
       "age_limit                    \n",
       "16         0.284708  0.263354\n",
       "12         0.210998  0.221485\n",
       "6          0.183547  0.176602\n",
       "0          0.181693  0.234073\n",
       "18         0.139054  0.104487"
      ]
     },
     "metadata": {},
     "output_type": "display_data"
    }
   ],
   "source": [
    "pivot_seasons_age = pd.pivot_table(df,\n",
    "                             index=\"age_limit\",\n",
    "                             columns=\"season\",\n",
    "                             values=\"order_id\",\n",
    "                             aggfunc=\"count\")\n",
    "\n",
    "pivot_seasons_age = pivot_seasons_age.div(pivot_seasons_age.sum(axis=0), axis=1)  # axis=0: суммируем по строкам, axis=1: делим по столбцам\n",
    "\n",
    "display(pivot_seasons_age.sort_values(by='лето', ascending=False))"
   ]
  },
  {
   "cell_type": "code",
   "execution_count": 51,
   "metadata": {},
   "outputs": [
    {
     "data": {
      "image/png": "[encoded data removed]",
      "text/plain": [
       "<Figure size 432x288 with 1 Axes>"
      ]
     },
     "metadata": {
      "needs_background": "light"
     },
     "output_type": "display_data"
    }
   ],
   "source": [
    "pivot_seasons_age.sort_values(by='лето', ascending=False).plot(kind='bar',\n",
    "                 title='Количество заказов по категории мероприятия по возрастному рейтингу в разрезе сезонов',\n",
    "                 #legend=False,\n",
    "                 ylabel='Количество заказов',\n",
    "                 xlabel='Возрастной рейтинг',\n",
    "                 rot=0,\n",
    "                 color=['lightgreen','yellow']);"
   ]
  },
  {
   "cell_type": "markdown",
   "metadata": {},
   "source": [
    "Мы видим по графику, что положительный тренд от лета к осени по доле заказов имеют только категории `12` и `0`. Остальные же категории уменьшают свои доли заказов от лета к осени.\n",
    "\n",
    "Перейдём теперь к изучению выручки с продажи одного билета в зависимости от типа мероприятия летом и осенью. Для этого ранее мы создали столбец `one_ticket_revenue_rub`, которым воспользуемся:"
   ]
  },
  {
   "cell_type": "code",
   "execution_count": 52,
   "metadata": {
    "scrolled": false
   },
   "outputs": [
    {
     "data": {
      "text/html": [
       "<div>\n",
       "<style scoped>\n",
       "    .dataframe tbody tr th:only-of-type {\n",
       "        vertical-align: middle;\n",
       "    }\n",
       "\n",
       "    .dataframe tbody tr th {\n",
       "        vertical-align: top;\n",
       "    }\n",
       "\n",
       "    .dataframe thead th {\n",
       "        text-align: right;\n",
       "    }\n",
       "</style>\n",
       "<table border=\"1\" class=\"dataframe\">\n",
       "  <thead>\n",
       "    <tr style=\"text-align: right;\">\n",
       "      <th>season</th>\n",
       "      <th>лето</th>\n",
       "      <th>осень</th>\n",
       "      <th>относительное изменение</th>\n",
       "    </tr>\n",
       "    <tr>\n",
       "      <th>event_type_main</th>\n",
       "      <th></th>\n",
       "      <th></th>\n",
       "      <th></th>\n",
       "    </tr>\n",
       "  </thead>\n",
       "  <tbody>\n",
       "    <tr>\n",
       "      <th>концерты</th>\n",
       "      <td>307.329465</td>\n",
       "      <td>268.086554</td>\n",
       "      <td>-12.769004</td>\n",
       "    </tr>\n",
       "    <tr>\n",
       "      <th>ёлки</th>\n",
       "      <td>271.436177</td>\n",
       "      <td>229.585590</td>\n",
       "      <td>-15.418205</td>\n",
       "    </tr>\n",
       "    <tr>\n",
       "      <th>стендап</th>\n",
       "      <td>218.518107</td>\n",
       "      <td>231.124973</td>\n",
       "      <td>5.769255</td>\n",
       "    </tr>\n",
       "    <tr>\n",
       "      <th>театр</th>\n",
       "      <td>216.345727</td>\n",
       "      <td>176.070710</td>\n",
       "      <td>-18.616044</td>\n",
       "    </tr>\n",
       "    <tr>\n",
       "      <th>другое</th>\n",
       "      <td>88.002193</td>\n",
       "      <td>77.431362</td>\n",
       "      <td>-12.012009</td>\n",
       "    </tr>\n",
       "    <tr>\n",
       "      <th>выставки</th>\n",
       "      <td>86.716646</td>\n",
       "      <td>91.905092</td>\n",
       "      <td>5.983219</td>\n",
       "    </tr>\n",
       "    <tr>\n",
       "      <th>спорт</th>\n",
       "      <td>55.247119</td>\n",
       "      <td>50.238828</td>\n",
       "      <td>-9.065251</td>\n",
       "    </tr>\n",
       "  </tbody>\n",
       "</table>\n",
       "</div>"
      ],
      "text/plain": [
       "season                 лето       осень  относительное изменение\n",
       "event_type_main                                                 \n",
       "концерты         307.329465  268.086554               -12.769004\n",
       "ёлки             271.436177  229.585590               -15.418205\n",
       "стендап          218.518107  231.124973                 5.769255\n",
       "театр            216.345727  176.070710               -18.616044\n",
       "другое            88.002193   77.431362               -12.012009\n",
       "выставки          86.716646   91.905092                 5.983219\n",
       "спорт             55.247119   50.238828                -9.065251"
      ]
     },
     "metadata": {},
     "output_type": "display_data"
    }
   ],
   "source": [
    "pivot_seasons_tickets = pd.pivot_table(df,\n",
    "                             index=\"event_type_main\",\n",
    "                             columns=\"season\",\n",
    "                             values=\"one_ticket_revenue_rub\",\n",
    "                             aggfunc=\"mean\")\n",
    "\n",
    "pivot_seasons_tickets['относительное изменение'] = (pivot_seasons_tickets['осень'] - pivot_seasons_tickets['лето']) / pivot_seasons_tickets['лето']*100\n",
    "\n",
    "display(pivot_seasons_tickets.sort_values(by='лето', ascending=False))"
   ]
  },
  {
   "cell_type": "code",
   "execution_count": 53,
   "metadata": {},
   "outputs": [
    {
     "data": {
      "text/plain": [
       "order_id                      0\n",
       "user_id                       0\n",
       "created_dt_msk                0\n",
       "created_ts_msk                0\n",
       "event_id                      0\n",
       "cinema_circuit                0\n",
       "age_limit                     0\n",
       "currency_code                 0\n",
       "device_type_canonical         0\n",
       "revenue                       0\n",
       "service_name                  0\n",
       "tickets_count                 0\n",
       "total                         0\n",
       "days_since_prev           21351\n",
       "event_name                    0\n",
       "event_type_description        0\n",
       "event_type_main               0\n",
       "organizers                    0\n",
       "region_name                   0\n",
       "city_name                     0\n",
       "city_id                       0\n",
       "venue_id                      0\n",
       "venue_name                    0\n",
       "venue_address                 0\n",
       "data                          0\n",
       "nominal                       0\n",
       "curs                          0\n",
       "cdx                           0\n",
       "revenue_rub                   0\n",
       "one_ticket_revenue_rub        0\n",
       "month                         0\n",
       "season                        0\n",
       "dtype: int64"
      ]
     },
     "execution_count": 53,
     "metadata": {},
     "output_type": "execute_result"
    }
   ],
   "source": [
    "df.isna().sum()"
   ]
  },
  {
   "cell_type": "code",
   "execution_count": 54,
   "metadata": {},
   "outputs": [
    {
     "data": {
      "image/png": "[encoded data removed]",
      "text/plain": [
       "<Figure size 432x288 with 1 Axes>"
      ]
     },
     "metadata": {
      "needs_background": "light"
     },
     "output_type": "display_data"
    }
   ],
   "source": [
    "pivot_seasons_tickets.sort_values(by='лето', ascending=False).plot(kind='bar',\n",
    "                 y=['лето','осень'],\n",
    "                 title='Изменение выручки по типу мероприятия в разрезе сезонов',\n",
    "                 ylabel='Размер выручки',\n",
    "                 xlabel='Тип мероприятия',\n",
    "                 rot=0,\n",
    "                 color=['lightgreen','yellow']);"
   ]
  },
  {
   "cell_type": "markdown",
   "metadata": {},
   "source": [
    "По сводной таблице мы видим, что только у 2 типов мероприятий из 7 выручка с продажи одного билета увеличилась с наступлением осени: для стендапа выручка выросла на 5,77%, а для выставок на 5,98%. Для всех остальных типов мероприятий мы наблюдаем снижение выручки на 9-18%. Самое больше изменение у типа мероприятий `театр`: выручка с продажи одного билета снизилась на 18,61%."
   ]
  },
  {
   "cell_type": "markdown",
   "metadata": {},
   "source": [
    "### 3.2. Осенняя активность пользователей\n",
    "\n",
    "Изучим активность пользователей осенью 2024 года:\n",
    "- Проанализируем динамику изменений по дням для:\n",
    "    - общего числа заказов;\n",
    "    - количества активных пользователей DAU;\n",
    "    - среднего числа заказов на одного пользователя;\n",
    "    - средней стоимости одного билета.\n",
    "- Изучим недельную цикличность.\n",
    "\n",
    "Снова создадим сводную таблицу, в которой посчитаем все необходимые поля."
   ]
  },
  {
   "cell_type": "code",
   "execution_count": 55,
   "metadata": {
    "scrolled": true
   },
   "outputs": [
    {
     "data": {
      "text/html": [
       "<div>\n",
       "<style scoped>\n",
       "    .dataframe tbody tr th:only-of-type {\n",
       "        vertical-align: middle;\n",
       "    }\n",
       "\n",
       "    .dataframe tbody tr th {\n",
       "        vertical-align: top;\n",
       "    }\n",
       "\n",
       "    .dataframe thead th {\n",
       "        text-align: right;\n",
       "    }\n",
       "</style>\n",
       "<table border=\"1\" class=\"dataframe\">\n",
       "  <thead>\n",
       "    <tr style=\"text-align: right;\">\n",
       "      <th></th>\n",
       "      <th>one_ticket_revenue_rub</th>\n",
       "      <th>order_id</th>\n",
       "      <th>user_id</th>\n",
       "      <th>order_per_users</th>\n",
       "    </tr>\n",
       "    <tr>\n",
       "      <th>created_dt_msk</th>\n",
       "      <th></th>\n",
       "      <th></th>\n",
       "      <th></th>\n",
       "      <th></th>\n",
       "    </tr>\n",
       "  </thead>\n",
       "  <tbody>\n",
       "    <tr>\n",
       "      <th>2024-09-01</th>\n",
       "      <td>202.149068</td>\n",
       "      <td>1314</td>\n",
       "      <td>555</td>\n",
       "      <td>2.367568</td>\n",
       "    </tr>\n",
       "    <tr>\n",
       "      <th>2024-09-02</th>\n",
       "      <td>190.847823</td>\n",
       "      <td>1370</td>\n",
       "      <td>571</td>\n",
       "      <td>2.399299</td>\n",
       "    </tr>\n",
       "    <tr>\n",
       "      <th>2024-09-03</th>\n",
       "      <td>80.492606</td>\n",
       "      <td>5088</td>\n",
       "      <td>776</td>\n",
       "      <td>6.556701</td>\n",
       "    </tr>\n",
       "    <tr>\n",
       "      <th>2024-09-04</th>\n",
       "      <td>179.304223</td>\n",
       "      <td>1757</td>\n",
       "      <td>683</td>\n",
       "      <td>2.572474</td>\n",
       "    </tr>\n",
       "    <tr>\n",
       "      <th>2024-09-05</th>\n",
       "      <td>189.902317</td>\n",
       "      <td>1940</td>\n",
       "      <td>738</td>\n",
       "      <td>2.628726</td>\n",
       "    </tr>\n",
       "  </tbody>\n",
       "</table>\n",
       "</div>"
      ],
      "text/plain": [
       "                one_ticket_revenue_rub  order_id  user_id  order_per_users\n",
       "created_dt_msk                                                            \n",
       "2024-09-01                  202.149068      1314      555         2.367568\n",
       "2024-09-02                  190.847823      1370      571         2.399299\n",
       "2024-09-03                   80.492606      5088      776         6.556701\n",
       "2024-09-04                  179.304223      1757      683         2.572474\n",
       "2024-09-05                  189.902317      1940      738         2.628726"
      ]
     },
     "metadata": {},
     "output_type": "display_data"
    }
   ],
   "source": [
    "pivot_days = pd.pivot_table(df[df['season']=='осень'],\n",
    "                             index='created_dt_msk',\n",
    "                             values=['order_id','user_id','one_ticket_revenue_rub'],\n",
    "                             aggfunc={'order_id':'count','user_id':'nunique','one_ticket_revenue_rub':'mean'})\n",
    "\n",
    "pivot_days['order_per_users'] = pivot_days['order_id']/pivot_days['user_id']\n",
    "\n",
    "display(pivot_days.head())"
   ]
  },
  {
   "cell_type": "markdown",
   "metadata": {},
   "source": [
    "Для изучения динамики построим линейные графики для каждого столбца отедльно."
   ]
  },
  {
   "cell_type": "code",
   "execution_count": 56,
   "metadata": {},
   "outputs": [
    {
     "data": {
      "image/png": "[encoded data removed]",
      "text/plain": [
       "<Figure size 432x288 with 1 Axes>"
      ]
     },
     "metadata": {
      "needs_background": "light"
     },
     "output_type": "display_data"
    }
   ],
   "source": [
    "# Строим линейный график\n",
    "pivot_days.plot(kind='line', y='order_id', legend=False)\n",
    "\n",
    "# Настраиваем оси\n",
    "plt.title('Динамика общего числа заказов за осень 2024')\n",
    "plt.xlabel('День')\n",
    "plt.ylabel('Число заказов')\n",
    "\n",
    "plt.show()"
   ]
  },
  {
   "cell_type": "markdown",
   "metadata": {},
   "source": [
    "По графику динамики общего числа заказов за осень 2024 г. мы видим, что были 3 дня с подорительно высокой активностью, когда общее количество заказов за день превышало 50 000. Возможно в эти дни проводились акции или были скидки на популярные товары. В целом, динамика от сентября к октябрю имеет положительный тренд."
   ]
  },
  {
   "cell_type": "code",
   "execution_count": 57,
   "metadata": {
    "scrolled": true
   },
   "outputs": [
    {
     "data": {
      "image/png": "[encoded data removed]",
      "text/plain": [
       "<Figure size 432x288 with 1 Axes>"
      ]
     },
     "metadata": {
      "needs_background": "light"
     },
     "output_type": "display_data"
    }
   ],
   "source": [
    "# Строим линейный график\n",
    "pivot_days.plot(kind='line', y='user_id', legend=False)\n",
    "\n",
    "# Настраиваем оси\n",
    "plt.title('Динамика DAU за осень 2024')\n",
    "plt.xlabel('День')\n",
    "plt.ylabel('Число уникальных пользователей')\n",
    "\n",
    "plt.show()"
   ]
  },
  {
   "cell_type": "markdown",
   "metadata": {},
   "source": [
    "По графику динамики DAU за осень 2024 г. мы видим, что от сентября к октябрю количество уникальных пользователей растёт, хоть и скачкообразно. DAU от 01.09.2024 к 31.10.2024 выросло более чем на 700 пользователей, что является ещё одним подтверждением положительного тренда динамики DAU."
   ]
  },
  {
   "cell_type": "code",
   "execution_count": 58,
   "metadata": {
    "scrolled": true
   },
   "outputs": [
    {
     "data": {
      "image/png": "[encoded data removed]",
      "text/plain": [
       "<Figure size 432x288 with 1 Axes>"
      ]
     },
     "metadata": {
      "needs_background": "light"
     },
     "output_type": "display_data"
    }
   ],
   "source": [
    "# Строим линейный график\n",
    "pivot_days.plot(kind='line', y='order_per_users', legend=False)\n",
    "\n",
    "# Настраиваем оси\n",
    "plt.title('Динамика среднего числа заказов на одного пользователя за осень 2024')\n",
    "plt.xlabel('День')\n",
    "plt.ylabel('Среднее число заказов на пользователя')\n",
    "\n",
    "plt.show()"
   ]
  },
  {
   "cell_type": "markdown",
   "metadata": {},
   "source": [
    "По графику динамики среднего числа заказов на одного пользователя за осень 2024 г. мы видим, что были 3 дня с подорительно высокой активностью, и это те же дни, когда было самое большое количество заказов. Таким образом выбросы в графике среднего кол-ва заказов на одного пользователя находят объяснение. В целом, динамика от сентября к октябрю имеет положительный тренд."
   ]
  },
  {
   "cell_type": "code",
   "execution_count": 59,
   "metadata": {
    "scrolled": true
   },
   "outputs": [
    {
     "data": {
      "image/png": "[encoded data removed]",
      "text/plain": [
       "<Figure size 432x288 with 1 Axes>"
      ]
     },
     "metadata": {
      "needs_background": "light"
     },
     "output_type": "display_data"
    }
   ],
   "source": [
    "# Строим линейный график\n",
    "pivot_days.plot(kind='line', y='one_ticket_revenue_rub', legend=False)\n",
    "\n",
    "# Настраиваем оси\n",
    "plt.title('Динамика средней стоимости билета за осень 2024')\n",
    "plt.xlabel('День')\n",
    "plt.ylabel('Средняя стоимость билета')\n",
    "\n",
    "plt.show()"
   ]
  },
  {
   "cell_type": "markdown",
   "metadata": {},
   "source": [
    "По графику динамики средней стоимости одного билета за осень 2024 года мы видим, что было 2 дня с сильным падением средней цены. Эти дни совпадают с днями, когда наблюдались большие выбросы в динамике общего количества заказов и среднего числа заказов на пользователя.\n",
    "\n",
    "**Промежуточный вывод об осенней активности пользователей по дням.**\n",
    "\n",
    "Таким образом, мы можем сделать вывод, что в начале и конце сентября были критически низкие цены на билеты, в связи с чем и возникла высокая активность пользователей, что привело к выбросам в динамике общего числа заказов и среднего числа заказов на пользователя соответственно.\n",
    "\n",
    "---\n",
    "\n",
    "Теперь перейдём к изучению недельной цикличности. Выделим из поля `created_dt_msk` номер дня недели и сравним пользовательскую активность в будни и выходные."
   ]
  },
  {
   "cell_type": "code",
   "execution_count": 60,
   "metadata": {},
   "outputs": [],
   "source": [
    "# Выделяем номер дня недели, где 0 - понедельник, 6 - воскресенье\n",
    "df['day_of_week'] = df['created_dt_msk'].dt.day_of_week\n",
    "# Добавим к значениям столбца 1, чтобы получить привычные номера дней недели\n",
    "# 1 - понедельник, 7 - воскресенье\n",
    "df['day_of_week'] = df['day_of_week'] + 1"
   ]
  },
  {
   "cell_type": "code",
   "execution_count": 61,
   "metadata": {
    "scrolled": false
   },
   "outputs": [
    {
     "data": {
      "text/html": [
       "<div>\n",
       "<style scoped>\n",
       "    .dataframe tbody tr th:only-of-type {\n",
       "        vertical-align: middle;\n",
       "    }\n",
       "\n",
       "    .dataframe tbody tr th {\n",
       "        vertical-align: top;\n",
       "    }\n",
       "\n",
       "    .dataframe thead th {\n",
       "        text-align: right;\n",
       "    }\n",
       "</style>\n",
       "<table border=\"1\" class=\"dataframe\">\n",
       "  <thead>\n",
       "    <tr style=\"text-align: right;\">\n",
       "      <th></th>\n",
       "      <th>user_id</th>\n",
       "    </tr>\n",
       "    <tr>\n",
       "      <th>day_of_week</th>\n",
       "      <th></th>\n",
       "    </tr>\n",
       "  </thead>\n",
       "  <tbody>\n",
       "    <tr>\n",
       "      <th>1</th>\n",
       "      <td>4433</td>\n",
       "    </tr>\n",
       "    <tr>\n",
       "      <th>2</th>\n",
       "      <td>4784</td>\n",
       "    </tr>\n",
       "    <tr>\n",
       "      <th>3</th>\n",
       "      <td>4806</td>\n",
       "    </tr>\n",
       "    <tr>\n",
       "      <th>4</th>\n",
       "      <td>4961</td>\n",
       "    </tr>\n",
       "    <tr>\n",
       "      <th>5</th>\n",
       "      <td>4844</td>\n",
       "    </tr>\n",
       "    <tr>\n",
       "      <th>6</th>\n",
       "      <td>4524</td>\n",
       "    </tr>\n",
       "    <tr>\n",
       "      <th>7</th>\n",
       "      <td>4344</td>\n",
       "    </tr>\n",
       "  </tbody>\n",
       "</table>\n",
       "</div>"
      ],
      "text/plain": [
       "             user_id\n",
       "day_of_week         \n",
       "1               4433\n",
       "2               4784\n",
       "3               4806\n",
       "4               4961\n",
       "5               4844\n",
       "6               4524\n",
       "7               4344"
      ]
     },
     "metadata": {},
     "output_type": "display_data"
    }
   ],
   "source": [
    "pivot_day_of_week = pd.pivot_table(df[df['season']=='осень'],\n",
    "                             index='day_of_week',\n",
    "                             values='user_id',\n",
    "                             aggfunc='nunique')\n",
    "\n",
    "display(pivot_day_of_week)"
   ]
  },
  {
   "cell_type": "code",
   "execution_count": 62,
   "metadata": {},
   "outputs": [
    {
     "data": {
      "image/png": "[encoded data removed]",
      "text/plain": [
       "<Figure size 432x288 with 1 Axes>"
      ]
     },
     "metadata": {
      "needs_background": "light"
     },
     "output_type": "display_data"
    }
   ],
   "source": [
    "pivot_day_of_week.plot(kind='bar',\n",
    "                       y='user_id',\n",
    "                       title='Пользовательская активность в разрезе недели за осень 2024',\n",
    "                       legend=False,\n",
    "                       ylabel='Кол-во уникальных пользователей',\n",
    "                       xlabel='Номер дня недели',\n",
    "                       rot=0,\n",
    "                       color='lightgreen');"
   ]
  },
  {
   "cell_type": "markdown",
   "metadata": {},
   "source": [
    "По графику видим, что пользовательская активность растёт от понедельника (4 433 активных пользователя) к середине недели, в четверг наблюдается пик активности (4 961 пользователь), и на выходных активность пользователей уже снижается (в воскресенье 4 344 активных пользователя) и становится примерно равной понедльнику.\n",
    "\n",
    "**Промежуточный вывод об осенней активности пользователей по будням и выходным.**\n",
    "\n",
    "Таким образом, пользовательская активность в будни выше, чем в выходные, в чём мы дополнительно можем убедиться, посмотрев на таблицу pivot_day_of_week.\n",
    "\n",
    "---"
   ]
  },
  {
   "cell_type": "markdown",
   "metadata": {},
   "source": [
    "### 3.3. Популярные события и партнёры\n",
    "После того как мы изучили изменение популярности событий и пользовательской активности осенью 2024 года, посмотрим, как события распределены по регионам и партнёрам. Это позволит выделить ключевые регионы и партнёров, которые вносят наибольший вклад в выручку.\n",
    "- Для каждого **региона** посчитаем уникальное количество мероприятий и общее число заказов. Найдём, в каких регионах предлагается наибольшее разнообразие мероприятий.\n",
    "- Для каждого **билетного партнёра** посчитаем общее число уникальных мероприятий, обработанных заказов и суммарную выручку с заказов билетов. Сконцентрируемся на наиболее активных партнёрах."
   ]
  },
  {
   "cell_type": "code",
   "execution_count": 63,
   "metadata": {
    "scrolled": true
   },
   "outputs": [
    {
     "data": {
      "text/html": [
       "<div>\n",
       "<style scoped>\n",
       "    .dataframe tbody tr th:only-of-type {\n",
       "        vertical-align: middle;\n",
       "    }\n",
       "\n",
       "    .dataframe tbody tr th {\n",
       "        vertical-align: top;\n",
       "    }\n",
       "\n",
       "    .dataframe thead th {\n",
       "        text-align: right;\n",
       "    }\n",
       "</style>\n",
       "<table border=\"1\" class=\"dataframe\">\n",
       "  <thead>\n",
       "    <tr style=\"text-align: right;\">\n",
       "      <th></th>\n",
       "      <th>event_id</th>\n",
       "      <th>order_id</th>\n",
       "      <th>share_events</th>\n",
       "    </tr>\n",
       "    <tr>\n",
       "      <th>region_name</th>\n",
       "      <th></th>\n",
       "      <th></th>\n",
       "      <th></th>\n",
       "    </tr>\n",
       "  </thead>\n",
       "  <tbody>\n",
       "    <tr>\n",
       "      <th>Каменевский регион</th>\n",
       "      <td>5792</td>\n",
       "      <td>85406</td>\n",
       "      <td>26.317703</td>\n",
       "    </tr>\n",
       "    <tr>\n",
       "      <th>Североярская область</th>\n",
       "      <td>3777</td>\n",
       "      <td>43596</td>\n",
       "      <td>17.161941</td>\n",
       "    </tr>\n",
       "    <tr>\n",
       "      <th>Широковская область</th>\n",
       "      <td>1217</td>\n",
       "      <td>16087</td>\n",
       "      <td>5.529807</td>\n",
       "    </tr>\n",
       "    <tr>\n",
       "      <th>Светополянский округ</th>\n",
       "      <td>1059</td>\n",
       "      <td>7465</td>\n",
       "      <td>4.811887</td>\n",
       "    </tr>\n",
       "    <tr>\n",
       "      <th>Речиновская область</th>\n",
       "      <td>701</td>\n",
       "      <td>6266</td>\n",
       "      <td>3.185205</td>\n",
       "    </tr>\n",
       "  </tbody>\n",
       "</table>\n",
       "</div>"
      ],
      "text/plain": [
       "                      event_id  order_id  share_events\n",
       "region_name                                           \n",
       "Каменевский регион        5792     85406     26.317703\n",
       "Североярская область      3777     43596     17.161941\n",
       "Широковская область       1217     16087      5.529807\n",
       "Светополянский округ      1059      7465      4.811887\n",
       "Речиновская область        701      6266      3.185205"
      ]
     },
     "metadata": {},
     "output_type": "display_data"
    }
   ],
   "source": [
    "# Строим сводную таблицу по регионам\n",
    "pivot_region = pd.pivot_table(df,\n",
    "                             index='region_name',\n",
    "                             values=['event_id','order_id'],\n",
    "                             aggfunc={'event_id':'nunique','order_id':'count'})\n",
    "\n",
    "# Вычисляем общее количество мероприятий (nunique event_id)\n",
    "total_events = pivot_region['event_id'].sum()\n",
    "\n",
    "# Добавляем столбец с долей мероприятий для каждого региона\n",
    "pivot_region['share_events'] = (pivot_region['event_id'] / total_events) * 100 # Умножаем на 100, чтобы получить в процентах\n",
    "\n",
    "# Сортируем по убыванию доли мероприятий\n",
    "pivot_region = pivot_region.sort_values(by='share_events',ascending=False)\n",
    "\n",
    "display(pivot_region.head())"
   ]
  },
  {
   "cell_type": "markdown",
   "metadata": {},
   "source": [
    "Мы получили сводную таблицу, в которой для каждого региона посчитали кол-во уникальных мероприятий и общее число заказов, а также нашли долю проводимых мероприятий от их общего числа. Также мы отсортировали регионы по полю с долей количества мероприятий от их общего числа в порядке убывания. 3 самых популярных по мероприятиям региона: Каменевский район с долей 26%, Североярская и Широковская области с долями 17 и 5% соответственно.\n",
    "\n",
    "Теперь построим сводную таблицу для каждого билетного партнёра."
   ]
  },
  {
   "cell_type": "code",
   "execution_count": 64,
   "metadata": {
    "scrolled": true
   },
   "outputs": [
    {
     "data": {
      "text/html": [
       "<div>\n",
       "<style scoped>\n",
       "    .dataframe tbody tr th:only-of-type {\n",
       "        vertical-align: middle;\n",
       "    }\n",
       "\n",
       "    .dataframe tbody tr th {\n",
       "        vertical-align: top;\n",
       "    }\n",
       "\n",
       "    .dataframe thead th {\n",
       "        text-align: right;\n",
       "    }\n",
       "</style>\n",
       "<table border=\"1\" class=\"dataframe\">\n",
       "  <thead>\n",
       "    <tr style=\"text-align: right;\">\n",
       "      <th></th>\n",
       "      <th>event_id</th>\n",
       "      <th>order_id</th>\n",
       "      <th>revenue</th>\n",
       "      <th>share_events</th>\n",
       "    </tr>\n",
       "    <tr>\n",
       "      <th>service_name</th>\n",
       "      <th></th>\n",
       "      <th></th>\n",
       "      <th></th>\n",
       "      <th></th>\n",
       "    </tr>\n",
       "  </thead>\n",
       "  <tbody>\n",
       "    <tr>\n",
       "      <th>Лови билет!</th>\n",
       "      <td>4813</td>\n",
       "      <td>40507</td>\n",
       "      <td>16670699.00</td>\n",
       "      <td>20.025797</td>\n",
       "    </tr>\n",
       "    <tr>\n",
       "      <th>Билеты без проблем</th>\n",
       "      <td>4019</td>\n",
       "      <td>57848</td>\n",
       "      <td>26435412.00</td>\n",
       "      <td>16.722144</td>\n",
       "    </tr>\n",
       "    <tr>\n",
       "      <th>Билеты в руки</th>\n",
       "      <td>3486</td>\n",
       "      <td>39808</td>\n",
       "      <td>13195357.00</td>\n",
       "      <td>14.504452</td>\n",
       "    </tr>\n",
       "    <tr>\n",
       "      <th>Облачко</th>\n",
       "      <td>2335</td>\n",
       "      <td>26402</td>\n",
       "      <td>18588614.00</td>\n",
       "      <td>9.715403</td>\n",
       "    </tr>\n",
       "    <tr>\n",
       "      <th>Лучшие билеты</th>\n",
       "      <td>1741</td>\n",
       "      <td>17620</td>\n",
       "      <td>2721801.25</td>\n",
       "      <td>7.243904</td>\n",
       "    </tr>\n",
       "  </tbody>\n",
       "</table>\n",
       "</div>"
      ],
      "text/plain": [
       "                    event_id  order_id      revenue  share_events\n",
       "service_name                                                     \n",
       "Лови билет!             4813     40507  16670699.00     20.025797\n",
       "Билеты без проблем      4019     57848  26435412.00     16.722144\n",
       "Билеты в руки           3486     39808  13195357.00     14.504452\n",
       "Облачко                 2335     26402  18588614.00      9.715403\n",
       "Лучшие билеты           1741     17620   2721801.25      7.243904"
      ]
     },
     "metadata": {},
     "output_type": "display_data"
    }
   ],
   "source": [
    "# Строим сводную таблицу по регионам\n",
    "pivot_service = pd.pivot_table(df,\n",
    "                             index='service_name',\n",
    "                             values=['event_id','order_id','revenue'],\n",
    "                             aggfunc={'event_id':'nunique','order_id':'nunique','revenue':'sum'})\n",
    "\n",
    "# Вычисляем общее количество мероприятий (nunique event_id)\n",
    "total_events = pivot_service['event_id'].sum()\n",
    "\n",
    "# Добавляем столбец с долей мероприятий для каждого партнёра\n",
    "pivot_service['share_events'] = (pivot_service['event_id'] / total_events) * 100 # Умножаем на 100, чтобы получить в процентах\n",
    "\n",
    "# Сортируем по убыванию доли мероприятий\n",
    "pivot_service = pivot_service.sort_values(by='share_events',ascending=False)\n",
    "\n",
    "display(pivot_service.head())"
   ]
  },
  {
   "cell_type": "markdown",
   "metadata": {},
   "source": [
    "Мы получили сводную таблицу, в которой для каждого билетного партнёра посчитали кол-во уникальных мероприятий, обработанных заказов и суммарную выручку с заказов билетов, а также нашли долю проводимых мероприятий от их общего числа и провели сортировку по этому полю в порядке убывания. Самым популярным билетным партнёром стал \"Лови билет!\" с долей 20% мероприятий от их общего количества.\n",
    "\n",
    "**Промежуточный вывод о популярных событиях и партнёрах.**\n",
    "\n",
    "Для каждого региона мы посчитали уникальное кол-во мероприятий и общее число заказов, а также нашли долю проводимых мероприятий. С большим отрывом самым популярным регионом по доле проводимых мероприятий стал Каменевский район с долей в 26%. На втором месте стоит Североярская область с долей в 17%, а остальные регионы имеют долю мероприятий сильно меньше (5% и ниже).\n",
    "\n",
    "Для каждого билетного партнёра мы посчитали число уникальных мероприятий, обработанных заказов и суммарную выручку с заказов билетов, и также долю проводимых мероприятий. Самым популярным партнёром стал \"Лови билет\" с долей в 20%. Вторым по популярности стал \"Билеты без проблем\" с долей в 16%, а третьим - \"Билеты в руки\". Остальные партнёры значительно менее популярны (доля проводимых мероприятий составляет 9% и ниже).\n",
    "\n",
    "\n",
    "---"
   ]
  },
  {
   "cell_type": "markdown",
   "metadata": {},
   "source": [
    "## 4. Статистический анализ данных.\n",
    "\n",
    "Нам необходимо проверить две гипотезы, которые предполагают большую активность пользователей мобильных устройств:\n",
    "- Среднее количество заказов на одного пользователя мобильного приложения выше по сравнению с пользователями стационарных устройств.\n",
    "- Среднее время между заказами пользователей мобильных приложений выше по сравнению с пользователями стационарных устройств.\n",
    "\n",
    "Начнём с первой гипотезы. Для проверки нам необходимо сравнить размеры групп, их статистики и распределение. После попробуем статистически доказать гипотезу, используя одностороннюю проверку гипотезы с двумя выборками.\n",
    "\n",
    "Нулевая гипотеза $H_0: \\mu_{\\text{моб}} \\leq \\mu_{\\text{ПК}}$ <br> Среднее количество заказов на одного пользователя мобильного приложения не выше по сравнению с пользователями стационарных устройств.\n",
    "\n",
    "Альтернативная гипотеза $H_1: \\mu_{\\text{моб}} > \\mu_{\\text{ПК}}$ <br> Среднее количество заказов на одного пользователя мобильного приложения выше по сравнению с пользователями стационарных устройств."
   ]
  },
  {
   "cell_type": "code",
   "execution_count": 65,
   "metadata": {},
   "outputs": [
    {
     "data": {
      "text/plain": [
       "3234"
      ]
     },
     "metadata": {},
     "output_type": "display_data"
    }
   ],
   "source": [
    "df_autumn = df[df['season']=='осень']\n",
    "\n",
    "# Проверим пользователей на пересечение\n",
    "df_mob = df_autumn[df_autumn['device_type_canonical']=='mobile']['user_id']\n",
    "df_desk = df_autumn[df_autumn['device_type_canonical']=='desktop']['user_id']\n",
    "\n",
    "intersection = list(set(df_mob)&set(df_desk))\n",
    "display(len(intersection))"
   ]
  },
  {
   "cell_type": "markdown",
   "metadata": {},
   "source": [
    "Обнаружилось 3 234 пользователя, которые пользуются и мобильными устройствами и стационарными компьютерами. Для корректного проведения статистического анализа, необходимо чтобы группы не пересекались, поэтому исключим этих пользователей из наших данных."
   ]
  },
  {
   "cell_type": "code",
   "execution_count": 66,
   "metadata": {},
   "outputs": [],
   "source": [
    "df_clear = df_autumn[~df_autumn['user_id'].isin(intersection)]"
   ]
  },
  {
   "cell_type": "code",
   "execution_count": 67,
   "metadata": {},
   "outputs": [],
   "source": [
    "# Сформируем выборки\n",
    "group_A = df_clear[df_clear['device_type_canonical'] == 'mobile'].groupby('user_id')['order_id'].count().reset_index()\n",
    "group_B = df_clear[df_clear['device_type_canonical'] == 'desktop'].groupby('user_id')['order_id'].count().reset_index()"
   ]
  },
  {
   "cell_type": "markdown",
   "metadata": {},
   "source": [
    "Проверим размеры наших выборок:"
   ]
  },
  {
   "cell_type": "code",
   "execution_count": 68,
   "metadata": {},
   "outputs": [
    {
     "data": {
      "image/png": "[encoded data removed]",
      "text/plain": [
       "<Figure size 432x432 with 1 Axes>"
      ]
     },
     "metadata": {},
     "output_type": "display_data"
    }
   ],
   "source": [
    "size_A = 100 * group_A['user_id'].count() / df_clear['user_id'].count()\n",
    "size_B = 100 * group_B['user_id'].count() / df_clear['user_id'].count()\n",
    "\n",
    "sizes = [size_A, size_B]\n",
    "labels = ['A', 'B']\n",
    "colors = ['lightgreen', 'yellow'] \n",
    "\n",
    "# Строим круговую диаграмму\n",
    "plt.figure(figsize=(6, 6))  \n",
    "plt.pie(sizes, labels=labels, colors=colors, autopct='%1.1f%%')\n",
    "autopct='%1.1f%%' #форматирует отображение процентов (один знак после запятой)\n",
    "# startangle=140 - поворачивает диаграмму, чтобы первый сектор начинался под углом 140 градусов (необязательно)\n",
    "\n",
    "plt.title('Распределение пользователей по группам A и B')\n",
    "plt.axis('equal')  #  Обеспечивает, чтобы круговая диаграмма выглядела как круг, а не как эллипс.\n",
    "plt.show()"
   ]
  },
  {
   "cell_type": "markdown",
   "metadata": {},
   "source": [
    "Группа A в 6,6 раз больше группы B. Однако, балансировать наши группы не нужно, так как тест Манна-Уитни устойчив к разному размеру выборок, а у ttest для компенсации этого момента есть поправка Уэлча.\n",
    "\n",
    "Среднее количество заказов на пользователя позволяет понять активность пользователя с того или иного типа устройства. С помощью описательной статистики изучим этот параметр."
   ]
  },
  {
   "cell_type": "code",
   "execution_count": 69,
   "metadata": {},
   "outputs": [
    {
     "data": {
      "text/html": [
       "<div>\n",
       "<style scoped>\n",
       "    .dataframe tbody tr th:only-of-type {\n",
       "        vertical-align: middle;\n",
       "    }\n",
       "\n",
       "    .dataframe tbody tr th {\n",
       "        vertical-align: top;\n",
       "    }\n",
       "\n",
       "    .dataframe thead th {\n",
       "        text-align: right;\n",
       "    }\n",
       "</style>\n",
       "<table border=\"1\" class=\"dataframe\">\n",
       "  <thead>\n",
       "    <tr style=\"text-align: right;\">\n",
       "      <th></th>\n",
       "      <th>order_id</th>\n",
       "    </tr>\n",
       "  </thead>\n",
       "  <tbody>\n",
       "    <tr>\n",
       "      <th>count</th>\n",
       "      <td>10872.000000</td>\n",
       "    </tr>\n",
       "    <tr>\n",
       "      <th>mean</th>\n",
       "      <td>2.866906</td>\n",
       "    </tr>\n",
       "    <tr>\n",
       "      <th>std</th>\n",
       "      <td>4.149541</td>\n",
       "    </tr>\n",
       "    <tr>\n",
       "      <th>min</th>\n",
       "      <td>1.000000</td>\n",
       "    </tr>\n",
       "    <tr>\n",
       "      <th>25%</th>\n",
       "      <td>1.000000</td>\n",
       "    </tr>\n",
       "    <tr>\n",
       "      <th>50%</th>\n",
       "      <td>2.000000</td>\n",
       "    </tr>\n",
       "    <tr>\n",
       "      <th>75%</th>\n",
       "      <td>3.000000</td>\n",
       "    </tr>\n",
       "    <tr>\n",
       "      <th>max</th>\n",
       "      <td>123.000000</td>\n",
       "    </tr>\n",
       "  </tbody>\n",
       "</table>\n",
       "</div>"
      ],
      "text/plain": [
       "           order_id\n",
       "count  10872.000000\n",
       "mean       2.866906\n",
       "std        4.149541\n",
       "min        1.000000\n",
       "25%        1.000000\n",
       "50%        2.000000\n",
       "75%        3.000000\n",
       "max      123.000000"
      ]
     },
     "execution_count": 69,
     "metadata": {},
     "output_type": "execute_result"
    }
   ],
   "source": [
    "# Описательные статистики пользователей мобильных устройств\n",
    "group_A.describe()"
   ]
  },
  {
   "cell_type": "markdown",
   "metadata": {},
   "source": [
    "Максимальное значение (123) очень сильно отличается от 75-го процентиля (3). Из-за чего мы можем предположить, что данные имеют выбросы на высоких значениях. Проверим это, построив гистограмму распределения."
   ]
  },
  {
   "cell_type": "code",
   "execution_count": 70,
   "metadata": {
    "scrolled": true
   },
   "outputs": [
    {
     "data": {
      "image/png": "[encoded data removed]",
      "text/plain": [
       "<Figure size 720x360 with 1 Axes>"
      ]
     },
     "metadata": {
      "needs_background": "light"
     },
     "output_type": "display_data"
    }
   ],
   "source": [
    "# Построим гистограмму распределения количества заказов на одного пользователя мобильного устройства\n",
    "ax = group_A.plot.hist(figsize = (10, 5),color='lightgreen',legend=False)\n",
    "ax.set_title('Распределение количества заказов на одного пользователя мобильного устройства')\n",
    "ax.set_xlabel('Количество заказов')\n",
    "ax.set_ylabel('Частота')\n",
    "plt.show()"
   ]
  },
  {
   "cell_type": "markdown",
   "metadata": {},
   "source": [
    "Гистограмма подтвердила наше предположении о наличии выбросов в данных. Избавляться мы от них не будем. Прежде проверим описательные статистики второй группы и распределение данных и после сможем принять решение о выборе статистического теста."
   ]
  },
  {
   "cell_type": "code",
   "execution_count": 71,
   "metadata": {},
   "outputs": [
    {
     "data": {
      "text/html": [
       "<div>\n",
       "<style scoped>\n",
       "    .dataframe tbody tr th:only-of-type {\n",
       "        vertical-align: middle;\n",
       "    }\n",
       "\n",
       "    .dataframe tbody tr th {\n",
       "        vertical-align: top;\n",
       "    }\n",
       "\n",
       "    .dataframe thead th {\n",
       "        text-align: right;\n",
       "    }\n",
       "</style>\n",
       "<table border=\"1\" class=\"dataframe\">\n",
       "  <thead>\n",
       "    <tr style=\"text-align: right;\">\n",
       "      <th></th>\n",
       "      <th>order_id</th>\n",
       "    </tr>\n",
       "  </thead>\n",
       "  <tbody>\n",
       "    <tr>\n",
       "      <th>count</th>\n",
       "      <td>1628.000000</td>\n",
       "    </tr>\n",
       "    <tr>\n",
       "      <th>mean</th>\n",
       "      <td>1.975430</td>\n",
       "    </tr>\n",
       "    <tr>\n",
       "      <th>std</th>\n",
       "      <td>3.071672</td>\n",
       "    </tr>\n",
       "    <tr>\n",
       "      <th>min</th>\n",
       "      <td>1.000000</td>\n",
       "    </tr>\n",
       "    <tr>\n",
       "      <th>25%</th>\n",
       "      <td>1.000000</td>\n",
       "    </tr>\n",
       "    <tr>\n",
       "      <th>50%</th>\n",
       "      <td>1.000000</td>\n",
       "    </tr>\n",
       "    <tr>\n",
       "      <th>75%</th>\n",
       "      <td>2.000000</td>\n",
       "    </tr>\n",
       "    <tr>\n",
       "      <th>max</th>\n",
       "      <td>56.000000</td>\n",
       "    </tr>\n",
       "  </tbody>\n",
       "</table>\n",
       "</div>"
      ],
      "text/plain": [
       "          order_id\n",
       "count  1628.000000\n",
       "mean      1.975430\n",
       "std       3.071672\n",
       "min       1.000000\n",
       "25%       1.000000\n",
       "50%       1.000000\n",
       "75%       2.000000\n",
       "max      56.000000"
      ]
     },
     "execution_count": 71,
     "metadata": {},
     "output_type": "execute_result"
    }
   ],
   "source": [
    "# Описательные статистики пользователей ПК\n",
    "group_B.describe()"
   ]
  },
  {
   "cell_type": "markdown",
   "metadata": {},
   "source": [
    "У группы В мы также наблюдаем большую разницу между 75-м процентилем (2) и максимальным значением (56), значит скорее всего данные также содержат выбросы. Проверим это, построив гистограмму распределения."
   ]
  },
  {
   "cell_type": "code",
   "execution_count": 72,
   "metadata": {
    "scrolled": true
   },
   "outputs": [
    {
     "data": {
      "image/png": "[encoded data removed]",
      "text/plain": [
       "<Figure size 720x360 with 1 Axes>"
      ]
     },
     "metadata": {
      "needs_background": "light"
     },
     "output_type": "display_data"
    }
   ],
   "source": [
    "# Построим гистограмму распределения количества заказов на одного пользователя ПК\n",
    "ax = group_B.plot.hist(figsize = (10, 5),color='lightgreen',legend=False)\n",
    "ax.set_title('Распределение количества заказов на одного пользователя ПК')\n",
    "ax.set_xlabel('Количество заказов')\n",
    "ax.set_ylabel('Частота')\n",
    "plt.show()"
   ]
  },
  {
   "cell_type": "markdown",
   "metadata": {},
   "source": [
    "Гистограмма подтвердила наши предположения о возможных имеющихся выбросах. Также мы можем сделать вывод, что распределения наших групп не являются нормальными. В связи с имеющимися ограничениями для проверки гипотезы мы воспользуемся тестом Манна-Уитни."
   ]
  },
  {
   "cell_type": "code",
   "execution_count": 73,
   "metadata": {},
   "outputs": [
    {
     "data": {
      "text/plain": [
       "'pvalue=2.4206332779240937e-39 < 0.05'"
      ]
     },
     "metadata": {},
     "output_type": "display_data"
    },
    {
     "data": {
      "text/plain": [
       "'Нулевая гипотеза не находит подтверждения!'"
      ]
     },
     "metadata": {},
     "output_type": "display_data"
    },
    {
     "data": {
      "text/plain": [
       "'Среднее количество заказов на одного пользователя мобильных устройств больше, чем на одного пользователя стационарных компьютеров'"
      ]
     },
     "metadata": {},
     "output_type": "display_data"
    }
   ],
   "source": [
    "metric_a = group_A['order_id']\n",
    "metric_b = group_B['order_id']\n",
    "\n",
    "# Уровень значимости\n",
    "alpha = 0.05 \n",
    "\n",
    "# Применяем тест Манна — Уитни\n",
    "stat_mw, p_value_mw = mannwhitneyu(\n",
    "    metric_a, \n",
    "    metric_b, \n",
    "    alternative = 'greater' # Альтернативная \n",
    ") \n",
    "\n",
    "if p_value_mw > alpha:\n",
    "    display(f'pvalue={p_value_mw} > {alpha}')\n",
    "    display('Нулевая гипотеза находит подтверждение!')\n",
    "    display('Среднее количество заказов на одного пользователя мобильных устройств не больше, чем на одного пользователя стационарных компьютеров')\n",
    "else:\n",
    "    display(f'pvalue={p_value_mw} < {alpha}')\n",
    "    display('Нулевая гипотеза не находит подтверждения!')\n",
    "    display('Среднее количество заказов на одного пользователя мобильных устройств больше, чем на одного пользователя стационарных компьютеров')"
   ]
  },
  {
   "cell_type": "markdown",
   "metadata": {},
   "source": [
    "В результате проведённого статистического теста мы получили следующий результат:\n",
    "- Значение p_value < 0.05, а это значит, что нулевая гипотеза не находит подтверждения. Таким образом, среднее количество заказов на одного пользователя мобильных устройств больше, чем на одного пользователя стационарных компьютеров."
   ]
  },
  {
   "cell_type": "markdown",
   "metadata": {},
   "source": [
    "\n",
    "\n",
    "**Перейдём к проверке второй гипотезы.**\n",
    "Для проверки нам также необходимо сравнить размеры групп, их статистики и распределение. После попробуем статистически доказать гипотезу, используя одностороннюю проверку гипотезы с двумя выборками.\n",
    "\n",
    "Нулевая гипотеза $H_0: \\mu_{\\text{моб}} \\leq \\mu_{\\text{ПК}}$ <br> Среднее время между заказами пользователей мобильных приложений не выше по сравнению с пользователями стационарных устройств.\n",
    "\n",
    "Альтернативная гипотеза $H_1: \\mu_{\\text{моб}} > \\mu_{\\text{ПК}}$ <br> Среднее время между заказами пользователей мобильных приложений выше по сравнению с пользователями стационарных устройств.\n",
    "\n",
    "Для проверки данной гипотезы нам понадобится поле `days_since_prev` с количеством дней с предыдущей покупки для каждого пользователя, однако в нём содержатся пропуски. Они находятся в строках с первыми заказами. Так как для проведения статистического теста недопустимо наличие пропусков, избавимся от них."
   ]
  },
  {
   "cell_type": "code",
   "execution_count": 74,
   "metadata": {},
   "outputs": [],
   "source": [
    "# Удалим строки с первыми заказами\n",
    "df_autumn = df_autumn.dropna(subset = ['days_since_prev'])"
   ]
  },
  {
   "cell_type": "code",
   "execution_count": 75,
   "metadata": {},
   "outputs": [],
   "source": [
    "# Подготовим выборки для проверки гипотезы\n",
    "group_A = df_autumn[df_autumn['device_type_canonical'] == 'mobile'].groupby('user_id')['days_since_prev'].mean().reset_index()\n",
    "group_B = df_autumn[df_autumn['device_type_canonical'] == 'desktop'].groupby('user_id')['days_since_prev'].mean().reset_index()"
   ]
  },
  {
   "cell_type": "markdown",
   "metadata": {},
   "source": [
    "Проверим размеры наших выборок:"
   ]
  },
  {
   "cell_type": "code",
   "execution_count": 76,
   "metadata": {
    "scrolled": true
   },
   "outputs": [
    {
     "data": {
      "image/png": "[encoded data removed]",
      "text/plain": [
       "<Figure size 360x360 with 1 Axes>"
      ]
     },
     "metadata": {},
     "output_type": "display_data"
    }
   ],
   "source": [
    "size_A = 100 * group_A['user_id'].count() / df_clear['user_id'].count()\n",
    "size_B = 100 * group_B['user_id'].count() / df_clear['user_id'].count()\n",
    "\n",
    "sizes = [size_A, size_B]\n",
    "labels = ['A', 'B']\n",
    "colors = ['lightgreen', 'yellow'] \n",
    "\n",
    "# Строим круговую диаграмму\n",
    "plt.figure(figsize=(5, 5))  \n",
    "plt.pie(sizes, labels=labels, colors=colors, autopct='%1.1f%%')\n",
    "autopct='%1.1f%%' #форматирует отображение процентов (один знак после запятой)\n",
    "# startangle=140 - поворачивает диаграмму, чтобы первый сектор начинался под углом 140 градусов (необязательно)\n",
    "\n",
    "plt.title('Распределение пользователей по группам A и B')\n",
    "plt.axis('equal')  #  Обеспечивает, чтобы круговая диаграмма выглядела как круг, а не как эллипс.\n",
    "plt.show()"
   ]
  },
  {
   "cell_type": "markdown",
   "metadata": {},
   "source": [
    "Группа A в 2,5 раза больше группы B. Однако, балансировать наши группы не нужно, так как тест Манна-Уитни устойчив к разному размеру выборок, а у ttest для компенсации этого момента есть поправка Уэлча.\n",
    "\n",
    "Среднее время между заказами пользователей позволяет понять активность пользователя с того или иного типа устройства. С помощью описательной статистики изучим этот параметр."
   ]
  },
  {
   "cell_type": "code",
   "execution_count": 77,
   "metadata": {
    "scrolled": true
   },
   "outputs": [
    {
     "data": {
      "text/html": [
       "<div>\n",
       "<style scoped>\n",
       "    .dataframe tbody tr th:only-of-type {\n",
       "        vertical-align: middle;\n",
       "    }\n",
       "\n",
       "    .dataframe tbody tr th {\n",
       "        vertical-align: top;\n",
       "    }\n",
       "\n",
       "    .dataframe thead th {\n",
       "        text-align: right;\n",
       "    }\n",
       "</style>\n",
       "<table border=\"1\" class=\"dataframe\">\n",
       "  <thead>\n",
       "    <tr style=\"text-align: right;\">\n",
       "      <th></th>\n",
       "      <th>days_since_prev</th>\n",
       "    </tr>\n",
       "  </thead>\n",
       "  <tbody>\n",
       "    <tr>\n",
       "      <th>count</th>\n",
       "      <td>10151.000000</td>\n",
       "    </tr>\n",
       "    <tr>\n",
       "      <th>mean</th>\n",
       "      <td>20.559505</td>\n",
       "    </tr>\n",
       "    <tr>\n",
       "      <th>std</th>\n",
       "      <td>27.320211</td>\n",
       "    </tr>\n",
       "    <tr>\n",
       "      <th>min</th>\n",
       "      <td>0.000000</td>\n",
       "    </tr>\n",
       "    <tr>\n",
       "      <th>25%</th>\n",
       "      <td>2.039231</td>\n",
       "    </tr>\n",
       "    <tr>\n",
       "      <th>50%</th>\n",
       "      <td>9.500000</td>\n",
       "    </tr>\n",
       "    <tr>\n",
       "      <th>75%</th>\n",
       "      <td>27.666666</td>\n",
       "    </tr>\n",
       "    <tr>\n",
       "      <th>max</th>\n",
       "      <td>148.000000</td>\n",
       "    </tr>\n",
       "  </tbody>\n",
       "</table>\n",
       "</div>"
      ],
      "text/plain": [
       "       days_since_prev\n",
       "count     10151.000000\n",
       "mean         20.559505\n",
       "std          27.320211\n",
       "min           0.000000\n",
       "25%           2.039231\n",
       "50%           9.500000\n",
       "75%          27.666666\n",
       "max         148.000000"
      ]
     },
     "execution_count": 77,
     "metadata": {},
     "output_type": "execute_result"
    }
   ],
   "source": [
    "# Описательные статистики пользователей мобильных устройств\n",
    "group_A.describe()"
   ]
  },
  {
   "cell_type": "markdown",
   "metadata": {},
   "source": [
    "Максимальное значение (148) очень сильно отличается от 75-го процентиля (27,6). Из-за чего мы можем предположить, что данные имеют выбросы на высоких значениях. Проверим это, построив гистограмму распределения."
   ]
  },
  {
   "cell_type": "code",
   "execution_count": 78,
   "metadata": {
    "scrolled": false
   },
   "outputs": [
    {
     "data": {
      "image/png": "[encoded data removed]",
      "text/plain": [
       "<Figure size 720x360 with 1 Axes>"
      ]
     },
     "metadata": {
      "needs_background": "light"
     },
     "output_type": "display_data"
    }
   ],
   "source": [
    "# Построим гистограмму распределения количества заказов на одного пользователя мобильного устройства\n",
    "ax = group_A.plot.hist(figsize = (10, 5),color='lightgreen',legend=False)\n",
    "ax.set_title('Распределение дней на одного пользователя мобильного устройства')\n",
    "ax.set_xlabel('Количество дней')\n",
    "ax.set_ylabel('Частота')\n",
    "plt.show()"
   ]
  },
  {
   "cell_type": "markdown",
   "metadata": {},
   "source": [
    "Гистограмма подтвердила наше предположении о наличии выбросов в данных. Избавляться мы от них не будем. Прежде проверим описательные статистики второй группы и распределение данных и после сможем принять решение о выборе статистического теста."
   ]
  },
  {
   "cell_type": "code",
   "execution_count": 79,
   "metadata": {
    "scrolled": true
   },
   "outputs": [
    {
     "data": {
      "text/html": [
       "<div>\n",
       "<style scoped>\n",
       "    .dataframe tbody tr th:only-of-type {\n",
       "        vertical-align: middle;\n",
       "    }\n",
       "\n",
       "    .dataframe tbody tr th {\n",
       "        vertical-align: top;\n",
       "    }\n",
       "\n",
       "    .dataframe thead th {\n",
       "        text-align: right;\n",
       "    }\n",
       "</style>\n",
       "<table border=\"1\" class=\"dataframe\">\n",
       "  <thead>\n",
       "    <tr style=\"text-align: right;\">\n",
       "      <th></th>\n",
       "      <th>days_since_prev</th>\n",
       "    </tr>\n",
       "  </thead>\n",
       "  <tbody>\n",
       "    <tr>\n",
       "      <th>count</th>\n",
       "      <td>4029.000000</td>\n",
       "    </tr>\n",
       "    <tr>\n",
       "      <th>mean</th>\n",
       "      <td>14.872216</td>\n",
       "    </tr>\n",
       "    <tr>\n",
       "      <th>std</th>\n",
       "      <td>24.211456</td>\n",
       "    </tr>\n",
       "    <tr>\n",
       "      <th>min</th>\n",
       "      <td>0.000000</td>\n",
       "    </tr>\n",
       "    <tr>\n",
       "      <th>25%</th>\n",
       "      <td>1.000000</td>\n",
       "    </tr>\n",
       "    <tr>\n",
       "      <th>50%</th>\n",
       "      <td>4.500000</td>\n",
       "    </tr>\n",
       "    <tr>\n",
       "      <th>75%</th>\n",
       "      <td>17.000000</td>\n",
       "    </tr>\n",
       "    <tr>\n",
       "      <th>max</th>\n",
       "      <td>146.000000</td>\n",
       "    </tr>\n",
       "  </tbody>\n",
       "</table>\n",
       "</div>"
      ],
      "text/plain": [
       "       days_since_prev\n",
       "count      4029.000000\n",
       "mean         14.872216\n",
       "std          24.211456\n",
       "min           0.000000\n",
       "25%           1.000000\n",
       "50%           4.500000\n",
       "75%          17.000000\n",
       "max         146.000000"
      ]
     },
     "execution_count": 79,
     "metadata": {},
     "output_type": "execute_result"
    }
   ],
   "source": [
    "# Описательные статистики пользователей ПК\n",
    "group_B.describe()"
   ]
  },
  {
   "cell_type": "markdown",
   "metadata": {},
   "source": [
    "Гистограмма подтвердила наши предположения о возможных имеющихся выбросах. Также мы можем сделать вывод, что распределения наших групп не являются нормальными. В связи с имеющимися ограничениями для проверки гипотезы мы воспользуемся тестом Манна-Уитни."
   ]
  },
  {
   "cell_type": "code",
   "execution_count": 80,
   "metadata": {},
   "outputs": [
    {
     "data": {
      "text/plain": [
       "'pvalue=1.681999666825448e-51 < 0.05'"
      ]
     },
     "metadata": {},
     "output_type": "display_data"
    },
    {
     "data": {
      "text/plain": [
       "'Нулевая гипотеза не находит подтверждения!'"
      ]
     },
     "metadata": {},
     "output_type": "display_data"
    },
    {
     "data": {
      "text/plain": [
       "'Среднее время между заказами пользователей мобильных приложений выше, чем у пользователей стационарных устройств'"
      ]
     },
     "metadata": {},
     "output_type": "display_data"
    }
   ],
   "source": [
    "metric_a = group_A['days_since_prev']\n",
    "metric_b = group_B['days_since_prev']\n",
    "\n",
    "# Уровень значимости\n",
    "alpha = 0.05 \n",
    "\n",
    "# Применяем тест Манна — Уитни\n",
    "stat_mw, p_value_mw = mannwhitneyu(\n",
    "    metric_a, \n",
    "    metric_b, \n",
    "    alternative = 'greater' # Альтернативная \n",
    ") \n",
    "\n",
    "if p_value_mw > alpha:\n",
    "    display(f'pvalue={p_value_mw} > {alpha}')\n",
    "    display('Нулевая гипотеза находит подтверждение!')\n",
    "    display('Среднее время между заказами пользователей мобильных приложений не выше, чем у пользователей стационарных устройств')\n",
    "else:\n",
    "    display(f'pvalue={p_value_mw} < {alpha}')\n",
    "    display('Нулевая гипотеза не находит подтверждения!')\n",
    "    display('Среднее время между заказами пользователей мобильных приложений выше, чем у пользователей стационарных устройств')"
   ]
  },
  {
   "cell_type": "markdown",
   "metadata": {},
   "source": [
    "В результате проведённого статистического теста мы получили следующий результат:\n",
    "- Значение p_value < 0.05, а это значит, что нулевая гипотеза не находит подтверждения. Таким образом, среднее время между заказами пользователей мобильных приложений выше, чем у пользователей стационарных устройств."
   ]
  },
  {
   "cell_type": "markdown",
   "metadata": {},
   "source": [
    "## 5. Общий вывод и рекомендации\n",
    "\n",
    "Мы работали с тремя таблицами (`tickets_order_df`, `tickets_event_df`, `tickets_tenge_df`). В ходе предобработки мы:\n",
    "- проверили данные на пропуски и убедились в их отсутствии (за исключением столбца `days_since_prev`);\n",
    "- изучили и проверили на отсутсвие ошибок количественные и категориальные значения;\n",
    "- избавились от явных и неявных дубликатов в данных;\n",
    "- провели преобразования типов данных с понижением разрядности;\n",
    "- а также создали 4 новых поля (`revenue_rub`, `one_ticket_revenue_rub`, `month`, `season`).\n",
    "\n",
    "После предобработки мы провели исследовательский анализ, в результате которого получили:\n",
    "- От июня к октябрю **кол-во заказов** стабильно растёт.\n",
    "- Для категорий **театр**, **спорт** и **ёлки** наблюдается **увеличение** популярности с наступлением осени, а категорий концерт, стендап, выставки и другое наоборот с осень снижается спрос на посещение;\n",
    "- Для типов устройств сезон практически никак не влияет на долю количества заказов. Для заказов, сделанных с мобильных устройств осенью есть незначительное снижение доли количества заказов по сравнению с летом, а для ПК - наоборот, с наступлением осени наблюдается незначительное увеличение доли заказов.\n",
    "- Положительный тренд от лета к осени по доле заказов имеют только категории **12+** и **0+**. Остальные же категории уменьшают свои доли заказов от лета к осени.\n",
    "- Только у 2 типов мероприятий из 7 выручка с продажи одного билета увеличилась с наступлением осени: для стендапа выручка выросла на **5,77%**, а для выставок на **5,98%**. Для всех остальных типов мероприятий мы наблюдаем снижение выручки на 9-18%. Самое больше изменение у типа мероприятий театр: выручка с продажи одного билета снизилась на 18,61%.\n",
    "- Динамика общего числа заказов за осень 2024 г. от сентября к октябрю имеет положительный тренд.\n",
    "- Динамика DAU за осень 2024 г. от сентября к октябрю растёт, хоть и скачкообразно. DAU от 01.09.2024 к 31.10.2024 выросло более чем на 700 пользователей, что является ещё одним подтверждением положительного тренда динамики DAU.\n",
    "- Динамика среднего числа заказов на одного пользователя за осень 2024 г. от сентября к октябрю имеет положительный тренд.\n",
    "- В начале и конце сентября были критически низкие цены на билеты, в связи с чем и возникла высокая активность пользователей, что привело к выбросам в динамике общего числа заказов и среднего числа заказов на пользователя соответственно.\n",
    "- Пользовательская активность в будни выше, чем в выходные.\n",
    "- 3 самых популярных по мероприятиям региона: Каменевский район с долей 26%, Североярская и Широковская области с долями 17 и 5% соответственно.\n",
    "- Самым популярным партнёром стал \"Лови билет\" с долей в 20%. Вторым по популярности стал \"Билеты без проблем\" с долей в 16%, а третьим - \"Билеты в руки\". Остальные партнёры значительно менее популярны (доля проводимых мероприятий составляет 9% и ниже)\n",
    "\n",
    "И в конце мы провели статистический анализ, в ходе которого были получены следующие результаты:\n",
    "- Обе гипотезы (\"Среднее количество заказов на одного пользователя мобильного приложения выше по сравнению с пользователями стационарных устройств\" и \"среднее время между заказами пользователей мобильных приложений выше, чем у пользователей стационарных устройств\") нашли своё подтверждение.\n",
    "\n",
    "**Рекомендации:** учитывая то, что концерты и театры пользуются большим спросом, можно увеличить частоту их проведения. Для большей посещаемости мероприятий в выходные, возможно, стоит снизить стоимость билетов на них или же придумать акции для привлечения пользователей. В самых популярных регионах по количеству заказов билетов также можно увеличить частоту их проведения, чтобы получить ещё большую выручку. Пользователи стационарных компьютеров возвращаются к бронированию билетов с такой же периодичностью, что и пользователи мобильных устройств, но стоит подумать над тем, почему количество бронирований со стационарных компьютеров при этом меньше. Может быть стоит изменить интерфейс десктопной версии Яндекс Афиши, возможно существуют ограничения, чтобы делать сразу несколько заказов. "
   ]
  }
 ],
 "metadata": {
  "ExecuteTimeLog": [
   {
    "duration": 428,
    "start_time": "2025-06-02T11:53:48.404Z"
   },
   {
    "duration": 2435,
    "start_time": "2025-06-02T11:57:23.860Z"
   },
   {
    "duration": 107,
    "start_time": "2025-06-02T11:58:10.073Z"
   },
   {
    "duration": 20,
    "start_time": "2025-06-02T12:03:27.855Z"
   },
   {
    "duration": 299,
    "start_time": "2025-06-02T12:06:35.331Z"
   },
   {
    "duration": 18,
    "start_time": "2025-06-02T12:07:11.397Z"
   },
   {
    "duration": 90,
    "start_time": "2025-06-02T12:10:45.767Z"
   },
   {
    "duration": 11,
    "start_time": "2025-06-02T12:10:53.820Z"
   },
   {
    "duration": 407,
    "start_time": "2025-06-03T16:52:57.137Z"
   },
   {
    "duration": 1273,
    "start_time": "2025-06-03T16:52:57.694Z"
   },
   {
    "duration": 105,
    "start_time": "2025-06-03T16:52:58.969Z"
   },
   {
    "duration": 228,
    "start_time": "2025-06-03T16:53:00.270Z"
   },
   {
    "duration": 18,
    "start_time": "2025-06-03T16:53:00.781Z"
   },
   {
    "duration": 34,
    "start_time": "2025-06-03T16:53:02.047Z"
   },
   {
    "duration": 11,
    "start_time": "2025-06-03T16:53:02.573Z"
   },
   {
    "duration": 30003,
    "start_time": "2025-06-03T17:10:15.800Z"
   },
   {
    "duration": 1421,
    "start_time": "2025-06-03T17:11:50.202Z"
   },
   {
    "duration": 1486,
    "start_time": "2025-06-03T17:19:38.520Z"
   },
   {
    "duration": 76,
    "start_time": "2025-06-03T17:19:44.888Z"
   },
   {
    "duration": 33,
    "start_time": "2025-06-03T17:34:04.067Z"
   },
   {
    "duration": 11,
    "start_time": "2025-06-03T17:34:05.772Z"
   },
   {
    "duration": 4,
    "start_time": "2025-06-03T17:41:21.221Z"
   },
   {
    "duration": 70,
    "start_time": "2025-06-03T17:41:29.549Z"
   },
   {
    "duration": 19,
    "start_time": "2025-06-03T18:01:01.928Z"
   },
   {
    "duration": 26,
    "start_time": "2025-06-03T18:02:27.233Z"
   },
   {
    "duration": 734,
    "start_time": "2025-06-03T18:07:38.172Z"
   },
   {
    "duration": 2,
    "start_time": "2025-06-03T18:08:27.954Z"
   },
   {
    "duration": 204,
    "start_time": "2025-06-03T18:08:31.635Z"
   },
   {
    "duration": 516,
    "start_time": "2025-06-03T18:11:51.372Z"
   },
   {
    "duration": 5495,
    "start_time": "2025-06-03T18:12:32.517Z"
   },
   {
    "duration": 443,
    "start_time": "2025-06-03T18:14:40.069Z"
   },
   {
    "duration": 413,
    "start_time": "2025-06-03T18:14:53.723Z"
   },
   {
    "duration": 6503,
    "start_time": "2025-06-03T18:20:29.212Z"
   },
   {
    "duration": 536,
    "start_time": "2025-06-03T18:20:50.806Z"
   },
   {
    "duration": 6636,
    "start_time": "2025-06-03T18:21:08.375Z"
   },
   {
    "duration": 501,
    "start_time": "2025-06-03T18:21:15.013Z"
   },
   {
    "duration": 501,
    "start_time": "2025-06-03T18:21:30.465Z"
   },
   {
    "duration": 522,
    "start_time": "2025-06-03T18:22:48.097Z"
   },
   {
    "duration": 439,
    "start_time": "2025-06-03T18:22:56.396Z"
   },
   {
    "duration": 63,
    "start_time": "2025-06-03T18:23:26.352Z"
   },
   {
    "duration": 118,
    "start_time": "2025-06-03T18:30:47.006Z"
   },
   {
    "duration": 404,
    "start_time": "2025-06-03T18:35:55.271Z"
   },
   {
    "duration": 157,
    "start_time": "2025-06-03T18:38:14.594Z"
   },
   {
    "duration": 360,
    "start_time": "2025-06-03T18:38:19.061Z"
   },
   {
    "duration": 204,
    "start_time": "2025-06-03T18:39:24.335Z"
   },
   {
    "duration": 143,
    "start_time": "2025-06-03T18:39:53.748Z"
   },
   {
    "duration": 27,
    "start_time": "2025-06-03T18:41:06.959Z"
   },
   {
    "duration": 48,
    "start_time": "2025-06-03T18:42:33.229Z"
   },
   {
    "duration": 144,
    "start_time": "2025-06-03T18:43:48.862Z"
   },
   {
    "duration": 2815,
    "start_time": "2025-06-03T18:45:29.163Z"
   },
   {
    "duration": 2104,
    "start_time": "2025-06-03T18:46:02.382Z"
   },
   {
    "duration": 355,
    "start_time": "2025-06-03T18:47:07.913Z"
   },
   {
    "duration": 67,
    "start_time": "2025-06-03T18:49:02.456Z"
   },
   {
    "duration": 2414,
    "start_time": "2025-06-03T18:50:00.837Z"
   },
   {
    "duration": 7,
    "start_time": "2025-06-03T18:50:21.255Z"
   },
   {
    "duration": 23,
    "start_time": "2025-06-03T18:53:33.101Z"
   },
   {
    "duration": 39,
    "start_time": "2025-06-03T18:54:49.413Z"
   },
   {
    "duration": 13,
    "start_time": "2025-06-03T18:56:00.107Z"
   },
   {
    "duration": 0,
    "start_time": "2025-06-03T18:57:31.615Z"
   },
   {
    "duration": 1217,
    "start_time": "2025-06-03T18:57:44.982Z"
   },
   {
    "duration": 1750,
    "start_time": "2025-06-03T18:57:46.201Z"
   },
   {
    "duration": 77,
    "start_time": "2025-06-03T18:57:47.953Z"
   },
   {
    "duration": 371,
    "start_time": "2025-06-03T18:57:48.032Z"
   },
   {
    "duration": 18,
    "start_time": "2025-06-03T18:57:48.405Z"
   },
   {
    "duration": 89,
    "start_time": "2025-06-03T18:57:48.424Z"
   },
   {
    "duration": 9,
    "start_time": "2025-06-03T18:57:48.515Z"
   },
   {
    "duration": 31,
    "start_time": "2025-06-03T18:57:48.526Z"
   },
   {
    "duration": 20,
    "start_time": "2025-06-03T18:57:48.559Z"
   },
   {
    "duration": 5772,
    "start_time": "2025-06-03T18:57:48.581Z"
   },
   {
    "duration": 419,
    "start_time": "2025-06-03T18:57:54.354Z"
   },
   {
    "duration": 82,
    "start_time": "2025-06-03T18:57:54.774Z"
   },
   {
    "duration": 111,
    "start_time": "2025-06-03T18:57:54.857Z"
   },
   {
    "duration": 414,
    "start_time": "2025-06-03T18:57:54.970Z"
   },
   {
    "duration": 200,
    "start_time": "2025-06-03T18:57:55.385Z"
   },
   {
    "duration": 141,
    "start_time": "2025-06-03T18:57:55.586Z"
   },
   {
    "duration": 34,
    "start_time": "2025-06-03T18:57:55.729Z"
   },
   {
    "duration": 43,
    "start_time": "2025-06-03T18:57:55.765Z"
   },
   {
    "duration": 161,
    "start_time": "2025-06-03T18:57:55.809Z"
   },
   {
    "duration": 23,
    "start_time": "2025-06-03T18:57:55.972Z"
   },
   {
    "duration": 2616,
    "start_time": "2025-06-03T18:57:55.997Z"
   },
   {
    "duration": 346,
    "start_time": "2025-06-03T18:57:58.614Z"
   },
   {
    "duration": 6,
    "start_time": "2025-06-03T18:57:58.962Z"
   },
   {
    "duration": 380,
    "start_time": "2025-06-03T19:02:04.352Z"
   },
   {
    "duration": 165,
    "start_time": "2025-06-03T19:02:16.996Z"
   },
   {
    "duration": 172,
    "start_time": "2025-06-03T19:02:23.027Z"
   },
   {
    "duration": 165,
    "start_time": "2025-06-03T19:02:34.311Z"
   },
   {
    "duration": 173,
    "start_time": "2025-06-03T19:02:40.314Z"
   },
   {
    "duration": 1438,
    "start_time": "2025-06-05T15:26:21.912Z"
   },
   {
    "duration": 1892,
    "start_time": "2025-06-05T15:26:23.353Z"
   },
   {
    "duration": 102,
    "start_time": "2025-06-05T15:26:25.247Z"
   },
   {
    "duration": 295,
    "start_time": "2025-06-05T15:26:25.351Z"
   },
   {
    "duration": 28,
    "start_time": "2025-06-05T15:26:25.649Z"
   },
   {
    "duration": 38,
    "start_time": "2025-06-05T15:26:25.679Z"
   },
   {
    "duration": 11,
    "start_time": "2025-06-05T15:26:25.719Z"
   },
   {
    "duration": 91,
    "start_time": "2025-06-05T15:26:25.732Z"
   },
   {
    "duration": 19,
    "start_time": "2025-06-05T15:26:25.825Z"
   },
   {
    "duration": 6519,
    "start_time": "2025-06-05T15:26:25.846Z"
   },
   {
    "duration": 500,
    "start_time": "2025-06-05T15:26:32.367Z"
   },
   {
    "duration": 85,
    "start_time": "2025-06-05T15:26:32.869Z"
   },
   {
    "duration": 155,
    "start_time": "2025-06-05T15:26:32.956Z"
   },
   {
    "duration": 462,
    "start_time": "2025-06-05T15:26:33.114Z"
   },
   {
    "duration": 244,
    "start_time": "2025-06-05T15:26:33.579Z"
   },
   {
    "duration": 176,
    "start_time": "2025-06-05T15:26:33.824Z"
   },
   {
    "duration": 31,
    "start_time": "2025-06-05T15:26:34.002Z"
   },
   {
    "duration": 76,
    "start_time": "2025-06-05T15:26:34.034Z"
   },
   {
    "duration": 158,
    "start_time": "2025-06-05T15:26:34.113Z"
   },
   {
    "duration": 37,
    "start_time": "2025-06-05T15:26:34.277Z"
   },
   {
    "duration": 192,
    "start_time": "2025-06-05T15:26:34.316Z"
   },
   {
    "duration": 377,
    "start_time": "2025-06-05T15:26:34.510Z"
   },
   {
    "duration": 314,
    "start_time": "2025-06-05T16:19:22.691Z"
   },
   {
    "duration": 576,
    "start_time": "2025-06-05T16:21:29.832Z"
   },
   {
    "duration": 609,
    "start_time": "2025-06-05T16:22:52.002Z"
   },
   {
    "duration": 53,
    "start_time": "2025-06-05T16:25:03.670Z"
   },
   {
    "duration": 30,
    "start_time": "2025-06-05T16:25:11.460Z"
   },
   {
    "duration": 6,
    "start_time": "2025-06-05T16:25:31.916Z"
   },
   {
    "duration": 112,
    "start_time": "2025-06-05T16:43:40.893Z"
   },
   {
    "duration": 252,
    "start_time": "2025-06-05T16:43:59.251Z"
   },
   {
    "duration": 248,
    "start_time": "2025-06-05T16:44:36.237Z"
   },
   {
    "duration": 244,
    "start_time": "2025-06-05T16:47:18.699Z"
   },
   {
    "duration": 233,
    "start_time": "2025-06-05T16:51:02.464Z"
   },
   {
    "duration": 242,
    "start_time": "2025-06-05T16:51:13.813Z"
   },
   {
    "duration": 115,
    "start_time": "2025-06-05T19:44:35.899Z"
   },
   {
    "duration": 99,
    "start_time": "2025-06-05T19:45:12.420Z"
   },
   {
    "duration": 17,
    "start_time": "2025-06-05T19:47:18.672Z"
   },
   {
    "duration": 14,
    "start_time": "2025-06-05T19:47:28.330Z"
   },
   {
    "duration": 79,
    "start_time": "2025-06-05T19:48:18.597Z"
   },
   {
    "duration": 78,
    "start_time": "2025-06-05T19:49:30.074Z"
   },
   {
    "duration": 78,
    "start_time": "2025-06-05T19:50:04.328Z"
   },
   {
    "duration": 1228,
    "start_time": "2025-06-05T19:52:04.757Z"
   },
   {
    "duration": 1552,
    "start_time": "2025-06-05T19:52:05.987Z"
   },
   {
    "duration": 88,
    "start_time": "2025-06-05T19:52:07.541Z"
   },
   {
    "duration": 337,
    "start_time": "2025-06-05T19:52:07.631Z"
   },
   {
    "duration": 18,
    "start_time": "2025-06-05T19:52:07.976Z"
   },
   {
    "duration": 36,
    "start_time": "2025-06-05T19:52:07.996Z"
   },
   {
    "duration": 12,
    "start_time": "2025-06-05T19:52:08.034Z"
   },
   {
    "duration": 32,
    "start_time": "2025-06-05T19:52:08.047Z"
   },
   {
    "duration": 26,
    "start_time": "2025-06-05T19:52:08.080Z"
   },
   {
    "duration": 5805,
    "start_time": "2025-06-05T19:52:08.108Z"
   },
   {
    "duration": 424,
    "start_time": "2025-06-05T19:52:13.914Z"
   },
   {
    "duration": 73,
    "start_time": "2025-06-05T19:52:14.340Z"
   },
   {
    "duration": 118,
    "start_time": "2025-06-05T19:52:14.415Z"
   },
   {
    "duration": 417,
    "start_time": "2025-06-05T19:52:14.537Z"
   },
   {
    "duration": 217,
    "start_time": "2025-06-05T19:52:14.956Z"
   },
   {
    "duration": 135,
    "start_time": "2025-06-05T19:52:15.175Z"
   },
   {
    "duration": 27,
    "start_time": "2025-06-05T19:52:15.312Z"
   },
   {
    "duration": 93,
    "start_time": "2025-06-05T19:52:15.341Z"
   },
   {
    "duration": 133,
    "start_time": "2025-06-05T19:52:15.436Z"
   },
   {
    "duration": 22,
    "start_time": "2025-06-05T19:52:15.570Z"
   },
   {
    "duration": 177,
    "start_time": "2025-06-05T19:52:15.594Z"
   },
   {
    "duration": 358,
    "start_time": "2025-06-05T19:52:15.775Z"
   },
   {
    "duration": 535,
    "start_time": "2025-06-05T19:52:16.134Z"
   },
   {
    "duration": 31,
    "start_time": "2025-06-05T19:52:16.670Z"
   },
   {
    "duration": 5,
    "start_time": "2025-06-05T19:52:16.703Z"
   },
   {
    "duration": 131,
    "start_time": "2025-06-05T19:52:16.710Z"
   },
   {
    "duration": 0,
    "start_time": "2025-06-05T19:52:16.842Z"
   },
   {
    "duration": 0,
    "start_time": "2025-06-05T19:52:16.844Z"
   },
   {
    "duration": 255,
    "start_time": "2025-06-05T19:53:28.422Z"
   },
   {
    "duration": 259,
    "start_time": "2025-06-05T19:53:30.812Z"
   },
   {
    "duration": 96,
    "start_time": "2025-06-05T19:53:33.313Z"
   },
   {
    "duration": 1295,
    "start_time": "2025-06-06T10:55:29.879Z"
   },
   {
    "duration": 1830,
    "start_time": "2025-06-06T10:55:31.176Z"
   },
   {
    "duration": 82,
    "start_time": "2025-06-06T10:55:33.008Z"
   },
   {
    "duration": 254,
    "start_time": "2025-06-06T10:55:33.092Z"
   },
   {
    "duration": 18,
    "start_time": "2025-06-06T10:55:33.347Z"
   },
   {
    "duration": 36,
    "start_time": "2025-06-06T10:55:33.367Z"
   },
   {
    "duration": 10,
    "start_time": "2025-06-06T10:55:33.405Z"
   },
   {
    "duration": 29,
    "start_time": "2025-06-06T10:55:33.416Z"
   },
   {
    "duration": 26,
    "start_time": "2025-06-06T10:55:33.446Z"
   },
   {
    "duration": 5306,
    "start_time": "2025-06-06T10:55:33.475Z"
   },
   {
    "duration": 401,
    "start_time": "2025-06-06T10:55:38.783Z"
   },
   {
    "duration": 73,
    "start_time": "2025-06-06T10:55:39.186Z"
   },
   {
    "duration": 108,
    "start_time": "2025-06-06T10:55:39.261Z"
   },
   {
    "duration": 428,
    "start_time": "2025-06-06T10:55:39.370Z"
   },
   {
    "duration": 201,
    "start_time": "2025-06-06T10:55:39.799Z"
   },
   {
    "duration": 137,
    "start_time": "2025-06-06T10:55:40.002Z"
   },
   {
    "duration": 26,
    "start_time": "2025-06-06T10:55:40.141Z"
   },
   {
    "duration": 41,
    "start_time": "2025-06-06T10:55:40.169Z"
   },
   {
    "duration": 141,
    "start_time": "2025-06-06T10:55:40.212Z"
   },
   {
    "duration": 19,
    "start_time": "2025-06-06T10:55:40.355Z"
   },
   {
    "duration": 169,
    "start_time": "2025-06-06T10:55:40.376Z"
   },
   {
    "duration": 306,
    "start_time": "2025-06-06T10:55:40.547Z"
   },
   {
    "duration": 519,
    "start_time": "2025-06-06T10:55:40.854Z"
   },
   {
    "duration": 24,
    "start_time": "2025-06-06T10:55:41.375Z"
   },
   {
    "duration": 8,
    "start_time": "2025-06-06T10:55:41.401Z"
   },
   {
    "duration": 253,
    "start_time": "2025-06-06T10:55:41.410Z"
   },
   {
    "duration": 250,
    "start_time": "2025-06-06T10:55:41.665Z"
   },
   {
    "duration": 97,
    "start_time": "2025-06-06T10:55:41.918Z"
   },
   {
    "duration": 76,
    "start_time": "2025-06-06T11:02:47.294Z"
   },
   {
    "duration": 108,
    "start_time": "2025-06-06T11:06:59.918Z"
   },
   {
    "duration": 5,
    "start_time": "2025-06-06T11:08:03.500Z"
   },
   {
    "duration": 5,
    "start_time": "2025-06-06T11:08:33.704Z"
   },
   {
    "duration": 5,
    "start_time": "2025-06-06T11:10:49.621Z"
   },
   {
    "duration": 1186,
    "start_time": "2025-06-06T11:15:51.559Z"
   },
   {
    "duration": 1474,
    "start_time": "2025-06-06T11:15:53.517Z"
   },
   {
    "duration": 77,
    "start_time": "2025-06-06T11:15:57.024Z"
   },
   {
    "duration": 253,
    "start_time": "2025-06-06T11:16:04.171Z"
   },
   {
    "duration": 17,
    "start_time": "2025-06-06T11:16:06.110Z"
   },
   {
    "duration": 1336,
    "start_time": "2025-06-06T11:16:09.835Z"
   },
   {
    "duration": 10,
    "start_time": "2025-06-06T11:16:11.173Z"
   },
   {
    "duration": 5,
    "start_time": "2025-06-06T11:19:52.740Z"
   },
   {
    "duration": 18,
    "start_time": "2025-06-06T11:20:49.999Z"
   },
   {
    "duration": 18,
    "start_time": "2025-06-06T11:20:52.421Z"
   },
   {
    "duration": 5773,
    "start_time": "2025-06-06T11:20:54.617Z"
   },
   {
    "duration": 460,
    "start_time": "2025-06-06T11:21:00.392Z"
   },
   {
    "duration": 65,
    "start_time": "2025-06-06T11:21:04.810Z"
   },
   {
    "duration": 109,
    "start_time": "2025-06-06T11:21:11.262Z"
   },
   {
    "duration": 422,
    "start_time": "2025-06-06T11:21:13.092Z"
   },
   {
    "duration": 4,
    "start_time": "2025-06-06T11:21:45.527Z"
   },
   {
    "duration": 5,
    "start_time": "2025-06-06T11:22:02.274Z"
   },
   {
    "duration": 216,
    "start_time": "2025-06-06T11:27:19.752Z"
   },
   {
    "duration": 148,
    "start_time": "2025-06-06T11:27:23.060Z"
   },
   {
    "duration": 97,
    "start_time": "2025-06-06T11:37:00.706Z"
   },
   {
    "duration": 208,
    "start_time": "2025-06-06T11:37:54.960Z"
   },
   {
    "duration": 122,
    "start_time": "2025-06-06T11:37:55.894Z"
   },
   {
    "duration": 31,
    "start_time": "2025-06-06T11:37:58.053Z"
   },
   {
    "duration": 70,
    "start_time": "2025-06-06T11:38:01.736Z"
   },
   {
    "duration": 48,
    "start_time": "2025-06-06T11:39:18.138Z"
   },
   {
    "duration": 102,
    "start_time": "2025-06-06T11:40:19.651Z"
   },
   {
    "duration": 47,
    "start_time": "2025-06-06T11:40:53.391Z"
   },
   {
    "duration": 34,
    "start_time": "2025-06-06T11:55:32.012Z"
   },
   {
    "duration": 140,
    "start_time": "2025-06-06T11:56:00.717Z"
   },
   {
    "duration": 5,
    "start_time": "2025-06-06T11:56:31.027Z"
   },
   {
    "duration": 5,
    "start_time": "2025-06-06T11:56:36.604Z"
   },
   {
    "duration": 106,
    "start_time": "2025-06-06T11:57:02.096Z"
   },
   {
    "duration": 5,
    "start_time": "2025-06-06T12:00:06.039Z"
   },
   {
    "duration": 25,
    "start_time": "2025-06-06T12:00:30.334Z"
   },
   {
    "duration": 181,
    "start_time": "2025-06-06T12:00:33.661Z"
   },
   {
    "duration": 181,
    "start_time": "2025-06-06T12:01:20.758Z"
   },
   {
    "duration": 196,
    "start_time": "2025-06-06T12:02:48.521Z"
   },
   {
    "duration": 19,
    "start_time": "2025-06-06T12:03:22.975Z"
   },
   {
    "duration": 167,
    "start_time": "2025-06-06T12:03:47.823Z"
   },
   {
    "duration": 164,
    "start_time": "2025-06-06T12:05:52.573Z"
   },
   {
    "duration": 783,
    "start_time": "2025-06-06T12:06:48.214Z"
   },
   {
    "duration": 2018,
    "start_time": "2025-06-06T12:06:58.534Z"
   },
   {
    "duration": 175,
    "start_time": "2025-06-06T12:07:30.007Z"
   },
   {
    "duration": 343,
    "start_time": "2025-06-06T12:07:56.058Z"
   },
   {
    "duration": 473,
    "start_time": "2025-06-06T12:09:24.644Z"
   },
   {
    "duration": 269,
    "start_time": "2025-06-06T12:09:33.546Z"
   },
   {
    "duration": 38,
    "start_time": "2025-06-06T12:09:41.143Z"
   },
   {
    "duration": 6,
    "start_time": "2025-06-06T12:09:45.262Z"
   },
   {
    "duration": 217,
    "start_time": "2025-06-06T12:11:13.609Z"
   },
   {
    "duration": 219,
    "start_time": "2025-06-06T12:11:31.404Z"
   },
   {
    "duration": 246,
    "start_time": "2025-06-06T12:12:55.658Z"
   },
   {
    "duration": 6,
    "start_time": "2025-06-06T12:13:04.841Z"
   },
   {
    "duration": 27,
    "start_time": "2025-06-06T12:17:27.002Z"
   },
   {
    "duration": 73,
    "start_time": "2025-06-06T12:23:56.731Z"
   },
   {
    "duration": 18,
    "start_time": "2025-06-06T12:26:02.267Z"
   },
   {
    "duration": 90,
    "start_time": "2025-06-06T12:26:06.346Z"
   },
   {
    "duration": 93,
    "start_time": "2025-06-06T12:26:25.510Z"
   },
   {
    "duration": 1361,
    "start_time": "2025-06-06T12:27:05.037Z"
   },
   {
    "duration": 1706,
    "start_time": "2025-06-06T12:27:06.855Z"
   },
   {
    "duration": 101,
    "start_time": "2025-06-06T12:27:11.100Z"
   },
   {
    "duration": 277,
    "start_time": "2025-06-06T12:27:14.847Z"
   },
   {
    "duration": 19,
    "start_time": "2025-06-06T12:27:17.377Z"
   },
   {
    "duration": 47,
    "start_time": "2025-06-06T12:27:20.442Z"
   },
   {
    "duration": 11,
    "start_time": "2025-06-06T12:27:21.418Z"
   },
   {
    "duration": 20,
    "start_time": "2025-06-06T12:27:32.720Z"
   },
   {
    "duration": 26,
    "start_time": "2025-06-06T12:27:36.852Z"
   },
   {
    "duration": 6525,
    "start_time": "2025-06-06T12:27:45.399Z"
   },
   {
    "duration": 450,
    "start_time": "2025-06-06T12:27:54.133Z"
   },
   {
    "duration": 87,
    "start_time": "2025-06-06T12:28:10.108Z"
   },
   {
    "duration": 70,
    "start_time": "2025-06-06T12:28:17.716Z"
   },
   {
    "duration": 100,
    "start_time": "2025-06-06T12:28:20.858Z"
   },
   {
    "duration": 112,
    "start_time": "2025-06-06T12:28:37.748Z"
   },
   {
    "duration": 129,
    "start_time": "2025-06-06T12:28:59.876Z"
   },
   {
    "duration": 86,
    "start_time": "2025-06-06T12:29:07.799Z"
   },
   {
    "duration": 70,
    "start_time": "2025-06-06T12:29:16.158Z"
   },
   {
    "duration": 230,
    "start_time": "2025-06-06T12:29:31.284Z"
   },
   {
    "duration": 174,
    "start_time": "2025-06-06T12:29:33.432Z"
   },
   {
    "duration": 28,
    "start_time": "2025-06-06T12:29:37.284Z"
   },
   {
    "duration": 54,
    "start_time": "2025-06-06T12:29:39.416Z"
   },
   {
    "duration": 61,
    "start_time": "2025-06-06T12:29:43.436Z"
   },
   {
    "duration": 14,
    "start_time": "2025-06-06T12:29:52.773Z"
   },
   {
    "duration": 170,
    "start_time": "2025-06-06T12:30:03.538Z"
   },
   {
    "duration": 5,
    "start_time": "2025-06-06T12:30:53.535Z"
   },
   {
    "duration": 17,
    "start_time": "2025-06-06T12:30:56.687Z"
   },
   {
    "duration": 180,
    "start_time": "2025-06-06T12:30:58.316Z"
   },
   {
    "duration": 374,
    "start_time": "2025-06-06T12:31:00.239Z"
   },
   {
    "duration": 269,
    "start_time": "2025-06-06T12:31:09.180Z"
   },
   {
    "duration": 29,
    "start_time": "2025-06-06T12:31:10.804Z"
   },
   {
    "duration": 8,
    "start_time": "2025-06-06T12:31:11.547Z"
   },
   {
    "duration": 243,
    "start_time": "2025-06-06T12:31:15.112Z"
   },
   {
    "duration": 329,
    "start_time": "2025-06-06T12:31:19.129Z"
   },
   {
    "duration": 31,
    "start_time": "2025-06-06T12:31:23.856Z"
   },
   {
    "duration": 71,
    "start_time": "2025-06-06T12:31:27.774Z"
   },
   {
    "duration": 115,
    "start_time": "2025-06-06T12:37:19.109Z"
   },
   {
    "duration": 17,
    "start_time": "2025-06-06T12:40:35.311Z"
   },
   {
    "duration": 21,
    "start_time": "2025-06-06T12:41:37.838Z"
   },
   {
    "duration": 12,
    "start_time": "2025-06-06T12:43:12.418Z"
   },
   {
    "duration": 12,
    "start_time": "2025-06-06T12:49:38.382Z"
   },
   {
    "duration": 1497,
    "start_time": "2025-06-06T18:50:37.153Z"
   },
   {
    "duration": 1696,
    "start_time": "2025-06-06T18:50:38.653Z"
   },
   {
    "duration": 93,
    "start_time": "2025-06-06T18:50:40.351Z"
   },
   {
    "duration": 295,
    "start_time": "2025-06-06T18:50:40.446Z"
   },
   {
    "duration": 32,
    "start_time": "2025-06-06T18:50:40.743Z"
   },
   {
    "duration": 83,
    "start_time": "2025-06-06T18:50:40.777Z"
   },
   {
    "duration": 29,
    "start_time": "2025-06-06T18:50:40.862Z"
   },
   {
    "duration": 21,
    "start_time": "2025-06-06T18:50:40.893Z"
   },
   {
    "duration": 20,
    "start_time": "2025-06-06T18:50:40.915Z"
   },
   {
    "duration": 6356,
    "start_time": "2025-06-06T18:50:40.937Z"
   },
   {
    "duration": 498,
    "start_time": "2025-06-06T18:50:47.295Z"
   },
   {
    "duration": 85,
    "start_time": "2025-06-06T18:50:47.794Z"
   },
   {
    "duration": 124,
    "start_time": "2025-06-06T18:50:47.881Z"
   },
   {
    "duration": 132,
    "start_time": "2025-06-06T18:50:48.009Z"
   },
   {
    "duration": 242,
    "start_time": "2025-06-06T18:50:48.143Z"
   },
   {
    "duration": 155,
    "start_time": "2025-06-06T18:50:48.387Z"
   },
   {
    "duration": 35,
    "start_time": "2025-06-06T18:50:48.544Z"
   },
   {
    "duration": 62,
    "start_time": "2025-06-06T18:50:48.580Z"
   },
   {
    "duration": 59,
    "start_time": "2025-06-06T18:50:48.644Z"
   },
   {
    "duration": 158,
    "start_time": "2025-06-06T18:50:48.705Z"
   },
   {
    "duration": 5,
    "start_time": "2025-06-06T18:50:48.864Z"
   },
   {
    "duration": 28,
    "start_time": "2025-06-06T18:50:48.870Z"
   },
   {
    "duration": 226,
    "start_time": "2025-06-06T18:50:48.900Z"
   },
   {
    "duration": 370,
    "start_time": "2025-06-06T18:50:49.128Z"
   },
   {
    "duration": 271,
    "start_time": "2025-06-06T18:50:49.501Z"
   },
   {
    "duration": 30,
    "start_time": "2025-06-06T18:50:49.774Z"
   },
   {
    "duration": 6,
    "start_time": "2025-06-06T18:50:49.806Z"
   },
   {
    "duration": 265,
    "start_time": "2025-06-06T18:50:49.813Z"
   },
   {
    "duration": 334,
    "start_time": "2025-06-06T18:50:50.080Z"
   },
   {
    "duration": 29,
    "start_time": "2025-06-06T18:50:50.416Z"
   },
   {
    "duration": 85,
    "start_time": "2025-06-06T18:50:50.446Z"
   },
   {
    "duration": 144,
    "start_time": "2025-06-06T18:50:50.533Z"
   },
   {
    "duration": 21,
    "start_time": "2025-06-06T18:50:50.680Z"
   },
   {
    "duration": 29,
    "start_time": "2025-06-06T18:50:50.703Z"
   },
   {
    "duration": 29,
    "start_time": "2025-06-06T18:50:50.735Z"
   },
   {
    "duration": 14,
    "start_time": "2025-06-06T18:50:50.765Z"
   },
   {
    "duration": 425,
    "start_time": "2025-06-06T20:00:48.099Z"
   },
   {
    "duration": 6356,
    "start_time": "2025-06-06T20:19:01.171Z"
   },
   {
    "duration": 5475,
    "start_time": "2025-06-06T20:21:11.723Z"
   },
   {
    "duration": 28,
    "start_time": "2025-06-06T20:29:29.340Z"
   },
   {
    "duration": 5,
    "start_time": "2025-06-06T20:29:42.418Z"
   },
   {
    "duration": 79,
    "start_time": "2025-06-06T20:34:22.082Z"
   },
   {
    "duration": 136,
    "start_time": "2025-06-06T21:16:20.507Z"
   },
   {
    "duration": 137,
    "start_time": "2025-06-06T21:17:56.311Z"
   },
   {
    "duration": 143,
    "start_time": "2025-06-06T21:18:15.226Z"
   },
   {
    "duration": 129,
    "start_time": "2025-06-06T21:19:58.716Z"
   },
   {
    "duration": 162,
    "start_time": "2025-06-06T21:24:05.128Z"
   },
   {
    "duration": 137,
    "start_time": "2025-06-06T21:25:19.759Z"
   },
   {
    "duration": 130,
    "start_time": "2025-06-06T21:25:47.372Z"
   },
   {
    "duration": 87,
    "start_time": "2025-06-06T21:29:08.218Z"
   },
   {
    "duration": 61,
    "start_time": "2025-06-06T21:29:17.321Z"
   },
   {
    "duration": 112,
    "start_time": "2025-06-06T21:48:22.680Z"
   },
   {
    "duration": 11,
    "start_time": "2025-06-06T21:48:54.576Z"
   },
   {
    "duration": 63,
    "start_time": "2025-06-06T21:50:07.223Z"
   },
   {
    "duration": 64,
    "start_time": "2025-06-06T21:50:14.808Z"
   },
   {
    "duration": 66,
    "start_time": "2025-06-06T21:50:57.248Z"
   },
   {
    "duration": 63,
    "start_time": "2025-06-06T21:51:19.187Z"
   },
   {
    "duration": 62,
    "start_time": "2025-06-06T21:51:32.959Z"
   },
   {
    "duration": 63,
    "start_time": "2025-06-06T21:53:09.154Z"
   },
   {
    "duration": 166,
    "start_time": "2025-06-06T21:59:13.292Z"
   },
   {
    "duration": 153,
    "start_time": "2025-06-06T21:59:40.949Z"
   },
   {
    "duration": 191,
    "start_time": "2025-06-06T22:00:30.242Z"
   },
   {
    "duration": 189,
    "start_time": "2025-06-06T22:00:50.753Z"
   },
   {
    "duration": 194,
    "start_time": "2025-06-06T22:01:06.309Z"
   },
   {
    "duration": 186,
    "start_time": "2025-06-06T22:01:13.820Z"
   },
   {
    "duration": 141,
    "start_time": "2025-06-06T22:01:26.958Z"
   },
   {
    "duration": 64,
    "start_time": "2025-06-06T22:06:35.188Z"
   },
   {
    "duration": 61,
    "start_time": "2025-06-06T22:07:23.346Z"
   },
   {
    "duration": 168,
    "start_time": "2025-06-06T22:12:09.797Z"
   },
   {
    "duration": 48,
    "start_time": "2025-06-06T22:18:32.126Z"
   },
   {
    "duration": 180,
    "start_time": "2025-06-06T22:19:25.113Z"
   },
   {
    "duration": 1495,
    "start_time": "2025-06-07T10:49:09.773Z"
   },
   {
    "duration": 1590,
    "start_time": "2025-06-07T10:49:11.271Z"
   },
   {
    "duration": 97,
    "start_time": "2025-06-07T10:49:12.863Z"
   },
   {
    "duration": 313,
    "start_time": "2025-06-07T10:49:12.962Z"
   },
   {
    "duration": 23,
    "start_time": "2025-06-07T10:49:13.278Z"
   },
   {
    "duration": 74,
    "start_time": "2025-06-07T10:49:13.303Z"
   },
   {
    "duration": 12,
    "start_time": "2025-06-07T10:49:13.379Z"
   },
   {
    "duration": 32,
    "start_time": "2025-06-07T10:49:13.394Z"
   },
   {
    "duration": 34,
    "start_time": "2025-06-07T10:49:13.428Z"
   },
   {
    "duration": 6458,
    "start_time": "2025-06-07T10:49:13.464Z"
   },
   {
    "duration": 506,
    "start_time": "2025-06-07T10:49:19.924Z"
   },
   {
    "duration": 77,
    "start_time": "2025-06-07T10:49:20.432Z"
   },
   {
    "duration": 130,
    "start_time": "2025-06-07T10:49:20.511Z"
   },
   {
    "duration": 137,
    "start_time": "2025-06-07T10:49:20.644Z"
   },
   {
    "duration": 242,
    "start_time": "2025-06-07T10:49:20.783Z"
   },
   {
    "duration": 179,
    "start_time": "2025-06-07T10:49:21.027Z"
   },
   {
    "duration": 32,
    "start_time": "2025-06-07T10:49:21.209Z"
   },
   {
    "duration": 51,
    "start_time": "2025-06-07T10:49:21.260Z"
   },
   {
    "duration": 71,
    "start_time": "2025-06-07T10:49:21.313Z"
   },
   {
    "duration": 157,
    "start_time": "2025-06-07T10:49:21.386Z"
   },
   {
    "duration": 15,
    "start_time": "2025-06-07T10:49:21.545Z"
   },
   {
    "duration": 36,
    "start_time": "2025-06-07T10:49:21.563Z"
   },
   {
    "duration": 206,
    "start_time": "2025-06-07T10:49:21.602Z"
   },
   {
    "duration": 372,
    "start_time": "2025-06-07T10:49:21.810Z"
   },
   {
    "duration": 277,
    "start_time": "2025-06-07T10:49:22.183Z"
   },
   {
    "duration": 29,
    "start_time": "2025-06-07T10:49:22.462Z"
   },
   {
    "duration": 6,
    "start_time": "2025-06-07T10:49:22.493Z"
   },
   {
    "duration": 266,
    "start_time": "2025-06-07T10:49:22.501Z"
   },
   {
    "duration": 332,
    "start_time": "2025-06-07T10:49:22.769Z"
   },
   {
    "duration": 29,
    "start_time": "2025-06-07T10:49:23.103Z"
   },
   {
    "duration": 100,
    "start_time": "2025-06-07T10:49:23.133Z"
   },
   {
    "duration": 126,
    "start_time": "2025-06-07T10:49:23.235Z"
   },
   {
    "duration": 20,
    "start_time": "2025-06-07T10:49:23.363Z"
   },
   {
    "duration": 30,
    "start_time": "2025-06-07T10:49:23.385Z"
   },
   {
    "duration": 11,
    "start_time": "2025-06-07T10:49:23.417Z"
   },
   {
    "duration": 46,
    "start_time": "2025-06-07T10:49:23.430Z"
   },
   {
    "duration": 429,
    "start_time": "2025-06-07T10:49:23.478Z"
   },
   {
    "duration": 6470,
    "start_time": "2025-06-07T10:49:23.909Z"
   },
   {
    "duration": 5690,
    "start_time": "2025-06-07T10:49:30.382Z"
   },
   {
    "duration": 27,
    "start_time": "2025-06-07T10:49:36.074Z"
   },
   {
    "duration": 95,
    "start_time": "2025-06-07T10:49:36.107Z"
   },
   {
    "duration": 168,
    "start_time": "2025-06-07T10:49:36.203Z"
   },
   {
    "duration": 140,
    "start_time": "2025-06-07T10:49:36.373Z"
   },
   {
    "duration": 77,
    "start_time": "2025-06-07T10:49:36.515Z"
   },
   {
    "duration": 224,
    "start_time": "2025-06-07T10:49:36.594Z"
   },
   {
    "duration": 74,
    "start_time": "2025-06-07T10:49:36.820Z"
   },
   {
    "duration": 199,
    "start_time": "2025-06-07T10:49:36.897Z"
   },
   {
    "duration": 85,
    "start_time": "2025-06-07T10:49:37.099Z"
   },
   {
    "duration": 207,
    "start_time": "2025-06-07T10:49:37.186Z"
   },
   {
    "duration": 129,
    "start_time": "2025-06-07T10:51:58.134Z"
   },
   {
    "duration": 63,
    "start_time": "2025-06-07T10:52:49.377Z"
   },
   {
    "duration": 65,
    "start_time": "2025-06-07T10:55:48.808Z"
   },
   {
    "duration": 256,
    "start_time": "2025-06-07T10:58:25.510Z"
   },
   {
    "duration": 71,
    "start_time": "2025-06-07T11:00:23.716Z"
   },
   {
    "duration": 1114,
    "start_time": "2025-06-07T11:00:29.676Z"
   },
   {
    "duration": 21,
    "start_time": "2025-06-07T11:06:48.704Z"
   },
   {
    "duration": 212,
    "start_time": "2025-06-07T11:08:32.908Z"
   },
   {
    "duration": 190,
    "start_time": "2025-06-07T11:11:26.093Z"
   },
   {
    "duration": 22,
    "start_time": "2025-06-07T11:11:38.874Z"
   },
   {
    "duration": 856,
    "start_time": "2025-06-07T11:40:49.203Z"
   },
   {
    "duration": 123,
    "start_time": "2025-06-07T11:41:14.560Z"
   },
   {
    "duration": 83,
    "start_time": "2025-06-07T11:42:54.749Z"
   },
   {
    "duration": 87,
    "start_time": "2025-06-07T11:43:04.800Z"
   },
   {
    "duration": 1340,
    "start_time": "2025-06-07T12:03:44.331Z"
   },
   {
    "duration": 1738,
    "start_time": "2025-06-07T12:03:45.673Z"
   },
   {
    "duration": 96,
    "start_time": "2025-06-07T12:03:47.413Z"
   },
   {
    "duration": 287,
    "start_time": "2025-06-07T12:03:47.512Z"
   },
   {
    "duration": 20,
    "start_time": "2025-06-07T12:03:47.801Z"
   },
   {
    "duration": 92,
    "start_time": "2025-06-07T12:03:47.823Z"
   },
   {
    "duration": 11,
    "start_time": "2025-06-07T12:03:47.917Z"
   },
   {
    "duration": 21,
    "start_time": "2025-06-07T12:03:47.929Z"
   },
   {
    "duration": 20,
    "start_time": "2025-06-07T12:03:47.951Z"
   },
   {
    "duration": 6281,
    "start_time": "2025-06-07T12:03:47.973Z"
   },
   {
    "duration": 512,
    "start_time": "2025-06-07T12:03:54.259Z"
   },
   {
    "duration": 95,
    "start_time": "2025-06-07T12:03:54.773Z"
   },
   {
    "duration": 135,
    "start_time": "2025-06-07T12:03:54.870Z"
   },
   {
    "duration": 127,
    "start_time": "2025-06-07T12:03:55.008Z"
   },
   {
    "duration": 241,
    "start_time": "2025-06-07T12:03:55.137Z"
   },
   {
    "duration": 155,
    "start_time": "2025-06-07T12:03:55.380Z"
   },
   {
    "duration": 33,
    "start_time": "2025-06-07T12:03:55.537Z"
   },
   {
    "duration": 49,
    "start_time": "2025-06-07T12:03:55.572Z"
   },
   {
    "duration": 71,
    "start_time": "2025-06-07T12:03:55.623Z"
   },
   {
    "duration": 170,
    "start_time": "2025-06-07T12:03:55.695Z"
   },
   {
    "duration": 5,
    "start_time": "2025-06-07T12:03:55.867Z"
   },
   {
    "duration": 18,
    "start_time": "2025-06-07T12:03:55.874Z"
   },
   {
    "duration": 206,
    "start_time": "2025-06-07T12:03:55.894Z"
   },
   {
    "duration": 368,
    "start_time": "2025-06-07T12:03:56.102Z"
   },
   {
    "duration": 276,
    "start_time": "2025-06-07T12:03:56.473Z"
   },
   {
    "duration": 39,
    "start_time": "2025-06-07T12:03:56.750Z"
   },
   {
    "duration": 6,
    "start_time": "2025-06-07T12:03:56.791Z"
   },
   {
    "duration": 256,
    "start_time": "2025-06-07T12:03:56.798Z"
   },
   {
    "duration": 319,
    "start_time": "2025-06-07T12:03:57.060Z"
   },
   {
    "duration": 28,
    "start_time": "2025-06-07T12:03:57.381Z"
   },
   {
    "duration": 94,
    "start_time": "2025-06-07T12:03:57.411Z"
   },
   {
    "duration": 124,
    "start_time": "2025-06-07T12:03:57.507Z"
   },
   {
    "duration": 28,
    "start_time": "2025-06-07T12:03:57.633Z"
   },
   {
    "duration": 25,
    "start_time": "2025-06-07T12:03:57.663Z"
   },
   {
    "duration": 10,
    "start_time": "2025-06-07T12:03:57.690Z"
   },
   {
    "duration": 27,
    "start_time": "2025-06-07T12:03:57.702Z"
   },
   {
    "duration": 414,
    "start_time": "2025-06-07T12:03:57.730Z"
   },
   {
    "duration": 6167,
    "start_time": "2025-06-07T12:03:58.146Z"
   },
   {
    "duration": 5395,
    "start_time": "2025-06-07T12:04:04.315Z"
   },
   {
    "duration": 26,
    "start_time": "2025-06-07T12:04:09.712Z"
   },
   {
    "duration": 91,
    "start_time": "2025-06-07T12:04:09.743Z"
   },
   {
    "duration": 164,
    "start_time": "2025-06-07T12:04:09.836Z"
   },
   {
    "duration": 143,
    "start_time": "2025-06-07T12:04:10.002Z"
   },
   {
    "duration": 73,
    "start_time": "2025-06-07T12:04:10.147Z"
   },
   {
    "duration": 196,
    "start_time": "2025-06-07T12:04:10.221Z"
   },
   {
    "duration": 69,
    "start_time": "2025-06-07T12:04:10.418Z"
   },
   {
    "duration": 204,
    "start_time": "2025-06-07T12:04:10.489Z"
   },
   {
    "duration": 46,
    "start_time": "2025-06-07T12:04:10.695Z"
   },
   {
    "duration": 196,
    "start_time": "2025-06-07T12:04:10.742Z"
   },
   {
    "duration": 74,
    "start_time": "2025-06-07T12:04:10.940Z"
   },
   {
    "duration": 202,
    "start_time": "2025-06-07T12:04:11.015Z"
   },
   {
    "duration": 117,
    "start_time": "2025-06-07T12:04:11.219Z"
   },
   {
    "duration": 118,
    "start_time": "2025-06-07T12:04:17.047Z"
   },
   {
    "duration": 1725,
    "start_time": "2025-06-07T12:08:01.290Z"
   },
   {
    "duration": 310,
    "start_time": "2025-06-07T12:08:22.945Z"
   },
   {
    "duration": 304,
    "start_time": "2025-06-07T12:08:41.241Z"
   },
   {
    "duration": 282,
    "start_time": "2025-06-07T12:08:56.293Z"
   },
   {
    "duration": 288,
    "start_time": "2025-06-07T12:09:07.605Z"
   },
   {
    "duration": 294,
    "start_time": "2025-06-07T12:09:16.711Z"
   },
   {
    "duration": 298,
    "start_time": "2025-06-07T12:09:42.032Z"
   },
   {
    "duration": 286,
    "start_time": "2025-06-07T12:18:29.351Z"
   },
   {
    "duration": 3,
    "start_time": "2025-06-07T12:18:50.469Z"
   },
   {
    "duration": 1468,
    "start_time": "2025-06-07T12:19:05.837Z"
   },
   {
    "duration": 290,
    "start_time": "2025-06-07T12:20:16.177Z"
   },
   {
    "duration": 293,
    "start_time": "2025-06-07T12:21:39.625Z"
   },
   {
    "duration": 1069,
    "start_time": "2025-06-07T12:24:34.127Z"
   },
   {
    "duration": 14,
    "start_time": "2025-06-07T12:25:08.895Z"
   },
   {
    "duration": 289,
    "start_time": "2025-06-07T12:27:28.630Z"
   },
   {
    "duration": 292,
    "start_time": "2025-06-07T12:45:39.818Z"
   },
   {
    "duration": 36,
    "start_time": "2025-06-07T12:58:13.676Z"
   },
   {
    "duration": 31,
    "start_time": "2025-06-07T12:58:38.893Z"
   },
   {
    "duration": 6,
    "start_time": "2025-06-07T12:58:51.013Z"
   },
   {
    "duration": 117,
    "start_time": "2025-06-07T13:01:31.271Z"
   },
   {
    "duration": 106,
    "start_time": "2025-06-07T13:01:39.502Z"
   },
   {
    "duration": 164,
    "start_time": "2025-06-07T13:04:27.735Z"
   },
   {
    "duration": 354,
    "start_time": "2025-06-07T13:04:49.070Z"
   },
   {
    "duration": 155,
    "start_time": "2025-06-07T13:05:00.912Z"
   },
   {
    "duration": 152,
    "start_time": "2025-06-07T13:17:14.198Z"
   },
   {
    "duration": 1605,
    "start_time": "2025-06-07T13:40:53.102Z"
   },
   {
    "duration": 116,
    "start_time": "2025-06-07T13:40:58.976Z"
   },
   {
    "duration": 86,
    "start_time": "2025-06-07T13:46:35.190Z"
   },
   {
    "duration": 139,
    "start_time": "2025-06-07T13:53:25.191Z"
   },
   {
    "duration": 76,
    "start_time": "2025-06-07T13:53:33.550Z"
   },
   {
    "duration": 128,
    "start_time": "2025-06-07T13:53:37.771Z"
   },
   {
    "duration": 110,
    "start_time": "2025-06-07T13:53:57.051Z"
   },
   {
    "duration": 1273,
    "start_time": "2025-06-07T19:53:21.289Z"
   },
   {
    "duration": 1276,
    "start_time": "2025-06-07T19:53:22.564Z"
   },
   {
    "duration": 73,
    "start_time": "2025-06-07T19:53:23.842Z"
   },
   {
    "duration": 312,
    "start_time": "2025-06-07T19:53:23.916Z"
   },
   {
    "duration": 17,
    "start_time": "2025-06-07T19:53:24.231Z"
   },
   {
    "duration": 29,
    "start_time": "2025-06-07T19:53:24.250Z"
   },
   {
    "duration": 10,
    "start_time": "2025-06-07T19:53:24.280Z"
   },
   {
    "duration": 34,
    "start_time": "2025-06-07T19:53:24.292Z"
   },
   {
    "duration": 21,
    "start_time": "2025-06-07T19:53:24.327Z"
   },
   {
    "duration": 5292,
    "start_time": "2025-06-07T19:53:24.350Z"
   },
   {
    "duration": 400,
    "start_time": "2025-06-07T19:53:29.644Z"
   },
   {
    "duration": 61,
    "start_time": "2025-06-07T19:53:30.045Z"
   },
   {
    "duration": 119,
    "start_time": "2025-06-07T19:53:30.107Z"
   },
   {
    "duration": 113,
    "start_time": "2025-06-07T19:53:30.235Z"
   },
   {
    "duration": 188,
    "start_time": "2025-06-07T19:53:30.350Z"
   },
   {
    "duration": 128,
    "start_time": "2025-06-07T19:53:30.540Z"
   },
   {
    "duration": 69,
    "start_time": "2025-06-07T19:53:30.671Z"
   },
   {
    "duration": 42,
    "start_time": "2025-06-07T19:53:30.742Z"
   },
   {
    "duration": 61,
    "start_time": "2025-06-07T19:53:30.786Z"
   },
   {
    "duration": 126,
    "start_time": "2025-06-07T19:53:30.849Z"
   },
   {
    "duration": 4,
    "start_time": "2025-06-07T19:53:30.976Z"
   },
   {
    "duration": 75,
    "start_time": "2025-06-07T19:53:30.982Z"
   },
   {
    "duration": 151,
    "start_time": "2025-06-07T19:53:31.059Z"
   },
   {
    "duration": 308,
    "start_time": "2025-06-07T19:53:31.211Z"
   },
   {
    "duration": 248,
    "start_time": "2025-06-07T19:53:31.521Z"
   },
   {
    "duration": 24,
    "start_time": "2025-06-07T19:53:31.771Z"
   },
   {
    "duration": 5,
    "start_time": "2025-06-07T19:53:31.796Z"
   },
   {
    "duration": 223,
    "start_time": "2025-06-07T19:53:31.803Z"
   },
   {
    "duration": 287,
    "start_time": "2025-06-07T19:53:32.027Z"
   },
   {
    "duration": 29,
    "start_time": "2025-06-07T19:53:32.315Z"
   },
   {
    "duration": 137,
    "start_time": "2025-06-07T19:53:32.345Z"
   },
   {
    "duration": 106,
    "start_time": "2025-06-07T19:53:32.484Z"
   },
   {
    "duration": 17,
    "start_time": "2025-06-07T19:53:32.592Z"
   },
   {
    "duration": 64,
    "start_time": "2025-06-07T19:53:32.611Z"
   },
   {
    "duration": 52,
    "start_time": "2025-06-07T19:53:32.677Z"
   },
   {
    "duration": 17,
    "start_time": "2025-06-07T19:53:32.730Z"
   },
   {
    "duration": 357,
    "start_time": "2025-06-07T19:53:32.749Z"
   },
   {
    "duration": 5374,
    "start_time": "2025-06-07T19:53:33.108Z"
   },
   {
    "duration": 4705,
    "start_time": "2025-06-07T19:53:38.484Z"
   },
   {
    "duration": 24,
    "start_time": "2025-06-07T19:53:43.191Z"
   },
   {
    "duration": 82,
    "start_time": "2025-06-07T19:53:43.219Z"
   },
   {
    "duration": 156,
    "start_time": "2025-06-07T19:53:43.303Z"
   },
   {
    "duration": 132,
    "start_time": "2025-06-07T19:53:43.461Z"
   },
   {
    "duration": 65,
    "start_time": "2025-06-07T19:53:43.595Z"
   },
   {
    "duration": 173,
    "start_time": "2025-06-07T19:53:43.661Z"
   },
   {
    "duration": 51,
    "start_time": "2025-06-07T19:53:43.836Z"
   },
   {
    "duration": 151,
    "start_time": "2025-06-07T19:53:43.889Z"
   },
   {
    "duration": 39,
    "start_time": "2025-06-07T19:53:44.042Z"
   },
   {
    "duration": 204,
    "start_time": "2025-06-07T19:53:44.082Z"
   },
   {
    "duration": 65,
    "start_time": "2025-06-07T19:53:44.288Z"
   },
   {
    "duration": 173,
    "start_time": "2025-06-07T19:53:44.355Z"
   },
   {
    "duration": 107,
    "start_time": "2025-06-07T19:53:44.530Z"
   },
   {
    "duration": 267,
    "start_time": "2025-06-07T19:53:44.639Z"
   },
   {
    "duration": 264,
    "start_time": "2025-06-07T19:53:44.908Z"
   },
   {
    "duration": 264,
    "start_time": "2025-06-07T19:53:45.174Z"
   },
   {
    "duration": 255,
    "start_time": "2025-06-07T19:53:45.439Z"
   },
   {
    "duration": 27,
    "start_time": "2025-06-07T19:53:45.696Z"
   },
   {
    "duration": 100,
    "start_time": "2025-06-07T19:53:45.736Z"
   },
   {
    "duration": 133,
    "start_time": "2025-06-07T19:53:45.838Z"
   },
   {
    "duration": 76,
    "start_time": "2025-06-07T19:53:45.972Z"
   },
   {
    "duration": 102,
    "start_time": "2025-06-07T19:53:46.050Z"
   },
   {
    "duration": 1138,
    "start_time": "2025-06-07T20:21:56.220Z"
   },
   {
    "duration": 1418,
    "start_time": "2025-06-07T20:21:57.360Z"
   },
   {
    "duration": 77,
    "start_time": "2025-06-07T20:21:58.779Z"
   },
   {
    "duration": 332,
    "start_time": "2025-06-07T20:21:58.859Z"
   },
   {
    "duration": 18,
    "start_time": "2025-06-07T20:21:59.192Z"
   },
   {
    "duration": 30,
    "start_time": "2025-06-07T20:21:59.212Z"
   },
   {
    "duration": 9,
    "start_time": "2025-06-07T20:21:59.244Z"
   },
   {
    "duration": 17,
    "start_time": "2025-06-07T20:21:59.255Z"
   },
   {
    "duration": 19,
    "start_time": "2025-06-07T20:21:59.273Z"
   },
   {
    "duration": 5168,
    "start_time": "2025-06-07T20:21:59.294Z"
   },
   {
    "duration": 406,
    "start_time": "2025-06-07T20:22:04.464Z"
   },
   {
    "duration": 71,
    "start_time": "2025-06-07T20:22:04.872Z"
   },
   {
    "duration": 109,
    "start_time": "2025-06-07T20:22:04.944Z"
   },
   {
    "duration": 114,
    "start_time": "2025-06-07T20:22:05.055Z"
   },
   {
    "duration": 198,
    "start_time": "2025-06-07T20:22:05.171Z"
   },
   {
    "duration": 126,
    "start_time": "2025-06-07T20:22:05.370Z"
   },
   {
    "duration": 26,
    "start_time": "2025-06-07T20:22:05.497Z"
   },
   {
    "duration": 58,
    "start_time": "2025-06-07T20:22:05.536Z"
   },
   {
    "duration": 62,
    "start_time": "2025-06-07T20:22:05.595Z"
   },
   {
    "duration": 133,
    "start_time": "2025-06-07T20:22:05.659Z"
   },
   {
    "duration": 4,
    "start_time": "2025-06-07T20:22:05.793Z"
   },
   {
    "duration": 42,
    "start_time": "2025-06-07T20:22:05.799Z"
   },
   {
    "duration": 173,
    "start_time": "2025-06-07T20:22:05.842Z"
   },
   {
    "duration": 305,
    "start_time": "2025-06-07T20:22:06.017Z"
   },
   {
    "duration": 242,
    "start_time": "2025-06-07T20:22:06.323Z"
   },
   {
    "duration": 25,
    "start_time": "2025-06-07T20:22:06.566Z"
   },
   {
    "duration": 5,
    "start_time": "2025-06-07T20:22:06.592Z"
   },
   {
    "duration": 218,
    "start_time": "2025-06-07T20:22:06.601Z"
   },
   {
    "duration": 278,
    "start_time": "2025-06-07T20:22:06.820Z"
   },
   {
    "duration": 43,
    "start_time": "2025-06-07T20:22:07.100Z"
   },
   {
    "duration": 74,
    "start_time": "2025-06-07T20:22:07.145Z"
   },
   {
    "duration": 108,
    "start_time": "2025-06-07T20:22:07.221Z"
   },
   {
    "duration": 16,
    "start_time": "2025-06-07T20:22:07.335Z"
   },
   {
    "duration": 20,
    "start_time": "2025-06-07T20:22:07.352Z"
   },
   {
    "duration": 79,
    "start_time": "2025-06-07T20:22:07.373Z"
   },
   {
    "duration": 18,
    "start_time": "2025-06-07T20:22:07.454Z"
   },
   {
    "duration": 348,
    "start_time": "2025-06-07T20:22:07.474Z"
   },
   {
    "duration": 5211,
    "start_time": "2025-06-07T20:22:07.824Z"
   },
   {
    "duration": 4632,
    "start_time": "2025-06-07T20:22:13.037Z"
   },
   {
    "duration": 24,
    "start_time": "2025-06-07T20:22:17.670Z"
   },
   {
    "duration": 81,
    "start_time": "2025-06-07T20:22:17.695Z"
   },
   {
    "duration": 152,
    "start_time": "2025-06-07T20:22:17.777Z"
   },
   {
    "duration": 116,
    "start_time": "2025-06-07T20:22:17.930Z"
   },
   {
    "duration": 57,
    "start_time": "2025-06-07T20:22:18.047Z"
   },
   {
    "duration": 172,
    "start_time": "2025-06-07T20:22:18.105Z"
   },
   {
    "duration": 60,
    "start_time": "2025-06-07T20:22:18.278Z"
   },
   {
    "duration": 141,
    "start_time": "2025-06-07T20:22:18.340Z"
   },
   {
    "duration": 40,
    "start_time": "2025-06-07T20:22:18.483Z"
   },
   {
    "duration": 153,
    "start_time": "2025-06-07T20:22:18.536Z"
   },
   {
    "duration": 69,
    "start_time": "2025-06-07T20:22:18.691Z"
   },
   {
    "duration": 202,
    "start_time": "2025-06-07T20:22:18.762Z"
   },
   {
    "duration": 109,
    "start_time": "2025-06-07T20:22:18.966Z"
   },
   {
    "duration": 252,
    "start_time": "2025-06-07T20:22:19.076Z"
   },
   {
    "duration": 260,
    "start_time": "2025-06-07T20:22:19.330Z"
   },
   {
    "duration": 256,
    "start_time": "2025-06-07T20:22:19.592Z"
   },
   {
    "duration": 257,
    "start_time": "2025-06-07T20:22:19.850Z"
   },
   {
    "duration": 35,
    "start_time": "2025-06-07T20:22:20.109Z"
   },
   {
    "duration": 101,
    "start_time": "2025-06-07T20:22:20.146Z"
   },
   {
    "duration": 130,
    "start_time": "2025-06-07T20:22:20.249Z"
   },
   {
    "duration": 75,
    "start_time": "2025-06-07T20:22:20.381Z"
   },
   {
    "duration": 123,
    "start_time": "2025-06-07T20:22:20.458Z"
   },
   {
    "duration": 67,
    "start_time": "2025-06-07T20:41:26.694Z"
   },
   {
    "duration": 113,
    "start_time": "2025-06-07T20:54:15.892Z"
   },
   {
    "duration": 88,
    "start_time": "2025-06-07T21:19:14.344Z"
   },
   {
    "duration": 109,
    "start_time": "2025-06-07T21:21:15.224Z"
   },
   {
    "duration": 1178,
    "start_time": "2025-06-07T21:21:43.814Z"
   },
   {
    "duration": 1029,
    "start_time": "2025-06-07T21:25:49.365Z"
   },
   {
    "duration": 1054,
    "start_time": "2025-06-07T21:26:22.832Z"
   },
   {
    "duration": 172,
    "start_time": "2025-06-07T21:26:37.479Z"
   },
   {
    "duration": 175,
    "start_time": "2025-06-07T21:30:18.678Z"
   },
   {
    "duration": 171,
    "start_time": "2025-06-07T21:31:26.857Z"
   },
   {
    "duration": 51,
    "start_time": "2025-06-08T05:28:14.411Z"
   },
   {
    "duration": 1500,
    "start_time": "2025-06-08T05:28:30.187Z"
   },
   {
    "duration": 1862,
    "start_time": "2025-06-08T05:28:31.689Z"
   },
   {
    "duration": 90,
    "start_time": "2025-06-08T05:28:33.553Z"
   },
   {
    "duration": 366,
    "start_time": "2025-06-08T05:28:33.646Z"
   },
   {
    "duration": 21,
    "start_time": "2025-06-08T05:28:34.014Z"
   },
   {
    "duration": 69,
    "start_time": "2025-06-08T05:28:34.037Z"
   },
   {
    "duration": 12,
    "start_time": "2025-06-08T05:28:34.107Z"
   },
   {
    "duration": 26,
    "start_time": "2025-06-08T05:28:34.121Z"
   },
   {
    "duration": 48,
    "start_time": "2025-06-08T05:28:34.149Z"
   },
   {
    "duration": 5930,
    "start_time": "2025-06-08T05:28:34.200Z"
   },
   {
    "duration": 467,
    "start_time": "2025-06-08T05:28:40.131Z"
   },
   {
    "duration": 80,
    "start_time": "2025-06-08T05:28:40.600Z"
   },
   {
    "duration": 123,
    "start_time": "2025-06-08T05:28:40.682Z"
   },
   {
    "duration": 136,
    "start_time": "2025-06-08T05:28:40.807Z"
   },
   {
    "duration": 236,
    "start_time": "2025-06-08T05:28:40.945Z"
   },
   {
    "duration": 152,
    "start_time": "2025-06-08T05:28:41.183Z"
   },
   {
    "duration": 39,
    "start_time": "2025-06-08T05:28:41.337Z"
   },
   {
    "duration": 49,
    "start_time": "2025-06-08T05:28:41.379Z"
   },
   {
    "duration": 74,
    "start_time": "2025-06-08T05:28:41.430Z"
   },
   {
    "duration": 153,
    "start_time": "2025-06-08T05:28:41.507Z"
   },
   {
    "duration": 9,
    "start_time": "2025-06-08T05:28:41.663Z"
   },
   {
    "duration": 19,
    "start_time": "2025-06-08T05:28:41.675Z"
   },
   {
    "duration": 206,
    "start_time": "2025-06-08T05:28:41.696Z"
   },
   {
    "duration": 386,
    "start_time": "2025-06-08T05:28:41.904Z"
   },
   {
    "duration": 268,
    "start_time": "2025-06-08T05:28:42.292Z"
   },
   {
    "duration": 29,
    "start_time": "2025-06-08T05:28:42.570Z"
   },
   {
    "duration": 7,
    "start_time": "2025-06-08T05:28:42.601Z"
   },
   {
    "duration": 286,
    "start_time": "2025-06-08T05:28:42.613Z"
   },
   {
    "duration": 325,
    "start_time": "2025-06-08T05:28:42.902Z"
   },
   {
    "duration": 29,
    "start_time": "2025-06-08T05:28:43.230Z"
   },
   {
    "duration": 76,
    "start_time": "2025-06-08T05:28:43.272Z"
   },
   {
    "duration": 134,
    "start_time": "2025-06-08T05:28:43.350Z"
   },
   {
    "duration": 20,
    "start_time": "2025-06-08T05:28:43.486Z"
   },
   {
    "duration": 24,
    "start_time": "2025-06-08T05:28:43.508Z"
   },
   {
    "duration": 36,
    "start_time": "2025-06-08T05:28:43.535Z"
   },
   {
    "duration": 44,
    "start_time": "2025-06-08T05:28:43.574Z"
   },
   {
    "duration": 390,
    "start_time": "2025-06-08T05:28:43.620Z"
   },
   {
    "duration": 6142,
    "start_time": "2025-06-08T05:28:44.012Z"
   },
   {
    "duration": 5408,
    "start_time": "2025-06-08T05:28:50.156Z"
   },
   {
    "duration": 27,
    "start_time": "2025-06-08T05:28:55.566Z"
   },
   {
    "duration": 94,
    "start_time": "2025-06-08T05:28:55.595Z"
   },
   {
    "duration": 167,
    "start_time": "2025-06-08T05:28:55.690Z"
   },
   {
    "duration": 141,
    "start_time": "2025-06-08T05:28:55.859Z"
   },
   {
    "duration": 77,
    "start_time": "2025-06-08T05:28:56.002Z"
   },
   {
    "duration": 213,
    "start_time": "2025-06-08T05:28:56.080Z"
   },
   {
    "duration": 60,
    "start_time": "2025-06-08T05:28:56.295Z"
   },
   {
    "duration": 194,
    "start_time": "2025-06-08T05:28:56.356Z"
   },
   {
    "duration": 57,
    "start_time": "2025-06-08T05:28:56.552Z"
   },
   {
    "duration": 203,
    "start_time": "2025-06-08T05:28:56.610Z"
   },
   {
    "duration": 73,
    "start_time": "2025-06-08T05:28:56.815Z"
   },
   {
    "duration": 198,
    "start_time": "2025-06-08T05:28:56.890Z"
   },
   {
    "duration": 122,
    "start_time": "2025-06-08T05:28:57.090Z"
   },
   {
    "duration": 299,
    "start_time": "2025-06-08T05:28:57.214Z"
   },
   {
    "duration": 305,
    "start_time": "2025-06-08T05:28:57.515Z"
   },
   {
    "duration": 301,
    "start_time": "2025-06-08T05:28:57.823Z"
   },
   {
    "duration": 310,
    "start_time": "2025-06-08T05:28:58.126Z"
   },
   {
    "duration": 43,
    "start_time": "2025-06-08T05:28:58.438Z"
   },
   {
    "duration": 111,
    "start_time": "2025-06-08T05:28:58.484Z"
   },
   {
    "duration": 178,
    "start_time": "2025-06-08T05:28:58.597Z"
   },
   {
    "duration": 100,
    "start_time": "2025-06-08T05:28:58.778Z"
   },
   {
    "duration": 125,
    "start_time": "2025-06-08T05:28:58.880Z"
   },
   {
    "duration": 219,
    "start_time": "2025-06-08T05:28:59.007Z"
   },
   {
    "duration": 135,
    "start_time": "2025-06-08T05:28:59.228Z"
   },
   {
    "duration": 58,
    "start_time": "2025-06-08T05:29:14.369Z"
   },
   {
    "duration": 31,
    "start_time": "2025-06-08T05:31:39.693Z"
   },
   {
    "duration": 89,
    "start_time": "2025-06-08T05:32:31.511Z"
   },
   {
    "duration": 89,
    "start_time": "2025-06-08T05:32:41.964Z"
   },
   {
    "duration": 87,
    "start_time": "2025-06-08T05:33:59.404Z"
   },
   {
    "duration": 104,
    "start_time": "2025-06-08T05:34:05.166Z"
   },
   {
    "duration": 1355,
    "start_time": "2025-06-08T10:23:39.521Z"
   },
   {
    "duration": 1799,
    "start_time": "2025-06-08T10:23:40.878Z"
   },
   {
    "duration": 81,
    "start_time": "2025-06-08T10:23:42.678Z"
   },
   {
    "duration": 313,
    "start_time": "2025-06-08T10:23:42.761Z"
   },
   {
    "duration": 20,
    "start_time": "2025-06-08T10:23:43.077Z"
   },
   {
    "duration": 35,
    "start_time": "2025-06-08T10:23:43.099Z"
   },
   {
    "duration": 11,
    "start_time": "2025-06-08T10:23:43.135Z"
   },
   {
    "duration": 33,
    "start_time": "2025-06-08T10:23:43.148Z"
   },
   {
    "duration": 20,
    "start_time": "2025-06-08T10:23:43.183Z"
   },
   {
    "duration": 5853,
    "start_time": "2025-06-08T10:23:43.206Z"
   },
   {
    "duration": 429,
    "start_time": "2025-06-08T10:23:49.062Z"
   },
   {
    "duration": 66,
    "start_time": "2025-06-08T10:23:49.493Z"
   },
   {
    "duration": 128,
    "start_time": "2025-06-08T10:23:49.561Z"
   },
   {
    "duration": 123,
    "start_time": "2025-06-08T10:23:49.691Z"
   },
   {
    "duration": 209,
    "start_time": "2025-06-08T10:23:49.815Z"
   },
   {
    "duration": 136,
    "start_time": "2025-06-08T10:23:50.026Z"
   },
   {
    "duration": 36,
    "start_time": "2025-06-08T10:23:50.164Z"
   },
   {
    "duration": 46,
    "start_time": "2025-06-08T10:23:50.202Z"
   },
   {
    "duration": 65,
    "start_time": "2025-06-08T10:23:50.250Z"
   },
   {
    "duration": 140,
    "start_time": "2025-06-08T10:23:50.317Z"
   },
   {
    "duration": 16,
    "start_time": "2025-06-08T10:23:50.460Z"
   },
   {
    "duration": 84,
    "start_time": "2025-06-08T10:23:50.478Z"
   },
   {
    "duration": 162,
    "start_time": "2025-06-08T10:23:50.565Z"
   },
   {
    "duration": 353,
    "start_time": "2025-06-08T10:23:50.729Z"
   },
   {
    "duration": 249,
    "start_time": "2025-06-08T10:23:51.084Z"
   },
   {
    "duration": 47,
    "start_time": "2025-06-08T10:23:51.335Z"
   },
   {
    "duration": 7,
    "start_time": "2025-06-08T10:23:51.384Z"
   },
   {
    "duration": 226,
    "start_time": "2025-06-08T10:23:51.396Z"
   },
   {
    "duration": 293,
    "start_time": "2025-06-08T10:23:51.624Z"
   },
   {
    "duration": 27,
    "start_time": "2025-06-08T10:23:51.919Z"
   },
   {
    "duration": 115,
    "start_time": "2025-06-08T10:23:51.948Z"
   },
   {
    "duration": 104,
    "start_time": "2025-06-08T10:23:52.065Z"
   },
   {
    "duration": 19,
    "start_time": "2025-06-08T10:23:52.175Z"
   },
   {
    "duration": 25,
    "start_time": "2025-06-08T10:23:52.195Z"
   },
   {
    "duration": 10,
    "start_time": "2025-06-08T10:23:52.222Z"
   },
   {
    "duration": 13,
    "start_time": "2025-06-08T10:23:52.234Z"
   },
   {
    "duration": 405,
    "start_time": "2025-06-08T10:23:52.249Z"
   },
   {
    "duration": 5871,
    "start_time": "2025-06-08T10:23:52.656Z"
   },
   {
    "duration": 5076,
    "start_time": "2025-06-08T10:23:58.528Z"
   },
   {
    "duration": 27,
    "start_time": "2025-06-08T10:24:03.607Z"
   },
   {
    "duration": 125,
    "start_time": "2025-06-08T10:24:03.636Z"
   },
   {
    "duration": 154,
    "start_time": "2025-06-08T10:24:03.764Z"
   },
   {
    "duration": 131,
    "start_time": "2025-06-08T10:24:03.920Z"
   },
   {
    "duration": 70,
    "start_time": "2025-06-08T10:24:04.053Z"
   },
   {
    "duration": 189,
    "start_time": "2025-06-08T10:24:04.124Z"
   },
   {
    "duration": 65,
    "start_time": "2025-06-08T10:24:04.315Z"
   },
   {
    "duration": 166,
    "start_time": "2025-06-08T10:24:04.382Z"
   },
   {
    "duration": 57,
    "start_time": "2025-06-08T10:24:04.550Z"
   },
   {
    "duration": 248,
    "start_time": "2025-06-08T10:24:04.609Z"
   },
   {
    "duration": 71,
    "start_time": "2025-06-08T10:24:04.860Z"
   },
   {
    "duration": 192,
    "start_time": "2025-06-08T10:24:04.933Z"
   },
   {
    "duration": 118,
    "start_time": "2025-06-08T10:24:05.127Z"
   },
   {
    "duration": 284,
    "start_time": "2025-06-08T10:24:05.248Z"
   },
   {
    "duration": 296,
    "start_time": "2025-06-08T10:24:05.534Z"
   },
   {
    "duration": 289,
    "start_time": "2025-06-08T10:24:05.832Z"
   },
   {
    "duration": 290,
    "start_time": "2025-06-08T10:24:06.123Z"
   },
   {
    "duration": 29,
    "start_time": "2025-06-08T10:24:06.414Z"
   },
   {
    "duration": 181,
    "start_time": "2025-06-08T10:24:06.445Z"
   },
   {
    "duration": 169,
    "start_time": "2025-06-08T10:24:06.628Z"
   },
   {
    "duration": 82,
    "start_time": "2025-06-08T10:24:06.798Z"
   },
   {
    "duration": 115,
    "start_time": "2025-06-08T10:24:06.881Z"
   },
   {
    "duration": 195,
    "start_time": "2025-06-08T10:24:06.998Z"
   },
   {
    "duration": 109,
    "start_time": "2025-06-08T10:24:07.195Z"
   },
   {
    "duration": 64,
    "start_time": "2025-06-08T10:32:33.698Z"
   },
   {
    "duration": 58,
    "start_time": "2025-06-08T10:50:44.106Z"
   },
   {
    "duration": 1306,
    "start_time": "2025-06-08T20:08:19.342Z"
   },
   {
    "duration": 2124,
    "start_time": "2025-06-08T20:08:20.650Z"
   },
   {
    "duration": 74,
    "start_time": "2025-06-08T20:08:22.776Z"
   },
   {
    "duration": 448,
    "start_time": "2025-06-08T20:08:22.860Z"
   },
   {
    "duration": 16,
    "start_time": "2025-06-08T20:08:23.309Z"
   },
   {
    "duration": 32,
    "start_time": "2025-06-08T20:08:23.326Z"
   },
   {
    "duration": 10,
    "start_time": "2025-06-08T20:08:23.361Z"
   },
   {
    "duration": 20,
    "start_time": "2025-06-08T20:08:23.372Z"
   },
   {
    "duration": 17,
    "start_time": "2025-06-08T20:08:23.394Z"
   },
   {
    "duration": 5193,
    "start_time": "2025-06-08T20:08:23.414Z"
   },
   {
    "duration": 386,
    "start_time": "2025-06-08T20:08:28.609Z"
   },
   {
    "duration": 73,
    "start_time": "2025-06-08T20:08:28.997Z"
   },
   {
    "duration": 106,
    "start_time": "2025-06-08T20:08:29.072Z"
   },
   {
    "duration": 118,
    "start_time": "2025-06-08T20:08:29.179Z"
   },
   {
    "duration": 196,
    "start_time": "2025-06-08T20:08:29.299Z"
   },
   {
    "duration": 126,
    "start_time": "2025-06-08T20:08:29.497Z"
   },
   {
    "duration": 26,
    "start_time": "2025-06-08T20:08:29.624Z"
   },
   {
    "duration": 40,
    "start_time": "2025-06-08T20:08:29.661Z"
   },
   {
    "duration": 63,
    "start_time": "2025-06-08T20:08:29.702Z"
   },
   {
    "duration": 126,
    "start_time": "2025-06-08T20:08:29.767Z"
   },
   {
    "duration": 4,
    "start_time": "2025-06-08T20:08:29.894Z"
   },
   {
    "duration": 23,
    "start_time": "2025-06-08T20:08:29.899Z"
   },
   {
    "duration": 158,
    "start_time": "2025-06-08T20:08:29.923Z"
   },
   {
    "duration": 302,
    "start_time": "2025-06-08T20:08:30.083Z"
   },
   {
    "duration": 220,
    "start_time": "2025-06-08T20:08:30.387Z"
   },
   {
    "duration": 26,
    "start_time": "2025-06-08T20:08:30.609Z"
   },
   {
    "duration": 36,
    "start_time": "2025-06-08T20:08:30.636Z"
   },
   {
    "duration": 219,
    "start_time": "2025-06-08T20:08:30.677Z"
   },
   {
    "duration": 272,
    "start_time": "2025-06-08T20:08:30.897Z"
   },
   {
    "duration": 24,
    "start_time": "2025-06-08T20:08:31.171Z"
   },
   {
    "duration": 80,
    "start_time": "2025-06-08T20:08:31.197Z"
   },
   {
    "duration": 101,
    "start_time": "2025-06-08T20:08:31.278Z"
   },
   {
    "duration": 16,
    "start_time": "2025-06-08T20:08:31.380Z"
   },
   {
    "duration": 45,
    "start_time": "2025-06-08T20:08:31.398Z"
   },
   {
    "duration": 8,
    "start_time": "2025-06-08T20:08:31.445Z"
   },
   {
    "duration": 41,
    "start_time": "2025-06-08T20:08:31.455Z"
   },
   {
    "duration": 378,
    "start_time": "2025-06-08T20:08:31.498Z"
   },
   {
    "duration": 5304,
    "start_time": "2025-06-08T20:08:31.878Z"
   },
   {
    "duration": 4562,
    "start_time": "2025-06-08T20:08:37.184Z"
   },
   {
    "duration": 27,
    "start_time": "2025-06-08T20:08:41.747Z"
   },
   {
    "duration": 67,
    "start_time": "2025-06-08T20:08:41.775Z"
   },
   {
    "duration": 158,
    "start_time": "2025-06-08T20:08:41.843Z"
   },
   {
    "duration": 113,
    "start_time": "2025-06-08T20:08:42.002Z"
   },
   {
    "duration": 60,
    "start_time": "2025-06-08T20:08:42.116Z"
   },
   {
    "duration": 159,
    "start_time": "2025-06-08T20:08:42.178Z"
   },
   {
    "duration": 59,
    "start_time": "2025-06-08T20:08:42.338Z"
   },
   {
    "duration": 144,
    "start_time": "2025-06-08T20:08:42.399Z"
   },
   {
    "duration": 42,
    "start_time": "2025-06-08T20:08:42.545Z"
   },
   {
    "duration": 159,
    "start_time": "2025-06-08T20:08:42.589Z"
   },
   {
    "duration": 59,
    "start_time": "2025-06-08T20:08:42.750Z"
   },
   {
    "duration": 172,
    "start_time": "2025-06-08T20:08:42.810Z"
   },
   {
    "duration": 105,
    "start_time": "2025-06-08T20:08:42.984Z"
   },
   {
    "duration": 284,
    "start_time": "2025-06-08T20:08:43.090Z"
   },
   {
    "duration": 286,
    "start_time": "2025-06-08T20:08:43.376Z"
   },
   {
    "duration": 249,
    "start_time": "2025-06-08T20:08:43.664Z"
   },
   {
    "duration": 280,
    "start_time": "2025-06-08T20:08:43.915Z"
   },
   {
    "duration": 27,
    "start_time": "2025-06-08T20:08:44.197Z"
   },
   {
    "duration": 108,
    "start_time": "2025-06-08T20:08:44.226Z"
   },
   {
    "duration": 139,
    "start_time": "2025-06-08T20:08:44.335Z"
   },
   {
    "duration": 69,
    "start_time": "2025-06-08T20:08:44.476Z"
   },
   {
    "duration": 117,
    "start_time": "2025-06-08T20:08:44.547Z"
   },
   {
    "duration": 179,
    "start_time": "2025-06-08T20:08:44.665Z"
   },
   {
    "duration": 60,
    "start_time": "2025-06-08T20:08:44.846Z"
   },
   {
    "duration": 110,
    "start_time": "2025-06-08T20:24:07.118Z"
   },
   {
    "duration": 23,
    "start_time": "2025-06-08T20:44:17.996Z"
   },
   {
    "duration": 31,
    "start_time": "2025-06-08T20:55:55.966Z"
   },
   {
    "duration": 4,
    "start_time": "2025-06-08T20:56:14.980Z"
   },
   {
    "duration": 33,
    "start_time": "2025-06-08T20:56:40.808Z"
   },
   {
    "duration": 7,
    "start_time": "2025-06-08T20:56:41.542Z"
   },
   {
    "duration": 7,
    "start_time": "2025-06-08T20:56:48.052Z"
   },
   {
    "duration": 9,
    "start_time": "2025-06-08T20:59:44.759Z"
   },
   {
    "duration": 86,
    "start_time": "2025-06-08T21:01:34.646Z"
   },
   {
    "duration": 10,
    "start_time": "2025-06-08T21:33:20.582Z"
   },
   {
    "duration": 11,
    "start_time": "2025-06-08T21:35:13.529Z"
   },
   {
    "duration": 162,
    "start_time": "2025-06-08T21:39:52.139Z"
   },
   {
    "duration": 157,
    "start_time": "2025-06-08T21:40:18.860Z"
   },
   {
    "duration": 150,
    "start_time": "2025-06-08T21:40:28.910Z"
   },
   {
    "duration": 140,
    "start_time": "2025-06-08T22:03:25.738Z"
   },
   {
    "duration": 94,
    "start_time": "2025-06-09T04:48:06.010Z"
   },
   {
    "duration": 3,
    "start_time": "2025-06-09T04:50:00.368Z"
   },
   {
    "duration": 58,
    "start_time": "2025-06-09T04:50:07.455Z"
   },
   {
    "duration": 1132,
    "start_time": "2025-06-09T04:52:46.360Z"
   },
   {
    "duration": 1855,
    "start_time": "2025-06-09T04:52:47.495Z"
   },
   {
    "duration": 75,
    "start_time": "2025-06-09T04:52:49.352Z"
   },
   {
    "duration": 323,
    "start_time": "2025-06-09T04:52:49.429Z"
   },
   {
    "duration": 18,
    "start_time": "2025-06-09T04:52:49.754Z"
   },
   {
    "duration": 241,
    "start_time": "2025-06-09T04:52:49.774Z"
   },
   {
    "duration": 10,
    "start_time": "2025-06-09T04:52:50.017Z"
   },
   {
    "duration": 25,
    "start_time": "2025-06-09T04:52:50.028Z"
   },
   {
    "duration": 21,
    "start_time": "2025-06-09T04:52:50.054Z"
   },
   {
    "duration": 5116,
    "start_time": "2025-06-09T04:52:50.078Z"
   },
   {
    "duration": 400,
    "start_time": "2025-06-09T04:52:55.196Z"
   },
   {
    "duration": 79,
    "start_time": "2025-06-09T04:52:55.598Z"
   },
   {
    "duration": 116,
    "start_time": "2025-06-09T04:52:55.679Z"
   },
   {
    "duration": 115,
    "start_time": "2025-06-09T04:52:55.797Z"
   },
   {
    "duration": 200,
    "start_time": "2025-06-09T04:52:55.915Z"
   },
   {
    "duration": 129,
    "start_time": "2025-06-09T04:52:56.117Z"
   },
   {
    "duration": 30,
    "start_time": "2025-06-09T04:52:56.248Z"
   },
   {
    "duration": 43,
    "start_time": "2025-06-09T04:52:56.280Z"
   },
   {
    "duration": 64,
    "start_time": "2025-06-09T04:52:56.326Z"
   },
   {
    "duration": 131,
    "start_time": "2025-06-09T04:52:56.391Z"
   },
   {
    "duration": 4,
    "start_time": "2025-06-09T04:52:56.523Z"
   },
   {
    "duration": 17,
    "start_time": "2025-06-09T04:52:56.528Z"
   },
   {
    "duration": 171,
    "start_time": "2025-06-09T04:52:56.546Z"
   },
   {
    "duration": 330,
    "start_time": "2025-06-09T04:52:56.719Z"
   },
   {
    "duration": 219,
    "start_time": "2025-06-09T04:52:57.050Z"
   },
   {
    "duration": 26,
    "start_time": "2025-06-09T04:52:57.271Z"
   },
   {
    "duration": 6,
    "start_time": "2025-06-09T04:52:57.299Z"
   },
   {
    "duration": 230,
    "start_time": "2025-06-09T04:52:57.310Z"
   },
   {
    "duration": 278,
    "start_time": "2025-06-09T04:52:57.541Z"
   },
   {
    "duration": 25,
    "start_time": "2025-06-09T04:52:57.821Z"
   },
   {
    "duration": 81,
    "start_time": "2025-06-09T04:52:57.848Z"
   },
   {
    "duration": 110,
    "start_time": "2025-06-09T04:52:57.931Z"
   },
   {
    "duration": 21,
    "start_time": "2025-06-09T04:52:58.043Z"
   },
   {
    "duration": 22,
    "start_time": "2025-06-09T04:52:58.065Z"
   },
   {
    "duration": 10,
    "start_time": "2025-06-09T04:52:58.088Z"
   },
   {
    "duration": 18,
    "start_time": "2025-06-09T04:52:58.099Z"
   },
   {
    "duration": 367,
    "start_time": "2025-06-09T04:52:58.119Z"
   },
   {
    "duration": 5360,
    "start_time": "2025-06-09T04:52:58.488Z"
   },
   {
    "duration": 4661,
    "start_time": "2025-06-09T04:53:03.850Z"
   },
   {
    "duration": 24,
    "start_time": "2025-06-09T04:53:08.513Z"
   },
   {
    "duration": 83,
    "start_time": "2025-06-09T04:53:08.538Z"
   },
   {
    "duration": 153,
    "start_time": "2025-06-09T04:53:08.622Z"
   },
   {
    "duration": 115,
    "start_time": "2025-06-09T04:53:08.776Z"
   },
   {
    "duration": 54,
    "start_time": "2025-06-09T04:53:08.892Z"
   },
   {
    "duration": 175,
    "start_time": "2025-06-09T04:53:08.948Z"
   },
   {
    "duration": 59,
    "start_time": "2025-06-09T04:53:09.125Z"
   },
   {
    "duration": 168,
    "start_time": "2025-06-09T04:53:09.185Z"
   },
   {
    "duration": 38,
    "start_time": "2025-06-09T04:53:09.355Z"
   },
   {
    "duration": 177,
    "start_time": "2025-06-09T04:53:09.394Z"
   },
   {
    "duration": 55,
    "start_time": "2025-06-09T04:53:09.572Z"
   },
   {
    "duration": 262,
    "start_time": "2025-06-09T04:53:09.629Z"
   },
   {
    "duration": 97,
    "start_time": "2025-06-09T04:53:09.893Z"
   },
   {
    "duration": 255,
    "start_time": "2025-06-09T04:53:09.991Z"
   },
   {
    "duration": 257,
    "start_time": "2025-06-09T04:53:10.248Z"
   },
   {
    "duration": 255,
    "start_time": "2025-06-09T04:53:10.507Z"
   },
   {
    "duration": 250,
    "start_time": "2025-06-09T04:53:10.763Z"
   },
   {
    "duration": 28,
    "start_time": "2025-06-09T04:53:11.014Z"
   },
   {
    "duration": 103,
    "start_time": "2025-06-09T04:53:11.044Z"
   },
   {
    "duration": 130,
    "start_time": "2025-06-09T04:53:11.148Z"
   },
   {
    "duration": 66,
    "start_time": "2025-06-09T04:53:11.280Z"
   },
   {
    "duration": 114,
    "start_time": "2025-06-09T04:53:11.347Z"
   },
   {
    "duration": 110,
    "start_time": "2025-06-09T04:53:11.462Z"
   },
   {
    "duration": 122,
    "start_time": "2025-06-09T04:53:11.573Z"
   },
   {
    "duration": 32,
    "start_time": "2025-06-09T04:53:11.696Z"
   },
   {
    "duration": 79,
    "start_time": "2025-06-09T04:53:11.729Z"
   },
   {
    "duration": 10,
    "start_time": "2025-06-09T04:53:11.809Z"
   },
   {
    "duration": 156,
    "start_time": "2025-06-09T04:53:11.820Z"
   },
   {
    "duration": 11,
    "start_time": "2025-06-09T04:53:11.977Z"
   },
   {
    "duration": 156,
    "start_time": "2025-06-09T04:53:11.989Z"
   },
   {
    "duration": 139,
    "start_time": "2025-06-09T04:53:12.147Z"
   },
   {
    "duration": 147,
    "start_time": "2025-06-09T04:53:59.975Z"
   },
   {
    "duration": 142,
    "start_time": "2025-06-09T04:54:14.720Z"
   },
   {
    "duration": 11,
    "start_time": "2025-06-09T04:54:31.016Z"
   },
   {
    "duration": 142,
    "start_time": "2025-06-09T04:55:31.125Z"
   },
   {
    "duration": 50,
    "start_time": "2025-06-09T04:56:06.291Z"
   },
   {
    "duration": 33,
    "start_time": "2025-06-09T04:58:51.077Z"
   },
   {
    "duration": 1036,
    "start_time": "2025-06-09T04:58:54.209Z"
   },
   {
    "duration": 1367,
    "start_time": "2025-06-09T04:59:31.051Z"
   },
   {
    "duration": 33,
    "start_time": "2025-06-09T04:59:37.706Z"
   },
   {
    "duration": 80,
    "start_time": "2025-06-09T04:59:39.585Z"
   },
   {
    "duration": 15,
    "start_time": "2025-06-09T05:10:44.501Z"
   },
   {
    "duration": 45,
    "start_time": "2025-06-09T05:19:49.470Z"
   },
   {
    "duration": 74,
    "start_time": "2025-06-09T05:25:41.502Z"
   },
   {
    "duration": 1101,
    "start_time": "2025-06-09T05:26:52.879Z"
   },
   {
    "duration": 78,
    "start_time": "2025-06-09T05:27:13.395Z"
   },
   {
    "duration": 84,
    "start_time": "2025-06-09T05:27:15.011Z"
   },
   {
    "duration": 84,
    "start_time": "2025-06-09T05:29:34.613Z"
   },
   {
    "duration": 78,
    "start_time": "2025-06-09T05:30:09.045Z"
   },
   {
    "duration": 12,
    "start_time": "2025-06-09T05:31:47.996Z"
   },
   {
    "duration": 139,
    "start_time": "2025-06-09T05:34:52.014Z"
   },
   {
    "duration": 12,
    "start_time": "2025-06-09T05:35:53.305Z"
   },
   {
    "duration": 96,
    "start_time": "2025-06-09T05:37:40.322Z"
   },
   {
    "duration": 16,
    "start_time": "2025-06-09T05:37:49.020Z"
   },
   {
    "duration": 17,
    "start_time": "2025-06-09T05:38:02.611Z"
   },
   {
    "duration": 3,
    "start_time": "2025-06-09T05:38:25.783Z"
   },
   {
    "duration": 1095,
    "start_time": "2025-06-09T06:17:38.586Z"
   },
   {
    "duration": 1816,
    "start_time": "2025-06-09T06:17:39.683Z"
   },
   {
    "duration": 75,
    "start_time": "2025-06-09T06:17:41.501Z"
   },
   {
    "duration": 367,
    "start_time": "2025-06-09T06:17:41.578Z"
   },
   {
    "duration": 20,
    "start_time": "2025-06-09T06:17:41.947Z"
   },
   {
    "duration": 246,
    "start_time": "2025-06-09T06:17:41.968Z"
   },
   {
    "duration": 10,
    "start_time": "2025-06-09T06:17:42.215Z"
   },
   {
    "duration": 125,
    "start_time": "2025-06-09T06:17:42.227Z"
   },
   {
    "duration": 18,
    "start_time": "2025-06-09T06:17:42.353Z"
   },
   {
    "duration": 5278,
    "start_time": "2025-06-09T06:17:42.373Z"
   },
   {
    "duration": 393,
    "start_time": "2025-06-09T06:17:47.661Z"
   },
   {
    "duration": 64,
    "start_time": "2025-06-09T06:17:48.055Z"
   },
   {
    "duration": 155,
    "start_time": "2025-06-09T06:17:48.121Z"
   },
   {
    "duration": 140,
    "start_time": "2025-06-09T06:17:48.278Z"
   },
   {
    "duration": 192,
    "start_time": "2025-06-09T06:17:48.420Z"
   },
   {
    "duration": 128,
    "start_time": "2025-06-09T06:17:48.614Z"
   },
   {
    "duration": 30,
    "start_time": "2025-06-09T06:17:48.744Z"
   },
   {
    "duration": 43,
    "start_time": "2025-06-09T06:17:48.776Z"
   },
   {
    "duration": 69,
    "start_time": "2025-06-09T06:17:48.820Z"
   },
   {
    "duration": 129,
    "start_time": "2025-06-09T06:17:48.890Z"
   },
   {
    "duration": 3,
    "start_time": "2025-06-09T06:17:49.021Z"
   },
   {
    "duration": 24,
    "start_time": "2025-06-09T06:17:49.026Z"
   },
   {
    "duration": 165,
    "start_time": "2025-06-09T06:17:49.051Z"
   },
   {
    "duration": 308,
    "start_time": "2025-06-09T06:17:49.218Z"
   },
   {
    "duration": 220,
    "start_time": "2025-06-09T06:17:49.528Z"
   },
   {
    "duration": 28,
    "start_time": "2025-06-09T06:17:49.749Z"
   },
   {
    "duration": 4,
    "start_time": "2025-06-09T06:17:49.779Z"
   },
   {
    "duration": 223,
    "start_time": "2025-06-09T06:17:49.787Z"
   },
   {
    "duration": 286,
    "start_time": "2025-06-09T06:17:50.012Z"
   },
   {
    "duration": 23,
    "start_time": "2025-06-09T06:17:50.300Z"
   },
   {
    "duration": 92,
    "start_time": "2025-06-09T06:17:50.325Z"
   },
   {
    "duration": 100,
    "start_time": "2025-06-09T06:17:50.418Z"
   },
   {
    "duration": 15,
    "start_time": "2025-06-09T06:17:50.520Z"
   },
   {
    "duration": 40,
    "start_time": "2025-06-09T06:17:50.537Z"
   },
   {
    "duration": 9,
    "start_time": "2025-06-09T06:17:50.579Z"
   },
   {
    "duration": 14,
    "start_time": "2025-06-09T06:17:50.589Z"
   },
   {
    "duration": 382,
    "start_time": "2025-06-09T06:17:50.604Z"
   },
   {
    "duration": 5567,
    "start_time": "2025-06-09T06:17:50.987Z"
   },
   {
    "duration": 4713,
    "start_time": "2025-06-09T06:17:56.560Z"
   },
   {
    "duration": 22,
    "start_time": "2025-06-09T06:18:01.275Z"
   },
   {
    "duration": 112,
    "start_time": "2025-06-09T06:18:01.298Z"
   },
   {
    "duration": 150,
    "start_time": "2025-06-09T06:18:01.411Z"
   },
   {
    "duration": 117,
    "start_time": "2025-06-09T06:18:01.563Z"
   },
   {
    "duration": 59,
    "start_time": "2025-06-09T06:18:01.682Z"
   },
   {
    "duration": 176,
    "start_time": "2025-06-09T06:18:01.742Z"
   },
   {
    "duration": 60,
    "start_time": "2025-06-09T06:18:01.920Z"
   },
   {
    "duration": 310,
    "start_time": "2025-06-09T06:18:01.982Z"
   },
   {
    "duration": 39,
    "start_time": "2025-06-09T06:18:02.294Z"
   },
   {
    "duration": 179,
    "start_time": "2025-06-09T06:18:02.334Z"
   },
   {
    "duration": 68,
    "start_time": "2025-06-09T06:18:02.515Z"
   },
   {
    "duration": 167,
    "start_time": "2025-06-09T06:18:02.584Z"
   },
   {
    "duration": 100,
    "start_time": "2025-06-09T06:18:02.752Z"
   },
   {
    "duration": 261,
    "start_time": "2025-06-09T06:18:02.861Z"
   },
   {
    "duration": 257,
    "start_time": "2025-06-09T06:18:03.123Z"
   },
   {
    "duration": 247,
    "start_time": "2025-06-09T06:18:03.381Z"
   },
   {
    "duration": 249,
    "start_time": "2025-06-09T06:18:03.629Z"
   },
   {
    "duration": 27,
    "start_time": "2025-06-09T06:18:03.879Z"
   },
   {
    "duration": 107,
    "start_time": "2025-06-09T06:18:03.907Z"
   },
   {
    "duration": 136,
    "start_time": "2025-06-09T06:18:04.015Z"
   },
   {
    "duration": 70,
    "start_time": "2025-06-09T06:18:04.153Z"
   },
   {
    "duration": 106,
    "start_time": "2025-06-09T06:18:04.224Z"
   },
   {
    "duration": 124,
    "start_time": "2025-06-09T06:18:04.332Z"
   },
   {
    "duration": 18,
    "start_time": "2025-06-09T06:18:04.461Z"
   },
   {
    "duration": 32,
    "start_time": "2025-06-09T06:18:04.480Z"
   },
   {
    "duration": 97,
    "start_time": "2025-06-09T06:18:04.514Z"
   },
   {
    "duration": 11,
    "start_time": "2025-06-09T06:18:04.613Z"
   },
   {
    "duration": 172,
    "start_time": "2025-06-09T06:18:04.625Z"
   },
   {
    "duration": 11,
    "start_time": "2025-06-09T06:18:04.799Z"
   },
   {
    "duration": 166,
    "start_time": "2025-06-09T06:18:04.811Z"
   },
   {
    "duration": 14,
    "start_time": "2025-06-09T06:18:04.978Z"
   },
   {
    "duration": 46,
    "start_time": "2025-06-09T06:18:04.993Z"
   },
   {
    "duration": 93,
    "start_time": "2025-06-09T06:18:05.041Z"
   },
   {
    "duration": 81,
    "start_time": "2025-06-09T06:18:05.136Z"
   },
   {
    "duration": 128,
    "start_time": "2025-06-09T06:18:05.218Z"
   },
   {
    "duration": 173,
    "start_time": "2025-06-09T06:18:05.347Z"
   },
   {
    "duration": 12,
    "start_time": "2025-06-09T06:18:05.522Z"
   },
   {
    "duration": 136,
    "start_time": "2025-06-09T06:18:05.535Z"
   },
   {
    "duration": 1482,
    "start_time": "2025-06-09T19:43:38.113Z"
   },
   {
    "duration": 2497,
    "start_time": "2025-06-09T19:43:39.597Z"
   },
   {
    "duration": 98,
    "start_time": "2025-06-09T19:43:42.096Z"
   },
   {
    "duration": 349,
    "start_time": "2025-06-09T19:43:42.196Z"
   },
   {
    "duration": 23,
    "start_time": "2025-06-09T19:43:42.547Z"
   },
   {
    "duration": 364,
    "start_time": "2025-06-09T19:43:42.572Z"
   },
   {
    "duration": 11,
    "start_time": "2025-06-09T19:43:42.938Z"
   },
   {
    "duration": 22,
    "start_time": "2025-06-09T19:43:42.951Z"
   },
   {
    "duration": 41,
    "start_time": "2025-06-09T19:43:42.975Z"
   },
   {
    "duration": 6336,
    "start_time": "2025-06-09T19:43:43.018Z"
   },
   {
    "duration": 482,
    "start_time": "2025-06-09T19:43:49.360Z"
   },
   {
    "duration": 77,
    "start_time": "2025-06-09T19:43:49.844Z"
   },
   {
    "duration": 139,
    "start_time": "2025-06-09T19:43:49.923Z"
   },
   {
    "duration": 128,
    "start_time": "2025-06-09T19:43:50.066Z"
   },
   {
    "duration": 243,
    "start_time": "2025-06-09T19:43:50.195Z"
   },
   {
    "duration": 152,
    "start_time": "2025-06-09T19:43:50.440Z"
   },
   {
    "duration": 31,
    "start_time": "2025-06-09T19:43:50.594Z"
   },
   {
    "duration": 66,
    "start_time": "2025-06-09T19:43:50.627Z"
   },
   {
    "duration": 69,
    "start_time": "2025-06-09T19:43:50.696Z"
   },
   {
    "duration": 144,
    "start_time": "2025-06-09T19:43:50.767Z"
   },
   {
    "duration": 5,
    "start_time": "2025-06-09T19:43:50.912Z"
   },
   {
    "duration": 43,
    "start_time": "2025-06-09T19:43:50.919Z"
   },
   {
    "duration": 200,
    "start_time": "2025-06-09T19:43:50.964Z"
   },
   {
    "duration": 364,
    "start_time": "2025-06-09T19:43:51.166Z"
   },
   {
    "duration": 264,
    "start_time": "2025-06-09T19:43:51.532Z"
   },
   {
    "duration": 31,
    "start_time": "2025-06-09T19:43:51.798Z"
   },
   {
    "duration": 7,
    "start_time": "2025-06-09T19:43:51.831Z"
   },
   {
    "duration": 251,
    "start_time": "2025-06-09T19:43:51.860Z"
   },
   {
    "duration": 337,
    "start_time": "2025-06-09T19:43:52.113Z"
   },
   {
    "duration": 32,
    "start_time": "2025-06-09T19:43:52.452Z"
   },
   {
    "duration": 95,
    "start_time": "2025-06-09T19:43:52.486Z"
   },
   {
    "duration": 131,
    "start_time": "2025-06-09T19:43:52.583Z"
   },
   {
    "duration": 22,
    "start_time": "2025-06-09T19:43:52.716Z"
   },
   {
    "duration": 39,
    "start_time": "2025-06-09T19:43:52.740Z"
   },
   {
    "duration": 12,
    "start_time": "2025-06-09T19:43:52.781Z"
   },
   {
    "duration": 17,
    "start_time": "2025-06-09T19:43:52.795Z"
   },
   {
    "duration": 467,
    "start_time": "2025-06-09T19:43:52.814Z"
   },
   {
    "duration": 6364,
    "start_time": "2025-06-09T19:43:53.284Z"
   },
   {
    "duration": 5373,
    "start_time": "2025-06-09T19:43:59.650Z"
   },
   {
    "duration": 35,
    "start_time": "2025-06-09T19:44:05.025Z"
   },
   {
    "duration": 78,
    "start_time": "2025-06-09T19:44:05.066Z"
   },
   {
    "duration": 178,
    "start_time": "2025-06-09T19:44:05.146Z"
   },
   {
    "duration": 142,
    "start_time": "2025-06-09T19:44:05.326Z"
   },
   {
    "duration": 64,
    "start_time": "2025-06-09T19:44:05.471Z"
   },
   {
    "duration": 247,
    "start_time": "2025-06-09T19:44:05.537Z"
   },
   {
    "duration": 77,
    "start_time": "2025-06-09T19:44:05.786Z"
   },
   {
    "duration": 181,
    "start_time": "2025-06-09T19:44:05.865Z"
   },
   {
    "duration": 50,
    "start_time": "2025-06-09T19:44:06.047Z"
   },
   {
    "duration": 204,
    "start_time": "2025-06-09T19:44:06.099Z"
   },
   {
    "duration": 73,
    "start_time": "2025-06-09T19:44:06.305Z"
   },
   {
    "duration": 203,
    "start_time": "2025-06-09T19:44:06.380Z"
   },
   {
    "duration": 123,
    "start_time": "2025-06-09T19:44:06.585Z"
   },
   {
    "duration": 317,
    "start_time": "2025-06-09T19:44:06.710Z"
   },
   {
    "duration": 438,
    "start_time": "2025-06-09T19:44:07.028Z"
   },
   {
    "duration": 298,
    "start_time": "2025-06-09T19:44:07.468Z"
   },
   {
    "duration": 303,
    "start_time": "2025-06-09T19:44:07.768Z"
   },
   {
    "duration": 31,
    "start_time": "2025-06-09T19:44:08.073Z"
   },
   {
    "duration": 118,
    "start_time": "2025-06-09T19:44:08.106Z"
   },
   {
    "duration": 157,
    "start_time": "2025-06-09T19:44:08.226Z"
   },
   {
    "duration": 86,
    "start_time": "2025-06-09T19:44:08.385Z"
   },
   {
    "duration": 116,
    "start_time": "2025-06-09T19:44:08.473Z"
   },
   {
    "duration": 132,
    "start_time": "2025-06-09T19:44:08.591Z"
   },
   {
    "duration": 19,
    "start_time": "2025-06-09T19:44:08.725Z"
   },
   {
    "duration": 46,
    "start_time": "2025-06-09T19:44:08.746Z"
   },
   {
    "duration": 110,
    "start_time": "2025-06-09T19:44:08.793Z"
   },
   {
    "duration": 23,
    "start_time": "2025-06-09T19:44:08.905Z"
   },
   {
    "duration": 196,
    "start_time": "2025-06-09T19:44:08.929Z"
   },
   {
    "duration": 12,
    "start_time": "2025-06-09T19:44:09.126Z"
   },
   {
    "duration": 183,
    "start_time": "2025-06-09T19:44:09.140Z"
   },
   {
    "duration": 16,
    "start_time": "2025-06-09T19:44:09.325Z"
   },
   {
    "duration": 70,
    "start_time": "2025-06-09T19:44:09.343Z"
   },
   {
    "duration": 99,
    "start_time": "2025-06-09T19:44:09.415Z"
   },
   {
    "duration": 94,
    "start_time": "2025-06-09T19:44:09.516Z"
   },
   {
    "duration": 14,
    "start_time": "2025-06-09T19:44:09.611Z"
   },
   {
    "duration": 183,
    "start_time": "2025-06-09T19:44:09.627Z"
   },
   {
    "duration": 14,
    "start_time": "2025-06-09T19:44:09.812Z"
   },
   {
    "duration": 39,
    "start_time": "2025-06-09T19:44:09.828Z"
   },
   {
    "duration": 107,
    "start_time": "2025-06-09T19:44:13.014Z"
   },
   {
    "duration": 9,
    "start_time": "2025-06-09T19:44:17.366Z"
   },
   {
    "duration": 230,
    "start_time": "2025-06-09T19:44:48.853Z"
   },
   {
    "duration": 1470,
    "start_time": "2025-06-10T05:20:49.732Z"
   },
   {
    "duration": 1666,
    "start_time": "2025-06-10T05:20:51.204Z"
   },
   {
    "duration": 90,
    "start_time": "2025-06-10T05:20:52.871Z"
   },
   {
    "duration": 315,
    "start_time": "2025-06-10T05:20:52.963Z"
   },
   {
    "duration": 27,
    "start_time": "2025-06-10T05:20:53.280Z"
   },
   {
    "duration": 83,
    "start_time": "2025-06-10T05:20:53.309Z"
   },
   {
    "duration": 14,
    "start_time": "2025-06-10T05:20:53.394Z"
   },
   {
    "duration": 18,
    "start_time": "2025-06-10T05:20:53.410Z"
   },
   {
    "duration": 18,
    "start_time": "2025-06-10T05:20:53.429Z"
   },
   {
    "duration": 5689,
    "start_time": "2025-06-10T05:20:53.449Z"
   },
   {
    "duration": 424,
    "start_time": "2025-06-10T05:20:59.140Z"
   },
   {
    "duration": 62,
    "start_time": "2025-06-10T05:20:59.566Z"
   },
   {
    "duration": 128,
    "start_time": "2025-06-10T05:20:59.630Z"
   },
   {
    "duration": 220,
    "start_time": "2025-06-10T05:20:59.760Z"
   },
   {
    "duration": 141,
    "start_time": "2025-06-10T05:20:59.982Z"
   },
   {
    "duration": 37,
    "start_time": "2025-06-10T05:21:00.125Z"
   },
   {
    "duration": 186,
    "start_time": "2025-06-10T05:21:00.164Z"
   },
   {
    "duration": 123,
    "start_time": "2025-06-10T05:21:00.351Z"
   },
   {
    "duration": 4,
    "start_time": "2025-06-10T05:21:00.476Z"
   },
   {
    "duration": 25,
    "start_time": "2025-06-10T05:21:00.482Z"
   },
   {
    "duration": 174,
    "start_time": "2025-06-10T05:21:00.509Z"
   },
   {
    "duration": 335,
    "start_time": "2025-06-10T05:21:00.685Z"
   },
   {
    "duration": 251,
    "start_time": "2025-06-10T05:21:01.021Z"
   },
   {
    "duration": 26,
    "start_time": "2025-06-10T05:21:01.274Z"
   },
   {
    "duration": 5,
    "start_time": "2025-06-10T05:21:01.302Z"
   },
   {
    "duration": 265,
    "start_time": "2025-06-10T05:21:01.308Z"
   },
   {
    "duration": 335,
    "start_time": "2025-06-10T05:21:01.576Z"
   },
   {
    "duration": 27,
    "start_time": "2025-06-10T05:21:01.915Z"
   },
   {
    "duration": 156,
    "start_time": "2025-06-10T05:21:01.943Z"
   },
   {
    "duration": 108,
    "start_time": "2025-06-10T05:21:02.101Z"
   },
   {
    "duration": 17,
    "start_time": "2025-06-10T05:21:02.210Z"
   },
   {
    "duration": 75,
    "start_time": "2025-06-10T05:21:02.228Z"
   },
   {
    "duration": 10,
    "start_time": "2025-06-10T05:21:02.304Z"
   },
   {
    "duration": 28,
    "start_time": "2025-06-10T05:21:02.316Z"
   },
   {
    "duration": 404,
    "start_time": "2025-06-10T05:21:02.346Z"
   },
   {
    "duration": 5708,
    "start_time": "2025-06-10T05:21:02.751Z"
   },
   {
    "duration": 4947,
    "start_time": "2025-06-10T05:21:08.460Z"
   },
   {
    "duration": 25,
    "start_time": "2025-06-10T05:21:13.408Z"
   },
   {
    "duration": 85,
    "start_time": "2025-06-10T05:21:13.434Z"
   },
   {
    "duration": 159,
    "start_time": "2025-06-10T05:21:13.521Z"
   },
   {
    "duration": 130,
    "start_time": "2025-06-10T05:21:13.682Z"
   },
   {
    "duration": 70,
    "start_time": "2025-06-10T05:21:13.814Z"
   },
   {
    "duration": 183,
    "start_time": "2025-06-10T05:21:13.885Z"
   },
   {
    "duration": 56,
    "start_time": "2025-06-10T05:21:14.070Z"
   },
   {
    "duration": 175,
    "start_time": "2025-06-10T05:21:14.128Z"
   },
   {
    "duration": 54,
    "start_time": "2025-06-10T05:21:14.304Z"
   },
   {
    "duration": 176,
    "start_time": "2025-06-10T05:21:14.360Z"
   },
   {
    "duration": 69,
    "start_time": "2025-06-10T05:21:14.538Z"
   },
   {
    "duration": 194,
    "start_time": "2025-06-10T05:21:14.608Z"
   },
   {
    "duration": 192,
    "start_time": "2025-06-10T05:21:14.804Z"
   },
   {
    "duration": 111,
    "start_time": "2025-06-10T05:21:14.997Z"
   },
   {
    "duration": 304,
    "start_time": "2025-06-10T05:21:15.110Z"
   },
   {
    "duration": 296,
    "start_time": "2025-06-10T05:21:15.416Z"
   },
   {
    "duration": 283,
    "start_time": "2025-06-10T05:21:15.714Z"
   },
   {
    "duration": 288,
    "start_time": "2025-06-10T05:21:15.999Z"
   },
   {
    "duration": 29,
    "start_time": "2025-06-10T05:21:16.289Z"
   },
   {
    "duration": 114,
    "start_time": "2025-06-10T05:21:16.320Z"
   },
   {
    "duration": 147,
    "start_time": "2025-06-10T05:21:16.436Z"
   },
   {
    "duration": 80,
    "start_time": "2025-06-10T05:21:16.584Z"
   },
   {
    "duration": 118,
    "start_time": "2025-06-10T05:21:16.666Z"
   },
   {
    "duration": 121,
    "start_time": "2025-06-10T05:21:16.787Z"
   },
   {
    "duration": 19,
    "start_time": "2025-06-10T05:21:16.910Z"
   },
   {
    "duration": 53,
    "start_time": "2025-06-10T05:21:16.930Z"
   },
   {
    "duration": 100,
    "start_time": "2025-06-10T05:21:16.985Z"
   },
   {
    "duration": 12,
    "start_time": "2025-06-10T05:21:17.087Z"
   },
   {
    "duration": 174,
    "start_time": "2025-06-10T05:21:17.101Z"
   },
   {
    "duration": 12,
    "start_time": "2025-06-10T05:21:17.277Z"
   },
   {
    "duration": 171,
    "start_time": "2025-06-10T05:21:17.291Z"
   },
   {
    "duration": 16,
    "start_time": "2025-06-10T05:21:17.465Z"
   },
   {
    "duration": 47,
    "start_time": "2025-06-10T05:21:17.483Z"
   },
   {
    "duration": 107,
    "start_time": "2025-06-10T05:21:17.532Z"
   },
   {
    "duration": 87,
    "start_time": "2025-06-10T05:21:17.640Z"
   },
   {
    "duration": 12,
    "start_time": "2025-06-10T05:21:17.729Z"
   },
   {
    "duration": 177,
    "start_time": "2025-06-10T05:21:17.743Z"
   },
   {
    "duration": 11,
    "start_time": "2025-06-10T05:21:17.923Z"
   },
   {
    "duration": 96,
    "start_time": "2025-06-10T05:21:17.936Z"
   },
   {
    "duration": 33,
    "start_time": "2025-06-10T06:02:47.154Z"
   },
   {
    "duration": 18,
    "start_time": "2025-06-10T06:04:02.700Z"
   },
   {
    "duration": 122,
    "start_time": "2025-06-10T06:05:50.960Z"
   },
   {
    "duration": 25,
    "start_time": "2025-06-10T06:07:03.366Z"
   },
   {
    "duration": 5,
    "start_time": "2025-06-10T06:10:14.925Z"
   },
   {
    "duration": 5,
    "start_time": "2025-06-10T06:11:31.181Z"
   },
   {
    "duration": 1513,
    "start_time": "2025-06-10T06:14:15.332Z"
   },
   {
    "duration": 5,
    "start_time": "2025-06-10T06:14:22.169Z"
   },
   {
    "duration": 18,
    "start_time": "2025-06-10T06:19:47.219Z"
   },
   {
    "duration": 1151,
    "start_time": "2025-06-10T06:21:20.971Z"
   },
   {
    "duration": 1773,
    "start_time": "2025-06-10T06:21:22.124Z"
   },
   {
    "duration": 107,
    "start_time": "2025-06-10T06:21:23.898Z"
   },
   {
    "duration": 366,
    "start_time": "2025-06-10T06:21:24.007Z"
   },
   {
    "duration": 18,
    "start_time": "2025-06-10T06:21:24.375Z"
   },
   {
    "duration": 258,
    "start_time": "2025-06-10T06:21:24.394Z"
   },
   {
    "duration": 11,
    "start_time": "2025-06-10T06:21:24.654Z"
   },
   {
    "duration": 18,
    "start_time": "2025-06-10T06:21:24.666Z"
   },
   {
    "duration": 17,
    "start_time": "2025-06-10T06:21:24.686Z"
   },
   {
    "duration": 6,
    "start_time": "2025-06-10T06:21:24.705Z"
   },
   {
    "duration": 8,
    "start_time": "2025-06-10T06:21:24.713Z"
   },
   {
    "duration": 37,
    "start_time": "2025-06-10T06:21:24.723Z"
   },
   {
    "duration": 26,
    "start_time": "2025-06-10T06:21:24.762Z"
   },
   {
    "duration": 5697,
    "start_time": "2025-06-10T06:21:24.792Z"
   },
   {
    "duration": 419,
    "start_time": "2025-06-10T06:21:30.491Z"
   },
   {
    "duration": 72,
    "start_time": "2025-06-10T06:21:30.912Z"
   },
   {
    "duration": 118,
    "start_time": "2025-06-10T06:21:30.986Z"
   },
   {
    "duration": 216,
    "start_time": "2025-06-10T06:21:31.105Z"
   },
   {
    "duration": 138,
    "start_time": "2025-06-10T06:21:31.322Z"
   },
   {
    "duration": 30,
    "start_time": "2025-06-10T06:21:31.462Z"
   },
   {
    "duration": 84,
    "start_time": "2025-06-10T06:21:31.494Z"
   },
   {
    "duration": 146,
    "start_time": "2025-06-10T06:21:31.580Z"
   },
   {
    "duration": 4,
    "start_time": "2025-06-10T06:21:31.728Z"
   },
   {
    "duration": 37,
    "start_time": "2025-06-10T06:21:31.734Z"
   },
   {
    "duration": 182,
    "start_time": "2025-06-10T06:21:31.773Z"
   },
   {
    "duration": 334,
    "start_time": "2025-06-10T06:21:31.958Z"
   },
   {
    "duration": 257,
    "start_time": "2025-06-10T06:21:32.293Z"
   },
   {
    "duration": 27,
    "start_time": "2025-06-10T06:21:32.557Z"
   },
   {
    "duration": 16,
    "start_time": "2025-06-10T06:21:32.586Z"
   },
   {
    "duration": 224,
    "start_time": "2025-06-10T06:21:32.603Z"
   },
   {
    "duration": 297,
    "start_time": "2025-06-10T06:21:32.829Z"
   },
   {
    "duration": 34,
    "start_time": "2025-06-10T06:21:33.128Z"
   },
   {
    "duration": 72,
    "start_time": "2025-06-10T06:21:33.164Z"
   },
   {
    "duration": 122,
    "start_time": "2025-06-10T06:21:33.238Z"
   },
   {
    "duration": 18,
    "start_time": "2025-06-10T06:21:33.362Z"
   },
   {
    "duration": 93,
    "start_time": "2025-06-10T06:21:33.382Z"
   },
   {
    "duration": 11,
    "start_time": "2025-06-10T06:21:33.477Z"
   },
   {
    "duration": 15,
    "start_time": "2025-06-10T06:21:33.489Z"
   },
   {
    "duration": 386,
    "start_time": "2025-06-10T06:21:33.505Z"
   },
   {
    "duration": 5746,
    "start_time": "2025-06-10T06:21:33.893Z"
   },
   {
    "duration": 5071,
    "start_time": "2025-06-10T06:21:39.644Z"
   },
   {
    "duration": 25,
    "start_time": "2025-06-10T06:21:44.717Z"
   },
   {
    "duration": 83,
    "start_time": "2025-06-10T06:21:44.744Z"
   },
   {
    "duration": 116,
    "start_time": "2025-06-10T06:21:44.829Z"
   },
   {
    "duration": 130,
    "start_time": "2025-06-10T06:21:44.947Z"
   },
   {
    "duration": 60,
    "start_time": "2025-06-10T06:21:45.079Z"
   },
   {
    "duration": 201,
    "start_time": "2025-06-10T06:21:45.157Z"
   },
   {
    "duration": 55,
    "start_time": "2025-06-10T06:21:45.359Z"
   },
   {
    "duration": 172,
    "start_time": "2025-06-10T06:21:45.415Z"
   },
   {
    "duration": 41,
    "start_time": "2025-06-10T06:21:45.589Z"
   },
   {
    "duration": 187,
    "start_time": "2025-06-10T06:21:45.632Z"
   },
   {
    "duration": 68,
    "start_time": "2025-06-10T06:21:45.820Z"
   },
   {
    "duration": 182,
    "start_time": "2025-06-10T06:21:45.889Z"
   },
   {
    "duration": 188,
    "start_time": "2025-06-10T06:21:46.073Z"
   },
   {
    "duration": 111,
    "start_time": "2025-06-10T06:21:46.262Z"
   },
   {
    "duration": 276,
    "start_time": "2025-06-10T06:21:46.374Z"
   },
   {
    "duration": 275,
    "start_time": "2025-06-10T06:21:46.652Z"
   },
   {
    "duration": 275,
    "start_time": "2025-06-10T06:21:46.929Z"
   },
   {
    "duration": 285,
    "start_time": "2025-06-10T06:21:47.206Z"
   },
   {
    "duration": 29,
    "start_time": "2025-06-10T06:21:47.492Z"
   },
   {
    "duration": 105,
    "start_time": "2025-06-10T06:21:47.523Z"
   },
   {
    "duration": 157,
    "start_time": "2025-06-10T06:21:47.630Z"
   },
   {
    "duration": 79,
    "start_time": "2025-06-10T06:21:47.788Z"
   },
   {
    "duration": 108,
    "start_time": "2025-06-10T06:21:47.869Z"
   },
   {
    "duration": 117,
    "start_time": "2025-06-10T06:21:47.978Z"
   },
   {
    "duration": 17,
    "start_time": "2025-06-10T06:21:48.097Z"
   },
   {
    "duration": 50,
    "start_time": "2025-06-10T06:21:48.116Z"
   },
   {
    "duration": 98,
    "start_time": "2025-06-10T06:21:48.167Z"
   },
   {
    "duration": 12,
    "start_time": "2025-06-10T06:21:48.267Z"
   },
   {
    "duration": 168,
    "start_time": "2025-06-10T06:21:48.280Z"
   },
   {
    "duration": 12,
    "start_time": "2025-06-10T06:21:48.449Z"
   },
   {
    "duration": 176,
    "start_time": "2025-06-10T06:21:48.463Z"
   },
   {
    "duration": 21,
    "start_time": "2025-06-10T06:21:48.640Z"
   },
   {
    "duration": 47,
    "start_time": "2025-06-10T06:21:48.662Z"
   },
   {
    "duration": 96,
    "start_time": "2025-06-10T06:21:48.711Z"
   },
   {
    "duration": 91,
    "start_time": "2025-06-10T06:21:48.809Z"
   },
   {
    "duration": 12,
    "start_time": "2025-06-10T06:21:48.901Z"
   },
   {
    "duration": 175,
    "start_time": "2025-06-10T06:21:48.915Z"
   },
   {
    "duration": 13,
    "start_time": "2025-06-10T06:21:49.092Z"
   },
   {
    "duration": 20,
    "start_time": "2025-06-10T06:21:49.107Z"
   }
  ],
  "colab": {
   "provenance": []
  },
  "kernelspec": {
   "display_name": "Python 3 (ipykernel)",
   "language": "python",
   "name": "python3"
  },
  "language_info": {
   "codemirror_mode": {
    "name": "ipython",
    "version": 3
   },
   "file_extension": ".py",
   "mimetype": "text/x-python",
   "name": "python",
   "nbconvert_exporter": "python",
   "pygments_lexer": "ipython3",
   "version": "3.9.5"
  },
  "toc": {
   "base_numbering": 1,
   "nav_menu": {},
   "number_sections": true,
   "sideBar": true,
   "skip_h1_title": true,
   "title_cell": "Table of Contents",
   "title_sidebar": "Contents",
   "toc_cell": false,
   "toc_position": {},
   "toc_section_display": true,
   "toc_window_display": false
  }
 },
 "nbformat": 4,
 "nbformat_minor": 1
}
