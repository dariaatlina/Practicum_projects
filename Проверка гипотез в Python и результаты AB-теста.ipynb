{
 "cells": [
  {
   "cell_type": "markdown",
   "id": "_E41Wr5fqnFT",
   "metadata": {
    "id": "_E41Wr5fqnFT"
   },
   "source": [
    "# Часть 1. Проверка гипотезы в Python и составление аналитической записки"
   ]
  },
  {
   "cell_type": "markdown",
   "id": "Z5_6nf-FrY7o",
   "metadata": {
    "id": "Z5_6nf-FrY7o"
   },
   "source": [
    "Мы предобработали данные в SQL, и теперь они готовы для проверки гипотезы в Python. Загрузим данные пользователей из Москвы и Санкт-Петербурга c суммой часов их активности из файла.\n",
    "\n",
    "Проверим наличие дубликатов в идентификаторах пользователей. Сравним размеры групп, их статистики и распределение.\n",
    "\n",
    "Наша гипотеза выглядит следующим образом: пользователи из Санкт-Петербурга проводят в среднем больше времени за чтением и прослушиванием книг в приложении, чем пользователи из Москвы. Попробуем статистически это доказать, используя одностороннюю проверку гипотезы с двумя выборками:\n",
    "\n",
    "Нулевая гипотеза $H_0: \\mu_{\\text{СПб}} \\leq \\mu_{\\text{Москва}}$ <br> Среднее время активности пользователей в Санкт-Петербурге не больше, чем в Москве.\n",
    "\n",
    "Альтернативная гипотеза $H_1: \\mu_{\\text{СПб}} > \\mu_{\\text{Москва}}$ <br> Среднее время активности пользователей в Санкт-Петербурге больше, и это различие статистически значимо.\n",
    "\n",
    "По результатам анализа данных подготовим аналитическую записку, в которой опишем:\n",
    "\n",
    "Выбранный тип t-теста и уровень статистической значимости.\n",
    "\n",
    "Результат теста.\n",
    "\n",
    "Вывод на основе полученного p-value, то есть интерпретацию результатов.\n",
    "\n",
    "Причины, объясняющие полученные результаты."
   ]
  },
  {
   "cell_type": "markdown",
   "id": "4149134c",
   "metadata": {
    "id": "4149134c"
   },
   "source": [
    "## Цели и задачи проекта\n",
    "\n",
    "Цель проекта: изучение и сравнение активности пользователей из Москвы и Санкт-Петербурга\n",
    "\n",
    "Задачи:\n",
    "- загрузка данных и знакомство с ними\n",
    "- проверка гипотезы\n",
    "- составление аналитической записки"
   ]
  },
  {
   "cell_type": "markdown",
   "id": "728986ea",
   "metadata": {
    "id": "728986ea"
   },
   "source": [
    "## Описание данных\n",
    "Мы будем работать с таблицей, которая содержит следующие поля:\n",
    "- `city` — город пользователя;\n",
    "- `puid` — идентификатор пользователя;\n",
    "- `hours` — общее количество часов активности."
   ]
  },
  {
   "cell_type": "markdown",
   "id": "4fecaf95",
   "metadata": {
    "id": "4fecaf95"
   },
   "source": [
    "## Содержимое проекта\n",
    "\n",
    "1. Загрузка данных и знакомство с ними\n",
    "2. Проверка гипотезы в Python\n",
    "3. Аналитическая записка\n",
    "\n",
    "---"
   ]
  },
  {
   "cell_type": "markdown",
   "id": "6f7d21d6",
   "metadata": {
    "id": "6f7d21d6"
   },
   "source": [
    "## 1. Загрузка данных и знакомство с ними\n",
    "\n",
    "Загрузим данные пользователей из Москвы и Санкт-Петербурга c их активностью (суммой часов чтения и прослушивания) из файла."
   ]
  },
  {
   "cell_type": "code",
   "execution_count": 1,
   "id": "05faf34b",
   "metadata": {
    "id": "05faf34b"
   },
   "outputs": [],
   "source": [
    "# импортируем библиотеку pandas\n",
    "import pandas as pd\n",
    "# импортируем библиотеку matplotlib.pyplot для построения графика\n",
    "import matplotlib.pyplot as plt\n",
    "\n",
    "import seaborn as sns\n",
    "\n",
    "import scipy.stats as st\n",
    "\n",
    "from statsmodels.stats.power import NormalIndPower\n",
    "import statsmodels.stats.api as sms\n",
    "\n",
    "from statsmodels.stats.proportion import proportions_ztest"
   ]
  },
  {
   "cell_type": "code",
   "execution_count": 2,
   "id": "ce87c1db",
   "metadata": {
    "id": "ce87c1db"
   },
   "outputs": [],
   "source": [
    "# сохраняем датафрейм в переменную\n",
    "df = pd.read_csv('', index_col='Unnamed: 0')"
   ]
  },
  {
   "cell_type": "code",
   "execution_count": 3,
   "id": "f68a7419",
   "metadata": {
    "id": "f68a7419"
   },
   "outputs": [
    {
     "data": {
      "text/html": [
       "<div>\n",
       "<style scoped>\n",
       "    .dataframe tbody tr th:only-of-type {\n",
       "        vertical-align: middle;\n",
       "    }\n",
       "\n",
       "    .dataframe tbody tr th {\n",
       "        vertical-align: top;\n",
       "    }\n",
       "\n",
       "    .dataframe thead th {\n",
       "        text-align: right;\n",
       "    }\n",
       "</style>\n",
       "<table border=\"1\" class=\"dataframe\">\n",
       "  <thead>\n",
       "    <tr style=\"text-align: right;\">\n",
       "      <th></th>\n",
       "      <th>city</th>\n",
       "      <th>puid</th>\n",
       "      <th>hours</th>\n",
       "    </tr>\n",
       "  </thead>\n",
       "  <tbody>\n",
       "    <tr>\n",
       "      <th>0</th>\n",
       "      <td>Москва</td>\n",
       "      <td>9668</td>\n",
       "      <td>26.167776</td>\n",
       "    </tr>\n",
       "    <tr>\n",
       "      <th>1</th>\n",
       "      <td>Москва</td>\n",
       "      <td>16598</td>\n",
       "      <td>82.111217</td>\n",
       "    </tr>\n",
       "    <tr>\n",
       "      <th>2</th>\n",
       "      <td>Москва</td>\n",
       "      <td>80401</td>\n",
       "      <td>4.656906</td>\n",
       "    </tr>\n",
       "    <tr>\n",
       "      <th>3</th>\n",
       "      <td>Москва</td>\n",
       "      <td>140205</td>\n",
       "      <td>1.840556</td>\n",
       "    </tr>\n",
       "    <tr>\n",
       "      <th>4</th>\n",
       "      <td>Москва</td>\n",
       "      <td>248755</td>\n",
       "      <td>151.326434</td>\n",
       "    </tr>\n",
       "  </tbody>\n",
       "</table>\n",
       "</div>"
      ],
      "text/plain": [
       "     city    puid       hours\n",
       "0  Москва    9668   26.167776\n",
       "1  Москва   16598   82.111217\n",
       "2  Москва   80401    4.656906\n",
       "3  Москва  140205    1.840556\n",
       "4  Москва  248755  151.326434"
      ]
     },
     "execution_count": 3,
     "metadata": {},
     "output_type": "execute_result"
    }
   ],
   "source": [
    "# выводим на экран 5 первых строк датафрейма\n",
    "df.head()"
   ]
  },
  {
   "cell_type": "markdown",
   "id": "dd616410",
   "metadata": {},
   "source": [
    "Проверим столбец `puid` на наличие дубликатов"
   ]
  },
  {
   "cell_type": "code",
   "execution_count": 4,
   "id": "33e6582c",
   "metadata": {},
   "outputs": [
    {
     "data": {
      "text/plain": [
       "'Количество дубликатов в идентификаторах пользователей 244'"
      ]
     },
     "metadata": {},
     "output_type": "display_data"
    }
   ],
   "source": [
    "dupl = df.duplicated(subset='puid').sum()\n",
    "display(f'Количество дубликатов в идентификаторах пользователей {dupl}')"
   ]
  },
  {
   "cell_type": "markdown",
   "id": "4c92033b",
   "metadata": {},
   "source": [
    "Для проверки гипотезы наши данные должны быть независимыми. Поэтому дублирующиеся идентификаторы пользователей следует удалить из выборки."
   ]
  },
  {
   "cell_type": "code",
   "execution_count": 5,
   "id": "8a17f82b",
   "metadata": {},
   "outputs": [],
   "source": [
    "df_clear = df.drop_duplicates(subset='puid')"
   ]
  },
  {
   "cell_type": "markdown",
   "id": "6fd23d97",
   "metadata": {},
   "source": [
    "Для нашего теста мы рассматриваем пользователей из двух городов: Москвы и Санкт-Петербурга. Это и есть две наши группы. Сравним размеры изучаемых групп. "
   ]
  },
  {
   "cell_type": "code",
   "execution_count": 6,
   "id": "a77e61b7",
   "metadata": {},
   "outputs": [
    {
     "data": {
      "image/png": "[encoded data removed]",
      "text/plain": [
       "<Figure size 432x288 with 1 Axes>"
      ]
     },
     "metadata": {
      "needs_background": "light"
     },
     "output_type": "display_data"
    }
   ],
   "source": [
    "#группируем данные по городам, считая кол-во пользователей в каждом городе\n",
    "df_group = df_clear.groupby('city')['puid'].count().reset_index()\n",
    "\n",
    "# строим столбчатую диаграмму\n",
    "plt.bar(df_group['city'], df_group['puid'])\n",
    "\n",
    "# подписываем ось X\n",
    "plt.xlabel(\"Город\")\n",
    "\n",
    "# подписываем ось Y\n",
    "plt.ylabel(\"Кол-во пользователей\")\n",
    "\n",
    "# задаём заголовок графика\n",
    "plt.title(\"Сравнение размеров групп\")\n",
    "\n",
    "# показываем график\n",
    "plt.show()"
   ]
  },
  {
   "cell_type": "markdown",
   "id": "b0427e97",
   "metadata": {},
   "source": [
    "По построенной диаграмме видим, что в Москве почти в 3 раза больше пользователей, чем в Санкт-Петербурге."
   ]
  },
  {
   "cell_type": "markdown",
   "id": "64a973cf",
   "metadata": {},
   "source": [
    "Найдем статистики для каждой из групп."
   ]
  },
  {
   "cell_type": "markdown",
   "id": "2f788963",
   "metadata": {},
   "source": [
    "Длительность прослушиваний является важной метрикой в работе сервиса Яндекс Книги. Если средняя длительность прослушиваний будет слишком высокой, это может говорить о наличии технических проблем. Например, зацикливание воспроизведения: может быть ошибка в приложении или на сервере, из-за которой аудиокнига зацикливается и проигрывается повторно, даже когда пользователь не слушает. Если средняя длительность прослушиваний будет слишком низкой, это может означать, что пользователям что-то не нравится в сервисе.\n",
    "\n",
    "С помощью описательной статистики изучим длительность прослушиваний."
   ]
  },
  {
   "cell_type": "code",
   "execution_count": 10,
   "id": "f3c3b478",
   "metadata": {},
   "outputs": [
    {
     "name": "stdout",
     "output_type": "stream",
     "text": [
      "Средняя длительность прослушивания в Москве 11 часов со стандартным отклонением 37.\n",
      "Основная часть прослушиваний занимает от 0 до 6 часов.\n"
     ]
    }
   ],
   "source": [
    "duration_mean_MSK = int(round(df_clear[df_clear['city']=='Москва']['hours'].mean(),0))\n",
    "duration_std_MSK = int(round(df_clear[df_clear['city']=='Москва']['hours'].std(),0))\n",
    "\n",
    "duration_pct25_MSK = int(round(df_clear[df_clear['city']=='Москва']['hours'].quantile(0.25),0))\n",
    "duration_pct75_MSK = int(round(df_clear[df_clear['city']=='Москва']['hours'].quantile(0.75),0))\n",
    "\n",
    "print(f'Средняя длительность прослушивания в Москве {duration_mean_MSK} часов со стандартным отклонением {duration_std_MSK}.\\nОсновная часть прослушиваний занимает от {duration_pct25_MSK} до {duration_pct75_MSK} часов.')"
   ]
  },
  {
   "cell_type": "code",
   "execution_count": 11,
   "id": "19a46de4",
   "metadata": {},
   "outputs": [
    {
     "name": "stdout",
     "output_type": "stream",
     "text": [
      "Средняя длительность прослушивания в Санкт-Петербурге 11 часов со стандартным отклонением 40.\n",
      "Основная часть прослушиваний занимает от 0 до 6 часов.\n"
     ]
    }
   ],
   "source": [
    "duration_mean_SPB = int(round(df_clear[df_clear['city']=='Санкт-Петербург']['hours'].mean(),0))\n",
    "duration_std_SPB = int(round(df_clear[df_clear['city']=='Санкт-Петербург']['hours'].std(),0))\n",
    "\n",
    "duration_pct25_SPB = int(round(df_clear[df_clear['city']=='Санкт-Петербург']['hours'].quantile(0.25),0))\n",
    "duration_pct75_SPB = int(round(df_clear[df_clear['city']=='Санкт-Петербург']['hours'].quantile(0.75),0))\n",
    "\n",
    "print(f'Средняя длительность прослушивания в Санкт-Петербурге {duration_mean_SPB} часов со стандартным отклонением {duration_std_SPB}.\\nОсновная часть прослушиваний занимает от {duration_pct25_SPB} до {duration_pct75_SPB} часов.')"
   ]
  },
  {
   "cell_type": "markdown",
   "id": "a0f61b50",
   "metadata": {},
   "source": [
    "**Общие наблюдения для обоих городов:**\n",
    "\n",
    "-  Схожая средняя длительность: Средняя длительность прослушивания в Москве и Санкт-Петербурге практически идентична (11 часов). Это говорит о том, что в среднем пользователи в обоих городах проводят примерно одинаковое количество времени, слушая аудиокниги в вашем сервисе.\n",
    "-  Высокое стандартное отклонение: Стандартное отклонение (37 часов для Москвы и 40 часов для Санкт-Петербурга) значительно превышает среднюю длительность (11 часов). Это указывает на очень большую вариативность времени прослушивания среди пользователей. Другими словами, есть пользователи, которые слушают аудиокниги очень долго, а есть те, кто слушает очень мало.\n",
    "-  Практически все пользователи прослушивают не более 6 часов: Тот факт, что \"основная часть прослушиваний занимает от 0 до 6 часов\" в сочетании с высокой средней и высоким стандартным отклонением говорит о том, что распределение времени прослушивания имеет тяжелый правый хвост. Это означает, что небольшое количество пользователей слушают книги очень-очень долго, существенно увеличивая среднюю длительность.\n",
    "\n",
    "**Сравнение Москвы и Санкт-Петербурга:**\n",
    "\n",
    "-  Более высокая вариативность в Санкт-Петербурге: Стандартное отклонение в Санкт-Петербурге немного выше, чем в Москве, что говорит о чуть большей разнородности в длительности прослушивания среди пользователей в Санкт-Петербурге."
   ]
  },
  {
   "cell_type": "markdown",
   "id": "6c1c6375",
   "metadata": {},
   "source": [
    "Построим на графике гистограмму распределения длительности прослушиваний `hours` для пользователей из Москвы и Санкт-Петербурга."
   ]
  },
  {
   "cell_type": "code",
   "execution_count": 12,
   "id": "f1ce9deb",
   "metadata": {},
   "outputs": [
    {
     "data": {
      "image/png": "[encoded data removed]",
      "text/plain": [
       "<Figure size 1080x360 with 1 Axes>"
      ]
     },
     "metadata": {
      "needs_background": "light"
     },
     "output_type": "display_data"
    }
   ],
   "source": [
    "# Гистограмма длительности поездки для пользователей из Москвы и СПБ\n",
    "plt.figure(figsize=(15, 5))\n",
    "sns.histplot(data=df_clear,x='hours',bins=30,hue='city',stat='density', common_norm=False)\n",
    "\n",
    "plt.xlabel('Длительность прослушиваний, час')\n",
    "plt.ylabel('Плотность распределений')\n",
    "plt.title('Гистограмма распределения длительности прослушиваний')\n",
    "\n",
    "plt.show()"
   ]
  },
  {
   "cell_type": "markdown",
   "id": "9affa980",
   "metadata": {},
   "source": [
    "Данные имеют практически идентичное распределение с длинным правым хвостом."
   ]
  },
  {
   "cell_type": "markdown",
   "id": "956e82e2",
   "metadata": {
    "id": "956e82e2"
   },
   "source": [
    "## 2. Проверка гипотезы в Python\n",
    "\n",
    "Гипотеза звучит так: пользователи из Санкт-Петербурга проводят в среднем больше времени за чтением и прослушиванием книг в приложении, чем пользователи из Москвы. Попробуем статистически это доказать, используя одностороннюю проверку гипотезы с двумя выборками:\n",
    "\n",
    "- Нулевая гипотеза H₀: Средняя активность пользователей в часах Санкт-Петербурге не больше, чем в Москве.\n",
    "\n",
    "- Альтернативная гипотеза H₁: Средняя активность пользователей в Санкт-Петербурге больше, и это различие статистически значимо."
   ]
  },
  {
   "cell_type": "markdown",
   "id": "49440ab6",
   "metadata": {},
   "source": [
    "Так как наши данные имеют большие хвосты, привычный t-test не подойдёт в нашем случае. Поэтому проведём A/B-тестирование с помощью t-test Уэлча."
   ]
  },
  {
   "cell_type": "code",
   "execution_count": 13,
   "id": "9d239c87",
   "metadata": {
    "id": "67956690"
   },
   "outputs": [],
   "source": [
    "alpha:float = 0.05\n",
    "\n",
    "duration_MSK = df_clear[df_clear['city'] == 'Москва']['hours']\n",
    "duration_SPB = df_clear[df_clear['city'] == 'Санкт-Петербург']['hours']"
   ]
  },
  {
   "cell_type": "code",
   "execution_count": 14,
   "id": "67956690",
   "metadata": {
    "id": "67956690"
   },
   "outputs": [
    {
     "name": "stdout",
     "output_type": "stream",
     "text": [
      "p-value теста Уэлча =0.34\n",
      "Нулевая гипотеза находит подтверждение! Выборочные средние в группе В не больше, чем в группе A\n",
      "Интерпретация: среднее время активности пользователей в Санкт-Петербурге не больше, чем в Москве\n"
     ]
    },
    {
     "data": {
      "text/plain": [
       "'Средняя длительность прослушиваний в Москве 11 часов'"
      ]
     },
     "metadata": {},
     "output_type": "display_data"
    },
    {
     "data": {
      "text/plain": [
       "'Средняя длительность прослушиваний в Санкт-Петербурге 11 часов'"
      ]
     },
     "metadata": {},
     "output_type": "display_data"
    }
   ],
   "source": [
    "stat_welch_ttest, p_value_welch_ttest = st.ttest_ind(\n",
    "    duration_SPB, \n",
    "    duration_MSK, \n",
    "    equal_var=False,\n",
    "    alternative='greater' ## поскольку альтернативная гипотеза о том, что выборочное среднее первой выборки (duration_SPB) больше второй выборки\n",
    ") ## применяем t-тест Уэлча\n",
    "if p_value_welch_ttest>alpha:\n",
    "    print(f'p-value теста Уэлча ={round(p_value_welch_ttest, 2)}')\n",
    "    print('Нулевая гипотеза находит подтверждение! Выборочные средние в группе В не больше, чем в группе A')\n",
    "    print('Интерпретация: среднее время активности пользователей в Санкт-Петербурге не больше, чем в Москве')\n",
    "else:\n",
    "    print(f'p-value теста Уэлча ={round(p_value_welch_ttest, 2)}')\n",
    "    print('Нулевая гипотеза не находит подтверждения! Выборочные средние в группах A и B не равны, и в группе B больше')\n",
    "    print('Интерпретация: среднее время активности пользователей в Санкт-Петербурге больше, и это различие статистически значимо')\n",
    "\n",
    "display(f'Средняя длительность прослушиваний в Москве {duration_mean_MSK} часов')\n",
    "display(f'Средняя длительность прослушиваний в Санкт-Петербурге {duration_mean_SPB} часов')"
   ]
  },
  {
   "cell_type": "markdown",
   "id": "6953e84c",
   "metadata": {
    "id": "6953e84c"
   },
   "source": [
    "## 3. Аналитическая записка\n",
    "\n",
    "- Так как данные о длительности прослушиваний в обоих городах имели достаточно длинные правые хвосты, мы выбрали t-test Уэлча, так как он нечувствителен к ассиметрии данных. Уровень статистической значимости был выбран равный 0.05.\n",
    "\n",
    "- В результате проведённого A/B-теста мы не смогли опровергнуть нулевую гипотезу о том, что средняя активность пользователей Санкт-Петербурге не больше, чем в Москве.\n",
    "\n",
    "- p-value в результате теста получился равен примерно **0.34**, что значительно больше выбранного уровня значимости alpha (0.05). Таким образом, мы принимаем нулевую гипотезу. Это говорит о том, что средняя активность пользователей в часах Санкт-Петербурге не больше, чем в Москве.\n",
    "\n",
    "- Самая простая причина, объясняющая результат проведённого тестирования - в реальности нет существенной разницы в средней активности пользователей между Москвой и Санкт-Петербургом. Любая наблюдаемая разница обусловлена случайностью."
   ]
  },
  {
   "cell_type": "markdown",
   "id": "hc1d6jVISegz",
   "metadata": {
    "id": "hc1d6jVISegz"
   },
   "source": [
    "----"
   ]
  },
  {
   "cell_type": "markdown",
   "id": "NqOUIYhbrIfC",
   "metadata": {
    "id": "NqOUIYhbrIfC"
   },
   "source": [
    "# Часть 2. Анализ результатов A/B-тестирования"
   ]
  },
  {
   "cell_type": "markdown",
   "id": "UNXAAyF5r9Rk",
   "metadata": {
    "id": "UNXAAyF5r9Rk"
   },
   "source": [
    "## 1. Цель и задачи исследования.\n",
    "\n"
   ]
  },
  {
   "cell_type": "markdown",
   "id": "kHx-51yES8bd",
   "metadata": {
    "id": "kHx-51yES8bd"
   },
   "source": [
    "Цель исследования: проверка корректности проведения A/B-тестирования и анализ его результатов.\n",
    "\n",
    "Задачи исследования:\n",
    "- Загрузка данных и их оценка\n",
    "- Оценка корректности проведения теста\n",
    "- Оценка результатов A/B-теста"
   ]
  },
  {
   "cell_type": "markdown",
   "id": "_CZryx2OsH-s",
   "metadata": {
    "id": "_CZryx2OsH-s"
   },
   "source": [
    "## 2. Загрузка и оценка данных.\n"
   ]
  },
  {
   "cell_type": "code",
   "execution_count": 15,
   "id": "DjFcJbeGsTIg",
   "metadata": {
    "id": "DjFcJbeGsTIg"
   },
   "outputs": [],
   "source": [
    "participants = pd.read_csv('')\n",
    "events = pd.read_csv('',\n",
    "                     parse_dates=['event_dt'], low_memory=False)"
   ]
  },
  {
   "cell_type": "markdown",
   "id": "c31b5145",
   "metadata": {},
   "source": [
    "Выведем основную информацию о датафрейме `participants` и проверим его на пропуски."
   ]
  },
  {
   "cell_type": "code",
   "execution_count": 16,
   "id": "9a2adbf7",
   "metadata": {
    "scrolled": false
   },
   "outputs": [
    {
     "name": "stdout",
     "output_type": "stream",
     "text": [
      "<class 'pandas.core.frame.DataFrame'>\n",
      "RangeIndex: 14525 entries, 0 to 14524\n",
      "Data columns (total 4 columns):\n",
      " #   Column   Non-Null Count  Dtype \n",
      "---  ------   --------------  ----- \n",
      " 0   user_id  14525 non-null  object\n",
      " 1   group    14525 non-null  object\n",
      " 2   ab_test  14525 non-null  object\n",
      " 3   device   14525 non-null  object\n",
      "dtypes: object(4)\n",
      "memory usage: 454.0+ KB\n"
     ]
    }
   ],
   "source": [
    "participants.info()"
   ]
  },
  {
   "cell_type": "markdown",
   "id": "6c8dde5a",
   "metadata": {},
   "source": [
    "Таблица не содержит пропусков, все данные заполнены. Таблица состоит из 4 столбцов и 14 525 строк.\n",
    "\n",
    "Выведем основную информацию о таблице `events` и также проверим данные на наличие пропусков."
   ]
  },
  {
   "cell_type": "code",
   "execution_count": 17,
   "id": "090da78c",
   "metadata": {},
   "outputs": [
    {
     "name": "stdout",
     "output_type": "stream",
     "text": [
      "<class 'pandas.core.frame.DataFrame'>\n",
      "RangeIndex: 787286 entries, 0 to 787285\n",
      "Data columns (total 4 columns):\n",
      " #   Column      Non-Null Count   Dtype         \n",
      "---  ------      --------------   -----         \n",
      " 0   user_id     787286 non-null  object        \n",
      " 1   event_dt    787286 non-null  datetime64[ns]\n",
      " 2   event_name  787286 non-null  object        \n",
      " 3   details     249022 non-null  object        \n",
      "dtypes: datetime64[ns](1), object(3)\n",
      "memory usage: 24.0+ MB\n"
     ]
    }
   ],
   "source": [
    "events.info()"
   ]
  },
  {
   "cell_type": "markdown",
   "id": "960d07cd",
   "metadata": {},
   "source": [
    "Таблица `events` состоит из 4 столбцов и 787 286 строк. Пропуски содержатся в столбце `details` (дополнительные данные о событии), но так как данные этого столбца для исследования нам не пригодятся, оставим их без внимания.\n",
    "\n",
    "Проверим таблицу `events` на полные дубликаты."
   ]
  },
  {
   "cell_type": "code",
   "execution_count": 18,
   "id": "4bf1de44",
   "metadata": {},
   "outputs": [
    {
     "data": {
      "text/plain": [
       "36318"
      ]
     },
     "metadata": {},
     "output_type": "display_data"
    }
   ],
   "source": [
    "display(events.duplicated().sum())"
   ]
  },
  {
   "cell_type": "markdown",
   "id": "9de7236d",
   "metadata": {},
   "source": [
    "Мы нашли 36 318 тысяч строк полных дубликатов. Избавимся от них."
   ]
  },
  {
   "cell_type": "code",
   "execution_count": 19,
   "id": "aa0c3ee4",
   "metadata": {},
   "outputs": [],
   "source": [
    "events_clear = events.drop_duplicates()"
   ]
  },
  {
   "cell_type": "markdown",
   "id": "CnzA-efasUrk",
   "metadata": {
    "id": "CnzA-efasUrk"
   },
   "source": [
    "## 3. Оценка корректности проведенного теста."
   ]
  },
  {
   "cell_type": "markdown",
   "id": "84db4643",
   "metadata": {},
   "source": [
    "Оставим в таблице `participants` данные только о тесте `interface_eu_test`."
   ]
  },
  {
   "cell_type": "code",
   "execution_count": 20,
   "id": "e8e065aa",
   "metadata": {},
   "outputs": [],
   "source": [
    "ab_test_participants = participants[participants['ab_test']=='interface_eu_test']"
   ]
  },
  {
   "cell_type": "markdown",
   "id": "8c8049f6",
   "metadata": {},
   "source": [
    "Проверим наши данные на пересечение пользователей. Проверять будем по столбцу `user_id`."
   ]
  },
  {
   "cell_type": "code",
   "execution_count": 21,
   "id": "c708d8f6",
   "metadata": {},
   "outputs": [
    {
     "data": {
      "text/plain": [
       "0"
      ]
     },
     "metadata": {},
     "output_type": "display_data"
    }
   ],
   "source": [
    "A = ab_test_participants[ab_test_participants['group'] == 'A']['user_id']\n",
    "B = ab_test_participants[ab_test_participants['group'] == 'B']['user_id']\n",
    "\n",
    "intersection = list(set(A) & set(B))\n",
    "display(len(intersection)) "
   ]
  },
  {
   "cell_type": "markdown",
   "id": "26f6bef9",
   "metadata": {},
   "source": [
    "Контрольная и тестовая группа не имеют пересечений, что является одним из признаков корректного проведения теста."
   ]
  },
  {
   "cell_type": "markdown",
   "id": "132c3107",
   "metadata": {},
   "source": [
    "Теперь посмотрим на распределение пользователей по группам. Для этого построим круговую диаграмму"
   ]
  },
  {
   "cell_type": "code",
   "execution_count": 22,
   "id": "e7337c57",
   "metadata": {},
   "outputs": [],
   "source": [
    "unique_users = ab_test_participants.groupby('group')['user_id'].nunique().reset_index()"
   ]
  },
  {
   "cell_type": "code",
   "execution_count": 23,
   "id": "db6c1522",
   "metadata": {},
   "outputs": [
    {
     "data": {
      "image/png": "[encoded data removed]",
      "text/plain": [
       "<Figure size 432x432 with 1 Axes>"
      ]
     },
     "metadata": {},
     "output_type": "display_data"
    }
   ],
   "source": [
    "group_A = 100 * unique_users[unique_users['group'] == 'A']['user_id'].sum() / unique_users['user_id'].sum()\n",
    "group_B = 100 * unique_users[unique_users['group'] == 'B']['user_id'].sum() / unique_users['user_id'].sum()\n",
    "\n",
    "sizes = [group_A, group_B]\n",
    "labels = ['A', 'B']\n",
    "colors = ['lightcoral', 'lightskyblue'] #Необязательно, можно выбрать любые цвета\n",
    "\n",
    "# Строим круговую диаграмму\n",
    "plt.figure(figsize=(6, 6))  # Задаем размер диаграммы (необязательно)\n",
    "plt.pie(sizes, labels=labels, colors=colors, autopct='%1.1f%%')\n",
    "autopct='%1.1f%%' #форматирует отображение процентов (один знак после запятой)\n",
    "# startangle=140 - поворачивает диаграмму, чтобы первый сектор начинался под углом 140 градусов (необязательно)\n",
    "\n",
    "plt.title('Распределение пользователей по группам A и B')\n",
    "plt.axis('equal')  #  Обеспечивает, чтобы круговая диаграмма выглядела как круг, а не как эллипс.\n",
    "plt.show()"
   ]
  },
  {
   "cell_type": "markdown",
   "id": "08c45e75",
   "metadata": {
    "id": "aNa3zHrKslEN"
   },
   "source": [
    "По круговой диаграмме наглядно видно, что пользователи между группами распределены равномерно."
   ]
  },
  {
   "cell_type": "markdown",
   "id": "2845089f",
   "metadata": {
    "id": "aNa3zHrKslEN"
   },
   "source": [
    "Так как таблица `participants` содержит данные не только о тесте `interface_eu_test`, выведем на экран уникальные значения из столбца `ab_test` и проверим пересечение тестовой группы нашего исследования с тестовыми группами других исследований."
   ]
  },
  {
   "cell_type": "code",
   "execution_count": 24,
   "id": "b7188a4f",
   "metadata": {},
   "outputs": [
    {
     "data": {
      "text/plain": [
       "array(['interface_eu_test', 'recommender_system_test'], dtype=object)"
      ]
     },
     "execution_count": 24,
     "metadata": {},
     "output_type": "execute_result"
    }
   ],
   "source": [
    "participants['ab_test'].unique()"
   ]
  },
  {
   "cell_type": "code",
   "execution_count": 25,
   "id": "44cc515c",
   "metadata": {},
   "outputs": [
    {
     "data": {
      "text/plain": [
       "116"
      ]
     },
     "metadata": {},
     "output_type": "display_data"
    }
   ],
   "source": [
    "B_rec = participants[(participants['group'] == 'B')&(participants['ab_test']=='recommender_system_test')]['user_id']\n",
    "\n",
    "intersection = list(set(B) & set(B_rec))\n",
    "display(len(intersection)) "
   ]
  },
  {
   "cell_type": "markdown",
   "id": "89715475",
   "metadata": {},
   "source": [
    "Тестовая группа нашего исследования имеет 116 пересечений с тестовой группой конкурирующего теста. Для корректности проведения исследования избавимся от этих пересечений, удалив этих пользователей из тестовой группы нашего A/B-теста."
   ]
  },
  {
   "cell_type": "code",
   "execution_count": 26,
   "id": "e2ac1239",
   "metadata": {},
   "outputs": [],
   "source": [
    "ab_test_participants = ab_test_participants[~(ab_test_participants['user_id'].isin(intersection))]\n",
    "B = ab_test_participants[ab_test_participants['group'] == 'B']['user_id']"
   ]
  },
  {
   "cell_type": "markdown",
   "id": "79e8c9d3",
   "metadata": {},
   "source": [
    "Проверим, как изменится распределение пользователей после удаления пересечений:"
   ]
  },
  {
   "cell_type": "code",
   "execution_count": 27,
   "id": "e64ff6b9",
   "metadata": {},
   "outputs": [
    {
     "data": {
      "text/plain": [
       "(5383, 5351)"
      ]
     },
     "execution_count": 27,
     "metadata": {},
     "output_type": "execute_result"
    }
   ],
   "source": [
    "ab_test_participants[ab_test_participants['group'] == 'A']['user_id'].nunique(), ab_test_participants[ab_test_participants['group'] == 'B']['user_id'].nunique()"
   ]
  },
  {
   "cell_type": "markdown",
   "id": "0b24ac6b",
   "metadata": {},
   "source": [
    "Распределение пользователей осталось также равномерным."
   ]
  },
  {
   "cell_type": "code",
   "execution_count": 28,
   "id": "QMt0Ybo_swDK",
   "metadata": {
    "id": "QMt0Ybo_swDK"
   },
   "outputs": [],
   "source": [
    "ab_test_events = events_clear[events_clear['user_id'].isin(ab_test_participants['user_id'])]"
   ]
  },
  {
   "cell_type": "markdown",
   "id": "fBZ4DC2xswZJ",
   "metadata": {
    "id": "fBZ4DC2xswZJ"
   },
   "source": [
    "- определим горизонт анализа: рассчитаем время (лайфтайм) совершения события пользователем после регистрации и оставим только те события, которые были выполнены в течение первых семи дней с момента регистрации;"
   ]
  },
  {
   "cell_type": "markdown",
   "id": "8d11ad47",
   "metadata": {},
   "source": [
    "Создадим отдельный датафрейм с id пользователей и датой их регистрации."
   ]
  },
  {
   "cell_type": "code",
   "execution_count": 29,
   "id": "sES4-dKts0Yb",
   "metadata": {
    "id": "sES4-dKts0Yb"
   },
   "outputs": [],
   "source": [
    "registration_dates = ab_test_events[ab_test_events['event_name'] == 'registration'][['user_id', 'event_dt']].rename(columns={'event_dt': 'registration_dt'})"
   ]
  },
  {
   "cell_type": "code",
   "execution_count": 30,
   "id": "9c103585",
   "metadata": {},
   "outputs": [
    {
     "data": {
      "text/plain": [
       "0"
      ]
     },
     "execution_count": 30,
     "metadata": {},
     "output_type": "execute_result"
    }
   ],
   "source": [
    "registration_dates['user_id'].duplicated().sum()"
   ]
  },
  {
   "cell_type": "markdown",
   "id": "2146cdd5",
   "metadata": {},
   "source": [
    "Добавляем для каждой строки события таблицы ab_test_events дату регистрации пользователя."
   ]
  },
  {
   "cell_type": "code",
   "execution_count": 31,
   "id": "3af7d535",
   "metadata": {},
   "outputs": [],
   "source": [
    "ab_test_events = pd.merge(ab_test_events, registration_dates, on='user_id', how='left')"
   ]
  },
  {
   "cell_type": "markdown",
   "id": "13cfcd5c",
   "metadata": {},
   "source": [
    "Добавим ещё один столбец, который будет содержать разность между датой события и датой регистрации пользователя."
   ]
  },
  {
   "cell_type": "code",
   "execution_count": 32,
   "id": "35a5aca0",
   "metadata": {},
   "outputs": [],
   "source": [
    "ab_test_events['lifetime'] = (ab_test_events['event_dt'] - ab_test_events['registration_dt']).dt.days"
   ]
  },
  {
   "cell_type": "markdown",
   "id": "f1e2cd06",
   "metadata": {},
   "source": [
    "Фильтруем события, произошедшие в течение 7 дней после регистрации"
   ]
  },
  {
   "cell_type": "code",
   "execution_count": 33,
   "id": "d7ae5d68",
   "metadata": {},
   "outputs": [
    {
     "data": {
      "text/html": [
       "<div>\n",
       "<style scoped>\n",
       "    .dataframe tbody tr th:only-of-type {\n",
       "        vertical-align: middle;\n",
       "    }\n",
       "\n",
       "    .dataframe tbody tr th {\n",
       "        vertical-align: top;\n",
       "    }\n",
       "\n",
       "    .dataframe thead th {\n",
       "        text-align: right;\n",
       "    }\n",
       "</style>\n",
       "<table border=\"1\" class=\"dataframe\">\n",
       "  <thead>\n",
       "    <tr style=\"text-align: right;\">\n",
       "      <th></th>\n",
       "      <th>user_id</th>\n",
       "      <th>event_dt</th>\n",
       "      <th>event_name</th>\n",
       "      <th>details</th>\n",
       "      <th>registration_dt</th>\n",
       "      <th>lifetime</th>\n",
       "    </tr>\n",
       "  </thead>\n",
       "  <tbody>\n",
       "    <tr>\n",
       "      <th>0</th>\n",
       "      <td>5F506CEBEDC05D30</td>\n",
       "      <td>2020-12-06 14:10:01</td>\n",
       "      <td>registration</td>\n",
       "      <td>0.0</td>\n",
       "      <td>2020-12-06 14:10:01</td>\n",
       "      <td>0</td>\n",
       "    </tr>\n",
       "    <tr>\n",
       "      <th>1</th>\n",
       "      <td>51278A006E918D97</td>\n",
       "      <td>2020-12-06 14:37:25</td>\n",
       "      <td>registration</td>\n",
       "      <td>-3.8</td>\n",
       "      <td>2020-12-06 14:37:25</td>\n",
       "      <td>0</td>\n",
       "    </tr>\n",
       "    <tr>\n",
       "      <th>2</th>\n",
       "      <td>A0C1E8EFAD874D8B</td>\n",
       "      <td>2020-12-06 17:20:22</td>\n",
       "      <td>registration</td>\n",
       "      <td>-3.32</td>\n",
       "      <td>2020-12-06 17:20:22</td>\n",
       "      <td>0</td>\n",
       "    </tr>\n",
       "    <tr>\n",
       "      <th>3</th>\n",
       "      <td>275A8D6254ACF530</td>\n",
       "      <td>2020-12-06 19:36:54</td>\n",
       "      <td>registration</td>\n",
       "      <td>-0.48</td>\n",
       "      <td>2020-12-06 19:36:54</td>\n",
       "      <td>0</td>\n",
       "    </tr>\n",
       "    <tr>\n",
       "      <th>4</th>\n",
       "      <td>0B704EB2DC7FCA4B</td>\n",
       "      <td>2020-12-06 19:42:20</td>\n",
       "      <td>registration</td>\n",
       "      <td>0.0</td>\n",
       "      <td>2020-12-06 19:42:20</td>\n",
       "      <td>0</td>\n",
       "    </tr>\n",
       "  </tbody>\n",
       "</table>\n",
       "</div>"
      ],
      "text/plain": [
       "            user_id            event_dt    event_name details  \\\n",
       "0  5F506CEBEDC05D30 2020-12-06 14:10:01  registration     0.0   \n",
       "1  51278A006E918D97 2020-12-06 14:37:25  registration    -3.8   \n",
       "2  A0C1E8EFAD874D8B 2020-12-06 17:20:22  registration   -3.32   \n",
       "3  275A8D6254ACF530 2020-12-06 19:36:54  registration   -0.48   \n",
       "4  0B704EB2DC7FCA4B 2020-12-06 19:42:20  registration     0.0   \n",
       "\n",
       "      registration_dt  lifetime  \n",
       "0 2020-12-06 14:10:01         0  \n",
       "1 2020-12-06 14:37:25         0  \n",
       "2 2020-12-06 17:20:22         0  \n",
       "3 2020-12-06 19:36:54         0  \n",
       "4 2020-12-06 19:42:20         0  "
      ]
     },
     "execution_count": 33,
     "metadata": {},
     "output_type": "execute_result"
    }
   ],
   "source": [
    "ab_test_events_filtered = ab_test_events[ab_test_events['lifetime'] < 7]\n",
    "ab_test_events_filtered.head()"
   ]
  },
  {
   "cell_type": "markdown",
   "id": "7cf1df48",
   "metadata": {},
   "source": [
    "Оценим достаточность выборки для получения статистически значимых результатов A/B-теста. Заданные параметры:\n",
    "\n",
    "- базовый показатель конверсии — 30%,\n",
    "\n",
    "- мощность теста — 80%,\n",
    "\n",
    "- достоверность теста — 95%,\n",
    "\n",
    "- ожидаемый прирост 3 процентных пункта."
   ]
  },
  {
   "cell_type": "code",
   "execution_count": 34,
   "id": "7d97b466",
   "metadata": {},
   "outputs": [
    {
     "data": {
      "text/plain": [
       "'Необходимый размер выборки для каждой группы: 3761'"
      ]
     },
     "metadata": {},
     "output_type": "display_data"
    },
    {
     "data": {
      "text/plain": [
       "'Выборки имеют достаточные размеры'"
      ]
     },
     "metadata": {},
     "output_type": "display_data"
    }
   ],
   "source": [
    "# Задаём параметры\n",
    "alpha = 0.05  # Уровень значимости\n",
    "power = 0.8  # Мощность теста\n",
    "mde = 0.3  # Минимальный детектируемый эффект\n",
    "mde_new = mde + 0.03 # Ожидаемая конверсия\n",
    "effect_size = sms.proportion_effectsize(mde, mde_new)\n",
    "\n",
    "# Инициализируем класс NormalIndPower\n",
    "power_analysis = NormalIndPower()\n",
    "\n",
    "# Рассчитываем размер выборки\n",
    "sample_size = power_analysis.solve_power(\n",
    "    effect_size = effect_size,\n",
    "    power = power,\n",
    "    alpha = alpha,\n",
    "    ratio = 1#,\n",
    "    #alternative='larger'\n",
    ")\n",
    "\n",
    "display(f\"Необходимый размер выборки для каждой группы: {int(sample_size)}\")\n",
    "\n",
    "if int(sample_size) < ab_test_participants[ab_test_participants['group'] == 'A']['user_id'].nunique():\n",
    "    display('Выборки имеют достаточные размеры')\n",
    "else:\n",
    "    display('Размеры выборок недостаточны')"
   ]
  },
  {
   "cell_type": "markdown",
   "id": "fbd3f817",
   "metadata": {},
   "source": [
    "Найдём количество посетителей, совершивших покупку для каждой группы."
   ]
  },
  {
   "cell_type": "code",
   "execution_count": 35,
   "id": "7ph853Xks4sy",
   "metadata": {
    "id": "7ph853Xks4sy",
    "scrolled": true
   },
   "outputs": [
    {
     "data": {
      "text/html": [
       "<div>\n",
       "<style scoped>\n",
       "    .dataframe tbody tr th:only-of-type {\n",
       "        vertical-align: middle;\n",
       "    }\n",
       "\n",
       "    .dataframe tbody tr th {\n",
       "        vertical-align: top;\n",
       "    }\n",
       "\n",
       "    .dataframe thead th {\n",
       "        text-align: right;\n",
       "    }\n",
       "</style>\n",
       "<table border=\"1\" class=\"dataframe\">\n",
       "  <thead>\n",
       "    <tr style=\"text-align: right;\">\n",
       "      <th></th>\n",
       "      <th>group</th>\n",
       "      <th>count_buyer</th>\n",
       "    </tr>\n",
       "  </thead>\n",
       "  <tbody>\n",
       "    <tr>\n",
       "      <th>0</th>\n",
       "      <td>A</td>\n",
       "      <td>1480</td>\n",
       "    </tr>\n",
       "    <tr>\n",
       "      <th>1</th>\n",
       "      <td>B</td>\n",
       "      <td>1579</td>\n",
       "    </tr>\n",
       "  </tbody>\n",
       "</table>\n",
       "</div>"
      ],
      "text/plain": [
       "  group  count_buyer\n",
       "0     A         1480\n",
       "1     B         1579"
      ]
     },
     "metadata": {},
     "output_type": "display_data"
    }
   ],
   "source": [
    "ab_test = pd.merge(ab_test_participants,ab_test_events_filtered, on='user_id', how='left')\n",
    "ab_test_purchase = ab_test[ab_test['event_name']=='purchase'].groupby('group')['user_id'].nunique().reset_index().rename(columns={'user_id': 'count_buyer'})\n",
    "display(ab_test_purchase)"
   ]
  },
  {
   "cell_type": "markdown",
   "id": "dce2619d",
   "metadata": {},
   "source": [
    "Найдём общее количество посетителей для каждой группы."
   ]
  },
  {
   "cell_type": "code",
   "execution_count": 36,
   "id": "c418be42",
   "metadata": {},
   "outputs": [
    {
     "data": {
      "text/html": [
       "<div>\n",
       "<style scoped>\n",
       "    .dataframe tbody tr th:only-of-type {\n",
       "        vertical-align: middle;\n",
       "    }\n",
       "\n",
       "    .dataframe tbody tr th {\n",
       "        vertical-align: top;\n",
       "    }\n",
       "\n",
       "    .dataframe thead th {\n",
       "        text-align: right;\n",
       "    }\n",
       "</style>\n",
       "<table border=\"1\" class=\"dataframe\">\n",
       "  <thead>\n",
       "    <tr style=\"text-align: right;\">\n",
       "      <th></th>\n",
       "      <th>group</th>\n",
       "      <th>count_users</th>\n",
       "    </tr>\n",
       "  </thead>\n",
       "  <tbody>\n",
       "    <tr>\n",
       "      <th>0</th>\n",
       "      <td>A</td>\n",
       "      <td>5383</td>\n",
       "    </tr>\n",
       "    <tr>\n",
       "      <th>1</th>\n",
       "      <td>B</td>\n",
       "      <td>5351</td>\n",
       "    </tr>\n",
       "  </tbody>\n",
       "</table>\n",
       "</div>"
      ],
      "text/plain": [
       "  group  count_users\n",
       "0     A         5383\n",
       "1     B         5351"
      ]
     },
     "metadata": {},
     "output_type": "display_data"
    }
   ],
   "source": [
    "ab_test_users = ab_test.groupby('group')['user_id'].nunique().reset_index().rename(columns={'user_id': 'count_users'})\n",
    "display(ab_test_users)"
   ]
  },
  {
   "cell_type": "markdown",
   "id": "507c2def",
   "metadata": {},
   "source": [
    "Соединим данные групп о количестве покупателей с общим количеством пользователей."
   ]
  },
  {
   "cell_type": "code",
   "execution_count": 37,
   "id": "b943d601",
   "metadata": {},
   "outputs": [
    {
     "data": {
      "text/html": [
       "<div>\n",
       "<style scoped>\n",
       "    .dataframe tbody tr th:only-of-type {\n",
       "        vertical-align: middle;\n",
       "    }\n",
       "\n",
       "    .dataframe tbody tr th {\n",
       "        vertical-align: top;\n",
       "    }\n",
       "\n",
       "    .dataframe thead th {\n",
       "        text-align: right;\n",
       "    }\n",
       "</style>\n",
       "<table border=\"1\" class=\"dataframe\">\n",
       "  <thead>\n",
       "    <tr style=\"text-align: right;\">\n",
       "      <th></th>\n",
       "      <th>group</th>\n",
       "      <th>count_buyer</th>\n",
       "      <th>count_users</th>\n",
       "    </tr>\n",
       "  </thead>\n",
       "  <tbody>\n",
       "    <tr>\n",
       "      <th>0</th>\n",
       "      <td>A</td>\n",
       "      <td>1480</td>\n",
       "      <td>5383</td>\n",
       "    </tr>\n",
       "    <tr>\n",
       "      <th>1</th>\n",
       "      <td>B</td>\n",
       "      <td>1579</td>\n",
       "      <td>5351</td>\n",
       "    </tr>\n",
       "  </tbody>\n",
       "</table>\n",
       "</div>"
      ],
      "text/plain": [
       "  group  count_buyer  count_users\n",
       "0     A         1480         5383\n",
       "1     B         1579         5351"
      ]
     },
     "metadata": {},
     "output_type": "display_data"
    }
   ],
   "source": [
    "ab_test = pd.merge(ab_test_purchase,ab_test_users,on='group')\n",
    "display(ab_test)"
   ]
  },
  {
   "cell_type": "markdown",
   "id": "bf889368",
   "metadata": {
    "id": "hHTHPkJYs8mE"
   },
   "source": [
    "Для формирования предварительного вывода найдём доли пользователей, совершивших покупку, относительно общего количества пользователей для каждой из групп."
   ]
  },
  {
   "cell_type": "code",
   "execution_count": 38,
   "id": "9ba01583",
   "metadata": {},
   "outputs": [
    {
     "data": {
      "text/html": [
       "<div>\n",
       "<style scoped>\n",
       "    .dataframe tbody tr th:only-of-type {\n",
       "        vertical-align: middle;\n",
       "    }\n",
       "\n",
       "    .dataframe tbody tr th {\n",
       "        vertical-align: top;\n",
       "    }\n",
       "\n",
       "    .dataframe thead th {\n",
       "        text-align: right;\n",
       "    }\n",
       "</style>\n",
       "<table border=\"1\" class=\"dataframe\">\n",
       "  <thead>\n",
       "    <tr style=\"text-align: right;\">\n",
       "      <th></th>\n",
       "      <th>group</th>\n",
       "      <th>count_buyer</th>\n",
       "      <th>count_users</th>\n",
       "      <th>share_buyer</th>\n",
       "    </tr>\n",
       "  </thead>\n",
       "  <tbody>\n",
       "    <tr>\n",
       "      <th>0</th>\n",
       "      <td>A</td>\n",
       "      <td>1480</td>\n",
       "      <td>5383</td>\n",
       "      <td>0.274940</td>\n",
       "    </tr>\n",
       "    <tr>\n",
       "      <th>1</th>\n",
       "      <td>B</td>\n",
       "      <td>1579</td>\n",
       "      <td>5351</td>\n",
       "      <td>0.295085</td>\n",
       "    </tr>\n",
       "  </tbody>\n",
       "</table>\n",
       "</div>"
      ],
      "text/plain": [
       "  group  count_buyer  count_users  share_buyer\n",
       "0     A         1480         5383     0.274940\n",
       "1     B         1579         5351     0.295085"
      ]
     },
     "metadata": {},
     "output_type": "display_data"
    }
   ],
   "source": [
    "ab_test['share_buyer'] = ab_test['count_buyer']/ab_test['count_users']\n",
    "display(ab_test)"
   ]
  },
  {
   "cell_type": "markdown",
   "id": "007d43b2",
   "metadata": {},
   "source": [
    "По предварительному анализу мы видим что доля пользователей совершивших покупку в группе B примерно на 2 п.п. больше, чем в группе A. Предполагаем, что тестовая группа показывает положительную динамику, однако нам необходим прирост в 3 п.п.. Таким образом фактический прирост недостаточно высок."
   ]
  },
  {
   "cell_type": "markdown",
   "id": "IKZ1Oo3Ws919",
   "metadata": {
    "id": "IKZ1Oo3Ws919"
   },
   "source": [
    "## 4. Оценка результатов A/B-тестирования:"
   ]
  },
  {
   "cell_type": "markdown",
   "id": "aee7dea0",
   "metadata": {
    "id": "l_KOziBQtL3t"
   },
   "source": [
    "Напомним, что для нашего теста существуют две гипотезы:\n",
    "\n",
    "Нулевая гипотеза $H_0: \\mu_{\\text{B}} \\leq \\mu_{\\text{A}}$ <br> Изменение интерфейса сайта не увеличит количество пользователей, совершающих покупку.\n",
    "\n",
    "Альтернативная гипотеза $H_1: \\mu_{\\text{B}} > \\mu_{\\text{A}}$ <br> Изменение интерфейса сайта увеличит количество пользователей, совершающих покупку, и это различие статистически значимо.\n",
    "\n",
    "В качестве статистического теста выберем Z-тест пропорций, так как в нашем случае мы сравниваем доли."
   ]
  },
  {
   "cell_type": "code",
   "execution_count": 39,
   "id": "22afd7fb",
   "metadata": {},
   "outputs": [],
   "source": [
    "# Задаём размеры выборок\n",
    "n_a, n_b = ab_test[ab_test['group']=='A']['count_users'].sum(), ab_test[ab_test['group']=='B']['count_users'].sum()\n",
    "# Задаём количество успехов в каждой выборке\n",
    "m_a, m_b = ab_test[ab_test['group']=='A']['count_buyer'].sum(), ab_test[ab_test['group']=='B']['count_buyer'].sum()"
   ]
  },
  {
   "cell_type": "code",
   "execution_count": 40,
   "id": "b9e186cf",
   "metadata": {},
   "outputs": [
    {
     "data": {
      "text/plain": [
       "0.010393282955333764"
      ]
     },
     "execution_count": 40,
     "metadata": {},
     "output_type": "execute_result"
    }
   ],
   "source": [
    "alpha = 0.05 ## на каком уровне значимости проверяем гипотезу о равенстве вероятностей\n",
    "\n",
    "stat_ztest, p_value_ztest = proportions_ztest(\n",
    "    [m_b, m_a],\n",
    "    [n_b, n_a],\n",
    "    alternative='larger' # так как H_1: p_a < p_b\n",
    ")\n",
    "p_value_ztest"
   ]
  },
  {
   "cell_type": "code",
   "execution_count": 41,
   "id": "fb348d5b",
   "metadata": {},
   "outputs": [
    {
     "name": "stdout",
     "output_type": "stream",
     "text": [
      "pvalue=0.010393282955333764 < 0.05\n",
      "Нулевая гипотеза не находит подтверждения!\n"
     ]
    }
   ],
   "source": [
    "if p_value_ztest > alpha:\n",
    "    print(f'pvalue={p_value_ztest} > {alpha}')\n",
    "    print('Нулевая гипотеза находит подтверждение!')\n",
    "else:\n",
    "    print(f'pvalue={p_value_ztest} < {alpha}')\n",
    "    print('Нулевая гипотеза не находит подтверждения!')"
   ]
  },
  {
   "cell_type": "code",
   "execution_count": 42,
   "id": "f37b8202",
   "metadata": {},
   "outputs": [
    {
     "data": {
      "text/plain": [
       "0.02014540609079163"
      ]
     },
     "metadata": {},
     "output_type": "display_data"
    }
   ],
   "source": [
    "display(ab_test[ab_test['group']=='B']['share_buyer'].sum()-ab_test[ab_test['group']=='A']['share_buyer'].sum())"
   ]
  },
  {
   "cell_type": "markdown",
   "id": "npoPPSKytKvR",
   "metadata": {
    "id": "npoPPSKytKvR"
   },
   "source": [
    "По всем проведённым выше проверкам мы получили следующий результат:\n",
    "\n",
    "- Статистический Z-тест пропорций показал нам, что значение p_value = 0.01, что меньше установленного уровня значимости alpha=0.05. Это даёт нам основание утверждать, что нулевая гипотеза не находит подтверждения.\n",
    "- Также необходимо было проверить, что конверсия зарегистрированных пользователей в покупателей увеличится как минимум на три процентных пункта. Мы нашли разницу между конверсиями групп A и B, и она составила 2 п.п., что недостаточно для запланированного эффекта изменений.\n",
    "\n",
    "Таким образом, мы можем утверждать, что изменение интерфейса сайта доказуемо повысит количество пользователей, которые совершат покупку, но менее, чем на 3 п.п."
   ]
  }
 ],
 "metadata": {
  "ExecuteTimeLog": [
   {
    "duration": 390,
    "start_time": "2025-05-14T19:05:34.112Z"
   },
   {
    "duration": 129,
    "start_time": "2025-05-14T19:05:35.570Z"
   },
   {
    "duration": 23,
    "start_time": "2025-05-14T19:05:36.744Z"
   },
   {
    "duration": 7,
    "start_time": "2025-05-14T19:11:31.825Z"
   },
   {
    "duration": 6,
    "start_time": "2025-05-14T19:11:47.245Z"
   },
   {
    "duration": 6,
    "start_time": "2025-05-14T19:14:01.110Z"
   },
   {
    "duration": 11,
    "start_time": "2025-05-14T19:18:07.727Z"
   },
   {
    "duration": 80,
    "start_time": "2025-05-14T19:19:56.485Z"
   },
   {
    "duration": 506,
    "start_time": "2025-05-14T19:20:17.060Z"
   },
   {
    "duration": 136,
    "start_time": "2025-05-14T19:20:17.874Z"
   },
   {
    "duration": 120,
    "start_time": "2025-05-14T19:20:40.859Z"
   },
   {
    "duration": 306,
    "start_time": "2025-05-14T19:31:27.304Z"
   },
   {
    "duration": 20,
    "start_time": "2025-05-14T19:36:07.819Z"
   },
   {
    "duration": 15,
    "start_time": "2025-05-14T19:36:38.599Z"
   },
   {
    "duration": 15,
    "start_time": "2025-05-14T19:37:57.058Z"
   },
   {
    "duration": 394,
    "start_time": "2025-05-18T09:44:11.057Z"
   },
   {
    "duration": 64,
    "start_time": "2025-05-18T09:44:11.454Z"
   },
   {
    "duration": 17,
    "start_time": "2025-05-18T09:44:11.520Z"
   },
   {
    "duration": 10,
    "start_time": "2025-05-18T09:44:11.539Z"
   },
   {
    "duration": 6,
    "start_time": "2025-05-18T09:44:11.551Z"
   },
   {
    "duration": 478,
    "start_time": "2025-05-18T09:44:11.559Z"
   },
   {
    "duration": 139,
    "start_time": "2025-05-18T09:44:12.039Z"
   },
   {
    "duration": 24,
    "start_time": "2025-05-18T09:44:12.180Z"
   },
   {
    "duration": 64,
    "start_time": "2025-05-18T09:44:12.206Z"
   },
   {
    "duration": 1772,
    "start_time": "2025-05-18T09:44:12.271Z"
   },
   {
    "duration": 3,
    "start_time": "2025-05-18T10:01:52.378Z"
   },
   {
    "duration": 12,
    "start_time": "2025-05-18T10:10:16.857Z"
   },
   {
    "duration": 1097,
    "start_time": "2025-05-18T10:10:18.365Z"
   },
   {
    "duration": 8,
    "start_time": "2025-05-18T10:10:28.232Z"
   },
   {
    "duration": 15,
    "start_time": "2025-05-18T10:10:46.656Z"
   },
   {
    "duration": 12,
    "start_time": "2025-05-18T10:11:15.380Z"
   },
   {
    "duration": 13,
    "start_time": "2025-05-18T10:11:59.897Z"
   },
   {
    "duration": 12,
    "start_time": "2025-05-18T10:12:03.766Z"
   },
   {
    "duration": 13,
    "start_time": "2025-05-18T10:12:11.868Z"
   },
   {
    "duration": 13,
    "start_time": "2025-05-18T10:12:42.521Z"
   },
   {
    "duration": 284,
    "start_time": "2025-05-18T10:37:54.995Z"
   },
   {
    "duration": 409,
    "start_time": "2025-05-18T17:02:53.288Z"
   },
   {
    "duration": 50,
    "start_time": "2025-05-18T17:02:53.700Z"
   },
   {
    "duration": 17,
    "start_time": "2025-05-18T17:02:53.751Z"
   },
   {
    "duration": 8,
    "start_time": "2025-05-18T17:02:53.769Z"
   },
   {
    "duration": 11,
    "start_time": "2025-05-18T17:02:53.779Z"
   },
   {
    "duration": 442,
    "start_time": "2025-05-18T17:02:53.792Z"
   },
   {
    "duration": 143,
    "start_time": "2025-05-18T17:02:54.236Z"
   },
   {
    "duration": 3,
    "start_time": "2025-05-18T17:02:54.380Z"
   },
   {
    "duration": 74,
    "start_time": "2025-05-18T17:02:54.384Z"
   },
   {
    "duration": 11,
    "start_time": "2025-05-18T17:02:54.460Z"
   },
   {
    "duration": 21,
    "start_time": "2025-05-18T17:02:54.473Z"
   },
   {
    "duration": 11,
    "start_time": "2025-05-18T17:02:54.496Z"
   },
   {
    "duration": 342,
    "start_time": "2025-05-18T17:02:54.509Z"
   },
   {
    "duration": 1706,
    "start_time": "2025-05-18T17:02:54.854Z"
   },
   {
    "duration": 82,
    "start_time": "2025-05-18T17:09:01.611Z"
   },
   {
    "duration": 476,
    "start_time": "2025-05-18T17:09:34.772Z"
   },
   {
    "duration": 52,
    "start_time": "2025-05-18T17:09:35.885Z"
   },
   {
    "duration": 13,
    "start_time": "2025-05-18T17:11:22.340Z"
   },
   {
    "duration": 15,
    "start_time": "2025-05-18T17:12:15.634Z"
   },
   {
    "duration": 12,
    "start_time": "2025-05-18T17:12:41.607Z"
   },
   {
    "duration": 10,
    "start_time": "2025-05-18T17:13:05.936Z"
   },
   {
    "duration": 13,
    "start_time": "2025-05-18T17:13:31.470Z"
   },
   {
    "duration": 11,
    "start_time": "2025-05-18T17:14:09.773Z"
   },
   {
    "duration": 413,
    "start_time": "2025-05-18T18:19:29.263Z"
   },
   {
    "duration": 86,
    "start_time": "2025-05-18T18:19:29.678Z"
   },
   {
    "duration": 14,
    "start_time": "2025-05-18T18:19:29.766Z"
   },
   {
    "duration": 5,
    "start_time": "2025-05-18T18:19:29.783Z"
   },
   {
    "duration": 6,
    "start_time": "2025-05-18T18:19:29.790Z"
   },
   {
    "duration": 447,
    "start_time": "2025-05-18T18:19:29.798Z"
   },
   {
    "duration": 132,
    "start_time": "2025-05-18T18:19:30.247Z"
   },
   {
    "duration": 2,
    "start_time": "2025-05-18T18:19:30.381Z"
   },
   {
    "duration": 111,
    "start_time": "2025-05-18T18:19:30.385Z"
   },
   {
    "duration": 13,
    "start_time": "2025-05-18T18:19:30.498Z"
   },
   {
    "duration": 16,
    "start_time": "2025-05-18T18:19:30.512Z"
   },
   {
    "duration": 11,
    "start_time": "2025-05-18T18:19:30.531Z"
   },
   {
    "duration": 273,
    "start_time": "2025-05-18T18:19:30.544Z"
   },
   {
    "duration": 524,
    "start_time": "2025-05-18T18:19:30.819Z"
   },
   {
    "duration": 19,
    "start_time": "2025-05-18T18:19:31.344Z"
   },
   {
    "duration": 1656,
    "start_time": "2025-05-18T18:19:31.365Z"
   },
   {
    "duration": 13,
    "start_time": "2025-05-18T18:37:08.667Z"
   },
   {
    "duration": 411,
    "start_time": "2025-05-19T18:44:38.776Z"
   },
   {
    "duration": 61,
    "start_time": "2025-05-19T18:44:39.189Z"
   },
   {
    "duration": 16,
    "start_time": "2025-05-19T18:44:39.251Z"
   },
   {
    "duration": 6,
    "start_time": "2025-05-19T18:44:39.268Z"
   },
   {
    "duration": 5,
    "start_time": "2025-05-19T18:44:39.277Z"
   },
   {
    "duration": 472,
    "start_time": "2025-05-19T18:44:39.284Z"
   },
   {
    "duration": 140,
    "start_time": "2025-05-19T18:44:39.758Z"
   },
   {
    "duration": 13,
    "start_time": "2025-05-19T18:44:39.904Z"
   },
   {
    "duration": 12,
    "start_time": "2025-05-19T18:44:39.922Z"
   },
   {
    "duration": 6,
    "start_time": "2025-05-19T18:44:39.936Z"
   },
   {
    "duration": 18,
    "start_time": "2025-05-19T18:44:39.943Z"
   },
   {
    "duration": 12,
    "start_time": "2025-05-19T18:44:39.962Z"
   },
   {
    "duration": 342,
    "start_time": "2025-05-19T18:44:39.975Z"
   },
   {
    "duration": 488,
    "start_time": "2025-05-19T18:44:40.320Z"
   },
   {
    "duration": 15,
    "start_time": "2025-05-19T18:44:40.818Z"
   },
   {
    "duration": 1977,
    "start_time": "2025-05-19T18:44:40.835Z"
   },
   {
    "duration": 13,
    "start_time": "2025-05-19T18:59:15.653Z"
   },
   {
    "duration": 137,
    "start_time": "2025-05-19T18:59:32.447Z"
   },
   {
    "duration": 15,
    "start_time": "2025-05-19T19:00:20.601Z"
   },
   {
    "duration": 17,
    "start_time": "2025-05-19T19:13:45.664Z"
   },
   {
    "duration": 118,
    "start_time": "2025-05-19T19:14:01.457Z"
   },
   {
    "duration": 12,
    "start_time": "2025-05-19T19:14:33.379Z"
   },
   {
    "duration": 5,
    "start_time": "2025-05-19T19:20:20.092Z"
   },
   {
    "duration": 459,
    "start_time": "2025-05-20T08:18:58.461Z"
   },
   {
    "duration": 93,
    "start_time": "2025-05-20T08:18:58.922Z"
   },
   {
    "duration": 17,
    "start_time": "2025-05-20T08:18:59.017Z"
   },
   {
    "duration": 12,
    "start_time": "2025-05-20T08:18:59.036Z"
   },
   {
    "duration": 6,
    "start_time": "2025-05-20T08:18:59.051Z"
   },
   {
    "duration": 499,
    "start_time": "2025-05-20T08:18:59.064Z"
   },
   {
    "duration": 151,
    "start_time": "2025-05-20T08:18:59.566Z"
   },
   {
    "duration": 3,
    "start_time": "2025-05-20T08:18:59.719Z"
   },
   {
    "duration": 15,
    "start_time": "2025-05-20T08:18:59.724Z"
   },
   {
    "duration": 23,
    "start_time": "2025-05-20T08:18:59.741Z"
   },
   {
    "duration": 61,
    "start_time": "2025-05-20T08:18:59.766Z"
   },
   {
    "duration": 332,
    "start_time": "2025-05-20T08:18:59.829Z"
   },
   {
    "duration": 428,
    "start_time": "2025-05-20T08:19:00.163Z"
   },
   {
    "duration": 508,
    "start_time": "2025-05-20T08:19:00.594Z"
   },
   {
    "duration": 17,
    "start_time": "2025-05-20T08:19:01.104Z"
   },
   {
    "duration": 1737,
    "start_time": "2025-05-20T08:19:01.123Z"
   },
   {
    "duration": 15,
    "start_time": "2025-05-20T08:19:02.862Z"
   },
   {
    "duration": 108,
    "start_time": "2025-05-20T08:19:02.879Z"
   },
   {
    "duration": 21,
    "start_time": "2025-05-20T08:19:02.989Z"
   },
   {
    "duration": 142,
    "start_time": "2025-05-20T08:19:03.012Z"
   },
   {
    "duration": 0,
    "start_time": "2025-05-20T08:19:03.156Z"
   },
   {
    "duration": 56,
    "start_time": "2025-05-20T08:24:52.613Z"
   },
   {
    "duration": 6,
    "start_time": "2025-05-20T08:25:33.484Z"
   },
   {
    "duration": 14,
    "start_time": "2025-05-20T08:25:38.066Z"
   },
   {
    "duration": 14,
    "start_time": "2025-05-20T08:25:45.716Z"
   },
   {
    "duration": 6,
    "start_time": "2025-05-20T08:26:15.155Z"
   },
   {
    "duration": 10,
    "start_time": "2025-05-20T08:26:26.113Z"
   },
   {
    "duration": 145,
    "start_time": "2025-05-20T08:30:00.574Z"
   },
   {
    "duration": 13,
    "start_time": "2025-05-20T08:35:57.498Z"
   },
   {
    "duration": 5,
    "start_time": "2025-05-20T08:44:38.015Z"
   },
   {
    "duration": 11,
    "start_time": "2025-05-20T08:45:46.779Z"
   },
   {
    "duration": 9,
    "start_time": "2025-05-20T08:48:26.062Z"
   },
   {
    "duration": 12,
    "start_time": "2025-05-20T08:48:41.910Z"
   },
   {
    "duration": 8,
    "start_time": "2025-05-20T08:48:50.518Z"
   },
   {
    "duration": 99,
    "start_time": "2025-05-20T08:49:23.361Z"
   },
   {
    "duration": 6,
    "start_time": "2025-05-20T09:05:43.143Z"
   },
   {
    "duration": 10,
    "start_time": "2025-05-20T09:07:16.825Z"
   },
   {
    "duration": 15,
    "start_time": "2025-05-20T09:24:39.589Z"
   },
   {
    "duration": 8,
    "start_time": "2025-05-20T09:25:15.027Z"
   },
   {
    "duration": 11,
    "start_time": "2025-05-20T09:26:16.827Z"
   },
   {
    "duration": 88,
    "start_time": "2025-05-20T09:33:17.622Z"
   },
   {
    "duration": 455,
    "start_time": "2025-05-20T09:36:39.641Z"
   },
   {
    "duration": 81,
    "start_time": "2025-05-20T09:36:40.098Z"
   },
   {
    "duration": 16,
    "start_time": "2025-05-20T09:36:40.181Z"
   },
   {
    "duration": 76,
    "start_time": "2025-05-20T09:36:40.199Z"
   },
   {
    "duration": 70,
    "start_time": "2025-05-20T09:36:40.276Z"
   },
   {
    "duration": 275,
    "start_time": "2025-05-20T09:36:40.348Z"
   },
   {
    "duration": 138,
    "start_time": "2025-05-20T09:36:40.624Z"
   },
   {
    "duration": 3,
    "start_time": "2025-05-20T09:36:40.764Z"
   },
   {
    "duration": 14,
    "start_time": "2025-05-20T09:36:40.768Z"
   },
   {
    "duration": 6,
    "start_time": "2025-05-20T09:36:40.785Z"
   },
   {
    "duration": 14,
    "start_time": "2025-05-20T09:36:40.793Z"
   },
   {
    "duration": 13,
    "start_time": "2025-05-20T09:36:40.808Z"
   },
   {
    "duration": 339,
    "start_time": "2025-05-20T09:36:40.823Z"
   },
   {
    "duration": 486,
    "start_time": "2025-05-20T09:36:41.165Z"
   },
   {
    "duration": 20,
    "start_time": "2025-05-20T09:36:41.653Z"
   },
   {
    "duration": 1780,
    "start_time": "2025-05-20T09:36:41.674Z"
   },
   {
    "duration": 13,
    "start_time": "2025-05-20T09:36:43.456Z"
   },
   {
    "duration": 215,
    "start_time": "2025-05-20T09:36:43.471Z"
   },
   {
    "duration": 5,
    "start_time": "2025-05-20T09:36:43.688Z"
   },
   {
    "duration": 122,
    "start_time": "2025-05-20T09:36:43.695Z"
   },
   {
    "duration": 8,
    "start_time": "2025-05-20T09:36:43.819Z"
   },
   {
    "duration": 93,
    "start_time": "2025-05-20T09:36:43.829Z"
   },
   {
    "duration": 5,
    "start_time": "2025-05-20T09:36:43.924Z"
   },
   {
    "duration": 51,
    "start_time": "2025-05-20T09:36:43.930Z"
   },
   {
    "duration": 10,
    "start_time": "2025-05-20T09:36:43.983Z"
   },
   {
    "duration": 20,
    "start_time": "2025-05-20T09:36:43.995Z"
   },
   {
    "duration": 113,
    "start_time": "2025-05-20T09:36:44.017Z"
   },
   {
    "duration": 10,
    "start_time": "2025-05-20T09:38:10.153Z"
   },
   {
    "duration": 23,
    "start_time": "2025-05-20T09:40:36.826Z"
   },
   {
    "duration": 17,
    "start_time": "2025-05-20T09:58:09.018Z"
   },
   {
    "duration": 7,
    "start_time": "2025-05-20T09:58:55.946Z"
   },
   {
    "duration": 401,
    "start_time": "2025-05-20T11:15:52.604Z"
   },
   {
    "duration": 107,
    "start_time": "2025-05-20T11:15:53.007Z"
   },
   {
    "duration": 14,
    "start_time": "2025-05-20T11:15:53.116Z"
   },
   {
    "duration": 5,
    "start_time": "2025-05-20T11:15:53.132Z"
   },
   {
    "duration": 7,
    "start_time": "2025-05-20T11:15:53.139Z"
   },
   {
    "duration": 425,
    "start_time": "2025-05-20T11:15:53.147Z"
   },
   {
    "duration": 122,
    "start_time": "2025-05-20T11:15:53.574Z"
   },
   {
    "duration": 3,
    "start_time": "2025-05-20T11:15:53.698Z"
   },
   {
    "duration": 36,
    "start_time": "2025-05-20T11:15:53.703Z"
   },
   {
    "duration": 6,
    "start_time": "2025-05-20T11:15:53.740Z"
   },
   {
    "duration": 43,
    "start_time": "2025-05-20T11:15:53.748Z"
   },
   {
    "duration": 26,
    "start_time": "2025-05-20T11:15:53.793Z"
   },
   {
    "duration": 268,
    "start_time": "2025-05-20T11:15:53.820Z"
   },
   {
    "duration": 524,
    "start_time": "2025-05-20T11:15:54.091Z"
   },
   {
    "duration": 14,
    "start_time": "2025-05-20T11:15:54.617Z"
   },
   {
    "duration": 1745,
    "start_time": "2025-05-20T11:15:54.637Z"
   },
   {
    "duration": 12,
    "start_time": "2025-05-20T11:15:56.384Z"
   },
   {
    "duration": 125,
    "start_time": "2025-05-20T11:15:56.398Z"
   },
   {
    "duration": 13,
    "start_time": "2025-05-20T11:15:56.525Z"
   },
   {
    "duration": 10,
    "start_time": "2025-05-20T11:15:56.539Z"
   },
   {
    "duration": 7,
    "start_time": "2025-05-20T11:15:56.551Z"
   },
   {
    "duration": 98,
    "start_time": "2025-05-20T11:15:56.559Z"
   },
   {
    "duration": 5,
    "start_time": "2025-05-20T11:15:56.659Z"
   },
   {
    "duration": 14,
    "start_time": "2025-05-20T11:15:56.665Z"
   },
   {
    "duration": 7,
    "start_time": "2025-05-20T11:15:56.681Z"
   },
   {
    "duration": 9,
    "start_time": "2025-05-20T11:15:56.690Z"
   },
   {
    "duration": 106,
    "start_time": "2025-05-20T11:15:56.701Z"
   },
   {
    "duration": 92,
    "start_time": "2025-05-20T11:15:56.808Z"
   },
   {
    "duration": 6,
    "start_time": "2025-05-20T11:15:56.902Z"
   },
   {
    "duration": 40,
    "start_time": "2025-05-20T11:15:56.909Z"
   },
   {
    "duration": 1156,
    "start_time": "2025-05-20T11:29:11.167Z"
   },
   {
    "duration": 7,
    "start_time": "2025-05-20T11:29:14.275Z"
   },
   {
    "duration": 22,
    "start_time": "2025-05-20T11:29:19.912Z"
   },
   {
    "duration": 25,
    "start_time": "2025-05-20T11:30:00.733Z"
   },
   {
    "duration": 17,
    "start_time": "2025-05-20T11:30:32.654Z"
   },
   {
    "duration": 26,
    "start_time": "2025-05-20T11:31:14.394Z"
   },
   {
    "duration": 14,
    "start_time": "2025-05-20T11:36:33.377Z"
   },
   {
    "duration": 14,
    "start_time": "2025-05-20T11:38:54.947Z"
   },
   {
    "duration": 11,
    "start_time": "2025-05-20T11:39:05.112Z"
   },
   {
    "duration": 13,
    "start_time": "2025-05-20T11:39:25.058Z"
   },
   {
    "duration": 13,
    "start_time": "2025-05-20T12:18:19.879Z"
   },
   {
    "duration": 12,
    "start_time": "2025-05-20T12:23:28.987Z"
   },
   {
    "duration": 36,
    "start_time": "2025-05-20T12:25:29.255Z"
   },
   {
    "duration": 18,
    "start_time": "2025-05-20T12:25:39.194Z"
   },
   {
    "duration": 51,
    "start_time": "2025-05-20T12:28:59.651Z"
   },
   {
    "duration": 53,
    "start_time": "2025-05-20T12:29:11.304Z"
   },
   {
    "duration": 51,
    "start_time": "2025-05-20T12:32:21.314Z"
   },
   {
    "duration": 97,
    "start_time": "2025-05-20T12:32:55.349Z"
   },
   {
    "duration": 43,
    "start_time": "2025-05-20T12:33:16.182Z"
   },
   {
    "duration": 60,
    "start_time": "2025-05-20T12:34:14.230Z"
   },
   {
    "duration": 58,
    "start_time": "2025-05-20T12:34:24.031Z"
   },
   {
    "duration": 52,
    "start_time": "2025-05-20T12:34:30.043Z"
   },
   {
    "duration": 21,
    "start_time": "2025-05-20T12:35:05.299Z"
   },
   {
    "duration": 15,
    "start_time": "2025-05-20T12:36:42.892Z"
   },
   {
    "duration": 13,
    "start_time": "2025-05-20T12:36:54.158Z"
   },
   {
    "duration": 372,
    "start_time": "2025-05-20T17:41:02.999Z"
   },
   {
    "duration": 87,
    "start_time": "2025-05-20T17:41:03.373Z"
   },
   {
    "duration": 14,
    "start_time": "2025-05-20T17:41:03.461Z"
   },
   {
    "duration": 28,
    "start_time": "2025-05-20T17:41:03.477Z"
   },
   {
    "duration": 9,
    "start_time": "2025-05-20T17:41:03.507Z"
   },
   {
    "duration": 416,
    "start_time": "2025-05-20T17:41:03.518Z"
   },
   {
    "duration": 123,
    "start_time": "2025-05-20T17:41:03.935Z"
   },
   {
    "duration": 3,
    "start_time": "2025-05-20T17:41:04.061Z"
   },
   {
    "duration": 36,
    "start_time": "2025-05-20T17:41:04.065Z"
   },
   {
    "duration": 14,
    "start_time": "2025-05-20T17:41:04.102Z"
   },
   {
    "duration": 22,
    "start_time": "2025-05-20T17:41:04.118Z"
   },
   {
    "duration": 26,
    "start_time": "2025-05-20T17:41:04.142Z"
   },
   {
    "duration": 278,
    "start_time": "2025-05-20T17:41:04.170Z"
   },
   {
    "duration": 483,
    "start_time": "2025-05-20T17:41:04.451Z"
   },
   {
    "duration": 27,
    "start_time": "2025-05-20T17:41:04.935Z"
   },
   {
    "duration": 1474,
    "start_time": "2025-05-20T17:41:04.964Z"
   },
   {
    "duration": 23,
    "start_time": "2025-05-20T17:41:06.439Z"
   },
   {
    "duration": 156,
    "start_time": "2025-05-20T17:41:06.464Z"
   },
   {
    "duration": 4,
    "start_time": "2025-05-20T17:41:06.622Z"
   },
   {
    "duration": 102,
    "start_time": "2025-05-20T17:41:06.627Z"
   },
   {
    "duration": 11,
    "start_time": "2025-05-20T17:41:06.731Z"
   },
   {
    "duration": 82,
    "start_time": "2025-05-20T17:41:06.744Z"
   },
   {
    "duration": 4,
    "start_time": "2025-05-20T17:41:06.828Z"
   },
   {
    "duration": 61,
    "start_time": "2025-05-20T17:41:06.834Z"
   },
   {
    "duration": 11,
    "start_time": "2025-05-20T17:41:06.896Z"
   },
   {
    "duration": 11,
    "start_time": "2025-05-20T17:41:06.908Z"
   },
   {
    "duration": 95,
    "start_time": "2025-05-20T17:41:06.920Z"
   },
   {
    "duration": 11,
    "start_time": "2025-05-20T17:41:07.017Z"
   },
   {
    "duration": 25,
    "start_time": "2025-05-20T17:41:07.029Z"
   },
   {
    "duration": 78,
    "start_time": "2025-05-20T17:41:07.055Z"
   },
   {
    "duration": 61,
    "start_time": "2025-05-20T17:41:07.135Z"
   },
   {
    "duration": 116,
    "start_time": "2025-05-20T17:41:07.197Z"
   },
   {
    "duration": 38,
    "start_time": "2025-05-20T17:41:07.315Z"
   },
   {
    "duration": 19,
    "start_time": "2025-05-20T17:41:07.354Z"
   },
   {
    "duration": 53,
    "start_time": "2025-05-20T17:41:07.374Z"
   },
   {
    "duration": 35,
    "start_time": "2025-05-20T17:41:07.428Z"
   },
   {
    "duration": 10,
    "start_time": "2025-05-20T17:41:07.465Z"
   },
   {
    "duration": 8,
    "start_time": "2025-05-20T17:51:32.131Z"
   },
   {
    "duration": 8,
    "start_time": "2025-05-20T17:51:44.381Z"
   },
   {
    "duration": 3,
    "start_time": "2025-05-20T18:07:49.596Z"
   },
   {
    "duration": 8,
    "start_time": "2025-05-20T18:11:53.897Z"
   },
   {
    "duration": 8,
    "start_time": "2025-05-20T18:19:04.305Z"
   },
   {
    "duration": 9,
    "start_time": "2025-05-20T18:24:32.559Z"
   },
   {
    "duration": 8,
    "start_time": "2025-05-20T18:25:45.241Z"
   },
   {
    "duration": 6,
    "start_time": "2025-05-20T18:25:57.204Z"
   },
   {
    "duration": 119,
    "start_time": "2025-05-20T18:26:11.690Z"
   },
   {
    "duration": 6,
    "start_time": "2025-05-20T18:26:15.591Z"
   },
   {
    "duration": 7,
    "start_time": "2025-05-20T18:26:56.880Z"
   },
   {
    "duration": 363,
    "start_time": "2025-05-20T18:45:37.399Z"
   },
   {
    "duration": 143,
    "start_time": "2025-05-20T18:45:37.764Z"
   },
   {
    "duration": 13,
    "start_time": "2025-05-20T18:45:37.909Z"
   },
   {
    "duration": 17,
    "start_time": "2025-05-20T18:45:37.923Z"
   },
   {
    "duration": 5,
    "start_time": "2025-05-20T18:45:37.942Z"
   },
   {
    "duration": 237,
    "start_time": "2025-05-20T18:45:37.948Z"
   },
   {
    "duration": 108,
    "start_time": "2025-05-20T18:45:38.186Z"
   },
   {
    "duration": 3,
    "start_time": "2025-05-20T18:45:38.295Z"
   },
   {
    "duration": 12,
    "start_time": "2025-05-20T18:45:38.299Z"
   },
   {
    "duration": 5,
    "start_time": "2025-05-20T18:45:38.312Z"
   },
   {
    "duration": 13,
    "start_time": "2025-05-20T18:45:38.318Z"
   },
   {
    "duration": 30,
    "start_time": "2025-05-20T18:45:38.332Z"
   },
   {
    "duration": 241,
    "start_time": "2025-05-20T18:45:38.364Z"
   },
   {
    "duration": 444,
    "start_time": "2025-05-20T18:45:38.608Z"
   },
   {
    "duration": 16,
    "start_time": "2025-05-20T18:45:39.053Z"
   },
   {
    "duration": 1476,
    "start_time": "2025-05-20T18:45:39.071Z"
   },
   {
    "duration": 22,
    "start_time": "2025-05-20T18:45:40.549Z"
   },
   {
    "duration": 127,
    "start_time": "2025-05-20T18:45:40.572Z"
   },
   {
    "duration": 5,
    "start_time": "2025-05-20T18:45:40.701Z"
   },
   {
    "duration": 14,
    "start_time": "2025-05-20T18:45:40.708Z"
   },
   {
    "duration": 8,
    "start_time": "2025-05-20T18:45:40.723Z"
   },
   {
    "duration": 96,
    "start_time": "2025-05-20T18:45:40.732Z"
   },
   {
    "duration": 6,
    "start_time": "2025-05-20T18:45:40.830Z"
   },
   {
    "duration": 28,
    "start_time": "2025-05-20T18:45:40.837Z"
   },
   {
    "duration": 8,
    "start_time": "2025-05-20T18:45:40.866Z"
   },
   {
    "duration": 17,
    "start_time": "2025-05-20T18:45:40.876Z"
   },
   {
    "duration": 155,
    "start_time": "2025-05-20T18:45:40.894Z"
   },
   {
    "duration": 12,
    "start_time": "2025-05-20T18:45:41.051Z"
   },
   {
    "duration": 8,
    "start_time": "2025-05-20T18:45:41.065Z"
   },
   {
    "duration": 29,
    "start_time": "2025-05-20T18:45:41.074Z"
   },
   {
    "duration": 8,
    "start_time": "2025-05-20T18:45:41.104Z"
   },
   {
    "duration": 40,
    "start_time": "2025-05-20T18:45:41.113Z"
   },
   {
    "duration": 42,
    "start_time": "2025-05-20T18:45:41.155Z"
   },
   {
    "duration": 18,
    "start_time": "2025-05-20T18:45:41.198Z"
   },
   {
    "duration": 66,
    "start_time": "2025-05-20T18:45:41.218Z"
   },
   {
    "duration": 16,
    "start_time": "2025-05-20T18:45:41.285Z"
   },
   {
    "duration": 8,
    "start_time": "2025-05-20T18:45:41.303Z"
   },
   {
    "duration": 15,
    "start_time": "2025-05-20T18:45:41.313Z"
   },
   {
    "duration": 6,
    "start_time": "2025-05-20T18:45:41.330Z"
   },
   {
    "duration": 25,
    "start_time": "2025-05-20T18:45:41.337Z"
   },
   {
    "duration": 19,
    "start_time": "2025-05-20T18:45:41.365Z"
   },
   {
    "duration": 426,
    "start_time": "2025-05-21T09:33:27.541Z"
   },
   {
    "duration": 118,
    "start_time": "2025-05-21T09:33:27.969Z"
   },
   {
    "duration": 13,
    "start_time": "2025-05-21T09:33:28.089Z"
   },
   {
    "duration": 5,
    "start_time": "2025-05-21T09:33:28.104Z"
   },
   {
    "duration": 9,
    "start_time": "2025-05-21T09:33:28.110Z"
   },
   {
    "duration": 227,
    "start_time": "2025-05-21T09:33:28.121Z"
   },
   {
    "duration": 119,
    "start_time": "2025-05-21T09:33:28.350Z"
   },
   {
    "duration": 2,
    "start_time": "2025-05-21T09:33:28.471Z"
   },
   {
    "duration": 16,
    "start_time": "2025-05-21T09:33:28.475Z"
   },
   {
    "duration": 6,
    "start_time": "2025-05-21T09:33:28.493Z"
   },
   {
    "duration": 14,
    "start_time": "2025-05-21T09:33:28.501Z"
   },
   {
    "duration": 11,
    "start_time": "2025-05-21T09:33:28.517Z"
   },
   {
    "duration": 306,
    "start_time": "2025-05-21T09:33:28.529Z"
   },
   {
    "duration": 494,
    "start_time": "2025-05-21T09:33:28.837Z"
   },
   {
    "duration": 6,
    "start_time": "2025-05-21T09:33:29.332Z"
   },
   {
    "duration": 21,
    "start_time": "2025-05-21T09:33:29.340Z"
   },
   {
    "duration": 1557,
    "start_time": "2025-05-21T09:33:29.364Z"
   },
   {
    "duration": 12,
    "start_time": "2025-05-21T09:33:30.923Z"
   },
   {
    "duration": 127,
    "start_time": "2025-05-21T09:33:30.936Z"
   },
   {
    "duration": 4,
    "start_time": "2025-05-21T09:33:31.065Z"
   },
   {
    "duration": 67,
    "start_time": "2025-05-21T09:33:31.071Z"
   },
   {
    "duration": 37,
    "start_time": "2025-05-21T09:33:31.139Z"
   },
   {
    "duration": 98,
    "start_time": "2025-05-21T09:33:31.178Z"
   },
   {
    "duration": 23,
    "start_time": "2025-05-21T09:33:31.278Z"
   },
   {
    "duration": 32,
    "start_time": "2025-05-21T09:33:31.303Z"
   },
   {
    "duration": 33,
    "start_time": "2025-05-21T09:33:31.337Z"
   },
   {
    "duration": 10,
    "start_time": "2025-05-21T09:33:31.371Z"
   },
   {
    "duration": 114,
    "start_time": "2025-05-21T09:33:31.384Z"
   },
   {
    "duration": 12,
    "start_time": "2025-05-21T09:33:31.500Z"
   },
   {
    "duration": 31,
    "start_time": "2025-05-21T09:33:31.514Z"
   },
   {
    "duration": 43,
    "start_time": "2025-05-21T09:33:31.547Z"
   },
   {
    "duration": 9,
    "start_time": "2025-05-21T09:33:31.591Z"
   },
   {
    "duration": 25,
    "start_time": "2025-05-21T09:33:31.606Z"
   },
   {
    "duration": 70,
    "start_time": "2025-05-21T09:33:31.632Z"
   },
   {
    "duration": 22,
    "start_time": "2025-05-21T09:33:31.704Z"
   },
   {
    "duration": 121,
    "start_time": "2025-05-21T09:33:31.727Z"
   },
   {
    "duration": 22,
    "start_time": "2025-05-21T09:33:31.850Z"
   },
   {
    "duration": 9,
    "start_time": "2025-05-21T09:33:31.873Z"
   },
   {
    "duration": 13,
    "start_time": "2025-05-21T09:33:31.883Z"
   },
   {
    "duration": 3,
    "start_time": "2025-05-21T09:33:31.898Z"
   },
   {
    "duration": 36,
    "start_time": "2025-05-21T09:33:31.902Z"
   },
   {
    "duration": 4,
    "start_time": "2025-05-21T09:33:55.060Z"
   },
   {
    "duration": 4,
    "start_time": "2025-05-21T09:33:56.884Z"
   },
   {
    "duration": 49,
    "start_time": "2025-05-23T11:54:46.534Z"
   },
   {
    "duration": 6,
    "start_time": "2025-05-23T11:54:51.026Z"
   },
   {
    "duration": 375,
    "start_time": "2025-05-23T11:54:58.603Z"
   },
   {
    "duration": 169,
    "start_time": "2025-05-23T11:55:00.064Z"
   },
   {
    "duration": 18,
    "start_time": "2025-05-23T11:55:03.828Z"
   },
   {
    "duration": 455,
    "start_time": "2025-05-23T13:23:04.619Z"
   },
   {
    "duration": 50,
    "start_time": "2025-05-23T13:23:05.773Z"
   },
   {
    "duration": 15,
    "start_time": "2025-05-23T13:23:07.860Z"
   },
   {
    "duration": 6,
    "start_time": "2025-05-23T13:23:11.239Z"
   },
   {
    "duration": 6,
    "start_time": "2025-05-23T13:23:13.315Z"
   },
   {
    "duration": 423,
    "start_time": "2025-05-23T13:23:15.063Z"
   },
   {
    "duration": 125,
    "start_time": "2025-05-23T13:23:18.106Z"
   },
   {
    "duration": 3,
    "start_time": "2025-05-23T13:23:20.447Z"
   },
   {
    "duration": 3,
    "start_time": "2025-05-23T13:23:20.807Z"
   },
   {
    "duration": 2,
    "start_time": "2025-05-23T13:23:21.542Z"
   },
   {
    "duration": 15,
    "start_time": "2025-05-23T13:24:19.436Z"
   },
   {
    "duration": 13,
    "start_time": "2025-05-23T13:24:33.234Z"
   },
   {
    "duration": 284,
    "start_time": "2025-05-23T13:25:05.763Z"
   },
   {
    "duration": 572,
    "start_time": "2025-05-23T13:32:06.767Z"
   },
   {
    "duration": 1297,
    "start_time": "2025-05-23T14:16:32.311Z"
   },
   {
    "duration": 143,
    "start_time": "2025-05-23T14:16:35.685Z"
   },
   {
    "duration": 12,
    "start_time": "2025-05-23T14:16:37.498Z"
   },
   {
    "duration": 8,
    "start_time": "2025-05-23T14:16:42.737Z"
   },
   {
    "duration": 6,
    "start_time": "2025-05-23T14:16:44.124Z"
   },
   {
    "duration": 115,
    "start_time": "2025-05-23T14:17:14.887Z"
   },
   {
    "duration": 2,
    "start_time": "2025-05-23T14:17:18.752Z"
   },
   {
    "duration": 2,
    "start_time": "2025-05-23T14:17:19.162Z"
   },
   {
    "duration": 2,
    "start_time": "2025-05-23T14:17:19.515Z"
   },
   {
    "duration": 14,
    "start_time": "2025-05-23T14:19:14.944Z"
   },
   {
    "duration": 12,
    "start_time": "2025-05-23T14:19:16.014Z"
   },
   {
    "duration": 6427,
    "start_time": "2025-05-23T14:25:36.043Z"
   },
   {
    "duration": 6522,
    "start_time": "2025-05-23T14:26:59.081Z"
   },
   {
    "duration": 6255,
    "start_time": "2025-05-23T14:50:48.789Z"
   },
   {
    "duration": 7,
    "start_time": "2025-05-23T15:19:53.525Z"
   },
   {
    "duration": 103,
    "start_time": "2025-05-23T15:27:56.626Z"
   },
   {
    "duration": 1250,
    "start_time": "2025-05-23T15:28:22.451Z"
   },
   {
    "duration": 47,
    "start_time": "2025-05-23T15:28:25.627Z"
   },
   {
    "duration": 17,
    "start_time": "2025-05-23T15:28:27.532Z"
   },
   {
    "duration": 7,
    "start_time": "2025-05-23T15:28:32.313Z"
   },
   {
    "duration": 5,
    "start_time": "2025-05-23T15:28:35.116Z"
   },
   {
    "duration": 113,
    "start_time": "2025-05-23T15:28:37.932Z"
   },
   {
    "duration": 3,
    "start_time": "2025-05-23T15:28:51.349Z"
   },
   {
    "duration": 3,
    "start_time": "2025-05-23T15:28:53.156Z"
   },
   {
    "duration": 2,
    "start_time": "2025-05-23T15:28:54.351Z"
   },
   {
    "duration": 15,
    "start_time": "2025-05-23T15:29:24.280Z"
   },
   {
    "duration": 15,
    "start_time": "2025-05-23T15:29:25.168Z"
   },
   {
    "duration": 5860,
    "start_time": "2025-05-23T15:29:29.781Z"
   },
   {
    "duration": 7,
    "start_time": "2025-05-23T15:29:46.899Z"
   },
   {
    "duration": 111,
    "start_time": "2025-05-23T15:30:11.470Z"
   },
   {
    "duration": 8,
    "start_time": "2025-05-23T15:31:38.421Z"
   },
   {
    "duration": 1487,
    "start_time": "2025-05-23T15:36:00.472Z"
   },
   {
    "duration": 14,
    "start_time": "2025-05-23T15:36:03.277Z"
   },
   {
    "duration": 108,
    "start_time": "2025-05-23T15:36:05.044Z"
   },
   {
    "duration": 295,
    "start_time": "2025-05-23T15:38:05.317Z"
   },
   {
    "duration": 307,
    "start_time": "2025-05-23T15:38:15.411Z"
   },
   {
    "duration": 320,
    "start_time": "2025-05-23T15:40:31.616Z"
   },
   {
    "duration": 355,
    "start_time": "2025-05-23T15:40:36.351Z"
   },
   {
    "duration": 6,
    "start_time": "2025-05-23T15:40:41.566Z"
   },
   {
    "duration": 11,
    "start_time": "2025-05-23T15:40:50.141Z"
   },
   {
    "duration": 8,
    "start_time": "2025-05-23T15:40:55.416Z"
   },
   {
    "duration": 85,
    "start_time": "2025-05-23T15:40:56.193Z"
   },
   {
    "duration": 5,
    "start_time": "2025-05-23T15:41:06.054Z"
   },
   {
    "duration": 9,
    "start_time": "2025-05-23T15:41:06.616Z"
   },
   {
    "duration": 7,
    "start_time": "2025-05-23T15:41:08.079Z"
   },
   {
    "duration": 10,
    "start_time": "2025-05-23T15:41:09.248Z"
   },
   {
    "duration": 72,
    "start_time": "2025-05-23T15:41:12.697Z"
   },
   {
    "duration": 70,
    "start_time": "2025-05-23T15:41:29.588Z"
   },
   {
    "duration": 11,
    "start_time": "2025-05-23T15:42:11.862Z"
   },
   {
    "duration": 8,
    "start_time": "2025-05-23T15:42:13.013Z"
   },
   {
    "duration": 24,
    "start_time": "2025-05-23T15:42:27.300Z"
   },
   {
    "duration": 7,
    "start_time": "2025-05-23T15:42:33.163Z"
   },
   {
    "duration": 16,
    "start_time": "2025-05-23T15:42:35.895Z"
   },
   {
    "duration": 14,
    "start_time": "2025-05-23T15:42:42.534Z"
   },
   {
    "duration": 17,
    "start_time": "2025-05-23T15:45:58.776Z"
   },
   {
    "duration": 16,
    "start_time": "2025-05-23T15:48:49.022Z"
   },
   {
    "duration": 19,
    "start_time": "2025-05-23T15:50:17.836Z"
   },
   {
    "duration": 15,
    "start_time": "2025-05-23T15:50:32.830Z"
   },
   {
    "duration": 16,
    "start_time": "2025-05-23T15:52:52.239Z"
   },
   {
    "duration": 19,
    "start_time": "2025-05-23T15:52:56.560Z"
   },
   {
    "duration": 52,
    "start_time": "2025-05-23T15:53:02.747Z"
   },
   {
    "duration": 17,
    "start_time": "2025-05-23T15:53:08.193Z"
   },
   {
    "duration": 11,
    "start_time": "2025-05-23T15:53:09.805Z"
   },
   {
    "duration": 10,
    "start_time": "2025-05-23T15:53:23.134Z"
   },
   {
    "duration": 7,
    "start_time": "2025-05-23T15:55:34.075Z"
   },
   {
    "duration": 6,
    "start_time": "2025-05-23T15:56:17.799Z"
   },
   {
    "duration": 4,
    "start_time": "2025-05-23T15:56:28.302Z"
   },
   {
    "duration": 6,
    "start_time": "2025-05-23T15:56:32.421Z"
   },
   {
    "duration": 1455,
    "start_time": "2025-05-24T06:18:07.418Z"
   },
   {
    "duration": 86,
    "start_time": "2025-05-24T06:18:08.875Z"
   },
   {
    "duration": 15,
    "start_time": "2025-05-24T06:18:08.963Z"
   },
   {
    "duration": 6,
    "start_time": "2025-05-24T06:18:08.981Z"
   },
   {
    "duration": 5,
    "start_time": "2025-05-24T06:18:08.989Z"
   },
   {
    "duration": 154,
    "start_time": "2025-05-24T06:18:08.996Z"
   },
   {
    "duration": 3,
    "start_time": "2025-05-24T06:18:09.151Z"
   },
   {
    "duration": 69,
    "start_time": "2025-05-24T06:18:09.161Z"
   },
   {
    "duration": 12,
    "start_time": "2025-05-24T06:18:09.231Z"
   },
   {
    "duration": 14,
    "start_time": "2025-05-24T06:18:09.246Z"
   },
   {
    "duration": 13,
    "start_time": "2025-05-24T06:18:09.262Z"
   },
   {
    "duration": 6087,
    "start_time": "2025-05-24T06:18:09.277Z"
   },
   {
    "duration": 8,
    "start_time": "2025-05-24T06:18:15.366Z"
   },
   {
    "duration": 11,
    "start_time": "2025-05-24T06:18:15.376Z"
   },
   {
    "duration": 1645,
    "start_time": "2025-05-24T06:18:15.390Z"
   },
   {
    "duration": 23,
    "start_time": "2025-05-24T06:18:17.037Z"
   },
   {
    "duration": 128,
    "start_time": "2025-05-24T06:18:17.063Z"
   },
   {
    "duration": 369,
    "start_time": "2025-05-24T06:18:17.193Z"
   },
   {
    "duration": 419,
    "start_time": "2025-05-24T06:18:17.565Z"
   },
   {
    "duration": 7,
    "start_time": "2025-05-24T06:18:17.986Z"
   },
   {
    "duration": 42,
    "start_time": "2025-05-24T06:18:17.995Z"
   },
   {
    "duration": 15,
    "start_time": "2025-05-24T06:18:18.039Z"
   },
   {
    "duration": 103,
    "start_time": "2025-05-24T06:18:18.056Z"
   },
   {
    "duration": 5,
    "start_time": "2025-05-24T06:18:18.161Z"
   },
   {
    "duration": 106,
    "start_time": "2025-05-24T06:18:18.168Z"
   },
   {
    "duration": 30,
    "start_time": "2025-05-24T06:18:18.275Z"
   },
   {
    "duration": 14,
    "start_time": "2025-05-24T06:18:18.307Z"
   },
   {
    "duration": 85,
    "start_time": "2025-05-24T06:18:18.324Z"
   },
   {
    "duration": 12,
    "start_time": "2025-05-24T06:18:18.410Z"
   },
   {
    "duration": 10,
    "start_time": "2025-05-24T06:18:18.424Z"
   },
   {
    "duration": 42,
    "start_time": "2025-05-24T06:18:18.436Z"
   },
   {
    "duration": 7,
    "start_time": "2025-05-24T06:18:18.480Z"
   },
   {
    "duration": 17,
    "start_time": "2025-05-24T06:18:18.489Z"
   },
   {
    "duration": 20,
    "start_time": "2025-05-24T06:18:18.508Z"
   },
   {
    "duration": 89,
    "start_time": "2025-05-24T06:18:18.529Z"
   },
   {
    "duration": 20,
    "start_time": "2025-05-24T06:18:18.619Z"
   },
   {
    "duration": 29,
    "start_time": "2025-05-24T06:18:18.641Z"
   },
   {
    "duration": 78,
    "start_time": "2025-05-24T06:18:18.671Z"
   },
   {
    "duration": 79,
    "start_time": "2025-05-24T06:18:18.751Z"
   },
   {
    "duration": 16,
    "start_time": "2025-05-24T06:18:18.832Z"
   },
   {
    "duration": 25,
    "start_time": "2025-05-24T06:18:18.850Z"
   },
   {
    "duration": 15,
    "start_time": "2025-05-24T06:18:18.876Z"
   },
   {
    "duration": 246,
    "start_time": "2025-05-24T06:18:52.992Z"
   },
   {
    "duration": 304,
    "start_time": "2025-05-24T06:19:09.620Z"
   },
   {
    "duration": 1378,
    "start_time": "2025-05-24T07:51:56.744Z"
   },
   {
    "duration": 86,
    "start_time": "2025-05-24T07:51:58.124Z"
   },
   {
    "duration": 11,
    "start_time": "2025-05-24T07:51:58.212Z"
   },
   {
    "duration": 6,
    "start_time": "2025-05-24T07:51:58.225Z"
   },
   {
    "duration": 24,
    "start_time": "2025-05-24T07:51:58.232Z"
   },
   {
    "duration": 115,
    "start_time": "2025-05-24T07:51:58.257Z"
   },
   {
    "duration": 2,
    "start_time": "2025-05-24T07:51:58.374Z"
   },
   {
    "duration": 3,
    "start_time": "2025-05-24T07:51:58.378Z"
   },
   {
    "duration": 4,
    "start_time": "2025-05-24T07:51:58.382Z"
   },
   {
    "duration": 13,
    "start_time": "2025-05-24T07:51:58.389Z"
   },
   {
    "duration": 11,
    "start_time": "2025-05-24T07:51:58.403Z"
   },
   {
    "duration": 311,
    "start_time": "2025-05-24T07:51:58.416Z"
   },
   {
    "duration": 6,
    "start_time": "2025-05-24T07:51:58.729Z"
   },
   {
    "duration": 23,
    "start_time": "2025-05-24T07:51:58.736Z"
   },
   {
    "duration": 1551,
    "start_time": "2025-05-24T07:51:58.760Z"
   },
   {
    "duration": 13,
    "start_time": "2025-05-24T07:52:00.312Z"
   },
   {
    "duration": 141,
    "start_time": "2025-05-24T07:52:00.327Z"
   },
   {
    "duration": 335,
    "start_time": "2025-05-24T07:52:00.469Z"
   },
   {
    "duration": 386,
    "start_time": "2025-05-24T07:52:00.805Z"
   },
   {
    "duration": 5,
    "start_time": "2025-05-24T07:52:01.193Z"
   },
   {
    "duration": 16,
    "start_time": "2025-05-24T07:52:01.199Z"
   },
   {
    "duration": 26,
    "start_time": "2025-05-24T07:52:01.216Z"
   },
   {
    "duration": 96,
    "start_time": "2025-05-24T07:52:01.244Z"
   },
   {
    "duration": 4,
    "start_time": "2025-05-24T07:52:01.342Z"
   },
   {
    "duration": 20,
    "start_time": "2025-05-24T07:52:01.348Z"
   },
   {
    "duration": 22,
    "start_time": "2025-05-24T07:52:01.370Z"
   },
   {
    "duration": 9,
    "start_time": "2025-05-24T07:52:01.394Z"
   },
   {
    "duration": 186,
    "start_time": "2025-05-24T07:52:01.406Z"
   },
   {
    "duration": 16,
    "start_time": "2025-05-24T07:52:01.594Z"
   },
   {
    "duration": 8,
    "start_time": "2025-05-24T07:52:01.612Z"
   },
   {
    "duration": 40,
    "start_time": "2025-05-24T07:52:01.622Z"
   },
   {
    "duration": 36,
    "start_time": "2025-05-24T07:52:01.663Z"
   },
   {
    "duration": 27,
    "start_time": "2025-05-24T07:52:01.701Z"
   },
   {
    "duration": 42,
    "start_time": "2025-05-24T07:52:01.730Z"
   },
   {
    "duration": 121,
    "start_time": "2025-05-24T07:52:01.774Z"
   },
   {
    "duration": 22,
    "start_time": "2025-05-24T07:52:01.897Z"
   },
   {
    "duration": 10,
    "start_time": "2025-05-24T07:52:01.921Z"
   },
   {
    "duration": 43,
    "start_time": "2025-05-24T07:52:01.932Z"
   },
   {
    "duration": 188,
    "start_time": "2025-05-24T07:52:01.977Z"
   },
   {
    "duration": 13,
    "start_time": "2025-05-24T07:52:02.167Z"
   },
   {
    "duration": 7,
    "start_time": "2025-05-24T07:52:02.182Z"
   },
   {
    "duration": 29,
    "start_time": "2025-05-24T07:52:02.191Z"
   },
   {
    "duration": 22,
    "start_time": "2025-05-24T07:53:41.738Z"
   },
   {
    "duration": 1293,
    "start_time": "2025-05-24T07:55:41.017Z"
   },
   {
    "duration": 85,
    "start_time": "2025-05-24T07:55:42.312Z"
   },
   {
    "duration": 12,
    "start_time": "2025-05-24T07:55:42.399Z"
   },
   {
    "duration": 7,
    "start_time": "2025-05-24T07:55:42.413Z"
   },
   {
    "duration": 6,
    "start_time": "2025-05-24T07:55:42.422Z"
   },
   {
    "duration": 124,
    "start_time": "2025-05-24T07:55:42.430Z"
   },
   {
    "duration": 2,
    "start_time": "2025-05-24T07:55:42.559Z"
   },
   {
    "duration": 43,
    "start_time": "2025-05-24T07:55:42.563Z"
   },
   {
    "duration": 18,
    "start_time": "2025-05-24T07:55:42.608Z"
   },
   {
    "duration": 17,
    "start_time": "2025-05-24T07:55:42.629Z"
   },
   {
    "duration": 12,
    "start_time": "2025-05-24T07:55:42.648Z"
   },
   {
    "duration": 300,
    "start_time": "2025-05-24T07:55:42.662Z"
   },
   {
    "duration": 8,
    "start_time": "2025-05-24T07:55:42.964Z"
   },
   {
    "duration": 11,
    "start_time": "2025-05-24T07:55:42.973Z"
   },
   {
    "duration": 1550,
    "start_time": "2025-05-24T07:55:42.985Z"
   },
   {
    "duration": 21,
    "start_time": "2025-05-24T07:55:44.537Z"
   },
   {
    "duration": 146,
    "start_time": "2025-05-24T07:55:44.560Z"
   },
   {
    "duration": 335,
    "start_time": "2025-05-24T07:55:44.708Z"
   },
   {
    "duration": 389,
    "start_time": "2025-05-24T07:55:45.045Z"
   },
   {
    "duration": 6,
    "start_time": "2025-05-24T07:55:45.436Z"
   },
   {
    "duration": 67,
    "start_time": "2025-05-24T07:55:45.444Z"
   },
   {
    "duration": 9,
    "start_time": "2025-05-24T07:55:45.513Z"
   },
   {
    "duration": 91,
    "start_time": "2025-05-24T07:55:45.525Z"
   },
   {
    "duration": 5,
    "start_time": "2025-05-24T07:55:45.618Z"
   },
   {
    "duration": 32,
    "start_time": "2025-05-24T07:55:45.624Z"
   },
   {
    "duration": 8,
    "start_time": "2025-05-24T07:55:45.658Z"
   },
   {
    "duration": 10,
    "start_time": "2025-05-24T07:55:45.667Z"
   },
   {
    "duration": 92,
    "start_time": "2025-05-24T07:55:45.680Z"
   },
   {
    "duration": 12,
    "start_time": "2025-05-24T07:55:45.774Z"
   },
   {
    "duration": 8,
    "start_time": "2025-05-24T07:55:45.787Z"
   },
   {
    "duration": 126,
    "start_time": "2025-05-24T07:55:45.797Z"
   },
   {
    "duration": 12,
    "start_time": "2025-05-24T07:55:45.925Z"
   },
   {
    "duration": 76,
    "start_time": "2025-05-24T07:55:45.938Z"
   },
   {
    "duration": 169,
    "start_time": "2025-05-24T07:55:46.015Z"
   },
   {
    "duration": 47,
    "start_time": "2025-05-24T07:55:46.186Z"
   },
   {
    "duration": 16,
    "start_time": "2025-05-24T07:55:46.235Z"
   },
   {
    "duration": 10,
    "start_time": "2025-05-24T07:55:46.258Z"
   },
   {
    "duration": 8,
    "start_time": "2025-05-24T07:55:46.270Z"
   },
   {
    "duration": 11,
    "start_time": "2025-05-24T07:55:46.280Z"
   },
   {
    "duration": 6,
    "start_time": "2025-05-24T07:55:46.293Z"
   },
   {
    "duration": 7,
    "start_time": "2025-05-24T07:55:46.300Z"
   },
   {
    "duration": 11,
    "start_time": "2025-05-24T07:55:46.309Z"
   }
  ],
  "colab": {
   "provenance": [],
   "toc_visible": true
  },
  "kernelspec": {
   "display_name": "Python 3 (ipykernel)",
   "language": "python",
   "name": "python3"
  },
  "language_info": {
   "codemirror_mode": {
    "name": "ipython",
    "version": 3
   },
   "file_extension": ".py",
   "mimetype": "text/x-python",
   "name": "python",
   "nbconvert_exporter": "python",
   "pygments_lexer": "ipython3",
   "version": "3.9.5"
  },
  "toc": {
   "base_numbering": 1,
   "nav_menu": {},
   "number_sections": true,
   "sideBar": true,
   "skip_h1_title": true,
   "title_cell": "Table of Contents",
   "title_sidebar": "Contents",
   "toc_cell": false,
   "toc_position": {},
   "toc_section_display": true,
   "toc_window_display": false
  }
 },
 "nbformat": 4,
 "nbformat_minor": 5
}
